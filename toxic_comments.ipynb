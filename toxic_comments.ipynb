{
 "cells": [
  {
   "cell_type": "markdown",
   "id": "4b0e7642-baae-4d5e-982e-513191af7685",
   "metadata": {},
   "source": [
    "<h1 style=\"text-align: center;\">Проект для «Викишоп»</h1>\n",
    "\n",
    "Интернет-магазин «Викишоп» запускает новый сервис. Теперь пользователи могут редактировать и дополнять описания товаров, как в вики-сообществах. То есть клиенты предлагают свои правки и комментируют изменения других. Магазину нужен инструмент, который будет искать токсичные комментарии и отправлять их на модерацию. \n",
    "\n",
    "Необходимо обучить модель классифицировать комментарии на позитивные и негативные. Имеется набор данных с разметкой о токсичности правок.\n",
    "\n",
    "Необходимая метрика качества **F1 >= 0.75**. "
   ]
  },
  {
   "cell_type": "markdown",
   "id": "d74b09a9-2227-488c-8a44-967e96abad90",
   "metadata": {},
   "source": [
    "# Описание данных\n",
    "\n",
    "Признак   | Значение\n",
    "----------|---------\n",
    "text      | текст комментария\n",
    "**toxic** | токсичный ли комментарий (целевой признак)"
   ]
  },
  {
   "cell_type": "markdown",
   "id": "9447df25-f759-420d-974e-5c3172b38a08",
   "metadata": {},
   "source": [
    "# Импорт необходимых библиотек"
   ]
  },
  {
   "cell_type": "code",
   "execution_count": 1,
   "id": "9e037228-09cc-40a2-b052-c84dac00a473",
   "metadata": {},
   "outputs": [
    {
     "name": "stdout",
     "output_type": "stream",
     "text": [
      "Note: you may need to restart the kernel to use updated packages.\n"
     ]
    }
   ],
   "source": [
    "pip install -q --upgrade scikit-learn"
   ]
  },
  {
   "cell_type": "code",
   "execution_count": 2,
   "id": "f8aa5bd6-ff39-47fc-95f9-d3735adbc0de",
   "metadata": {},
   "outputs": [
    {
     "name": "stdout",
     "output_type": "stream",
     "text": [
      "Note: you may need to restart the kernel to use updated packages.\n"
     ]
    }
   ],
   "source": [
    "pip install -q torch"
   ]
  },
  {
   "cell_type": "code",
   "execution_count": 3,
   "id": "baafbf25-a772-41f5-8b57-449c48fb89d5",
   "metadata": {},
   "outputs": [
    {
     "name": "stdout",
     "output_type": "stream",
     "text": [
      "Note: you may need to restart the kernel to use updated packages.\n"
     ]
    }
   ],
   "source": [
    "pip install -q transformers"
   ]
  },
  {
   "cell_type": "code",
   "execution_count": 4,
   "id": "6ff1360a-6705-4b23-a7ca-b04736b16377",
   "metadata": {},
   "outputs": [
    {
     "name": "stdout",
     "output_type": "stream",
     "text": [
      "Note: you may need to restart the kernel to use updated packages.\n"
     ]
    }
   ],
   "source": [
    "pip install -q tqdm"
   ]
  },
  {
   "cell_type": "code",
   "execution_count": 5,
   "id": "7822612e-6470-414d-9552-957e135e69f8",
   "metadata": {},
   "outputs": [
    {
     "name": "stderr",
     "output_type": "stream",
     "text": [
      "[nltk_data] Downloading package averaged_perceptron_tagger to\n",
      "[nltk_data]     /home/jovyan/nltk_data...\n",
      "[nltk_data]   Unzipping taggers/averaged_perceptron_tagger.zip.\n"
     ]
    }
   ],
   "source": [
    "import pandas as pd\n",
    "import matplotlib.pyplot as plt\n",
    "import seaborn as sns\n",
    "import numpy as np\n",
    "\n",
    "from sklearn.model_selection import train_test_split\n",
    "\n",
    "from sklearn.pipeline import Pipeline\n",
    "from sklearn.compose import ColumnTransformer\n",
    "from sklearn.impute import SimpleImputer\n",
    "\n",
    "from sklearn.metrics import f1_score\n",
    "from sklearn.model_selection import RandomizedSearchCV\n",
    "\n",
    "# импортируем модель\n",
    "from sklearn.tree import DecisionTreeClassifier\n",
    "from sklearn.neighbors import KNeighborsClassifier\n",
    "from sklearn.linear_model import LogisticRegression\n",
    "\n",
    "from sklearn.inspection import permutation_importance\n",
    "\n",
    "import nltk\n",
    "from nltk.corpus import stopwords as nltk_stopwords\n",
    "from tqdm import notebook\n",
    "import torch\n",
    "import transformers\n",
    "\n",
    "from sklearn.feature_extraction.text import CountVectorizer, TfidfVectorizer\n",
    "from sklearn.naive_bayes import MultinomialNB\n",
    "from sklearn.linear_model import PassiveAggressiveClassifier\n",
    "\n",
    "from tqdm import tqdm\n",
    "import re \n",
    "from nltk.stem import WordNetLemmatizer\n",
    "from scipy import sparse\n",
    "from sklearn.base import BaseEstimator, TransformerMixin\n",
    "\n",
    "import nltk\n",
    "nltk.download('averaged_perceptron_tagger')\n",
    "from nltk.corpus import wordnet\n",
    "\n",
    "tqdm.pandas()\n",
    "\n",
    "from sklearn.metrics import precision_recall_curve\n",
    "from numpy import argmax\n",
    "from matplotlib import pyplot"
   ]
  },
  {
   "cell_type": "markdown",
   "id": "be7cba88-035c-4dbf-a3bc-b933c0fa8e13",
   "metadata": {},
   "source": [
    "## Константы"
   ]
  },
  {
   "cell_type": "code",
   "execution_count": 6,
   "id": "43b6e572-d9e8-4edc-9cca-e669d19d3be9",
   "metadata": {},
   "outputs": [],
   "source": [
    "RANDOM_STATE = 42\n",
    "TEST_SIZE = 0.4"
   ]
  },
  {
   "cell_type": "markdown",
   "id": "da09bf85-81d9-47e8-826d-9d370d366c76",
   "metadata": {
    "jp-MarkdownHeadingCollapsed": true
   },
   "source": [
    "# Загрузка данных"
   ]
  },
  {
   "cell_type": "code",
   "execution_count": 7,
   "id": "bfd3d6cf-d895-4588-90ba-9a4dfeacdb13",
   "metadata": {},
   "outputs": [],
   "source": [
    "try:\n",
    "\n",
    "    df = pd.read_csv('./datasets/toxic_comments.csv', index_col=0)\n",
    "\n",
    "except:\n",
    "    df = pd.read_csv('/datasets/toxic_comments.csv', index_col=0)"
   ]
  },
  {
   "cell_type": "markdown",
   "id": "6b3b9ab2",
   "metadata": {},
   "source": [
    "    \n",
    "<div class=\"alert alert-success\">\n",
    "<font size=\"5\"><b>Комментарий ревьюера</b></font>\n",
    "\n",
    "    \n",
    "Успех:    \n",
    "    \n",
    "\n",
    "- Здорово Что знаешь его возможности index_col=0\n",
    "\n",
    "\n",
    "\n",
    "- молодец что используешь конструкцию try - except (if - else), этим ты проявляешь уважение к тем кто будет работать с твоим кодом.\n",
    "\n",
    "    "
   ]
  },
  {
   "cell_type": "code",
   "execution_count": 8,
   "id": "bd2340bd-e832-4328-8a67-b1e4243df49c",
   "metadata": {},
   "outputs": [
    {
     "data": {
      "text/html": [
       "<div>\n",
       "<style scoped>\n",
       "    .dataframe tbody tr th:only-of-type {\n",
       "        vertical-align: middle;\n",
       "    }\n",
       "\n",
       "    .dataframe tbody tr th {\n",
       "        vertical-align: top;\n",
       "    }\n",
       "\n",
       "    .dataframe thead th {\n",
       "        text-align: right;\n",
       "    }\n",
       "</style>\n",
       "<table border=\"1\" class=\"dataframe\">\n",
       "  <thead>\n",
       "    <tr style=\"text-align: right;\">\n",
       "      <th></th>\n",
       "      <th>text</th>\n",
       "      <th>toxic</th>\n",
       "    </tr>\n",
       "  </thead>\n",
       "  <tbody>\n",
       "    <tr>\n",
       "      <th>0</th>\n",
       "      <td>Explanation\\nWhy the edits made under my usern...</td>\n",
       "      <td>0</td>\n",
       "    </tr>\n",
       "    <tr>\n",
       "      <th>1</th>\n",
       "      <td>D'aww! He matches this background colour I'm s...</td>\n",
       "      <td>0</td>\n",
       "    </tr>\n",
       "    <tr>\n",
       "      <th>2</th>\n",
       "      <td>Hey man, I'm really not trying to edit war. It...</td>\n",
       "      <td>0</td>\n",
       "    </tr>\n",
       "    <tr>\n",
       "      <th>3</th>\n",
       "      <td>\"\\nMore\\nI can't make any real suggestions on ...</td>\n",
       "      <td>0</td>\n",
       "    </tr>\n",
       "    <tr>\n",
       "      <th>4</th>\n",
       "      <td>You, sir, are my hero. Any chance you remember...</td>\n",
       "      <td>0</td>\n",
       "    </tr>\n",
       "  </tbody>\n",
       "</table>\n",
       "</div>"
      ],
      "text/plain": [
       "                                                text  toxic\n",
       "0  Explanation\\nWhy the edits made under my usern...      0\n",
       "1  D'aww! He matches this background colour I'm s...      0\n",
       "2  Hey man, I'm really not trying to edit war. It...      0\n",
       "3  \"\\nMore\\nI can't make any real suggestions on ...      0\n",
       "4  You, sir, are my hero. Any chance you remember...      0"
      ]
     },
     "execution_count": 8,
     "metadata": {},
     "output_type": "execute_result"
    }
   ],
   "source": [
    "df.head()"
   ]
  },
  {
   "cell_type": "code",
   "execution_count": 9,
   "id": "a258f56e-8a97-4917-816b-4fa72c1e8ecf",
   "metadata": {},
   "outputs": [
    {
     "name": "stdout",
     "output_type": "stream",
     "text": [
      "<class 'pandas.core.frame.DataFrame'>\n",
      "Int64Index: 159292 entries, 0 to 159450\n",
      "Data columns (total 2 columns):\n",
      " #   Column  Non-Null Count   Dtype \n",
      "---  ------  --------------   ----- \n",
      " 0   text    159292 non-null  object\n",
      " 1   toxic   159292 non-null  int64 \n",
      "dtypes: int64(1), object(1)\n",
      "memory usage: 3.6+ MB\n"
     ]
    }
   ],
   "source": [
    "df.info()"
   ]
  },
  {
   "cell_type": "markdown",
   "id": "953d21be-f815-4e9e-91f0-89f033303d98",
   "metadata": {},
   "source": [
    "Данные успешно загружены, пропусков не наблюдается. Для экономии памяти переведём тип данных признака toxic в тип int32."
   ]
  },
  {
   "cell_type": "code",
   "execution_count": 10,
   "id": "f1ddfb11-7a04-4892-9101-80973671fff2",
   "metadata": {},
   "outputs": [],
   "source": [
    "df['toxic'] = df['toxic'].astype('int32')"
   ]
  },
  {
   "cell_type": "code",
   "execution_count": 11,
   "id": "2128371f-2470-40b0-b3a8-9e662a56c10b",
   "metadata": {},
   "outputs": [
    {
     "name": "stdout",
     "output_type": "stream",
     "text": [
      "<class 'pandas.core.frame.DataFrame'>\n",
      "Int64Index: 159292 entries, 0 to 159450\n",
      "Data columns (total 2 columns):\n",
      " #   Column  Non-Null Count   Dtype \n",
      "---  ------  --------------   ----- \n",
      " 0   text    159292 non-null  object\n",
      " 1   toxic   159292 non-null  int32 \n",
      "dtypes: int32(1), object(1)\n",
      "memory usage: 3.0+ MB\n"
     ]
    }
   ],
   "source": [
    "df.info()"
   ]
  },
  {
   "cell_type": "markdown",
   "id": "fc2de9be-a76a-4cea-baf6-8500b952cbe6",
   "metadata": {},
   "source": [
    "# Предобработка данных"
   ]
  },
  {
   "cell_type": "code",
   "execution_count": 12,
   "id": "857e8a67-b3c1-4747-b4a0-3025b1e8e556",
   "metadata": {
    "scrolled": true
   },
   "outputs": [
    {
     "data": {
      "text/plain": [
       "0    143106\n",
       "1     16186\n",
       "Name: toxic, dtype: int64"
      ]
     },
     "execution_count": 12,
     "metadata": {},
     "output_type": "execute_result"
    }
   ],
   "source": [
    "df['toxic'].value_counts()"
   ]
  },
  {
   "cell_type": "markdown",
   "id": "146eeb3f",
   "metadata": {},
   "source": [
    "Почистим текст от всего лишнего и проведём лемматизацию."
   ]
  },
  {
   "cell_type": "code",
   "execution_count": 14,
   "id": "e8e58dc8",
   "metadata": {},
   "outputs": [],
   "source": [
    "lemmatizer = WordNetLemmatizer()\n",
    "\n",
    "\n",
    "def get_wordnet_pos(word):\n",
    "    \"\"\"Map POS tag to first character lemmatize() accepts\"\"\"\n",
    "    tag = nltk.pos_tag([word])[0][1][0].upper()\n",
    "    tag_dict = {\"J\": wordnet.ADJ,\n",
    "                \"N\": wordnet.NOUN,\n",
    "                \"V\": wordnet.VERB,\n",
    "                \"R\": wordnet.ADV}\n",
    "    return tag_dict.get(tag, wordnet.NOUN)\n",
    "\n",
    "\n",
    "def lemm_(text):\n",
    "\n",
    "    lemmatized_output = ' '.join([lemmatizer.lemmatize(w, get_wordnet_pos(w)) for w in nltk.word_tokenize(text)])     \n",
    "    return lemmatized_output    \n",
    "\n",
    "\n",
    "def clear_text(text):\n",
    "    r = re.sub(r'[^a-zA-Z]', ' ', text).split()\n",
    "    return ' '.join(r)"
   ]
  },
  {
   "cell_type": "code",
   "execution_count": 15,
   "id": "d013c52d",
   "metadata": {},
   "outputs": [
    {
     "name": "stdout",
     "output_type": "stream",
     "text": [
      "было\n",
      "                                                   0\n",
      "0  The striped bats are hanging on their feet for...\n",
      "1      you should be ashamed of yourself went worked\n",
      "стало после лемматизации\n",
      "0    The strip bat be hang on their foot for best\n",
      "1       you should be ashamed of yourself go work\n",
      "Name: 0, dtype: object\n"
     ]
    }
   ],
   "source": [
    "# проверим. создадим датафрейм из двух строк:\n",
    "print('было')\n",
    "sentence1 = \"The striped bats are hanging on their feet for best\"\n",
    "sentence2 = \"you should be ashamed of yourself went worked\"\n",
    "df_my = pd.DataFrame([sentence1, sentence2])\n",
    "\n",
    "print(df_my)\n",
    "\n",
    "\n",
    "print('стало после лемматизации')\n",
    "# и попробуем нашу функцию c помощью apply\n",
    "print(df_my[0].apply(lemm_))"
   ]
  },
  {
   "cell_type": "code",
   "execution_count": 16,
   "id": "7b38d2ec",
   "metadata": {},
   "outputs": [
    {
     "name": "stdout",
     "output_type": "stream",
     "text": [
      "CPU times: user 4.04 s, sys: 59.6 ms, total: 4.1 s\n",
      "Wall time: 4.11 s\n"
     ]
    }
   ],
   "source": [
    "%%time\n",
    "df['corpus'] = df['text'].apply(clear_text)"
   ]
  },
  {
   "cell_type": "code",
   "execution_count": 17,
   "id": "c162dba0",
   "metadata": {},
   "outputs": [
    {
     "name": "stderr",
     "output_type": "stream",
     "text": [
      "100%|██████████| 159292/159292 [19:55<00:00, 133.29it/s]"
     ]
    },
    {
     "name": "stdout",
     "output_type": "stream",
     "text": [
      "CPU times: user 18min, sys: 1min 36s, total: 19min 37s\n",
      "Wall time: 19min 55s\n"
     ]
    },
    {
     "name": "stderr",
     "output_type": "stream",
     "text": [
      "\n"
     ]
    }
   ],
   "source": [
    "%%time\n",
    "df['corpus'] = df['corpus'].progress_apply(lemm_)"
   ]
  },
  {
   "cell_type": "markdown",
   "id": "d2fe3d05",
   "metadata": {},
   "source": [
    "Подготовим пайплайн с предобработкой данных, который будет переводить текст в векторный вид."
   ]
  },
  {
   "cell_type": "code",
   "execution_count": 19,
   "id": "b15f4620",
   "metadata": {},
   "outputs": [],
   "source": [
    "vectorizer_pipe = Pipeline(\n",
    "    [\n",
    "        (\n",
    "            'TfidfVectorizer', \n",
    "            TfidfVectorizer(stop_words='english', lowercase=True)\n",
    "        )\n",
    "    ]\n",
    ")"
   ]
  },
  {
   "cell_type": "code",
   "execution_count": 20,
   "id": "f059317f",
   "metadata": {},
   "outputs": [],
   "source": [
    "data_preprocessor = ColumnTransformer(\n",
    "    [\n",
    "        ('vectorizer', vectorizer_pipe, 'corpus'),\n",
    "    ], \n",
    "    remainder='passthrough'\n",
    ")"
   ]
  },
  {
   "cell_type": "markdown",
   "id": "3645d280-a0bd-491a-95ef-433a1fe7551d",
   "metadata": {},
   "source": [
    "Разобьем данные на тренировочную и тестовую выборки. Обязательно добавим стратификацию, чтобы учесть дисбаланс классов."
   ]
  },
  {
   "cell_type": "code",
   "execution_count": 21,
   "id": "eb3e87e2-8f08-4b7f-b4ab-8a67dfe42be8",
   "metadata": {},
   "outputs": [],
   "source": [
    "X = pd.DataFrame(df['corpus'])\n",
    "y = df['toxic']\n",
    "\n",
    "X_train, X_valid_test, y_train, y_valid_test = train_test_split(\n",
    "    X, y, \n",
    "    test_size=TEST_SIZE, \n",
    "    random_state=RANDOM_STATE,\n",
    "    stratify=y\n",
    ")\n",
    "\n",
    "X_valid, X_test, y_valid, y_test = train_test_split(\n",
    "    X_valid_test, y_valid_test, \n",
    "    test_size=0.5, \n",
    "    random_state=RANDOM_STATE,\n",
    "    stratify=y_valid_test\n",
    ")"
   ]
  },
  {
   "cell_type": "markdown",
   "id": "c48d2da1-fbbf-4163-914e-089ae85b7ce4",
   "metadata": {},
   "source": [
    "# Обучение моделей"
   ]
  },
  {
   "cell_type": "markdown",
   "id": "fd553e57-d745-42c6-ad2e-50380a9d9031",
   "metadata": {},
   "source": [
    "Используем RandomizedSearchCV для обучения и поиска наилучшей модели. В качестве метрики качества используем f1-weighted, так как у нас наблюдается явный дисбаланс классов. Обучим несколько моделей: KNeighborsClassifier, DecisionTreeClassifier, LogisticRegression."
   ]
  },
  {
   "cell_type": "code",
   "execution_count": 23,
   "id": "13df4711-0af3-4530-b3a3-600f6f04c27b",
   "metadata": {},
   "outputs": [],
   "source": [
    "pipe_final = Pipeline(\n",
    "    [\n",
    "        ('preprocessor', data_preprocessor),\n",
    "        ('models', LogisticRegression(n_jobs=-1, random_state=RANDOM_STATE))\n",
    "    ]\n",
    ")"
   ]
  },
  {
   "cell_type": "code",
   "execution_count": 24,
   "id": "f5eed4fe-b593-453a-8a1b-0dd6be74931c",
   "metadata": {},
   "outputs": [],
   "source": [
    "param_distributions = [\n",
    "    {\n",
    "        'models': [LogisticRegression(n_jobs=-1, random_state=RANDOM_STATE)],\n",
    "        'models__C': range(1, 20)\n",
    "    },\n",
    "    {\n",
    "        'models': [PassiveAggressiveClassifier(random_state=RANDOM_STATE)],\n",
    "        'models__max_iter': range(2, 100)\n",
    "    }\n",
    "]"
   ]
  },
  {
   "cell_type": "code",
   "execution_count": 25,
   "id": "a1c1629b-8409-4fbc-9da2-3059634f67a1",
   "metadata": {},
   "outputs": [],
   "source": [
    "# задаём случайный поиск\n",
    "randomized_search = RandomizedSearchCV(\n",
    "    pipe_final, \n",
    "    param_distributions=param_distributions, \n",
    "    scoring='f1', \n",
    "    random_state=RANDOM_STATE,\n",
    "    n_jobs=-1\n",
    ")"
   ]
  },
  {
   "cell_type": "code",
   "execution_count": 26,
   "id": "a5c3c44c-aa1f-486c-be68-ac297d2eb3fd",
   "metadata": {},
   "outputs": [
    {
     "name": "stderr",
     "output_type": "stream",
     "text": [
      "/opt/conda/lib/python3.9/site-packages/sklearn/linear_model/_stochastic_gradient.py:738: ConvergenceWarning: Maximum number of iteration reached before convergence. Consider increasing max_iter to improve the fit.\n",
      "  warnings.warn(\n",
      "/opt/conda/lib/python3.9/site-packages/sklearn/linear_model/_stochastic_gradient.py:738: ConvergenceWarning: Maximum number of iteration reached before convergence. Consider increasing max_iter to improve the fit.\n",
      "  warnings.warn(\n",
      "/opt/conda/lib/python3.9/site-packages/sklearn/linear_model/_stochastic_gradient.py:738: ConvergenceWarning: Maximum number of iteration reached before convergence. Consider increasing max_iter to improve the fit.\n",
      "  warnings.warn(\n",
      "/opt/conda/lib/python3.9/site-packages/sklearn/linear_model/_stochastic_gradient.py:738: ConvergenceWarning: Maximum number of iteration reached before convergence. Consider increasing max_iter to improve the fit.\n",
      "  warnings.warn(\n",
      "/opt/conda/lib/python3.9/site-packages/sklearn/linear_model/_stochastic_gradient.py:738: ConvergenceWarning: Maximum number of iteration reached before convergence. Consider increasing max_iter to improve the fit.\n",
      "  warnings.warn(\n"
     ]
    },
    {
     "name": "stdout",
     "output_type": "stream",
     "text": [
      "CPU times: user 6min 52s, sys: 2min 41s, total: 9min 34s\n",
      "Wall time: 9min 34s\n"
     ]
    },
    {
     "data": {
      "text/html": [
       "<style>#sk-container-id-1 {\n",
       "  /* Definition of color scheme common for light and dark mode */\n",
       "  --sklearn-color-text: #000;\n",
       "  --sklearn-color-text-muted: #666;\n",
       "  --sklearn-color-line: gray;\n",
       "  /* Definition of color scheme for unfitted estimators */\n",
       "  --sklearn-color-unfitted-level-0: #fff5e6;\n",
       "  --sklearn-color-unfitted-level-1: #f6e4d2;\n",
       "  --sklearn-color-unfitted-level-2: #ffe0b3;\n",
       "  --sklearn-color-unfitted-level-3: chocolate;\n",
       "  /* Definition of color scheme for fitted estimators */\n",
       "  --sklearn-color-fitted-level-0: #f0f8ff;\n",
       "  --sklearn-color-fitted-level-1: #d4ebff;\n",
       "  --sklearn-color-fitted-level-2: #b3dbfd;\n",
       "  --sklearn-color-fitted-level-3: cornflowerblue;\n",
       "\n",
       "  /* Specific color for light theme */\n",
       "  --sklearn-color-text-on-default-background: var(--sg-text-color, var(--theme-code-foreground, var(--jp-content-font-color1, black)));\n",
       "  --sklearn-color-background: var(--sg-background-color, var(--theme-background, var(--jp-layout-color0, white)));\n",
       "  --sklearn-color-border-box: var(--sg-text-color, var(--theme-code-foreground, var(--jp-content-font-color1, black)));\n",
       "  --sklearn-color-icon: #696969;\n",
       "\n",
       "  @media (prefers-color-scheme: dark) {\n",
       "    /* Redefinition of color scheme for dark theme */\n",
       "    --sklearn-color-text-on-default-background: var(--sg-text-color, var(--theme-code-foreground, var(--jp-content-font-color1, white)));\n",
       "    --sklearn-color-background: var(--sg-background-color, var(--theme-background, var(--jp-layout-color0, #111)));\n",
       "    --sklearn-color-border-box: var(--sg-text-color, var(--theme-code-foreground, var(--jp-content-font-color1, white)));\n",
       "    --sklearn-color-icon: #878787;\n",
       "  }\n",
       "}\n",
       "\n",
       "#sk-container-id-1 {\n",
       "  color: var(--sklearn-color-text);\n",
       "}\n",
       "\n",
       "#sk-container-id-1 pre {\n",
       "  padding: 0;\n",
       "}\n",
       "\n",
       "#sk-container-id-1 input.sk-hidden--visually {\n",
       "  border: 0;\n",
       "  clip: rect(1px 1px 1px 1px);\n",
       "  clip: rect(1px, 1px, 1px, 1px);\n",
       "  height: 1px;\n",
       "  margin: -1px;\n",
       "  overflow: hidden;\n",
       "  padding: 0;\n",
       "  position: absolute;\n",
       "  width: 1px;\n",
       "}\n",
       "\n",
       "#sk-container-id-1 div.sk-dashed-wrapped {\n",
       "  border: 1px dashed var(--sklearn-color-line);\n",
       "  margin: 0 0.4em 0.5em 0.4em;\n",
       "  box-sizing: border-box;\n",
       "  padding-bottom: 0.4em;\n",
       "  background-color: var(--sklearn-color-background);\n",
       "}\n",
       "\n",
       "#sk-container-id-1 div.sk-container {\n",
       "  /* jupyter's `normalize.less` sets `[hidden] { display: none; }`\n",
       "     but bootstrap.min.css set `[hidden] { display: none !important; }`\n",
       "     so we also need the `!important` here to be able to override the\n",
       "     default hidden behavior on the sphinx rendered scikit-learn.org.\n",
       "     See: https://github.com/scikit-learn/scikit-learn/issues/21755 */\n",
       "  display: inline-block !important;\n",
       "  position: relative;\n",
       "}\n",
       "\n",
       "#sk-container-id-1 div.sk-text-repr-fallback {\n",
       "  display: none;\n",
       "}\n",
       "\n",
       "div.sk-parallel-item,\n",
       "div.sk-serial,\n",
       "div.sk-item {\n",
       "  /* draw centered vertical line to link estimators */\n",
       "  background-image: linear-gradient(var(--sklearn-color-text-on-default-background), var(--sklearn-color-text-on-default-background));\n",
       "  background-size: 2px 100%;\n",
       "  background-repeat: no-repeat;\n",
       "  background-position: center center;\n",
       "}\n",
       "\n",
       "/* Parallel-specific style estimator block */\n",
       "\n",
       "#sk-container-id-1 div.sk-parallel-item::after {\n",
       "  content: \"\";\n",
       "  width: 100%;\n",
       "  border-bottom: 2px solid var(--sklearn-color-text-on-default-background);\n",
       "  flex-grow: 1;\n",
       "}\n",
       "\n",
       "#sk-container-id-1 div.sk-parallel {\n",
       "  display: flex;\n",
       "  align-items: stretch;\n",
       "  justify-content: center;\n",
       "  background-color: var(--sklearn-color-background);\n",
       "  position: relative;\n",
       "}\n",
       "\n",
       "#sk-container-id-1 div.sk-parallel-item {\n",
       "  display: flex;\n",
       "  flex-direction: column;\n",
       "}\n",
       "\n",
       "#sk-container-id-1 div.sk-parallel-item:first-child::after {\n",
       "  align-self: flex-end;\n",
       "  width: 50%;\n",
       "}\n",
       "\n",
       "#sk-container-id-1 div.sk-parallel-item:last-child::after {\n",
       "  align-self: flex-start;\n",
       "  width: 50%;\n",
       "}\n",
       "\n",
       "#sk-container-id-1 div.sk-parallel-item:only-child::after {\n",
       "  width: 0;\n",
       "}\n",
       "\n",
       "/* Serial-specific style estimator block */\n",
       "\n",
       "#sk-container-id-1 div.sk-serial {\n",
       "  display: flex;\n",
       "  flex-direction: column;\n",
       "  align-items: center;\n",
       "  background-color: var(--sklearn-color-background);\n",
       "  padding-right: 1em;\n",
       "  padding-left: 1em;\n",
       "}\n",
       "\n",
       "\n",
       "/* Toggleable style: style used for estimator/Pipeline/ColumnTransformer box that is\n",
       "clickable and can be expanded/collapsed.\n",
       "- Pipeline and ColumnTransformer use this feature and define the default style\n",
       "- Estimators will overwrite some part of the style using the `sk-estimator` class\n",
       "*/\n",
       "\n",
       "/* Pipeline and ColumnTransformer style (default) */\n",
       "\n",
       "#sk-container-id-1 div.sk-toggleable {\n",
       "  /* Default theme specific background. It is overwritten whether we have a\n",
       "  specific estimator or a Pipeline/ColumnTransformer */\n",
       "  background-color: var(--sklearn-color-background);\n",
       "}\n",
       "\n",
       "/* Toggleable label */\n",
       "#sk-container-id-1 label.sk-toggleable__label {\n",
       "  cursor: pointer;\n",
       "  display: flex;\n",
       "  width: 100%;\n",
       "  margin-bottom: 0;\n",
       "  padding: 0.5em;\n",
       "  box-sizing: border-box;\n",
       "  text-align: center;\n",
       "  align-items: start;\n",
       "  justify-content: space-between;\n",
       "  gap: 0.5em;\n",
       "}\n",
       "\n",
       "#sk-container-id-1 label.sk-toggleable__label .caption {\n",
       "  font-size: 0.6rem;\n",
       "  font-weight: lighter;\n",
       "  color: var(--sklearn-color-text-muted);\n",
       "}\n",
       "\n",
       "#sk-container-id-1 label.sk-toggleable__label-arrow:before {\n",
       "  /* Arrow on the left of the label */\n",
       "  content: \"▸\";\n",
       "  float: left;\n",
       "  margin-right: 0.25em;\n",
       "  color: var(--sklearn-color-icon);\n",
       "}\n",
       "\n",
       "#sk-container-id-1 label.sk-toggleable__label-arrow:hover:before {\n",
       "  color: var(--sklearn-color-text);\n",
       "}\n",
       "\n",
       "/* Toggleable content - dropdown */\n",
       "\n",
       "#sk-container-id-1 div.sk-toggleable__content {\n",
       "  max-height: 0;\n",
       "  max-width: 0;\n",
       "  overflow: hidden;\n",
       "  text-align: left;\n",
       "  /* unfitted */\n",
       "  background-color: var(--sklearn-color-unfitted-level-0);\n",
       "}\n",
       "\n",
       "#sk-container-id-1 div.sk-toggleable__content.fitted {\n",
       "  /* fitted */\n",
       "  background-color: var(--sklearn-color-fitted-level-0);\n",
       "}\n",
       "\n",
       "#sk-container-id-1 div.sk-toggleable__content pre {\n",
       "  margin: 0.2em;\n",
       "  border-radius: 0.25em;\n",
       "  color: var(--sklearn-color-text);\n",
       "  /* unfitted */\n",
       "  background-color: var(--sklearn-color-unfitted-level-0);\n",
       "}\n",
       "\n",
       "#sk-container-id-1 div.sk-toggleable__content.fitted pre {\n",
       "  /* unfitted */\n",
       "  background-color: var(--sklearn-color-fitted-level-0);\n",
       "}\n",
       "\n",
       "#sk-container-id-1 input.sk-toggleable__control:checked~div.sk-toggleable__content {\n",
       "  /* Expand drop-down */\n",
       "  max-height: 200px;\n",
       "  max-width: 100%;\n",
       "  overflow: auto;\n",
       "}\n",
       "\n",
       "#sk-container-id-1 input.sk-toggleable__control:checked~label.sk-toggleable__label-arrow:before {\n",
       "  content: \"▾\";\n",
       "}\n",
       "\n",
       "/* Pipeline/ColumnTransformer-specific style */\n",
       "\n",
       "#sk-container-id-1 div.sk-label input.sk-toggleable__control:checked~label.sk-toggleable__label {\n",
       "  color: var(--sklearn-color-text);\n",
       "  background-color: var(--sklearn-color-unfitted-level-2);\n",
       "}\n",
       "\n",
       "#sk-container-id-1 div.sk-label.fitted input.sk-toggleable__control:checked~label.sk-toggleable__label {\n",
       "  background-color: var(--sklearn-color-fitted-level-2);\n",
       "}\n",
       "\n",
       "/* Estimator-specific style */\n",
       "\n",
       "/* Colorize estimator box */\n",
       "#sk-container-id-1 div.sk-estimator input.sk-toggleable__control:checked~label.sk-toggleable__label {\n",
       "  /* unfitted */\n",
       "  background-color: var(--sklearn-color-unfitted-level-2);\n",
       "}\n",
       "\n",
       "#sk-container-id-1 div.sk-estimator.fitted input.sk-toggleable__control:checked~label.sk-toggleable__label {\n",
       "  /* fitted */\n",
       "  background-color: var(--sklearn-color-fitted-level-2);\n",
       "}\n",
       "\n",
       "#sk-container-id-1 div.sk-label label.sk-toggleable__label,\n",
       "#sk-container-id-1 div.sk-label label {\n",
       "  /* The background is the default theme color */\n",
       "  color: var(--sklearn-color-text-on-default-background);\n",
       "}\n",
       "\n",
       "/* On hover, darken the color of the background */\n",
       "#sk-container-id-1 div.sk-label:hover label.sk-toggleable__label {\n",
       "  color: var(--sklearn-color-text);\n",
       "  background-color: var(--sklearn-color-unfitted-level-2);\n",
       "}\n",
       "\n",
       "/* Label box, darken color on hover, fitted */\n",
       "#sk-container-id-1 div.sk-label.fitted:hover label.sk-toggleable__label.fitted {\n",
       "  color: var(--sklearn-color-text);\n",
       "  background-color: var(--sklearn-color-fitted-level-2);\n",
       "}\n",
       "\n",
       "/* Estimator label */\n",
       "\n",
       "#sk-container-id-1 div.sk-label label {\n",
       "  font-family: monospace;\n",
       "  font-weight: bold;\n",
       "  display: inline-block;\n",
       "  line-height: 1.2em;\n",
       "}\n",
       "\n",
       "#sk-container-id-1 div.sk-label-container {\n",
       "  text-align: center;\n",
       "}\n",
       "\n",
       "/* Estimator-specific */\n",
       "#sk-container-id-1 div.sk-estimator {\n",
       "  font-family: monospace;\n",
       "  border: 1px dotted var(--sklearn-color-border-box);\n",
       "  border-radius: 0.25em;\n",
       "  box-sizing: border-box;\n",
       "  margin-bottom: 0.5em;\n",
       "  /* unfitted */\n",
       "  background-color: var(--sklearn-color-unfitted-level-0);\n",
       "}\n",
       "\n",
       "#sk-container-id-1 div.sk-estimator.fitted {\n",
       "  /* fitted */\n",
       "  background-color: var(--sklearn-color-fitted-level-0);\n",
       "}\n",
       "\n",
       "/* on hover */\n",
       "#sk-container-id-1 div.sk-estimator:hover {\n",
       "  /* unfitted */\n",
       "  background-color: var(--sklearn-color-unfitted-level-2);\n",
       "}\n",
       "\n",
       "#sk-container-id-1 div.sk-estimator.fitted:hover {\n",
       "  /* fitted */\n",
       "  background-color: var(--sklearn-color-fitted-level-2);\n",
       "}\n",
       "\n",
       "/* Specification for estimator info (e.g. \"i\" and \"?\") */\n",
       "\n",
       "/* Common style for \"i\" and \"?\" */\n",
       "\n",
       ".sk-estimator-doc-link,\n",
       "a:link.sk-estimator-doc-link,\n",
       "a:visited.sk-estimator-doc-link {\n",
       "  float: right;\n",
       "  font-size: smaller;\n",
       "  line-height: 1em;\n",
       "  font-family: monospace;\n",
       "  background-color: var(--sklearn-color-background);\n",
       "  border-radius: 1em;\n",
       "  height: 1em;\n",
       "  width: 1em;\n",
       "  text-decoration: none !important;\n",
       "  margin-left: 0.5em;\n",
       "  text-align: center;\n",
       "  /* unfitted */\n",
       "  border: var(--sklearn-color-unfitted-level-1) 1pt solid;\n",
       "  color: var(--sklearn-color-unfitted-level-1);\n",
       "}\n",
       "\n",
       ".sk-estimator-doc-link.fitted,\n",
       "a:link.sk-estimator-doc-link.fitted,\n",
       "a:visited.sk-estimator-doc-link.fitted {\n",
       "  /* fitted */\n",
       "  border: var(--sklearn-color-fitted-level-1) 1pt solid;\n",
       "  color: var(--sklearn-color-fitted-level-1);\n",
       "}\n",
       "\n",
       "/* On hover */\n",
       "div.sk-estimator:hover .sk-estimator-doc-link:hover,\n",
       ".sk-estimator-doc-link:hover,\n",
       "div.sk-label-container:hover .sk-estimator-doc-link:hover,\n",
       ".sk-estimator-doc-link:hover {\n",
       "  /* unfitted */\n",
       "  background-color: var(--sklearn-color-unfitted-level-3);\n",
       "  color: var(--sklearn-color-background);\n",
       "  text-decoration: none;\n",
       "}\n",
       "\n",
       "div.sk-estimator.fitted:hover .sk-estimator-doc-link.fitted:hover,\n",
       ".sk-estimator-doc-link.fitted:hover,\n",
       "div.sk-label-container:hover .sk-estimator-doc-link.fitted:hover,\n",
       ".sk-estimator-doc-link.fitted:hover {\n",
       "  /* fitted */\n",
       "  background-color: var(--sklearn-color-fitted-level-3);\n",
       "  color: var(--sklearn-color-background);\n",
       "  text-decoration: none;\n",
       "}\n",
       "\n",
       "/* Span, style for the box shown on hovering the info icon */\n",
       ".sk-estimator-doc-link span {\n",
       "  display: none;\n",
       "  z-index: 9999;\n",
       "  position: relative;\n",
       "  font-weight: normal;\n",
       "  right: .2ex;\n",
       "  padding: .5ex;\n",
       "  margin: .5ex;\n",
       "  width: min-content;\n",
       "  min-width: 20ex;\n",
       "  max-width: 50ex;\n",
       "  color: var(--sklearn-color-text);\n",
       "  box-shadow: 2pt 2pt 4pt #999;\n",
       "  /* unfitted */\n",
       "  background: var(--sklearn-color-unfitted-level-0);\n",
       "  border: .5pt solid var(--sklearn-color-unfitted-level-3);\n",
       "}\n",
       "\n",
       ".sk-estimator-doc-link.fitted span {\n",
       "  /* fitted */\n",
       "  background: var(--sklearn-color-fitted-level-0);\n",
       "  border: var(--sklearn-color-fitted-level-3);\n",
       "}\n",
       "\n",
       ".sk-estimator-doc-link:hover span {\n",
       "  display: block;\n",
       "}\n",
       "\n",
       "/* \"?\"-specific style due to the `<a>` HTML tag */\n",
       "\n",
       "#sk-container-id-1 a.estimator_doc_link {\n",
       "  float: right;\n",
       "  font-size: 1rem;\n",
       "  line-height: 1em;\n",
       "  font-family: monospace;\n",
       "  background-color: var(--sklearn-color-background);\n",
       "  border-radius: 1rem;\n",
       "  height: 1rem;\n",
       "  width: 1rem;\n",
       "  text-decoration: none;\n",
       "  /* unfitted */\n",
       "  color: var(--sklearn-color-unfitted-level-1);\n",
       "  border: var(--sklearn-color-unfitted-level-1) 1pt solid;\n",
       "}\n",
       "\n",
       "#sk-container-id-1 a.estimator_doc_link.fitted {\n",
       "  /* fitted */\n",
       "  border: var(--sklearn-color-fitted-level-1) 1pt solid;\n",
       "  color: var(--sklearn-color-fitted-level-1);\n",
       "}\n",
       "\n",
       "/* On hover */\n",
       "#sk-container-id-1 a.estimator_doc_link:hover {\n",
       "  /* unfitted */\n",
       "  background-color: var(--sklearn-color-unfitted-level-3);\n",
       "  color: var(--sklearn-color-background);\n",
       "  text-decoration: none;\n",
       "}\n",
       "\n",
       "#sk-container-id-1 a.estimator_doc_link.fitted:hover {\n",
       "  /* fitted */\n",
       "  background-color: var(--sklearn-color-fitted-level-3);\n",
       "}\n",
       "</style><div id=\"sk-container-id-1\" class=\"sk-top-container\"><div class=\"sk-text-repr-fallback\"><pre>RandomizedSearchCV(estimator=Pipeline(steps=[(&#x27;preprocessor&#x27;,\n",
       "                                              ColumnTransformer(remainder=&#x27;passthrough&#x27;,\n",
       "                                                                transformers=[(&#x27;vectorizer&#x27;,\n",
       "                                                                               Pipeline(steps=[(&#x27;TfidfVectorizer&#x27;,\n",
       "                                                                                                TfidfVectorizer(stop_words=&#x27;english&#x27;))]),\n",
       "                                                                               &#x27;corpus&#x27;)])),\n",
       "                                             (&#x27;models&#x27;,\n",
       "                                              LogisticRegression(n_jobs=-1,\n",
       "                                                                 random_state=42))]),\n",
       "                   n_jobs=-1,\n",
       "                   param_distributions=[{&#x27;models&#x27;: [LogisticRegression(n_jobs=-1,\n",
       "                                                                       random_state=42)],\n",
       "                                         &#x27;models__C&#x27;: range(1, 20)},\n",
       "                                        {&#x27;models&#x27;: [PassiveAggressiveClassifier(random_state=42)],\n",
       "                                         &#x27;models__max_iter&#x27;: range(2, 100)}],\n",
       "                   random_state=42, scoring=&#x27;f1&#x27;)</pre><b>In a Jupyter environment, please rerun this cell to show the HTML representation or trust the notebook. <br />On GitHub, the HTML representation is unable to render, please try loading this page with nbviewer.org.</b></div><div class=\"sk-container\" hidden><div class=\"sk-item sk-dashed-wrapped\"><div class=\"sk-label-container\"><div class=\"sk-label fitted sk-toggleable\"><input class=\"sk-toggleable__control sk-hidden--visually\" id=\"sk-estimator-id-1\" type=\"checkbox\" ><label for=\"sk-estimator-id-1\" class=\"sk-toggleable__label fitted sk-toggleable__label-arrow\"><div><div>RandomizedSearchCV</div></div><div><a class=\"sk-estimator-doc-link fitted\" rel=\"noreferrer\" target=\"_blank\" href=\"https://scikit-learn.org/1.6/modules/generated/sklearn.model_selection.RandomizedSearchCV.html\">?<span>Documentation for RandomizedSearchCV</span></a><span class=\"sk-estimator-doc-link fitted\">i<span>Fitted</span></span></div></label><div class=\"sk-toggleable__content fitted\"><pre>RandomizedSearchCV(estimator=Pipeline(steps=[(&#x27;preprocessor&#x27;,\n",
       "                                              ColumnTransformer(remainder=&#x27;passthrough&#x27;,\n",
       "                                                                transformers=[(&#x27;vectorizer&#x27;,\n",
       "                                                                               Pipeline(steps=[(&#x27;TfidfVectorizer&#x27;,\n",
       "                                                                                                TfidfVectorizer(stop_words=&#x27;english&#x27;))]),\n",
       "                                                                               &#x27;corpus&#x27;)])),\n",
       "                                             (&#x27;models&#x27;,\n",
       "                                              LogisticRegression(n_jobs=-1,\n",
       "                                                                 random_state=42))]),\n",
       "                   n_jobs=-1,\n",
       "                   param_distributions=[{&#x27;models&#x27;: [LogisticRegression(n_jobs=-1,\n",
       "                                                                       random_state=42)],\n",
       "                                         &#x27;models__C&#x27;: range(1, 20)},\n",
       "                                        {&#x27;models&#x27;: [PassiveAggressiveClassifier(random_state=42)],\n",
       "                                         &#x27;models__max_iter&#x27;: range(2, 100)}],\n",
       "                   random_state=42, scoring=&#x27;f1&#x27;)</pre></div> </div></div><div class=\"sk-parallel\"><div class=\"sk-parallel-item\"><div class=\"sk-item\"><div class=\"sk-label-container\"><div class=\"sk-label fitted sk-toggleable\"><input class=\"sk-toggleable__control sk-hidden--visually\" id=\"sk-estimator-id-2\" type=\"checkbox\" ><label for=\"sk-estimator-id-2\" class=\"sk-toggleable__label fitted sk-toggleable__label-arrow\"><div><div>best_estimator_: Pipeline</div></div></label><div class=\"sk-toggleable__content fitted\"><pre>Pipeline(steps=[(&#x27;preprocessor&#x27;,\n",
       "                 ColumnTransformer(remainder=&#x27;passthrough&#x27;,\n",
       "                                   transformers=[(&#x27;vectorizer&#x27;,\n",
       "                                                  Pipeline(steps=[(&#x27;TfidfVectorizer&#x27;,\n",
       "                                                                   TfidfVectorizer(stop_words=&#x27;english&#x27;))]),\n",
       "                                                  &#x27;corpus&#x27;)])),\n",
       "                (&#x27;models&#x27;,\n",
       "                 LogisticRegression(C=12, n_jobs=-1, random_state=42))])</pre></div> </div></div><div class=\"sk-serial\"><div class=\"sk-item\"><div class=\"sk-serial\"><div class=\"sk-item sk-dashed-wrapped\"><div class=\"sk-label-container\"><div class=\"sk-label fitted sk-toggleable\"><input class=\"sk-toggleable__control sk-hidden--visually\" id=\"sk-estimator-id-3\" type=\"checkbox\" ><label for=\"sk-estimator-id-3\" class=\"sk-toggleable__label fitted sk-toggleable__label-arrow\"><div><div>preprocessor: ColumnTransformer</div></div><div><a class=\"sk-estimator-doc-link fitted\" rel=\"noreferrer\" target=\"_blank\" href=\"https://scikit-learn.org/1.6/modules/generated/sklearn.compose.ColumnTransformer.html\">?<span>Documentation for preprocessor: ColumnTransformer</span></a></div></label><div class=\"sk-toggleable__content fitted\"><pre>ColumnTransformer(remainder=&#x27;passthrough&#x27;,\n",
       "                  transformers=[(&#x27;vectorizer&#x27;,\n",
       "                                 Pipeline(steps=[(&#x27;TfidfVectorizer&#x27;,\n",
       "                                                  TfidfVectorizer(stop_words=&#x27;english&#x27;))]),\n",
       "                                 &#x27;corpus&#x27;)])</pre></div> </div></div><div class=\"sk-parallel\"><div class=\"sk-parallel-item\"><div class=\"sk-item\"><div class=\"sk-label-container\"><div class=\"sk-label fitted sk-toggleable\"><input class=\"sk-toggleable__control sk-hidden--visually\" id=\"sk-estimator-id-4\" type=\"checkbox\" ><label for=\"sk-estimator-id-4\" class=\"sk-toggleable__label fitted sk-toggleable__label-arrow\"><div><div>vectorizer</div></div></label><div class=\"sk-toggleable__content fitted\"><pre>corpus</pre></div> </div></div><div class=\"sk-serial\"><div class=\"sk-item\"><div class=\"sk-serial\"><div class=\"sk-item\"><div class=\"sk-estimator fitted sk-toggleable\"><input class=\"sk-toggleable__control sk-hidden--visually\" id=\"sk-estimator-id-5\" type=\"checkbox\" ><label for=\"sk-estimator-id-5\" class=\"sk-toggleable__label fitted sk-toggleable__label-arrow\"><div><div>TfidfVectorizer</div></div><div><a class=\"sk-estimator-doc-link fitted\" rel=\"noreferrer\" target=\"_blank\" href=\"https://scikit-learn.org/1.6/modules/generated/sklearn.feature_extraction.text.TfidfVectorizer.html\">?<span>Documentation for TfidfVectorizer</span></a></div></label><div class=\"sk-toggleable__content fitted\"><pre>TfidfVectorizer(stop_words=&#x27;english&#x27;)</pre></div> </div></div></div></div></div></div></div><div class=\"sk-parallel-item\"><div class=\"sk-item\"><div class=\"sk-label-container\"><div class=\"sk-label fitted sk-toggleable\"><input class=\"sk-toggleable__control sk-hidden--visually\" id=\"sk-estimator-id-6\" type=\"checkbox\" ><label for=\"sk-estimator-id-6\" class=\"sk-toggleable__label fitted sk-toggleable__label-arrow\"><div><div>remainder</div></div></label><div class=\"sk-toggleable__content fitted\"><pre>[]</pre></div> </div></div><div class=\"sk-serial\"><div class=\"sk-item\"><div class=\"sk-estimator fitted sk-toggleable\"><input class=\"sk-toggleable__control sk-hidden--visually\" id=\"sk-estimator-id-7\" type=\"checkbox\" ><label for=\"sk-estimator-id-7\" class=\"sk-toggleable__label fitted sk-toggleable__label-arrow\"><div><div>passthrough</div></div></label><div class=\"sk-toggleable__content fitted\"><pre>passthrough</pre></div> </div></div></div></div></div></div></div><div class=\"sk-item\"><div class=\"sk-estimator fitted sk-toggleable\"><input class=\"sk-toggleable__control sk-hidden--visually\" id=\"sk-estimator-id-8\" type=\"checkbox\" ><label for=\"sk-estimator-id-8\" class=\"sk-toggleable__label fitted sk-toggleable__label-arrow\"><div><div>LogisticRegression</div></div><div><a class=\"sk-estimator-doc-link fitted\" rel=\"noreferrer\" target=\"_blank\" href=\"https://scikit-learn.org/1.6/modules/generated/sklearn.linear_model.LogisticRegression.html\">?<span>Documentation for LogisticRegression</span></a></div></label><div class=\"sk-toggleable__content fitted\"><pre>LogisticRegression(C=12, n_jobs=-1, random_state=42)</pre></div> </div></div></div></div></div></div></div></div></div></div></div>"
      ],
      "text/plain": [
       "RandomizedSearchCV(estimator=Pipeline(steps=[('preprocessor',\n",
       "                                              ColumnTransformer(remainder='passthrough',\n",
       "                                                                transformers=[('vectorizer',\n",
       "                                                                               Pipeline(steps=[('TfidfVectorizer',\n",
       "                                                                                                TfidfVectorizer(stop_words='english'))]),\n",
       "                                                                               'corpus')])),\n",
       "                                             ('models',\n",
       "                                              LogisticRegression(n_jobs=-1,\n",
       "                                                                 random_state=42))]),\n",
       "                   n_jobs=-1,\n",
       "                   param_distributions=[{'models': [LogisticRegression(n_jobs=-1,\n",
       "                                                                       random_state=42)],\n",
       "                                         'models__C': range(1, 20)},\n",
       "                                        {'models': [PassiveAggressiveClassifier(random_state=42)],\n",
       "                                         'models__max_iter': range(2, 100)}],\n",
       "                   random_state=42, scoring='f1')"
      ]
     },
     "execution_count": 26,
     "metadata": {},
     "output_type": "execute_result"
    }
   ],
   "source": [
    "%%time\n",
    "randomized_search.fit(X_train, y_train)"
   ]
  },
  {
   "cell_type": "code",
   "execution_count": 27,
   "id": "71ec7306-e0da-4d34-87de-d4907caa8feb",
   "metadata": {},
   "outputs": [
    {
     "name": "stdout",
     "output_type": "stream",
     "text": [
      "Лучшая модель и её параметры:\n",
      "\n",
      " Pipeline(steps=[('preprocessor',\n",
      "                 ColumnTransformer(remainder='passthrough',\n",
      "                                   transformers=[('vectorizer',\n",
      "                                                  Pipeline(steps=[('TfidfVectorizer',\n",
      "                                                                   TfidfVectorizer(stop_words='english'))]),\n",
      "                                                  'corpus')])),\n",
      "                ('models',\n",
      "                 LogisticRegression(C=12, n_jobs=-1, random_state=42))])\n",
      "Метрика лучшей модели на тренировочной выборке: 0.77051007220364\n"
     ]
    }
   ],
   "source": [
    "best_model = randomized_search.best_estimator_\n",
    "\n",
    "print('Лучшая модель и её параметры:\\n\\n', best_model)\n",
    "print ('Метрика лучшей модели на тренировочной выборке:', randomized_search.best_score_)"
   ]
  },
  {
   "cell_type": "markdown",
   "id": "5954f6fe-42f4-4924-ace5-35af62fa9d47",
   "metadata": {},
   "source": [
    "Получили лучшую модель: DecisionTreeClassifier. Метрика качества на тренировочной выборке отличная. Посмотрим на метрику качества лучшей моделе на тестовой выборке."
   ]
  },
  {
   "cell_type": "code",
   "execution_count": 28,
   "id": "a9d5c856-baa1-4518-8954-421b568eb02b",
   "metadata": {},
   "outputs": [
    {
     "name": "stdout",
     "output_type": "stream",
     "text": [
      "Метрика лучшей модели на валидационной выборке: 0.7739293635898311\n"
     ]
    }
   ],
   "source": [
    "preds = best_model.predict(X_valid)\n",
    "\n",
    "score = f1_score(y_valid, preds)\n",
    "print ('Метрика лучшей модели на валидационной выборке:', score)"
   ]
  },
  {
   "cell_type": "markdown",
   "id": "ec3d0434",
   "metadata": {},
   "source": [
    "Попробуем подобрать наилучший порог предсказаний."
   ]
  },
  {
   "cell_type": "code",
   "execution_count": 29,
   "id": "77e5e819",
   "metadata": {},
   "outputs": [
    {
     "name": "stdout",
     "output_type": "stream",
     "text": [
      "Best Threshold=0.388412, F-Score=0.781\n"
     ]
    },
    {
     "data": {
      "image/png": "[encoded data removed]",
      "text/plain": [
       "<Figure size 432x288 with 1 Axes>"
      ]
     },
     "metadata": {
      "needs_background": "light"
     },
     "output_type": "display_data"
    }
   ],
   "source": [
    "yhat = best_model.predict_proba(X_valid)\n",
    "# keep probabilities for the positive outcome only\n",
    "yhat = yhat[:, 1]\n",
    "# calculate roc curves\n",
    "precision, recall, thresholds = precision_recall_curve(y_valid, yhat)\n",
    "# convert to f score\n",
    "fscore = (2 * precision * recall) / (precision + recall)\n",
    "# locate the index of the largest f score\n",
    "ix = argmax(fscore)\n",
    "print('Best Threshold=%f, F-Score=%.3f' % (thresholds[ix], fscore[ix]))\n",
    "# plot the roc curve for the model\n",
    "no_skill = len(y_valid[y_valid==1]) / len(y_valid)\n",
    "pyplot.plot([0,1], [no_skill,no_skill], linestyle='--', label='No Skill')\n",
    "pyplot.plot(recall, precision, marker='.', label='Logistic')\n",
    "pyplot.scatter(recall[ix], precision[ix], marker='o', color='black', label='Best')\n",
    "# axis labels\n",
    "pyplot.xlabel('Recall')\n",
    "pyplot.ylabel('Precision')\n",
    "pyplot.legend()\n",
    "# show the plot\n",
    "pyplot.show()"
   ]
  },
  {
   "cell_type": "markdown",
   "id": "e2d16647-4f3d-40f2-ba0a-b893c21f2fd6",
   "metadata": {},
   "source": [
    "Метрика качества на валидационной выборке 0.78. Посмотрим на метрику качества на тестовой выборке."
   ]
  },
  {
   "cell_type": "code",
   "execution_count": 33,
   "id": "3cc03a76",
   "metadata": {},
   "outputs": [
    {
     "name": "stdout",
     "output_type": "stream",
     "text": [
      "Метрика лучшей модели на тестовой выборке: 0.7742363877822045\n"
     ]
    }
   ],
   "source": [
    "preds_test = (best_model.predict_proba(X_test)[:,1] >= 0.388412).astype(bool)\n",
    "#preds_test = best_model.predict(X_test)\n",
    "\n",
    "score = f1_score(y_test, preds_test)\n",
    "print ('Метрика лучшей модели на тестовой выборке:', score)"
   ]
  },
  {
   "cell_type": "markdown",
   "id": "b488c22b-eb26-4b6f-be45-54d378851b24",
   "metadata": {},
   "source": [
    "## Анализ важности признаков\n",
    "\n",
    "Оценим важность признаков для лучшей модели."
   ]
  },
  {
   "cell_type": "code",
   "execution_count": 31,
   "id": "42629720",
   "metadata": {},
   "outputs": [],
   "source": [
    "feature_names = best_model.steps[0][1]['vectorizer'].get_feature_names_out()"
   ]
  },
  {
   "cell_type": "code",
   "execution_count": 34,
   "id": "be5ca794-bfaf-460f-ab4d-aa1a95e94bfd",
   "metadata": {},
   "outputs": [
    {
     "name": "stdout",
     "output_type": "stream",
     "text": [
      "        Feature  Importance\n",
      "39100      fuck   32.883658\n",
      "93465      shit   21.040695\n",
      "11784     bitch   20.395680\n",
      "48452     idiot   19.651766\n",
      "7012    asshole   19.393710\n",
      "39129   fucking   19.256757\n",
      "98929    stupid   17.804716\n",
      "14655  bullshit   17.421052\n",
      "99360      suck   17.102801\n",
      "35462    faggot   16.824383\n"
     ]
    }
   ],
   "source": [
    "# сформируем таблицу важности признаков\n",
    "feature_importances = pd.DataFrame(\n",
    "    {\n",
    "        'Feature': feature_names,\n",
    "        'Importance': pd.Series(best_model.steps[1][1].coef_[0])\n",
    "    })\n",
    "\n",
    "# сортируем таблицу по важности — от большей к меньшей и выводим первые 10\n",
    "print(feature_importances.sort_values('Importance', ascending=False)[:10])"
   ]
  },
  {
   "cell_type": "markdown",
   "id": "eb261a43-091e-4366-be69-69c12f7496fe",
   "metadata": {},
   "source": [
    "Модель выделяет самый важный признак слово \"fuck\". Отмечаем, что ни один признак не является единственно важным, что означает, что модель работает корректно."
   ]
  },
  {
   "cell_type": "markdown",
   "id": "11843708-19c0-4464-851c-33e2d35736fc",
   "metadata": {},
   "source": [
    "# Общие выводы"
   ]
  },
  {
   "cell_type": "markdown",
   "id": "47f5e1d4-1a2d-455c-8b02-fe54a5a25d5d",
   "metadata": {},
   "source": [
    "Лучшая модель: **LogisticRegression**\n",
    "\n",
    "Параметры модели: **n_jobs=-1, C=12**\n",
    "\n",
    "Метрика качества на тестовой выборке: **f1 = 0.77**"
   ]
  }
 ],
 "metadata": {
  "ExecuteTimeLog": [
   {
    "duration": 7088,
    "start_time": "2025-04-19T09:24:51.871Z"
   },
   {
    "duration": 2594,
    "start_time": "2025-04-19T09:24:58.962Z"
   },
   {
    "duration": 2619,
    "start_time": "2025-04-19T09:25:01.559Z"
   },
   {
    "duration": 3166,
    "start_time": "2025-04-19T09:25:04.180Z"
   },
   {
    "duration": 1513,
    "start_time": "2025-04-19T09:25:07.351Z"
   },
   {
    "duration": 0,
    "start_time": "2025-04-19T09:25:08.866Z"
   },
   {
    "duration": 0,
    "start_time": "2025-04-19T09:25:08.867Z"
   },
   {
    "duration": 0,
    "start_time": "2025-04-19T09:25:08.868Z"
   },
   {
    "duration": 0,
    "start_time": "2025-04-19T09:25:08.870Z"
   },
   {
    "duration": 0,
    "start_time": "2025-04-19T09:25:08.871Z"
   },
   {
    "duration": 0,
    "start_time": "2025-04-19T09:25:08.872Z"
   },
   {
    "duration": 0,
    "start_time": "2025-04-19T09:25:08.873Z"
   },
   {
    "duration": 0,
    "start_time": "2025-04-19T09:25:08.874Z"
   },
   {
    "duration": 12,
    "start_time": "2025-04-19T09:25:18.145Z"
   },
   {
    "duration": 1844,
    "start_time": "2025-04-19T09:25:26.206Z"
   },
   {
    "duration": 5,
    "start_time": "2025-04-19T09:26:53.994Z"
   },
   {
    "duration": 2,
    "start_time": "2025-04-19T09:26:58.001Z"
   },
   {
    "duration": 187,
    "start_time": "2025-04-19T09:26:59.162Z"
   },
   {
    "duration": 968,
    "start_time": "2025-04-19T09:27:05.433Z"
   },
   {
    "duration": 11,
    "start_time": "2025-04-19T09:27:12.051Z"
   },
   {
    "duration": 32,
    "start_time": "2025-04-19T09:27:14.576Z"
   },
   {
    "duration": 1044,
    "start_time": "2025-04-19T09:27:24.530Z"
   },
   {
    "duration": 18,
    "start_time": "2025-04-19T09:27:27.034Z"
   },
   {
    "duration": 42,
    "start_time": "2025-04-19T09:27:29.205Z"
   },
   {
    "duration": 5,
    "start_time": "2025-04-19T09:27:32.007Z"
   },
   {
    "duration": 31,
    "start_time": "2025-04-19T09:27:32.674Z"
   },
   {
    "duration": 7,
    "start_time": "2025-04-19T09:27:36.350Z"
   },
   {
    "duration": 4,
    "start_time": "2025-04-19T09:27:40.711Z"
   },
   {
    "duration": 3,
    "start_time": "2025-04-19T09:28:45.642Z"
   },
   {
    "duration": 11,
    "start_time": "2025-04-19T09:29:16.136Z"
   },
   {
    "duration": 4745,
    "start_time": "2025-04-19T09:30:57.504Z"
   },
   {
    "duration": 323,
    "start_time": "2025-04-19T09:31:43.889Z"
   },
   {
    "duration": 4659,
    "start_time": "2025-04-19T09:37:39.172Z"
   },
   {
    "duration": 9,
    "start_time": "2025-04-19T09:39:01.371Z"
   },
   {
    "duration": 10,
    "start_time": "2025-04-19T09:39:21.903Z"
   },
   {
    "duration": 4611,
    "start_time": "2025-04-19T09:39:24.650Z"
   },
   {
    "duration": 295,
    "start_time": "2025-04-19T09:39:49.148Z"
   },
   {
    "duration": 7,
    "start_time": "2025-04-19T09:40:19.391Z"
   },
   {
    "duration": 14429,
    "start_time": "2025-04-19T09:40:27.348Z"
   },
   {
    "duration": 1164,
    "start_time": "2025-04-19T09:40:48.744Z"
   },
   {
    "duration": 2342,
    "start_time": "2025-04-19T09:41:05.558Z"
   },
   {
    "duration": 10,
    "start_time": "2025-04-19T09:41:09.571Z"
   },
   {
    "duration": 5,
    "start_time": "2025-04-19T09:41:37.914Z"
   },
   {
    "duration": 5,
    "start_time": "2025-04-19T09:41:42.946Z"
   },
   {
    "duration": 5,
    "start_time": "2025-04-19T09:42:00.741Z"
   },
   {
    "duration": 5,
    "start_time": "2025-04-19T09:43:54.150Z"
   },
   {
    "duration": 4,
    "start_time": "2025-04-19T09:43:56.954Z"
   },
   {
    "duration": 2423,
    "start_time": "2025-04-19T09:44:27.265Z"
   },
   {
    "duration": 5,
    "start_time": "2025-04-19T09:44:39.111Z"
   },
   {
    "duration": 4,
    "start_time": "2025-04-19T09:44:45.850Z"
   },
   {
    "duration": 4,
    "start_time": "2025-04-19T09:45:10.965Z"
   },
   {
    "duration": 4,
    "start_time": "2025-04-19T09:45:14.320Z"
   },
   {
    "duration": 803,
    "start_time": "2025-04-19T09:46:56.668Z"
   },
   {
    "duration": 828,
    "start_time": "2025-04-19T09:47:13.150Z"
   },
   {
    "duration": 6,
    "start_time": "2025-04-19T09:49:43.076Z"
   },
   {
    "duration": 4,
    "start_time": "2025-04-19T09:50:07.418Z"
   },
   {
    "duration": 1396,
    "start_time": "2025-04-19T09:50:12.844Z"
   },
   {
    "duration": 4,
    "start_time": "2025-04-19T09:50:15.630Z"
   },
   {
    "duration": 4,
    "start_time": "2025-04-19T09:50:16.661Z"
   },
   {
    "duration": 4,
    "start_time": "2025-04-19T09:50:22.170Z"
   },
   {
    "duration": 4,
    "start_time": "2025-04-19T09:50:53.847Z"
   },
   {
    "duration": 4,
    "start_time": "2025-04-19T09:51:46.810Z"
   },
   {
    "duration": 5,
    "start_time": "2025-04-19T09:51:54.513Z"
   },
   {
    "duration": 4,
    "start_time": "2025-04-19T09:52:12.743Z"
   },
   {
    "duration": 5,
    "start_time": "2025-04-19T09:52:22.244Z"
   },
   {
    "duration": 4,
    "start_time": "2025-04-19T09:52:51.827Z"
   },
   {
    "duration": 4,
    "start_time": "2025-04-19T09:52:55.088Z"
   },
   {
    "duration": 5,
    "start_time": "2025-04-19T09:54:28.089Z"
   },
   {
    "duration": 4,
    "start_time": "2025-04-19T09:54:32.721Z"
   },
   {
    "duration": 782,
    "start_time": "2025-04-19T09:54:57.693Z"
   },
   {
    "duration": 4,
    "start_time": "2025-04-19T09:55:01.629Z"
   },
   {
    "duration": 14,
    "start_time": "2025-04-19T09:56:48.670Z"
   },
   {
    "duration": 13,
    "start_time": "2025-04-19T09:57:19.611Z"
   },
   {
    "duration": 4,
    "start_time": "2025-04-19T09:58:15.051Z"
   },
   {
    "duration": 4,
    "start_time": "2025-04-19T09:59:13.325Z"
   },
   {
    "duration": 5,
    "start_time": "2025-04-19T09:59:23.344Z"
   },
   {
    "duration": 3,
    "start_time": "2025-04-19T10:00:01.445Z"
   },
   {
    "duration": 4,
    "start_time": "2025-04-19T10:00:19.550Z"
   },
   {
    "duration": 4,
    "start_time": "2025-04-19T10:00:23.141Z"
   },
   {
    "duration": 4,
    "start_time": "2025-04-19T10:01:10.263Z"
   },
   {
    "duration": 4,
    "start_time": "2025-04-19T10:01:41.995Z"
   },
   {
    "duration": 3,
    "start_time": "2025-04-19T10:01:44.791Z"
   },
   {
    "duration": 7,
    "start_time": "2025-04-19T18:11:15.403Z"
   },
   {
    "duration": 6590,
    "start_time": "2025-04-19T18:11:37.942Z"
   },
   {
    "duration": 2357,
    "start_time": "2025-04-19T18:11:44.535Z"
   },
   {
    "duration": 2354,
    "start_time": "2025-04-19T18:11:46.893Z"
   },
   {
    "duration": 2299,
    "start_time": "2025-04-19T18:11:49.249Z"
   },
   {
    "duration": 2846,
    "start_time": "2025-04-19T18:11:51.550Z"
   },
   {
    "duration": 3,
    "start_time": "2025-04-19T18:11:54.397Z"
   },
   {
    "duration": 879,
    "start_time": "2025-04-19T18:11:54.401Z"
   },
   {
    "duration": 11,
    "start_time": "2025-04-19T18:11:55.281Z"
   },
   {
    "duration": 43,
    "start_time": "2025-04-19T18:11:55.294Z"
   },
   {
    "duration": 3,
    "start_time": "2025-04-19T18:11:55.338Z"
   },
   {
    "duration": 30,
    "start_time": "2025-04-19T18:11:55.343Z"
   },
   {
    "duration": 6,
    "start_time": "2025-04-19T18:11:55.375Z"
   },
   {
    "duration": 6,
    "start_time": "2025-04-19T18:11:55.383Z"
   },
   {
    "duration": 43,
    "start_time": "2025-04-19T18:11:55.392Z"
   },
   {
    "duration": 3881,
    "start_time": "2025-04-19T18:11:55.437Z"
   },
   {
    "duration": 2056,
    "start_time": "2025-04-19T18:11:59.320Z"
   },
   {
    "duration": 6,
    "start_time": "2025-04-19T18:12:01.378Z"
   },
   {
    "duration": 7,
    "start_time": "2025-04-19T18:12:01.385Z"
   },
   {
    "duration": 8,
    "start_time": "2025-04-19T18:12:10.319Z"
   },
   {
    "duration": 9,
    "start_time": "2025-04-19T18:12:58.954Z"
   },
   {
    "duration": 2086059,
    "start_time": "2025-04-19T18:13:37.167Z"
   },
   {
    "duration": 3916,
    "start_time": "2025-04-19T18:48:36.198Z"
   },
   {
    "duration": 501900,
    "start_time": "2025-04-19T18:48:51.068Z"
   },
   {
    "duration": 60,
    "start_time": "2025-04-19T19:00:21.877Z"
   },
   {
    "duration": 30,
    "start_time": "2025-04-19T19:00:33.344Z"
   },
   {
    "duration": 717839,
    "start_time": "2025-04-19T19:00:48.225Z"
   },
   {
    "duration": 3,
    "start_time": "2025-04-19T19:15:49.223Z"
   },
   {
    "duration": 3,
    "start_time": "2025-04-19T19:15:49.930Z"
   },
   {
    "duration": 8,
    "start_time": "2025-04-19T19:15:59.452Z"
   },
   {
    "duration": 6,
    "start_time": "2025-04-19T19:16:04.471Z"
   },
   {
    "duration": 311,
    "start_time": "2025-04-19T19:16:38.744Z"
   },
   {
    "duration": 4,
    "start_time": "2025-04-19T19:16:45.294Z"
   },
   {
    "duration": 4,
    "start_time": "2025-04-19T19:16:46.699Z"
   },
   {
    "duration": 3,
    "start_time": "2025-04-19T19:17:36.902Z"
   },
   {
    "duration": 111,
    "start_time": "2025-04-19T19:17:52.669Z"
   },
   {
    "duration": 215,
    "start_time": "2025-04-19T19:18:10.685Z"
   },
   {
    "duration": 3,
    "start_time": "2025-04-19T19:18:52.070Z"
   },
   {
    "duration": 3,
    "start_time": "2025-04-19T19:18:59.231Z"
   },
   {
    "duration": 4,
    "start_time": "2025-04-19T19:18:59.918Z"
   },
   {
    "duration": 3,
    "start_time": "2025-04-19T19:19:02.542Z"
   },
   {
    "duration": 207,
    "start_time": "2025-04-19T19:19:06.170Z"
   },
   {
    "duration": 15,
    "start_time": "2025-04-19T19:19:33.214Z"
   },
   {
    "duration": 2,
    "start_time": "2025-04-19T19:20:15.841Z"
   },
   {
    "duration": 16,
    "start_time": "2025-04-19T19:20:19.400Z"
   },
   {
    "duration": 6,
    "start_time": "2025-04-19T19:20:34.393Z"
   },
   {
    "duration": 4,
    "start_time": "2025-04-19T19:20:52.904Z"
   },
   {
    "duration": 11,
    "start_time": "2025-04-19T19:21:12.120Z"
   },
   {
    "duration": 5,
    "start_time": "2025-04-19T19:21:23.553Z"
   },
   {
    "duration": 9,
    "start_time": "2025-04-19T19:22:54.189Z"
   },
   {
    "duration": 60,
    "start_time": "2025-04-19T19:23:09.615Z"
   },
   {
    "duration": 6,
    "start_time": "2025-04-19T19:23:30.478Z"
   },
   {
    "duration": 3,
    "start_time": "2025-04-19T19:23:39.100Z"
   },
   {
    "duration": 3,
    "start_time": "2025-04-19T19:23:40.523Z"
   },
   {
    "duration": 2,
    "start_time": "2025-04-19T19:23:40.927Z"
   },
   {
    "duration": 3067,
    "start_time": "2025-04-19T19:23:43.628Z"
   },
   {
    "duration": 15,
    "start_time": "2025-04-19T19:24:34.080Z"
   },
   {
    "duration": 3,
    "start_time": "2025-04-19T19:25:46.553Z"
   },
   {
    "duration": 4,
    "start_time": "2025-04-19T19:25:47.102Z"
   },
   {
    "duration": 3,
    "start_time": "2025-04-19T19:25:47.738Z"
   },
   {
    "duration": 3058,
    "start_time": "2025-04-19T19:25:52.404Z"
   },
   {
    "duration": 14,
    "start_time": "2025-04-19T19:26:03.989Z"
   },
   {
    "duration": 5,
    "start_time": "2025-04-19T19:26:27.145Z"
   },
   {
    "duration": 8,
    "start_time": "2025-04-19T19:26:43.299Z"
   },
   {
    "duration": 46,
    "start_time": "2025-04-19T19:27:07.903Z"
   },
   {
    "duration": 4,
    "start_time": "2025-04-19T19:27:10.318Z"
   },
   {
    "duration": 12,
    "start_time": "2025-04-19T19:28:15.143Z"
   },
   {
    "duration": 5,
    "start_time": "2025-04-19T19:29:38.720Z"
   },
   {
    "duration": 15,
    "start_time": "2025-04-19T19:29:51.018Z"
   },
   {
    "duration": 264,
    "start_time": "2025-04-19T19:31:38.467Z"
   },
   {
    "duration": 11,
    "start_time": "2025-04-19T19:32:28.836Z"
   },
   {
    "duration": 12,
    "start_time": "2025-04-19T19:33:16.103Z"
   },
   {
    "duration": 12,
    "start_time": "2025-04-19T19:35:02.095Z"
   },
   {
    "duration": 5,
    "start_time": "2025-04-19T19:36:04.308Z"
   },
   {
    "duration": 3,
    "start_time": "2025-04-19T19:36:14.478Z"
   },
   {
    "duration": 3,
    "start_time": "2025-04-19T19:36:58.926Z"
   },
   {
    "duration": 2,
    "start_time": "2025-04-19T19:37:09.379Z"
   },
   {
    "duration": 121,
    "start_time": "2025-04-19T19:37:15.826Z"
   },
   {
    "duration": 5,
    "start_time": "2025-04-19T19:37:16.701Z"
   },
   {
    "duration": 3,
    "start_time": "2025-04-19T19:37:27.911Z"
   },
   {
    "duration": 3,
    "start_time": "2025-04-19T19:37:28.817Z"
   },
   {
    "duration": 3,
    "start_time": "2025-04-19T19:37:35.222Z"
   },
   {
    "duration": 4,
    "start_time": "2025-04-19T19:37:36.021Z"
   },
   {
    "duration": 3,
    "start_time": "2025-04-19T19:37:36.554Z"
   },
   {
    "duration": 3446,
    "start_time": "2025-04-19T19:37:40.109Z"
   },
   {
    "duration": 3,
    "start_time": "2025-04-19T19:38:26.256Z"
   },
   {
    "duration": 3,
    "start_time": "2025-04-19T19:38:27.248Z"
   },
   {
    "duration": 2,
    "start_time": "2025-04-19T19:38:28.997Z"
   },
   {
    "duration": 359,
    "start_time": "2025-04-19T19:38:29.539Z"
   },
   {
    "duration": 4,
    "start_time": "2025-04-19T19:38:30.524Z"
   },
   {
    "duration": 2,
    "start_time": "2025-04-19T19:38:44.801Z"
   },
   {
    "duration": 4,
    "start_time": "2025-04-19T19:38:45.332Z"
   },
   {
    "duration": 3,
    "start_time": "2025-04-19T19:38:45.828Z"
   },
   {
    "duration": 27538,
    "start_time": "2025-04-19T19:38:48.843Z"
   },
   {
    "duration": 14,
    "start_time": "2025-04-19T19:39:29.345Z"
   },
   {
    "duration": 3,
    "start_time": "2025-04-19T19:41:19.012Z"
   },
   {
    "duration": 2,
    "start_time": "2025-04-19T19:41:24.026Z"
   },
   {
    "duration": 3,
    "start_time": "2025-04-19T19:41:24.509Z"
   },
   {
    "duration": 79,
    "start_time": "2025-04-19T19:41:26.289Z"
   },
   {
    "duration": 5,
    "start_time": "2025-04-19T19:41:27.130Z"
   },
   {
    "duration": 4,
    "start_time": "2025-04-19T19:41:40.638Z"
   },
   {
    "duration": 3,
    "start_time": "2025-04-19T19:41:54.698Z"
   },
   {
    "duration": 2,
    "start_time": "2025-04-19T19:41:56.422Z"
   },
   {
    "duration": 3,
    "start_time": "2025-04-19T19:41:57.948Z"
   },
   {
    "duration": 78,
    "start_time": "2025-04-19T19:41:59.757Z"
   },
   {
    "duration": 4,
    "start_time": "2025-04-19T19:42:00.736Z"
   },
   {
    "duration": 4,
    "start_time": "2025-04-19T19:42:06.450Z"
   },
   {
    "duration": 4,
    "start_time": "2025-04-19T19:45:58.312Z"
   },
   {
    "duration": 3,
    "start_time": "2025-04-19T19:45:59.718Z"
   },
   {
    "duration": 3,
    "start_time": "2025-04-19T19:46:00.670Z"
   },
   {
    "duration": 249,
    "start_time": "2025-04-19T19:46:02.258Z"
   },
   {
    "duration": 5,
    "start_time": "2025-04-19T19:46:03.414Z"
   },
   {
    "duration": 7,
    "start_time": "2025-04-19T19:46:23.299Z"
   },
   {
    "duration": 3,
    "start_time": "2025-04-19T19:46:29.039Z"
   },
   {
    "duration": 3,
    "start_time": "2025-04-19T19:46:29.551Z"
   },
   {
    "duration": 3,
    "start_time": "2025-04-19T19:46:31.318Z"
   },
   {
    "duration": 17631,
    "start_time": "2025-04-19T19:46:34.312Z"
   },
   {
    "duration": 15,
    "start_time": "2025-04-19T19:46:58.729Z"
   },
   {
    "duration": 11,
    "start_time": "2025-04-19T19:47:09.651Z"
   },
   {
    "duration": 28,
    "start_time": "2025-04-19T19:47:14.530Z"
   },
   {
    "duration": 3,
    "start_time": "2025-04-19T19:47:52.542Z"
   },
   {
    "duration": 3,
    "start_time": "2025-04-19T19:47:53.341Z"
   },
   {
    "duration": 3,
    "start_time": "2025-04-19T19:47:53.768Z"
   },
   {
    "duration": 8,
    "start_time": "2025-04-19T19:47:57.174Z"
   },
   {
    "duration": 3,
    "start_time": "2025-04-19T19:48:02.338Z"
   },
   {
    "duration": 4,
    "start_time": "2025-04-19T19:48:02.790Z"
   },
   {
    "duration": 3,
    "start_time": "2025-04-19T19:48:03.501Z"
   },
   {
    "duration": 3398,
    "start_time": "2025-04-19T19:48:06.201Z"
   },
   {
    "duration": 3,
    "start_time": "2025-04-19T19:48:34.465Z"
   },
   {
    "duration": 3,
    "start_time": "2025-04-19T19:48:36.377Z"
   },
   {
    "duration": 2,
    "start_time": "2025-04-19T19:48:37.029Z"
   },
   {
    "duration": 3,
    "start_time": "2025-04-19T19:48:42.755Z"
   },
   {
    "duration": 4,
    "start_time": "2025-04-19T19:48:43.101Z"
   },
   {
    "duration": 3,
    "start_time": "2025-04-19T19:48:44.592Z"
   },
   {
    "duration": 12396,
    "start_time": "2025-04-19T19:48:46.939Z"
   },
   {
    "duration": 16,
    "start_time": "2025-04-19T19:49:04.521Z"
   },
   {
    "duration": 25,
    "start_time": "2025-04-19T19:49:07.893Z"
   },
   {
    "duration": 27,
    "start_time": "2025-04-19T19:49:13.855Z"
   },
   {
    "duration": 4,
    "start_time": "2025-04-19T19:50:08.117Z"
   },
   {
    "duration": 3,
    "start_time": "2025-04-19T19:50:12.225Z"
   },
   {
    "duration": 3,
    "start_time": "2025-04-19T19:50:12.846Z"
   },
   {
    "duration": 7,
    "start_time": "2025-04-19T19:50:15.768Z"
   },
   {
    "duration": 3,
    "start_time": "2025-04-19T19:50:19.285Z"
   },
   {
    "duration": 4,
    "start_time": "2025-04-19T19:50:19.998Z"
   },
   {
    "duration": 3,
    "start_time": "2025-04-19T19:50:21.485Z"
   },
   {
    "duration": 12388,
    "start_time": "2025-04-19T19:50:24.693Z"
   },
   {
    "duration": 16,
    "start_time": "2025-04-19T19:50:51.253Z"
   },
   {
    "duration": 27,
    "start_time": "2025-04-19T19:52:04.915Z"
   },
   {
    "duration": 12,
    "start_time": "2025-04-19T19:52:17.289Z"
   },
   {
    "duration": 12,
    "start_time": "2025-04-19T19:52:22.799Z"
   },
   {
    "duration": 17,
    "start_time": "2025-04-19T19:52:33.715Z"
   },
   {
    "duration": 3,
    "start_time": "2025-04-19T19:53:08.448Z"
   },
   {
    "duration": 12297,
    "start_time": "2025-04-19T19:53:11.689Z"
   },
   {
    "duration": 16,
    "start_time": "2025-04-19T19:53:29.891Z"
   },
   {
    "duration": 26,
    "start_time": "2025-04-19T19:53:35.243Z"
   },
   {
    "duration": 26,
    "start_time": "2025-04-19T19:53:48.635Z"
   },
   {
    "duration": 17,
    "start_time": "2025-04-19T19:55:04.923Z"
   },
   {
    "duration": 59,
    "start_time": "2025-04-19T19:56:22.426Z"
   },
   {
    "duration": 12,
    "start_time": "2025-04-19T19:56:25.093Z"
   },
   {
    "duration": 19,
    "start_time": "2025-04-19T19:56:29.536Z"
   },
   {
    "duration": 19,
    "start_time": "2025-04-19T19:57:14.007Z"
   },
   {
    "duration": 12,
    "start_time": "2025-04-19T19:57:39.276Z"
   },
   {
    "duration": 11,
    "start_time": "2025-04-19T19:57:45.637Z"
   },
   {
    "duration": 12,
    "start_time": "2025-04-19T19:57:52.000Z"
   },
   {
    "duration": 18,
    "start_time": "2025-04-19T19:57:55.680Z"
   },
   {
    "duration": 13,
    "start_time": "2025-04-19T19:58:00.413Z"
   },
   {
    "duration": 13,
    "start_time": "2025-04-19T19:58:05.029Z"
   },
   {
    "duration": 13,
    "start_time": "2025-04-19T19:58:43.712Z"
   },
   {
    "duration": 14,
    "start_time": "2025-04-19T19:59:03.835Z"
   },
   {
    "duration": 19,
    "start_time": "2025-04-19T19:59:33.704Z"
   },
   {
    "duration": 9,
    "start_time": "2025-04-19T20:00:15.151Z"
   },
   {
    "duration": 14,
    "start_time": "2025-04-19T20:00:22.132Z"
   },
   {
    "duration": 14,
    "start_time": "2025-04-19T20:00:28.896Z"
   },
   {
    "duration": 16,
    "start_time": "2025-04-19T20:00:34.023Z"
   },
   {
    "duration": 8,
    "start_time": "2025-04-19T20:00:45.419Z"
   },
   {
    "duration": 7,
    "start_time": "2025-04-19T20:00:54.175Z"
   },
   {
    "duration": 7,
    "start_time": "2025-04-19T20:01:07.844Z"
   },
   {
    "duration": 7,
    "start_time": "2025-04-19T20:01:21.618Z"
   },
   {
    "duration": 9,
    "start_time": "2025-04-19T20:01:24.964Z"
   },
   {
    "duration": 46,
    "start_time": "2025-04-21T09:54:51.859Z"
   },
   {
    "duration": 10,
    "start_time": "2025-04-21T09:55:01.922Z"
   },
   {
    "duration": 3261,
    "start_time": "2025-04-21T09:55:07.158Z"
   },
   {
    "duration": 1199,
    "start_time": "2025-04-21T09:55:12.610Z"
   },
   {
    "duration": 136,
    "start_time": "2025-04-21T09:55:28.516Z"
   },
   {
    "duration": 6,
    "start_time": "2025-04-21T09:55:32.603Z"
   },
   {
    "duration": 539,
    "start_time": "2025-04-21T10:16:09.647Z"
   },
   {
    "duration": 6565,
    "start_time": "2025-04-21T10:21:19.775Z"
   },
   {
    "duration": 2412,
    "start_time": "2025-04-21T10:21:26.343Z"
   },
   {
    "duration": 2403,
    "start_time": "2025-04-21T10:21:28.757Z"
   },
   {
    "duration": 2417,
    "start_time": "2025-04-21T10:21:31.162Z"
   },
   {
    "duration": 13,
    "start_time": "2025-04-21T10:21:33.583Z"
   },
   {
    "duration": 37,
    "start_time": "2025-04-21T10:21:33.598Z"
   },
   {
    "duration": 981,
    "start_time": "2025-04-21T10:21:33.636Z"
   },
   {
    "duration": 19,
    "start_time": "2025-04-21T10:21:34.619Z"
   },
   {
    "duration": 41,
    "start_time": "2025-04-21T10:21:34.640Z"
   },
   {
    "duration": 26,
    "start_time": "2025-04-21T10:21:34.685Z"
   },
   {
    "duration": 58,
    "start_time": "2025-04-21T10:21:34.713Z"
   },
   {
    "duration": 7,
    "start_time": "2025-04-21T10:21:34.773Z"
   },
   {
    "duration": 21,
    "start_time": "2025-04-21T10:21:34.782Z"
   },
   {
    "duration": 31,
    "start_time": "2025-04-21T10:21:34.806Z"
   },
   {
    "duration": 12,
    "start_time": "2025-04-21T10:21:34.839Z"
   },
   {
    "duration": 1552,
    "start_time": "2025-04-21T10:21:34.853Z"
   },
   {
    "duration": 7,
    "start_time": "2025-04-21T10:22:39.169Z"
   },
   {
    "duration": 7,
    "start_time": "2025-04-21T10:22:45.773Z"
   },
   {
    "duration": 8,
    "start_time": "2025-04-21T10:23:36.972Z"
   },
   {
    "duration": 743,
    "start_time": "2025-04-21T10:23:41.559Z"
   },
   {
    "duration": 7,
    "start_time": "2025-04-21T10:24:02.579Z"
   },
   {
    "duration": 34,
    "start_time": "2025-04-21T10:24:08.075Z"
   },
   {
    "duration": 7045,
    "start_time": "2025-04-21T10:24:11.329Z"
   },
   {
    "duration": 3949,
    "start_time": "2025-04-21T10:35:25.098Z"
   },
   {
    "duration": 1137710,
    "start_time": "2025-04-21T10:35:47.610Z"
   },
   {
    "duration": 3784,
    "start_time": "2025-04-21T19:08:04.607Z"
   },
   {
    "duration": 7746,
    "start_time": "2025-04-21T19:08:37.657Z"
   },
   {
    "duration": 2668,
    "start_time": "2025-04-21T19:08:45.406Z"
   },
   {
    "duration": 2676,
    "start_time": "2025-04-21T19:08:48.077Z"
   },
   {
    "duration": 2585,
    "start_time": "2025-04-21T19:08:50.755Z"
   },
   {
    "duration": 14,
    "start_time": "2025-04-21T19:08:53.343Z"
   },
   {
    "duration": 19,
    "start_time": "2025-04-21T19:08:53.359Z"
   },
   {
    "duration": 1013,
    "start_time": "2025-04-21T19:08:53.380Z"
   },
   {
    "duration": 19,
    "start_time": "2025-04-21T19:08:54.395Z"
   },
   {
    "duration": 74,
    "start_time": "2025-04-21T19:08:54.416Z"
   },
   {
    "duration": 4,
    "start_time": "2025-04-21T19:08:54.491Z"
   },
   {
    "duration": 111,
    "start_time": "2025-04-21T19:08:54.496Z"
   },
   {
    "duration": 10,
    "start_time": "2025-04-21T19:08:54.609Z"
   },
   {
    "duration": 2,
    "start_time": "2025-04-21T19:08:54.621Z"
   },
   {
    "duration": 5,
    "start_time": "2025-04-21T19:08:54.626Z"
   },
   {
    "duration": 1652,
    "start_time": "2025-04-21T19:08:54.632Z"
   },
   {
    "duration": 4498,
    "start_time": "2025-04-21T19:08:56.285Z"
   },
   {
    "duration": 1275335,
    "start_time": "2025-04-21T19:09:00.785Z"
   },
   {
    "duration": 4,
    "start_time": "2025-04-21T19:30:32.949Z"
   },
   {
    "duration": 4,
    "start_time": "2025-04-21T19:30:36.693Z"
   },
   {
    "duration": 4,
    "start_time": "2025-04-21T19:30:37.586Z"
   },
   {
    "duration": 3,
    "start_time": "2025-04-21T19:30:47.167Z"
   },
   {
    "duration": 2,
    "start_time": "2025-04-21T19:30:47.962Z"
   },
   {
    "duration": 182,
    "start_time": "2025-04-21T19:30:52.662Z"
   },
   {
    "duration": 67,
    "start_time": "2025-04-21T19:31:02.351Z"
   },
   {
    "duration": 121,
    "start_time": "2025-04-21T19:31:04.859Z"
   },
   {
    "duration": 3,
    "start_time": "2025-04-21T19:31:10.404Z"
   },
   {
    "duration": 4,
    "start_time": "2025-04-21T19:31:11.006Z"
   },
   {
    "duration": 3,
    "start_time": "2025-04-21T19:31:12.994Z"
   },
   {
    "duration": 3,
    "start_time": "2025-04-21T19:31:18.126Z"
   },
   {
    "duration": 932736,
    "start_time": "2025-04-21T19:31:23.355Z"
   },
   {
    "duration": 19,
    "start_time": "2025-04-21T19:47:13.377Z"
   },
   {
    "duration": 1427,
    "start_time": "2025-04-21T19:47:18.472Z"
   },
   {
    "duration": 1415,
    "start_time": "2025-04-21T19:47:26.448Z"
   },
   {
    "duration": 13,
    "start_time": "2025-04-21T19:48:30.488Z"
   },
   {
    "duration": 8,
    "start_time": "2025-04-21T19:48:59.866Z"
   },
   {
    "duration": 5,
    "start_time": "2025-04-21T19:49:07.629Z"
   },
   {
    "duration": 8,
    "start_time": "2025-04-21T19:49:14.111Z"
   },
   {
    "duration": 9,
    "start_time": "2025-04-21T19:49:16.930Z"
   },
   {
    "duration": 13,
    "start_time": "2025-04-21T19:49:25.114Z"
   },
   {
    "duration": 8,
    "start_time": "2025-04-21T19:49:30.603Z"
   },
   {
    "duration": 13,
    "start_time": "2025-04-21T19:49:42.259Z"
   },
   {
    "duration": 8,
    "start_time": "2025-04-21T19:49:46.146Z"
   },
   {
    "duration": 17,
    "start_time": "2025-04-21T19:49:59.250Z"
   },
   {
    "duration": 13,
    "start_time": "2025-04-21T19:50:02.004Z"
   },
   {
    "duration": 8,
    "start_time": "2025-04-21T19:50:05.478Z"
   },
   {
    "duration": 13,
    "start_time": "2025-04-21T19:50:16.950Z"
   },
   {
    "duration": 12,
    "start_time": "2025-04-21T19:50:22.197Z"
   },
   {
    "duration": 8,
    "start_time": "2025-04-21T19:50:25.390Z"
   },
   {
    "duration": 11,
    "start_time": "2025-04-21T19:50:51.017Z"
   },
   {
    "duration": 16,
    "start_time": "2025-04-21T19:51:01.173Z"
   },
   {
    "duration": 9,
    "start_time": "2025-04-21T19:51:05.278Z"
   },
   {
    "duration": 9,
    "start_time": "2025-04-21T19:51:09.998Z"
   },
   {
    "duration": 8,
    "start_time": "2025-04-21T19:51:32.182Z"
   },
   {
    "duration": 9,
    "start_time": "2025-04-21T19:51:36.472Z"
   },
   {
    "duration": 8,
    "start_time": "2025-04-21T19:51:44.134Z"
   },
   {
    "duration": 5,
    "start_time": "2025-04-21T19:51:49.748Z"
   },
   {
    "duration": 12,
    "start_time": "2025-04-21T19:51:57.862Z"
   },
   {
    "duration": 4,
    "start_time": "2025-04-21T19:52:01.758Z"
   },
   {
    "duration": 13,
    "start_time": "2025-04-21T19:52:08.952Z"
   },
   {
    "duration": 13,
    "start_time": "2025-04-21T19:52:11.466Z"
   },
   {
    "duration": 4,
    "start_time": "2025-04-21T19:52:14.609Z"
   },
   {
    "duration": 12,
    "start_time": "2025-04-21T19:52:17.413Z"
   },
   {
    "duration": 5,
    "start_time": "2025-04-21T19:52:19.445Z"
   },
   {
    "duration": 14,
    "start_time": "2025-04-21T19:52:27.808Z"
   },
   {
    "duration": 5,
    "start_time": "2025-04-21T19:52:31.452Z"
   },
   {
    "duration": 4,
    "start_time": "2025-04-21T19:52:42.213Z"
   },
   {
    "duration": 4,
    "start_time": "2025-04-21T19:52:44.467Z"
   },
   {
    "duration": 12,
    "start_time": "2025-04-21T19:52:47.714Z"
   },
   {
    "duration": 4,
    "start_time": "2025-04-21T19:52:51.494Z"
   },
   {
    "duration": 4,
    "start_time": "2025-04-21T19:52:56.577Z"
   },
   {
    "duration": 15,
    "start_time": "2025-04-21T19:52:58.912Z"
   },
   {
    "duration": 4,
    "start_time": "2025-04-21T19:53:01.699Z"
   },
   {
    "duration": 13,
    "start_time": "2025-04-21T19:53:03.398Z"
   },
   {
    "duration": 7,
    "start_time": "2025-04-21T19:53:11.298Z"
   },
   {
    "duration": 5,
    "start_time": "2025-04-21T19:54:22.912Z"
   },
   {
    "duration": 4,
    "start_time": "2025-04-21T19:54:38.498Z"
   },
   {
    "duration": 5,
    "start_time": "2025-04-21T19:54:44.637Z"
   },
   {
    "duration": 5,
    "start_time": "2025-04-21T19:54:47.120Z"
   },
   {
    "duration": 13,
    "start_time": "2025-04-21T19:54:56.317Z"
   },
   {
    "duration": 5,
    "start_time": "2025-04-21T19:55:02.224Z"
   },
   {
    "duration": 14,
    "start_time": "2025-04-21T19:55:09.213Z"
   },
   {
    "duration": 17,
    "start_time": "2025-04-21T19:55:45.925Z"
   },
   {
    "duration": 16,
    "start_time": "2025-04-21T19:57:53.825Z"
   },
   {
    "duration": 15,
    "start_time": "2025-04-21T19:58:05.337Z"
   },
   {
    "duration": 15,
    "start_time": "2025-04-21T19:58:18.113Z"
   },
   {
    "duration": 6,
    "start_time": "2025-04-21T19:58:23.074Z"
   },
   {
    "duration": 16,
    "start_time": "2025-04-21T19:58:35.147Z"
   },
   {
    "duration": 1494,
    "start_time": "2025-04-21T20:03:37.141Z"
   },
   {
    "duration": 1542,
    "start_time": "2025-04-21T20:03:59.272Z"
   },
   {
    "duration": 1480,
    "start_time": "2025-04-21T20:04:32.271Z"
   },
   {
    "duration": 1444,
    "start_time": "2025-04-21T20:04:56.918Z"
   },
   {
    "duration": 1500,
    "start_time": "2025-04-21T20:05:22.757Z"
   },
   {
    "duration": 1654,
    "start_time": "2025-04-21T20:05:34.762Z"
   },
   {
    "duration": 1600,
    "start_time": "2025-04-21T20:06:14.009Z"
   },
   {
    "duration": 8,
    "start_time": "2025-04-21T20:06:27.204Z"
   },
   {
    "duration": 139,
    "start_time": "2025-04-21T20:08:41.839Z"
   },
   {
    "duration": 3,
    "start_time": "2025-04-21T20:09:50.200Z"
   },
   {
    "duration": 3,
    "start_time": "2025-04-21T20:09:52.164Z"
   },
   {
    "duration": 4,
    "start_time": "2025-04-21T20:09:52.663Z"
   },
   {
    "duration": 3,
    "start_time": "2025-04-21T20:09:53.324Z"
   },
   {
    "duration": 908607,
    "start_time": "2025-04-21T20:10:02.626Z"
   },
   {
    "duration": 21,
    "start_time": "2025-04-21T20:27:58.626Z"
   },
   {
    "duration": 17,
    "start_time": "2025-04-21T20:28:05.607Z"
   },
   {
    "duration": 18,
    "start_time": "2025-04-21T20:28:08.710Z"
   },
   {
    "duration": 1510,
    "start_time": "2025-04-21T20:28:10.915Z"
   },
   {
    "duration": 1667,
    "start_time": "2025-04-21T20:28:15.916Z"
   },
   {
    "duration": 7415,
    "start_time": "2025-04-22T07:19:50.096Z"
   },
   {
    "duration": 2618,
    "start_time": "2025-04-22T07:19:57.513Z"
   },
   {
    "duration": 2853,
    "start_time": "2025-04-22T07:20:00.133Z"
   },
   {
    "duration": 2694,
    "start_time": "2025-04-22T07:20:02.989Z"
   },
   {
    "duration": 4245,
    "start_time": "2025-04-22T07:20:05.688Z"
   },
   {
    "duration": 3,
    "start_time": "2025-04-22T07:20:09.935Z"
   },
   {
    "duration": 1077,
    "start_time": "2025-04-22T07:20:09.939Z"
   },
   {
    "duration": 129,
    "start_time": "2025-04-22T07:20:11.018Z"
   },
   {
    "duration": 51,
    "start_time": "2025-04-22T07:20:11.149Z"
   },
   {
    "duration": 4,
    "start_time": "2025-04-22T07:20:11.201Z"
   },
   {
    "duration": 54,
    "start_time": "2025-04-22T07:20:11.208Z"
   },
   {
    "duration": 9,
    "start_time": "2025-04-22T07:20:11.264Z"
   },
   {
    "duration": 3,
    "start_time": "2025-04-22T07:20:11.275Z"
   },
   {
    "duration": 8,
    "start_time": "2025-04-22T07:20:11.282Z"
   },
   {
    "duration": 1617,
    "start_time": "2025-04-22T07:20:11.292Z"
   },
   {
    "duration": 4395,
    "start_time": "2025-04-22T07:20:12.911Z"
   },
   {
    "duration": 1277578,
    "start_time": "2025-04-22T07:20:17.308Z"
   },
   {
    "duration": 3,
    "start_time": "2025-04-22T07:41:34.888Z"
   },
   {
    "duration": 3,
    "start_time": "2025-04-22T07:41:42.311Z"
   },
   {
    "duration": 3,
    "start_time": "2025-04-22T07:41:42.982Z"
   },
   {
    "duration": 265,
    "start_time": "2025-04-22T07:41:47.930Z"
   },
   {
    "duration": 96,
    "start_time": "2025-04-22T07:42:27.847Z"
   },
   {
    "duration": 3,
    "start_time": "2025-04-22T07:43:05.030Z"
   },
   {
    "duration": 4,
    "start_time": "2025-04-22T07:43:06.323Z"
   },
   {
    "duration": 3,
    "start_time": "2025-04-22T07:43:06.940Z"
   },
   {
    "duration": 779404,
    "start_time": "2025-04-22T07:43:19.513Z"
   },
   {
    "duration": 15,
    "start_time": "2025-04-22T07:59:14.908Z"
   },
   {
    "duration": 1414,
    "start_time": "2025-04-22T07:59:23.049Z"
   },
   {
    "duration": 1412,
    "start_time": "2025-04-22T07:59:33.088Z"
   },
   {
    "duration": 1629,
    "start_time": "2025-04-22T07:59:39.296Z"
   },
   {
    "duration": 4,
    "start_time": "2025-04-22T08:10:49.959Z"
   },
   {
    "duration": 5,
    "start_time": "2025-04-22T08:10:50.499Z"
   },
   {
    "duration": 3,
    "start_time": "2025-04-22T08:10:52.389Z"
   },
   {
    "duration": 2946560,
    "start_time": "2025-04-22T08:10:58.886Z"
   },
   {
    "duration": 11,
    "start_time": "2025-04-22T09:03:19.677Z"
   },
   {
    "duration": 1477,
    "start_time": "2025-04-22T09:03:23.636Z"
   },
   {
    "duration": 1684,
    "start_time": "2025-04-22T09:03:29.093Z"
   },
   {
    "duration": 22,
    "start_time": "2025-04-22T09:04:48.995Z"
   },
   {
    "duration": 1486,
    "start_time": "2025-04-22T09:07:00.395Z"
   },
   {
    "duration": 1437,
    "start_time": "2025-04-22T09:07:17.200Z"
   },
   {
    "duration": 8,
    "start_time": "2025-04-22T09:08:33.664Z"
   },
   {
    "duration": 8,
    "start_time": "2025-04-22T09:08:41.873Z"
   },
   {
    "duration": 6,
    "start_time": "2025-04-22T09:08:51.087Z"
   },
   {
    "duration": 157,
    "start_time": "2025-04-22T09:08:57.434Z"
   },
   {
    "duration": 172,
    "start_time": "2025-04-22T09:09:08.466Z"
   },
   {
    "duration": 55,
    "start_time": "2025-04-22T09:09:11.303Z"
   },
   {
    "duration": 1457,
    "start_time": "2025-04-22T09:16:06.980Z"
   },
   {
    "duration": 1377,
    "start_time": "2025-04-22T09:17:07.798Z"
   },
   {
    "duration": 1420,
    "start_time": "2025-04-22T09:17:17.279Z"
   },
   {
    "duration": 7632,
    "start_time": "2025-04-23T07:43:48.259Z"
   },
   {
    "duration": 2586,
    "start_time": "2025-04-23T07:43:55.893Z"
   },
   {
    "duration": 2577,
    "start_time": "2025-04-23T07:43:58.482Z"
   },
   {
    "duration": 2531,
    "start_time": "2025-04-23T07:44:01.061Z"
   },
   {
    "duration": 3731,
    "start_time": "2025-04-23T07:44:03.595Z"
   },
   {
    "duration": 3,
    "start_time": "2025-04-23T07:44:07.328Z"
   },
   {
    "duration": 1064,
    "start_time": "2025-04-23T07:44:07.333Z"
   },
   {
    "duration": 11,
    "start_time": "2025-04-23T07:44:08.399Z"
   },
   {
    "duration": 47,
    "start_time": "2025-04-23T07:44:08.412Z"
   },
   {
    "duration": 50,
    "start_time": "2025-04-23T07:44:08.461Z"
   },
   {
    "duration": 35,
    "start_time": "2025-04-23T07:44:08.514Z"
   },
   {
    "duration": 7,
    "start_time": "2025-04-23T07:44:08.551Z"
   },
   {
    "duration": 3,
    "start_time": "2025-04-23T07:44:08.559Z"
   },
   {
    "duration": 9,
    "start_time": "2025-04-23T07:44:08.565Z"
   },
   {
    "duration": 1462,
    "start_time": "2025-04-23T07:44:08.576Z"
   },
   {
    "duration": 4110,
    "start_time": "2025-04-23T07:44:10.039Z"
   },
   {
    "duration": 1195087,
    "start_time": "2025-04-23T07:44:14.152Z"
   },
   {
    "duration": 3,
    "start_time": "2025-04-23T08:04:09.240Z"
   },
   {
    "duration": 5,
    "start_time": "2025-04-23T08:04:09.245Z"
   },
   {
    "duration": 5,
    "start_time": "2025-04-23T08:04:09.251Z"
   },
   {
    "duration": 115,
    "start_time": "2025-04-23T08:04:09.257Z"
   },
   {
    "duration": 3,
    "start_time": "2025-04-23T08:04:09.373Z"
   },
   {
    "duration": 3,
    "start_time": "2025-04-23T08:04:09.378Z"
   },
   {
    "duration": 138,
    "start_time": "2025-04-23T08:04:09.383Z"
   },
   {
    "duration": 15,
    "start_time": "2025-04-23T08:04:09.523Z"
   },
   {
    "duration": 575056,
    "start_time": "2025-04-23T08:04:09.539Z"
   },
   {
    "duration": 15,
    "start_time": "2025-04-23T08:13:44.597Z"
   },
   {
    "duration": 1389,
    "start_time": "2025-04-23T08:13:44.614Z"
   },
   {
    "duration": 1516,
    "start_time": "2025-04-23T08:13:46.005Z"
   },
   {
    "duration": 1315,
    "start_time": "2025-04-23T08:13:47.523Z"
   },
   {
    "duration": 145,
    "start_time": "2025-04-23T08:13:48.840Z"
   },
   {
    "duration": 186,
    "start_time": "2025-04-23T08:13:48.987Z"
   },
   {
    "duration": 1353,
    "start_time": "2025-04-23T08:31:39.361Z"
   },
   {
    "duration": 44,
    "start_time": "2025-04-23T08:35:03.747Z"
   }
  ],
  "kernelspec": {
   "display_name": "Python 3 (ipykernel)",
   "language": "python",
   "name": "python3"
  },
  "language_info": {
   "codemirror_mode": {
    "name": "ipython",
    "version": 3
   },
   "file_extension": ".py",
   "mimetype": "text/x-python",
   "name": "python",
   "nbconvert_exporter": "python",
   "pygments_lexer": "ipython3",
   "version": "3.12.4"
  },
  "toc": {
   "base_numbering": 1,
   "nav_menu": {},
   "number_sections": true,
   "sideBar": true,
   "skip_h1_title": true,
   "title_cell": "Table of Contents",
   "title_sidebar": "Contents",
   "toc_cell": false,
   "toc_position": {},
   "toc_section_display": true,
   "toc_window_display": false
  }
 },
 "nbformat": 4,
 "nbformat_minor": 5
}
