{
 "cells": [
  {
   "cell_type": "code",
   "execution_count": 53,
   "metadata": {},
   "outputs": [],
   "source": [
    "# Подключаем необходимые библиотеки\n",
    "import pandas as pd\n",
    "import matplotlib.pyplot as plt\n",
    "from scipy import stats as st"
   ]
  },
  {
   "cell_type": "markdown",
   "metadata": {},
   "source": [
    "# Описание исследования\n",
    "\n",
    "**«Стримчик»** - интернет-магазин, который продаёт по всему миру компьютерные игры.\n",
    "\n",
    "Необходимо, используя исторические данные о продажах игр, оценки пользователей и экспертов, жанры и платформы, <u>выявить определяющие успешность игры закономерности</u>. Это позволит сделать ставку на потенциально популярный продукт и спланировать рекламные кампании.\n",
    "\n",
    "Имеются данные до 2016 года. Необходимо построить принцип прогнозирования из года в год.\n",
    "\n",
    "**ESRB** (Entertainment Software Rating Board) — это ассоциация, определяющая возрастной рейтинг компьютерных игр. ESRB оценивает игровой контент и присваивает ему подходящую возрастную категорию, например, «Для взрослых», «Для детей младшего возраста» или «Для подростков»."
   ]
  },
  {
   "cell_type": "markdown",
   "metadata": {},
   "source": [
    "## Описание данных\n",
    "\n",
    "**ESRB** — Entertainment Software Rating Board — Эта ассоциация определяет рейтинг компьютерных игр и присваивает им подходящую возрастную категорию.\n",
    "\n",
    "Столбец         | Значение\n",
    ":-------------- | :-------------\n",
    "Name            | название игры\n",
    "Platform        | платформа\n",
    "Year_of_Release | год выпуска\n",
    "Genre           | жанр игры\n",
    "NA_sales        | продажи в Северной Америке (миллионы проданных копий)\n",
    "EU_sales        | продажи в Европе (миллионы проданных копий)\n",
    "JP_sales        | продажи в Японии (миллионы проданных копий)\n",
    "Other_sales     | продажи в других странах (миллионы проданных копий)\n",
    "Critic_Score    | оценка критиков (максимум 100)\n",
    "User_Score      | оценка пользователей (максимум 10)\n",
    "Rating          | рейтинг от организации ESRB"
   ]
  },
  {
   "cell_type": "markdown",
   "metadata": {},
   "source": [
    "## Получение данных"
   ]
  },
  {
   "cell_type": "code",
   "execution_count": 3,
   "metadata": {},
   "outputs": [
    {
     "data": {
      "text/html": [
       "<div>\n",
       "<style scoped>\n",
       "    .dataframe tbody tr th:only-of-type {\n",
       "        vertical-align: middle;\n",
       "    }\n",
       "\n",
       "    .dataframe tbody tr th {\n",
       "        vertical-align: top;\n",
       "    }\n",
       "\n",
       "    .dataframe thead th {\n",
       "        text-align: right;\n",
       "    }\n",
       "</style>\n",
       "<table border=\"1\" class=\"dataframe\">\n",
       "  <thead>\n",
       "    <tr style=\"text-align: right;\">\n",
       "      <th></th>\n",
       "      <th>Name</th>\n",
       "      <th>Platform</th>\n",
       "      <th>Year_of_Release</th>\n",
       "      <th>Genre</th>\n",
       "      <th>NA_sales</th>\n",
       "      <th>EU_sales</th>\n",
       "      <th>JP_sales</th>\n",
       "      <th>Other_sales</th>\n",
       "      <th>Critic_Score</th>\n",
       "      <th>User_Score</th>\n",
       "      <th>Rating</th>\n",
       "    </tr>\n",
       "  </thead>\n",
       "  <tbody>\n",
       "    <tr>\n",
       "      <th>0</th>\n",
       "      <td>Wii Sports</td>\n",
       "      <td>Wii</td>\n",
       "      <td>2006.0</td>\n",
       "      <td>Sports</td>\n",
       "      <td>41.36</td>\n",
       "      <td>28.96</td>\n",
       "      <td>3.77</td>\n",
       "      <td>8.45</td>\n",
       "      <td>76.0</td>\n",
       "      <td>8</td>\n",
       "      <td>E</td>\n",
       "    </tr>\n",
       "    <tr>\n",
       "      <th>1</th>\n",
       "      <td>Super Mario Bros.</td>\n",
       "      <td>NES</td>\n",
       "      <td>1985.0</td>\n",
       "      <td>Platform</td>\n",
       "      <td>29.08</td>\n",
       "      <td>3.58</td>\n",
       "      <td>6.81</td>\n",
       "      <td>0.77</td>\n",
       "      <td>NaN</td>\n",
       "      <td>NaN</td>\n",
       "      <td>NaN</td>\n",
       "    </tr>\n",
       "    <tr>\n",
       "      <th>2</th>\n",
       "      <td>Mario Kart Wii</td>\n",
       "      <td>Wii</td>\n",
       "      <td>2008.0</td>\n",
       "      <td>Racing</td>\n",
       "      <td>15.68</td>\n",
       "      <td>12.76</td>\n",
       "      <td>3.79</td>\n",
       "      <td>3.29</td>\n",
       "      <td>82.0</td>\n",
       "      <td>8.3</td>\n",
       "      <td>E</td>\n",
       "    </tr>\n",
       "    <tr>\n",
       "      <th>3</th>\n",
       "      <td>Wii Sports Resort</td>\n",
       "      <td>Wii</td>\n",
       "      <td>2009.0</td>\n",
       "      <td>Sports</td>\n",
       "      <td>15.61</td>\n",
       "      <td>10.93</td>\n",
       "      <td>3.28</td>\n",
       "      <td>2.95</td>\n",
       "      <td>80.0</td>\n",
       "      <td>8</td>\n",
       "      <td>E</td>\n",
       "    </tr>\n",
       "    <tr>\n",
       "      <th>4</th>\n",
       "      <td>Pokemon Red/Pokemon Blue</td>\n",
       "      <td>GB</td>\n",
       "      <td>1996.0</td>\n",
       "      <td>Role-Playing</td>\n",
       "      <td>11.27</td>\n",
       "      <td>8.89</td>\n",
       "      <td>10.22</td>\n",
       "      <td>1.00</td>\n",
       "      <td>NaN</td>\n",
       "      <td>NaN</td>\n",
       "      <td>NaN</td>\n",
       "    </tr>\n",
       "  </tbody>\n",
       "</table>\n",
       "</div>"
      ],
      "text/plain": [
       "                       Name Platform  Year_of_Release         Genre  NA_sales  \\\n",
       "0                Wii Sports      Wii           2006.0        Sports     41.36   \n",
       "1         Super Mario Bros.      NES           1985.0      Platform     29.08   \n",
       "2            Mario Kart Wii      Wii           2008.0        Racing     15.68   \n",
       "3         Wii Sports Resort      Wii           2009.0        Sports     15.61   \n",
       "4  Pokemon Red/Pokemon Blue       GB           1996.0  Role-Playing     11.27   \n",
       "\n",
       "   EU_sales  JP_sales  Other_sales  Critic_Score User_Score Rating  \n",
       "0     28.96      3.77         8.45          76.0          8      E  \n",
       "1      3.58      6.81         0.77           NaN        NaN    NaN  \n",
       "2     12.76      3.79         3.29          82.0        8.3      E  \n",
       "3     10.93      3.28         2.95          80.0          8      E  \n",
       "4      8.89     10.22         1.00           NaN        NaN    NaN  "
      ]
     },
     "execution_count": 3,
     "metadata": {},
     "output_type": "execute_result"
    }
   ],
   "source": [
    "# Открываем файл с данными\n",
    "df = pd.read_csv('/datasets/games.csv')\n",
    "\n",
    "# Смотрим на содержимое\n",
    "df.head()"
   ]
  },
  {
   "cell_type": "code",
   "execution_count": 4,
   "metadata": {},
   "outputs": [
    {
     "name": "stdout",
     "output_type": "stream",
     "text": [
      "<class 'pandas.core.frame.DataFrame'>\n",
      "RangeIndex: 16715 entries, 0 to 16714\n",
      "Data columns (total 11 columns):\n",
      " #   Column           Non-Null Count  Dtype  \n",
      "---  ------           --------------  -----  \n",
      " 0   Name             16713 non-null  object \n",
      " 1   Platform         16715 non-null  object \n",
      " 2   Year_of_Release  16446 non-null  float64\n",
      " 3   Genre            16713 non-null  object \n",
      " 4   NA_sales         16715 non-null  float64\n",
      " 5   EU_sales         16715 non-null  float64\n",
      " 6   JP_sales         16715 non-null  float64\n",
      " 7   Other_sales      16715 non-null  float64\n",
      " 8   Critic_Score     8137 non-null   float64\n",
      " 9   User_Score       10014 non-null  object \n",
      " 10  Rating           9949 non-null   object \n",
      "dtypes: float64(6), object(5)\n",
      "memory usage: 1.4+ MB\n"
     ]
    }
   ],
   "source": [
    "df.info()"
   ]
  },
  {
   "cell_type": "markdown",
   "metadata": {},
   "source": [
    "Видим явное наличие пропусков, необходимость преобразования названий столбцов к нижнему регистру, а также преобразования типов данных."
   ]
  },
  {
   "cell_type": "markdown",
   "metadata": {},
   "source": [
    "## Предобработка данных"
   ]
  },
  {
   "cell_type": "markdown",
   "metadata": {},
   "source": [
    "### Замена названий столбцов"
   ]
  },
  {
   "cell_type": "code",
   "execution_count": 5,
   "metadata": {},
   "outputs": [
    {
     "data": {
      "text/plain": [
       "Index(['name', 'platform', 'year_of_release', 'genre', 'na_sales', 'eu_sales',\n",
       "       'jp_sales', 'other_sales', 'critic_score', 'user_score', 'rating'],\n",
       "      dtype='object')"
      ]
     },
     "execution_count": 5,
     "metadata": {},
     "output_type": "execute_result"
    }
   ],
   "source": [
    "# Подготовим словарь для преобразования названий столбцов к нижнему регистру\n",
    "col_to_rename = {}\n",
    "for col in df.columns:\n",
    "    col_to_rename[col] = str.lower(col)\n",
    "    \n",
    "# Переименовываем названия столбцов\n",
    "df = df.rename(columns=col_to_rename)\n",
    "\n",
    "# Проверяем результат\n",
    "df.columns"
   ]
  },
  {
   "cell_type": "markdown",
   "metadata": {},
   "source": [
    "### Преобразование типов данных и обработка пропусков"
   ]
  },
  {
   "cell_type": "markdown",
   "metadata": {},
   "source": [
    "#### Столбец name\n",
    "\n",
    "Видим всего лишь 2 пропуска в данном столбце, которые очевидно объясняются простой потерей данных. Оценивать игру без названия не имеет смысла, поэтому уберем данные пропуски из рассмотрения."
   ]
  },
  {
   "cell_type": "code",
   "execution_count": 6,
   "metadata": {},
   "outputs": [
    {
     "name": "stdout",
     "output_type": "stream",
     "text": [
      "<class 'pandas.core.frame.DataFrame'>\n",
      "Int64Index: 16713 entries, 0 to 16714\n",
      "Data columns (total 11 columns):\n",
      " #   Column           Non-Null Count  Dtype  \n",
      "---  ------           --------------  -----  \n",
      " 0   name             16713 non-null  object \n",
      " 1   platform         16713 non-null  object \n",
      " 2   year_of_release  16444 non-null  float64\n",
      " 3   genre            16713 non-null  object \n",
      " 4   na_sales         16713 non-null  float64\n",
      " 5   eu_sales         16713 non-null  float64\n",
      " 6   jp_sales         16713 non-null  float64\n",
      " 7   other_sales      16713 non-null  float64\n",
      " 8   critic_score     8137 non-null   float64\n",
      " 9   user_score       10014 non-null  object \n",
      " 10  rating           9949 non-null   object \n",
      "dtypes: float64(6), object(5)\n",
      "memory usage: 1.5+ MB\n"
     ]
    }
   ],
   "source": [
    "df = df.dropna(subset=['name'])\n",
    "df.info()"
   ]
  },
  {
   "cell_type": "markdown",
   "metadata": {},
   "source": [
    "#### Столбец year_of_release"
   ]
  },
  {
   "cell_type": "markdown",
   "metadata": {},
   "source": [
    "`year_of_release` - Пропуски в данном столбце могли возникнуть по причине технического сбоя, умышленного утаивания информация со стороны владельца игры или же игра ещё не была выпущена. Заполним пропуски нулями, чтобы в будущем оценить как отсутствие указанного года релиза влияет на показатели, и приведем к типу `int`, поскольку год незачем хранить в типе `float`."
   ]
  },
  {
   "cell_type": "code",
   "execution_count": 7,
   "metadata": {},
   "outputs": [
    {
     "name": "stdout",
     "output_type": "stream",
     "text": [
      "<class 'pandas.core.frame.DataFrame'>\n",
      "Int64Index: 16713 entries, 0 to 16714\n",
      "Data columns (total 11 columns):\n",
      " #   Column           Non-Null Count  Dtype  \n",
      "---  ------           --------------  -----  \n",
      " 0   name             16713 non-null  object \n",
      " 1   platform         16713 non-null  object \n",
      " 2   year_of_release  16713 non-null  int64  \n",
      " 3   genre            16713 non-null  object \n",
      " 4   na_sales         16713 non-null  float64\n",
      " 5   eu_sales         16713 non-null  float64\n",
      " 6   jp_sales         16713 non-null  float64\n",
      " 7   other_sales      16713 non-null  float64\n",
      " 8   critic_score     8137 non-null   float64\n",
      " 9   user_score       10014 non-null  object \n",
      " 10  rating           9949 non-null   object \n",
      "dtypes: float64(5), int64(1), object(5)\n",
      "memory usage: 1.5+ MB\n"
     ]
    }
   ],
   "source": [
    "# Заполняем пропуски\n",
    "df['year_of_release'] = df['year_of_release'].fillna(0)\n",
    "\n",
    "# Преобразовываем тип данных\n",
    "df['year_of_release'] = df['year_of_release'].astype(int)\n",
    "df.info()"
   ]
  },
  {
   "cell_type": "markdown",
   "metadata": {},
   "source": [
    "Пропуски в `year_of_release` устранены, тип данных приведен к корректному."
   ]
  },
  {
   "cell_type": "markdown",
   "metadata": {},
   "source": [
    "#### Столбец user_score"
   ]
  },
  {
   "cell_type": "markdown",
   "metadata": {},
   "source": [
    "_**TBD** - аббревиатура от английского To Be Determined (будет определено). Означает, что игра ещё не оценена достаточным количеством пользователей._\n",
    "\n",
    "`user_score` - Принимает значения от 0 до 10, а также _tbd_. Пропуски в данном столбце могут объясняться потерей данных или нежеланием пользователей оценивать игру. \n",
    "\n",
    "Данные в данном столбце можно категоризовать по 3 типам: с оценкой (`with_score`), без оценки (`without_score`) и будет определено (`tbd`). \n",
    "\n",
    "Сформируем новый столбец `score_type`, который будет содержать информацию о типе оценки пользователей. Далее, для дальнейшего корректного анализа, заменим пропуски и оценку _tbd_ нулями и приведем тип данных в столбце user_score к типу `float`."
   ]
  },
  {
   "cell_type": "code",
   "execution_count": 8,
   "metadata": {},
   "outputs": [],
   "source": [
    "def detect_user_score_type(score):\n",
    "    '''\n",
    "        Функция определяет тип оценки пользователя по значению оценки.\n",
    "    '''\n",
    "    if score == 'tbd':\n",
    "        return 'tbd'\n",
    "    if not pd.isna(score):\n",
    "        return 'with_score'\n",
    "    return 'without_score'"
   ]
  },
  {
   "cell_type": "code",
   "execution_count": 9,
   "metadata": {
    "scrolled": true
   },
   "outputs": [
    {
     "data": {
      "text/html": [
       "<div>\n",
       "<style scoped>\n",
       "    .dataframe tbody tr th:only-of-type {\n",
       "        vertical-align: middle;\n",
       "    }\n",
       "\n",
       "    .dataframe tbody tr th {\n",
       "        vertical-align: top;\n",
       "    }\n",
       "\n",
       "    .dataframe thead th {\n",
       "        text-align: right;\n",
       "    }\n",
       "</style>\n",
       "<table border=\"1\" class=\"dataframe\">\n",
       "  <thead>\n",
       "    <tr style=\"text-align: right;\">\n",
       "      <th></th>\n",
       "      <th>name</th>\n",
       "      <th>platform</th>\n",
       "      <th>year_of_release</th>\n",
       "      <th>genre</th>\n",
       "      <th>na_sales</th>\n",
       "      <th>eu_sales</th>\n",
       "      <th>jp_sales</th>\n",
       "      <th>other_sales</th>\n",
       "      <th>critic_score</th>\n",
       "      <th>user_score</th>\n",
       "      <th>rating</th>\n",
       "      <th>user_score_type</th>\n",
       "    </tr>\n",
       "  </thead>\n",
       "  <tbody>\n",
       "    <tr>\n",
       "      <th>0</th>\n",
       "      <td>Wii Sports</td>\n",
       "      <td>Wii</td>\n",
       "      <td>2006</td>\n",
       "      <td>Sports</td>\n",
       "      <td>41.36</td>\n",
       "      <td>28.96</td>\n",
       "      <td>3.77</td>\n",
       "      <td>8.45</td>\n",
       "      <td>76.0</td>\n",
       "      <td>8.0</td>\n",
       "      <td>E</td>\n",
       "      <td>with_score</td>\n",
       "    </tr>\n",
       "    <tr>\n",
       "      <th>1</th>\n",
       "      <td>Super Mario Bros.</td>\n",
       "      <td>NES</td>\n",
       "      <td>1985</td>\n",
       "      <td>Platform</td>\n",
       "      <td>29.08</td>\n",
       "      <td>3.58</td>\n",
       "      <td>6.81</td>\n",
       "      <td>0.77</td>\n",
       "      <td>NaN</td>\n",
       "      <td>0.0</td>\n",
       "      <td>NaN</td>\n",
       "      <td>without_score</td>\n",
       "    </tr>\n",
       "    <tr>\n",
       "      <th>2</th>\n",
       "      <td>Mario Kart Wii</td>\n",
       "      <td>Wii</td>\n",
       "      <td>2008</td>\n",
       "      <td>Racing</td>\n",
       "      <td>15.68</td>\n",
       "      <td>12.76</td>\n",
       "      <td>3.79</td>\n",
       "      <td>3.29</td>\n",
       "      <td>82.0</td>\n",
       "      <td>8.3</td>\n",
       "      <td>E</td>\n",
       "      <td>with_score</td>\n",
       "    </tr>\n",
       "    <tr>\n",
       "      <th>3</th>\n",
       "      <td>Wii Sports Resort</td>\n",
       "      <td>Wii</td>\n",
       "      <td>2009</td>\n",
       "      <td>Sports</td>\n",
       "      <td>15.61</td>\n",
       "      <td>10.93</td>\n",
       "      <td>3.28</td>\n",
       "      <td>2.95</td>\n",
       "      <td>80.0</td>\n",
       "      <td>8.0</td>\n",
       "      <td>E</td>\n",
       "      <td>with_score</td>\n",
       "    </tr>\n",
       "    <tr>\n",
       "      <th>4</th>\n",
       "      <td>Pokemon Red/Pokemon Blue</td>\n",
       "      <td>GB</td>\n",
       "      <td>1996</td>\n",
       "      <td>Role-Playing</td>\n",
       "      <td>11.27</td>\n",
       "      <td>8.89</td>\n",
       "      <td>10.22</td>\n",
       "      <td>1.00</td>\n",
       "      <td>NaN</td>\n",
       "      <td>0.0</td>\n",
       "      <td>NaN</td>\n",
       "      <td>without_score</td>\n",
       "    </tr>\n",
       "  </tbody>\n",
       "</table>\n",
       "</div>"
      ],
      "text/plain": [
       "                       name platform  year_of_release         genre  na_sales  \\\n",
       "0                Wii Sports      Wii             2006        Sports     41.36   \n",
       "1         Super Mario Bros.      NES             1985      Platform     29.08   \n",
       "2            Mario Kart Wii      Wii             2008        Racing     15.68   \n",
       "3         Wii Sports Resort      Wii             2009        Sports     15.61   \n",
       "4  Pokemon Red/Pokemon Blue       GB             1996  Role-Playing     11.27   \n",
       "\n",
       "   eu_sales  jp_sales  other_sales  critic_score  user_score rating  \\\n",
       "0     28.96      3.77         8.45          76.0         8.0      E   \n",
       "1      3.58      6.81         0.77           NaN         0.0    NaN   \n",
       "2     12.76      3.79         3.29          82.0         8.3      E   \n",
       "3     10.93      3.28         2.95          80.0         8.0      E   \n",
       "4      8.89     10.22         1.00           NaN         0.0    NaN   \n",
       "\n",
       "  user_score_type  \n",
       "0      with_score  \n",
       "1   without_score  \n",
       "2      with_score  \n",
       "3      with_score  \n",
       "4   without_score  "
      ]
     },
     "execution_count": 9,
     "metadata": {},
     "output_type": "execute_result"
    }
   ],
   "source": [
    "# Создаём новый столбец и определяем тип оценки\n",
    "df['user_score_type'] = df['user_score'].apply(detect_user_score_type)\n",
    "\n",
    "# Заменяем пропуски и tbd нулями\n",
    "df['user_score'] = df['user_score'].fillna(0)\n",
    "df.loc[df['user_score'] == 'tbd', 'user_score'] = 0\n",
    "\n",
    "# Преобразовываем тип данных\n",
    "df['user_score'] = df['user_score'].astype(float)\n",
    "\n",
    "# Смотрим на результат\n",
    "df.head()"
   ]
  },
  {
   "cell_type": "markdown",
   "metadata": {},
   "source": [
    "Столбец с типом оценки успешно сформирован. Столбец `user_score` приведен к корректному типу данных."
   ]
  },
  {
   "cell_type": "code",
   "execution_count": 10,
   "metadata": {},
   "outputs": [
    {
     "data": {
      "text/plain": [
       "with_score       7590\n",
       "without_score    6699\n",
       "tbd              2424\n",
       "Name: user_score_type, dtype: int64"
      ]
     },
     "execution_count": 10,
     "metadata": {},
     "output_type": "execute_result"
    }
   ],
   "source": [
    "df['user_score_type'].value_counts()"
   ]
  },
  {
   "cell_type": "markdown",
   "metadata": {},
   "source": [
    "Как видим, записи без оценки составляют около 40% от всех данных, поэтому решение о категоризации было принято верно."
   ]
  },
  {
   "cell_type": "code",
   "execution_count": 11,
   "metadata": {},
   "outputs": [
    {
     "name": "stdout",
     "output_type": "stream",
     "text": [
      "<class 'pandas.core.frame.DataFrame'>\n",
      "Int64Index: 16713 entries, 0 to 16714\n",
      "Data columns (total 12 columns):\n",
      " #   Column           Non-Null Count  Dtype  \n",
      "---  ------           --------------  -----  \n",
      " 0   name             16713 non-null  object \n",
      " 1   platform         16713 non-null  object \n",
      " 2   year_of_release  16713 non-null  int64  \n",
      " 3   genre            16713 non-null  object \n",
      " 4   na_sales         16713 non-null  float64\n",
      " 5   eu_sales         16713 non-null  float64\n",
      " 6   jp_sales         16713 non-null  float64\n",
      " 7   other_sales      16713 non-null  float64\n",
      " 8   critic_score     8137 non-null   float64\n",
      " 9   user_score       16713 non-null  float64\n",
      " 10  rating           9949 non-null   object \n",
      " 11  user_score_type  16713 non-null  object \n",
      "dtypes: float64(6), int64(1), object(5)\n",
      "memory usage: 1.7+ MB\n"
     ]
    }
   ],
   "source": [
    "df.info()"
   ]
  },
  {
   "cell_type": "markdown",
   "metadata": {},
   "source": [
    "Пропуски в столбце `user_score` заполнены, тип данных приведен к корректному."
   ]
  },
  {
   "cell_type": "markdown",
   "metadata": {},
   "source": [
    "#### Столбец critic_score\n",
    "\n",
    "Посмотрим на распределение данных."
   ]
  },
  {
   "cell_type": "code",
   "execution_count": 12,
   "metadata": {},
   "outputs": [
    {
     "data": {
      "text/plain": [
       "count    8137.000000\n",
       "mean       68.967679\n",
       "std        13.938165\n",
       "min        13.000000\n",
       "25%        60.000000\n",
       "50%        71.000000\n",
       "75%        79.000000\n",
       "max        98.000000\n",
       "Name: critic_score, dtype: float64"
      ]
     },
     "execution_count": 12,
     "metadata": {},
     "output_type": "execute_result"
    }
   ],
   "source": [
    "df['critic_score'].describe()"
   ]
  },
  {
   "cell_type": "markdown",
   "metadata": {},
   "source": [
    "Оценка критиков принимает значения от 13 до 98. В столбце имеется много пропусков. Пропуски объясняются вероятно тем, что игра не вышла на необходимый уровень, чтобы её начали оценивать критики. Пропуски в данном столбце говорят о многом, поэтому заполнять их средними значениями не стоит.\n",
    "\n",
    "Создадим новый столбец `critic_score_type`, в котором будет храниться информация о наличии или отсутствии оценки критиков. Далее заполним пропуски в столбце `critic_score` нулями и приведём тип данных к `int`, поскольку значения оценок принимают только целые значения."
   ]
  },
  {
   "cell_type": "code",
   "execution_count": 13,
   "metadata": {},
   "outputs": [
    {
     "data": {
      "text/html": [
       "<div>\n",
       "<style scoped>\n",
       "    .dataframe tbody tr th:only-of-type {\n",
       "        vertical-align: middle;\n",
       "    }\n",
       "\n",
       "    .dataframe tbody tr th {\n",
       "        vertical-align: top;\n",
       "    }\n",
       "\n",
       "    .dataframe thead th {\n",
       "        text-align: right;\n",
       "    }\n",
       "</style>\n",
       "<table border=\"1\" class=\"dataframe\">\n",
       "  <thead>\n",
       "    <tr style=\"text-align: right;\">\n",
       "      <th></th>\n",
       "      <th>name</th>\n",
       "      <th>platform</th>\n",
       "      <th>year_of_release</th>\n",
       "      <th>genre</th>\n",
       "      <th>na_sales</th>\n",
       "      <th>eu_sales</th>\n",
       "      <th>jp_sales</th>\n",
       "      <th>other_sales</th>\n",
       "      <th>critic_score</th>\n",
       "      <th>user_score</th>\n",
       "      <th>rating</th>\n",
       "      <th>user_score_type</th>\n",
       "      <th>critic_score_type</th>\n",
       "    </tr>\n",
       "  </thead>\n",
       "  <tbody>\n",
       "    <tr>\n",
       "      <th>0</th>\n",
       "      <td>Wii Sports</td>\n",
       "      <td>Wii</td>\n",
       "      <td>2006</td>\n",
       "      <td>Sports</td>\n",
       "      <td>41.36</td>\n",
       "      <td>28.96</td>\n",
       "      <td>3.77</td>\n",
       "      <td>8.45</td>\n",
       "      <td>76</td>\n",
       "      <td>8.0</td>\n",
       "      <td>E</td>\n",
       "      <td>with_score</td>\n",
       "      <td>with_score</td>\n",
       "    </tr>\n",
       "    <tr>\n",
       "      <th>1</th>\n",
       "      <td>Super Mario Bros.</td>\n",
       "      <td>NES</td>\n",
       "      <td>1985</td>\n",
       "      <td>Platform</td>\n",
       "      <td>29.08</td>\n",
       "      <td>3.58</td>\n",
       "      <td>6.81</td>\n",
       "      <td>0.77</td>\n",
       "      <td>0</td>\n",
       "      <td>0.0</td>\n",
       "      <td>NaN</td>\n",
       "      <td>without_score</td>\n",
       "      <td>without_score</td>\n",
       "    </tr>\n",
       "    <tr>\n",
       "      <th>2</th>\n",
       "      <td>Mario Kart Wii</td>\n",
       "      <td>Wii</td>\n",
       "      <td>2008</td>\n",
       "      <td>Racing</td>\n",
       "      <td>15.68</td>\n",
       "      <td>12.76</td>\n",
       "      <td>3.79</td>\n",
       "      <td>3.29</td>\n",
       "      <td>82</td>\n",
       "      <td>8.3</td>\n",
       "      <td>E</td>\n",
       "      <td>with_score</td>\n",
       "      <td>with_score</td>\n",
       "    </tr>\n",
       "    <tr>\n",
       "      <th>3</th>\n",
       "      <td>Wii Sports Resort</td>\n",
       "      <td>Wii</td>\n",
       "      <td>2009</td>\n",
       "      <td>Sports</td>\n",
       "      <td>15.61</td>\n",
       "      <td>10.93</td>\n",
       "      <td>3.28</td>\n",
       "      <td>2.95</td>\n",
       "      <td>80</td>\n",
       "      <td>8.0</td>\n",
       "      <td>E</td>\n",
       "      <td>with_score</td>\n",
       "      <td>with_score</td>\n",
       "    </tr>\n",
       "    <tr>\n",
       "      <th>4</th>\n",
       "      <td>Pokemon Red/Pokemon Blue</td>\n",
       "      <td>GB</td>\n",
       "      <td>1996</td>\n",
       "      <td>Role-Playing</td>\n",
       "      <td>11.27</td>\n",
       "      <td>8.89</td>\n",
       "      <td>10.22</td>\n",
       "      <td>1.00</td>\n",
       "      <td>0</td>\n",
       "      <td>0.0</td>\n",
       "      <td>NaN</td>\n",
       "      <td>without_score</td>\n",
       "      <td>without_score</td>\n",
       "    </tr>\n",
       "  </tbody>\n",
       "</table>\n",
       "</div>"
      ],
      "text/plain": [
       "                       name platform  year_of_release         genre  na_sales  \\\n",
       "0                Wii Sports      Wii             2006        Sports     41.36   \n",
       "1         Super Mario Bros.      NES             1985      Platform     29.08   \n",
       "2            Mario Kart Wii      Wii             2008        Racing     15.68   \n",
       "3         Wii Sports Resort      Wii             2009        Sports     15.61   \n",
       "4  Pokemon Red/Pokemon Blue       GB             1996  Role-Playing     11.27   \n",
       "\n",
       "   eu_sales  jp_sales  other_sales  critic_score  user_score rating  \\\n",
       "0     28.96      3.77         8.45            76         8.0      E   \n",
       "1      3.58      6.81         0.77             0         0.0    NaN   \n",
       "2     12.76      3.79         3.29            82         8.3      E   \n",
       "3     10.93      3.28         2.95            80         8.0      E   \n",
       "4      8.89     10.22         1.00             0         0.0    NaN   \n",
       "\n",
       "  user_score_type critic_score_type  \n",
       "0      with_score        with_score  \n",
       "1   without_score     without_score  \n",
       "2      with_score        with_score  \n",
       "3      with_score        with_score  \n",
       "4   without_score     without_score  "
      ]
     },
     "execution_count": 13,
     "metadata": {},
     "output_type": "execute_result"
    }
   ],
   "source": [
    "# Создаём новый столбец с типом оценки критиков\n",
    "df['critic_score_type'] = df['critic_score'].apply(lambda x: 'with_score' if not pd.isna(x) else 'without_score')\n",
    "\n",
    "# Заполняем пропуски в столбце critic_score нулями и приводим тип данных к int\n",
    "df['critic_score'] = df['critic_score'].fillna(0)\n",
    "df['critic_score'] = df['critic_score'].astype(int)\n",
    "\n",
    "df.head()"
   ]
  },
  {
   "cell_type": "code",
   "execution_count": 14,
   "metadata": {},
   "outputs": [
    {
     "name": "stdout",
     "output_type": "stream",
     "text": [
      "<class 'pandas.core.frame.DataFrame'>\n",
      "Int64Index: 16713 entries, 0 to 16714\n",
      "Data columns (total 13 columns):\n",
      " #   Column             Non-Null Count  Dtype  \n",
      "---  ------             --------------  -----  \n",
      " 0   name               16713 non-null  object \n",
      " 1   platform           16713 non-null  object \n",
      " 2   year_of_release    16713 non-null  int64  \n",
      " 3   genre              16713 non-null  object \n",
      " 4   na_sales           16713 non-null  float64\n",
      " 5   eu_sales           16713 non-null  float64\n",
      " 6   jp_sales           16713 non-null  float64\n",
      " 7   other_sales        16713 non-null  float64\n",
      " 8   critic_score       16713 non-null  int64  \n",
      " 9   user_score         16713 non-null  float64\n",
      " 10  rating             9949 non-null   object \n",
      " 11  user_score_type    16713 non-null  object \n",
      " 12  critic_score_type  16713 non-null  object \n",
      "dtypes: float64(5), int64(2), object(6)\n",
      "memory usage: 1.8+ MB\n"
     ]
    }
   ],
   "source": [
    "df.info()"
   ]
  },
  {
   "cell_type": "markdown",
   "metadata": {},
   "source": [
    "Новый столбец с типом оценки критиков успешно сформирован, пропуски в столбце `critic_score` заполнены, данные приведены к корректному типу."
   ]
  },
  {
   "cell_type": "markdown",
   "metadata": {},
   "source": [
    "#### Столбец rating\n",
    "\n",
    "Посмотрим какие значения имеются в данном столбце."
   ]
  },
  {
   "cell_type": "code",
   "execution_count": 15,
   "metadata": {
    "scrolled": true
   },
   "outputs": [
    {
     "data": {
      "text/plain": [
       "E       3990\n",
       "T       2961\n",
       "M       1563\n",
       "E10+    1420\n",
       "EC         8\n",
       "RP         3\n",
       "K-A        3\n",
       "AO         1\n",
       "Name: rating, dtype: int64"
      ]
     },
     "execution_count": 15,
     "metadata": {},
     "output_type": "execute_result"
    }
   ],
   "source": [
    "df['rating'].value_counts()"
   ]
  },
  {
   "cell_type": "markdown",
   "metadata": {},
   "source": [
    "<i> Краткая справка из интернета:\n",
    "    \n",
    "«E» («Everyone») — «Для всех» все возраста\n",
    "    \n",
    "«EC» («Early childhood») — «Для детей младшего возраста» от 3 лет\n",
    "    \n",
    "«E10+» («Everyone 10 and older») — «Для всех от 10 лет и старше»\n",
    "\n",
    "«T» («Teen») — «Подросткам» от 13 лет\n",
    "\n",
    "«M» («Mature») — «Для взрослых» от 17 лет\n",
    "\n",
    "«AO» («Adults Only 18+») — «Только для взрослых» от 18 лет\n",
    "\n",
    "«RP» («Rating Pending») — «Рейтинг ожидается» демо-версии игр\n",
    "\n",
    "«K-A» (Kids to Adults) — первоначальное обозначение «E» («Everyone»), с 6 лет</i>"
   ]
  },
  {
   "cell_type": "markdown",
   "metadata": {},
   "source": [
    "Заменим устаревшее обозначение `K-A` на современное `E`, поскольку нет смысла рассматривать данные 3 записи как отдельную категорию."
   ]
  },
  {
   "cell_type": "code",
   "execution_count": 16,
   "metadata": {},
   "outputs": [
    {
     "data": {
      "text/plain": [
       "E       3993\n",
       "T       2961\n",
       "M       1563\n",
       "E10+    1420\n",
       "EC         8\n",
       "RP         3\n",
       "AO         1\n",
       "Name: rating, dtype: int64"
      ]
     },
     "execution_count": 16,
     "metadata": {},
     "output_type": "execute_result"
    }
   ],
   "source": [
    "df.loc[df['rating'] == 'K-A', 'rating'] = 'E'\n",
    "df['rating'].value_counts()"
   ]
  },
  {
   "cell_type": "markdown",
   "metadata": {},
   "source": [
    "Ассоциация _ESRB_ была создана в 1994 году. Вполне объяснимо, что игры созданные до создания ассоциации могли не пройти оценку. \n",
    "\n",
    "Вот некоторые другие причины, по которым не все игры проходят оценку от данной ассоциации:\n",
    "\n",
    "- Большое количество игр. ESRB не может оценить их все, так как для этого требуется слишком много времени.\n",
    "- Платность лицензии. За оценку игры ESRB издателю нужно заплатить, стоимость лицензии может составлять от трёх тысяч долларов и более в зависимости от бюджета игры.\n",
    "- Необходимость предоставить дополнительные материалы. Для оценки игры нужно предоставить клипы с игровым процессом, письменные обзоры игры и любого возможного нежелательного контента в ней.\n",
    "\n",
    "Пропуски в данном столбце говорят о многом, поэтому, так как столбец имеет корректный тип данных, оставим пропуски без изменений."
   ]
  },
  {
   "cell_type": "code",
   "execution_count": 17,
   "metadata": {
    "scrolled": true
   },
   "outputs": [
    {
     "name": "stdout",
     "output_type": "stream",
     "text": [
      "<class 'pandas.core.frame.DataFrame'>\n",
      "Int64Index: 16713 entries, 0 to 16714\n",
      "Data columns (total 13 columns):\n",
      " #   Column             Non-Null Count  Dtype  \n",
      "---  ------             --------------  -----  \n",
      " 0   name               16713 non-null  object \n",
      " 1   platform           16713 non-null  object \n",
      " 2   year_of_release    16713 non-null  int64  \n",
      " 3   genre              16713 non-null  object \n",
      " 4   na_sales           16713 non-null  float64\n",
      " 5   eu_sales           16713 non-null  float64\n",
      " 6   jp_sales           16713 non-null  float64\n",
      " 7   other_sales        16713 non-null  float64\n",
      " 8   critic_score       16713 non-null  int64  \n",
      " 9   user_score         16713 non-null  float64\n",
      " 10  rating             9949 non-null   object \n",
      " 11  user_score_type    16713 non-null  object \n",
      " 12  critic_score_type  16713 non-null  object \n",
      "dtypes: float64(5), int64(2), object(6)\n",
      "memory usage: 1.8+ MB\n"
     ]
    }
   ],
   "source": [
    "df.info()"
   ]
  },
  {
   "cell_type": "markdown",
   "metadata": {},
   "source": [
    "### Суммарные продажи во всех регионах\n",
    "\n",
    "Создадим новый столбец `total_sales`, в котором будет хранится информация о суммарных продажах иргы во всех регионах."
   ]
  },
  {
   "cell_type": "code",
   "execution_count": 18,
   "metadata": {},
   "outputs": [
    {
     "data": {
      "text/html": [
       "<div>\n",
       "<style scoped>\n",
       "    .dataframe tbody tr th:only-of-type {\n",
       "        vertical-align: middle;\n",
       "    }\n",
       "\n",
       "    .dataframe tbody tr th {\n",
       "        vertical-align: top;\n",
       "    }\n",
       "\n",
       "    .dataframe thead th {\n",
       "        text-align: right;\n",
       "    }\n",
       "</style>\n",
       "<table border=\"1\" class=\"dataframe\">\n",
       "  <thead>\n",
       "    <tr style=\"text-align: right;\">\n",
       "      <th></th>\n",
       "      <th>name</th>\n",
       "      <th>platform</th>\n",
       "      <th>year_of_release</th>\n",
       "      <th>genre</th>\n",
       "      <th>na_sales</th>\n",
       "      <th>eu_sales</th>\n",
       "      <th>jp_sales</th>\n",
       "      <th>other_sales</th>\n",
       "      <th>critic_score</th>\n",
       "      <th>user_score</th>\n",
       "      <th>rating</th>\n",
       "      <th>user_score_type</th>\n",
       "      <th>critic_score_type</th>\n",
       "      <th>total_sales</th>\n",
       "    </tr>\n",
       "  </thead>\n",
       "  <tbody>\n",
       "    <tr>\n",
       "      <th>0</th>\n",
       "      <td>Wii Sports</td>\n",
       "      <td>Wii</td>\n",
       "      <td>2006</td>\n",
       "      <td>Sports</td>\n",
       "      <td>41.36</td>\n",
       "      <td>28.96</td>\n",
       "      <td>3.77</td>\n",
       "      <td>8.45</td>\n",
       "      <td>76</td>\n",
       "      <td>8.0</td>\n",
       "      <td>E</td>\n",
       "      <td>with_score</td>\n",
       "      <td>with_score</td>\n",
       "      <td>82.54</td>\n",
       "    </tr>\n",
       "    <tr>\n",
       "      <th>1</th>\n",
       "      <td>Super Mario Bros.</td>\n",
       "      <td>NES</td>\n",
       "      <td>1985</td>\n",
       "      <td>Platform</td>\n",
       "      <td>29.08</td>\n",
       "      <td>3.58</td>\n",
       "      <td>6.81</td>\n",
       "      <td>0.77</td>\n",
       "      <td>0</td>\n",
       "      <td>0.0</td>\n",
       "      <td>NaN</td>\n",
       "      <td>without_score</td>\n",
       "      <td>without_score</td>\n",
       "      <td>40.24</td>\n",
       "    </tr>\n",
       "    <tr>\n",
       "      <th>2</th>\n",
       "      <td>Mario Kart Wii</td>\n",
       "      <td>Wii</td>\n",
       "      <td>2008</td>\n",
       "      <td>Racing</td>\n",
       "      <td>15.68</td>\n",
       "      <td>12.76</td>\n",
       "      <td>3.79</td>\n",
       "      <td>3.29</td>\n",
       "      <td>82</td>\n",
       "      <td>8.3</td>\n",
       "      <td>E</td>\n",
       "      <td>with_score</td>\n",
       "      <td>with_score</td>\n",
       "      <td>35.52</td>\n",
       "    </tr>\n",
       "    <tr>\n",
       "      <th>3</th>\n",
       "      <td>Wii Sports Resort</td>\n",
       "      <td>Wii</td>\n",
       "      <td>2009</td>\n",
       "      <td>Sports</td>\n",
       "      <td>15.61</td>\n",
       "      <td>10.93</td>\n",
       "      <td>3.28</td>\n",
       "      <td>2.95</td>\n",
       "      <td>80</td>\n",
       "      <td>8.0</td>\n",
       "      <td>E</td>\n",
       "      <td>with_score</td>\n",
       "      <td>with_score</td>\n",
       "      <td>32.77</td>\n",
       "    </tr>\n",
       "    <tr>\n",
       "      <th>4</th>\n",
       "      <td>Pokemon Red/Pokemon Blue</td>\n",
       "      <td>GB</td>\n",
       "      <td>1996</td>\n",
       "      <td>Role-Playing</td>\n",
       "      <td>11.27</td>\n",
       "      <td>8.89</td>\n",
       "      <td>10.22</td>\n",
       "      <td>1.00</td>\n",
       "      <td>0</td>\n",
       "      <td>0.0</td>\n",
       "      <td>NaN</td>\n",
       "      <td>without_score</td>\n",
       "      <td>without_score</td>\n",
       "      <td>31.38</td>\n",
       "    </tr>\n",
       "  </tbody>\n",
       "</table>\n",
       "</div>"
      ],
      "text/plain": [
       "                       name platform  year_of_release         genre  na_sales  \\\n",
       "0                Wii Sports      Wii             2006        Sports     41.36   \n",
       "1         Super Mario Bros.      NES             1985      Platform     29.08   \n",
       "2            Mario Kart Wii      Wii             2008        Racing     15.68   \n",
       "3         Wii Sports Resort      Wii             2009        Sports     15.61   \n",
       "4  Pokemon Red/Pokemon Blue       GB             1996  Role-Playing     11.27   \n",
       "\n",
       "   eu_sales  jp_sales  other_sales  critic_score  user_score rating  \\\n",
       "0     28.96      3.77         8.45            76         8.0      E   \n",
       "1      3.58      6.81         0.77             0         0.0    NaN   \n",
       "2     12.76      3.79         3.29            82         8.3      E   \n",
       "3     10.93      3.28         2.95            80         8.0      E   \n",
       "4      8.89     10.22         1.00             0         0.0    NaN   \n",
       "\n",
       "  user_score_type critic_score_type  total_sales  \n",
       "0      with_score        with_score        82.54  \n",
       "1   without_score     without_score        40.24  \n",
       "2      with_score        with_score        35.52  \n",
       "3      with_score        with_score        32.77  \n",
       "4   without_score     without_score        31.38  "
      ]
     },
     "execution_count": 18,
     "metadata": {},
     "output_type": "execute_result"
    }
   ],
   "source": [
    "# Создаём новый столбец с сумарными продажами\n",
    "df['total_sales'] = df['na_sales'] + df['eu_sales'] + df['jp_sales'] + df['other_sales']\n",
    "df.head()"
   ]
  },
  {
   "cell_type": "code",
   "execution_count": 19,
   "metadata": {},
   "outputs": [
    {
     "data": {
      "text/plain": [
       "count    16713.000000\n",
       "mean         0.533315\n",
       "std          1.548282\n",
       "min          0.000000\n",
       "25%          0.060000\n",
       "50%          0.170000\n",
       "75%          0.470000\n",
       "max         82.540000\n",
       "Name: total_sales, dtype: float64"
      ]
     },
     "execution_count": 19,
     "metadata": {},
     "output_type": "execute_result"
    }
   ],
   "source": [
    "df['total_sales'].describe()"
   ]
  },
  {
   "cell_type": "markdown",
   "metadata": {},
   "source": [
    "### Промежуточные выводы\n",
    "\n",
    "- Из данных были удалены 2 записи, содержащие пропуск в названии игры\n",
    "- В приблизительно 300 записей отсутствует информация о годе релиза\n",
    "- Имеется около 50% записей с оценкой пользователей, 40% без оценки пользователей и 10% с оценкой _tbd_\n",
    "- Приблизительно у половины игр отсутствует оценка от критиков\n",
    "- Записи с устаревшим рейтингом `K-A` были заменены на современный `E`\n",
    "- Рейтинг имеется у приблизительно 60% игр\n",
    "- Максимальное количество продаж составляет 82.5 млн копий"
   ]
  },
  {
   "cell_type": "markdown",
   "metadata": {},
   "source": [
    "## Исследовательский анализ данных"
   ]
  },
  {
   "cell_type": "markdown",
   "metadata": {},
   "source": [
    "### Количество выпущенных игр за разные годы"
   ]
  },
  {
   "cell_type": "code",
   "execution_count": 20,
   "metadata": {},
   "outputs": [
    {
     "data": {
      "image/png": "[encoded data removed]",
      "text/plain": [
       "<Figure size 864x432 with 1 Axes>"
      ]
     },
     "metadata": {
      "needs_background": "light"
     },
     "output_type": "display_data"
    }
   ],
   "source": [
    "(\n",
    "    df.query('year_of_release > 0')\n",
    "      .groupby('year_of_release')['name'].count()\n",
    "      .plot(\n",
    "          style='o-',\n",
    "          figsize=(12,6),\n",
    "          grid=True,\n",
    "          title='Количество выпущенных игр за год',\n",
    "          xlabel='Год',\n",
    "          ylabel='Количество игр, млн копий'\n",
    "      )\n",
    ");"
   ]
  },
  {
   "cell_type": "markdown",
   "metadata": {},
   "source": [
    "С 1980 по 1990 годы количество выпускаемых игр было очень маленьким и оставалось на примерно одинаковом уровне. С 1990 по 2008 год происходит достаточно резкий рост с явным пиком в 2002 году и небольшим спадом после него. \n",
    "\n",
    "Так как данных до 1990 очень мало, не имеет смысла брать их в рассмотрение."
   ]
  },
  {
   "cell_type": "markdown",
   "metadata": {},
   "source": [
    "### Продажи по платформам"
   ]
  },
  {
   "cell_type": "markdown",
   "metadata": {},
   "source": [
    "Посмотрим на суммарные продажи по платформам."
   ]
  },
  {
   "cell_type": "code",
   "execution_count": 21,
   "metadata": {},
   "outputs": [
    {
     "data": {
      "text/html": [
       "<div>\n",
       "<style scoped>\n",
       "    .dataframe tbody tr th:only-of-type {\n",
       "        vertical-align: middle;\n",
       "    }\n",
       "\n",
       "    .dataframe tbody tr th {\n",
       "        vertical-align: top;\n",
       "    }\n",
       "\n",
       "    .dataframe thead th {\n",
       "        text-align: right;\n",
       "    }\n",
       "</style>\n",
       "<table border=\"1\" class=\"dataframe\">\n",
       "  <thead>\n",
       "    <tr style=\"text-align: right;\">\n",
       "      <th></th>\n",
       "      <th>platform</th>\n",
       "      <th>total_sales</th>\n",
       "    </tr>\n",
       "  </thead>\n",
       "  <tbody>\n",
       "    <tr>\n",
       "      <th>0</th>\n",
       "      <td>PS2</td>\n",
       "      <td>1255.77</td>\n",
       "    </tr>\n",
       "    <tr>\n",
       "      <th>1</th>\n",
       "      <td>X360</td>\n",
       "      <td>971.42</td>\n",
       "    </tr>\n",
       "    <tr>\n",
       "      <th>2</th>\n",
       "      <td>PS3</td>\n",
       "      <td>939.65</td>\n",
       "    </tr>\n",
       "    <tr>\n",
       "      <th>3</th>\n",
       "      <td>Wii</td>\n",
       "      <td>907.51</td>\n",
       "    </tr>\n",
       "    <tr>\n",
       "      <th>4</th>\n",
       "      <td>DS</td>\n",
       "      <td>806.12</td>\n",
       "    </tr>\n",
       "    <tr>\n",
       "      <th>5</th>\n",
       "      <td>PS</td>\n",
       "      <td>730.86</td>\n",
       "    </tr>\n",
       "    <tr>\n",
       "      <th>6</th>\n",
       "      <td>GBA</td>\n",
       "      <td>317.85</td>\n",
       "    </tr>\n",
       "    <tr>\n",
       "      <th>7</th>\n",
       "      <td>PS4</td>\n",
       "      <td>314.14</td>\n",
       "    </tr>\n",
       "    <tr>\n",
       "      <th>8</th>\n",
       "      <td>PSP</td>\n",
       "      <td>294.05</td>\n",
       "    </tr>\n",
       "    <tr>\n",
       "      <th>9</th>\n",
       "      <td>PC</td>\n",
       "      <td>259.52</td>\n",
       "    </tr>\n",
       "    <tr>\n",
       "      <th>10</th>\n",
       "      <td>3DS</td>\n",
       "      <td>259.00</td>\n",
       "    </tr>\n",
       "    <tr>\n",
       "      <th>11</th>\n",
       "      <td>XB</td>\n",
       "      <td>257.74</td>\n",
       "    </tr>\n",
       "    <tr>\n",
       "      <th>12</th>\n",
       "      <td>GB</td>\n",
       "      <td>255.46</td>\n",
       "    </tr>\n",
       "    <tr>\n",
       "      <th>13</th>\n",
       "      <td>NES</td>\n",
       "      <td>251.05</td>\n",
       "    </tr>\n",
       "    <tr>\n",
       "      <th>14</th>\n",
       "      <td>N64</td>\n",
       "      <td>218.68</td>\n",
       "    </tr>\n",
       "    <tr>\n",
       "      <th>15</th>\n",
       "      <td>SNES</td>\n",
       "      <td>200.04</td>\n",
       "    </tr>\n",
       "    <tr>\n",
       "      <th>16</th>\n",
       "      <td>GC</td>\n",
       "      <td>198.93</td>\n",
       "    </tr>\n",
       "    <tr>\n",
       "      <th>17</th>\n",
       "      <td>XOne</td>\n",
       "      <td>159.32</td>\n",
       "    </tr>\n",
       "    <tr>\n",
       "      <th>18</th>\n",
       "      <td>2600</td>\n",
       "      <td>96.98</td>\n",
       "    </tr>\n",
       "    <tr>\n",
       "      <th>19</th>\n",
       "      <td>WiiU</td>\n",
       "      <td>82.19</td>\n",
       "    </tr>\n",
       "    <tr>\n",
       "      <th>20</th>\n",
       "      <td>PSV</td>\n",
       "      <td>54.07</td>\n",
       "    </tr>\n",
       "    <tr>\n",
       "      <th>21</th>\n",
       "      <td>SAT</td>\n",
       "      <td>33.59</td>\n",
       "    </tr>\n",
       "    <tr>\n",
       "      <th>22</th>\n",
       "      <td>GEN</td>\n",
       "      <td>28.35</td>\n",
       "    </tr>\n",
       "    <tr>\n",
       "      <th>23</th>\n",
       "      <td>DC</td>\n",
       "      <td>15.95</td>\n",
       "    </tr>\n",
       "    <tr>\n",
       "      <th>24</th>\n",
       "      <td>SCD</td>\n",
       "      <td>1.86</td>\n",
       "    </tr>\n",
       "    <tr>\n",
       "      <th>25</th>\n",
       "      <td>NG</td>\n",
       "      <td>1.44</td>\n",
       "    </tr>\n",
       "    <tr>\n",
       "      <th>26</th>\n",
       "      <td>WS</td>\n",
       "      <td>1.42</td>\n",
       "    </tr>\n",
       "    <tr>\n",
       "      <th>27</th>\n",
       "      <td>TG16</td>\n",
       "      <td>0.16</td>\n",
       "    </tr>\n",
       "    <tr>\n",
       "      <th>28</th>\n",
       "      <td>3DO</td>\n",
       "      <td>0.10</td>\n",
       "    </tr>\n",
       "    <tr>\n",
       "      <th>29</th>\n",
       "      <td>GG</td>\n",
       "      <td>0.04</td>\n",
       "    </tr>\n",
       "    <tr>\n",
       "      <th>30</th>\n",
       "      <td>PCFX</td>\n",
       "      <td>0.03</td>\n",
       "    </tr>\n",
       "  </tbody>\n",
       "</table>\n",
       "</div>"
      ],
      "text/plain": [
       "   platform  total_sales\n",
       "0       PS2      1255.77\n",
       "1      X360       971.42\n",
       "2       PS3       939.65\n",
       "3       Wii       907.51\n",
       "4        DS       806.12\n",
       "5        PS       730.86\n",
       "6       GBA       317.85\n",
       "7       PS4       314.14\n",
       "8       PSP       294.05\n",
       "9        PC       259.52\n",
       "10      3DS       259.00\n",
       "11       XB       257.74\n",
       "12       GB       255.46\n",
       "13      NES       251.05\n",
       "14      N64       218.68\n",
       "15     SNES       200.04\n",
       "16       GC       198.93\n",
       "17     XOne       159.32\n",
       "18     2600        96.98\n",
       "19     WiiU        82.19\n",
       "20      PSV        54.07\n",
       "21      SAT        33.59\n",
       "22      GEN        28.35\n",
       "23       DC        15.95\n",
       "24      SCD         1.86\n",
       "25       NG         1.44\n",
       "26       WS         1.42\n",
       "27     TG16         0.16\n",
       "28      3DO         0.10\n",
       "29       GG         0.04\n",
       "30     PCFX         0.03"
      ]
     },
     "execution_count": 21,
     "metadata": {},
     "output_type": "execute_result"
    }
   ],
   "source": [
    "platforms_sales = df.groupby('platform')['total_sales'].sum()\n",
    "                    .sort_values(ascending=False).reset_index()\n",
    "platforms_sales"
   ]
  },
  {
   "cell_type": "markdown",
   "metadata": {},
   "source": [
    "Самые большие продажи были у _PS2_, а самые маленькие у _PCFX_. \n",
    "\n",
    "Возьмем топ 10 платформ с самыми большими суммарными продажами и построим распределение по годам."
   ]
  },
  {
   "cell_type": "code",
   "execution_count": 22,
   "metadata": {
    "scrolled": true
   },
   "outputs": [
    {
     "data": {
      "text/plain": [
       "0     PS2\n",
       "1    X360\n",
       "2     PS3\n",
       "3     Wii\n",
       "4      DS\n",
       "5      PS\n",
       "6     GBA\n",
       "7     PS4\n",
       "8     PSP\n",
       "9      PC\n",
       "Name: platform, dtype: object"
      ]
     },
     "execution_count": 22,
     "metadata": {},
     "output_type": "execute_result"
    }
   ],
   "source": [
    "platforms_top_10 = platforms_sales.loc[:9, 'platform']\n",
    "platforms_top_10"
   ]
  },
  {
   "cell_type": "markdown",
   "metadata": {},
   "source": [
    "Построим график, отображающий распределение продаж по годам по топ 10 платформам."
   ]
  },
  {
   "cell_type": "code",
   "execution_count": 23,
   "metadata": {},
   "outputs": [
    {
     "data": {
      "image/png": "[encoded data removed]",
      "text/plain": [
       "<Figure size 1080x504 with 1 Axes>"
      ]
     },
     "metadata": {
      "needs_background": "light"
     },
     "output_type": "display_data"
    }
   ],
   "source": [
    "for platform in platforms_top_10:\n",
    "    df.query('platform == @platform and year_of_release > 1990') \\\n",
    "      .groupby('year_of_release')['total_sales'].sum() \\\n",
    "      .plot(\n",
    "        style='o-',\n",
    "        grid=True,\n",
    "        figsize=(15,7),\n",
    "        label=platform\n",
    "      )\n",
    " \n",
    "plt.title('Распределение продаж по годам по топ 10 платформам')\n",
    "plt.xlabel('Год')\n",
    "plt.ylabel('Количество продаж, млн копий')\n",
    "plt.legend();"
   ]
  },
  {
   "cell_type": "markdown",
   "metadata": {},
   "source": [
    "Замечаем тендецию - примерно каждые 5 лет исчезают старые платформы и появляются новые. При этом одна платформа в среднем существует около 10 лет."
   ]
  },
  {
   "cell_type": "markdown",
   "metadata": {},
   "source": [
    "### Актуальный период\n",
    "\n",
    "Последняя смена периодов, предшествующая 2017 году, приходится на 2012-2013 годы. Не имеет смысла рассматривать период до 2013 года, поскольку тогда на рынке была совсем другая ситуация. Выберем за актуальный период 2013-2016 годы для построения прогноза.\n",
    "\n",
    "Отсекаем актуальный период и далее будем работать с ним."
   ]
  },
  {
   "cell_type": "code",
   "execution_count": 24,
   "metadata": {},
   "outputs": [
    {
     "data": {
      "text/html": [
       "<div>\n",
       "<style scoped>\n",
       "    .dataframe tbody tr th:only-of-type {\n",
       "        vertical-align: middle;\n",
       "    }\n",
       "\n",
       "    .dataframe tbody tr th {\n",
       "        vertical-align: top;\n",
       "    }\n",
       "\n",
       "    .dataframe thead th {\n",
       "        text-align: right;\n",
       "    }\n",
       "</style>\n",
       "<table border=\"1\" class=\"dataframe\">\n",
       "  <thead>\n",
       "    <tr style=\"text-align: right;\">\n",
       "      <th></th>\n",
       "      <th>name</th>\n",
       "      <th>platform</th>\n",
       "      <th>year_of_release</th>\n",
       "      <th>genre</th>\n",
       "      <th>na_sales</th>\n",
       "      <th>eu_sales</th>\n",
       "      <th>jp_sales</th>\n",
       "      <th>other_sales</th>\n",
       "      <th>critic_score</th>\n",
       "      <th>user_score</th>\n",
       "      <th>rating</th>\n",
       "      <th>user_score_type</th>\n",
       "      <th>critic_score_type</th>\n",
       "      <th>total_sales</th>\n",
       "    </tr>\n",
       "  </thead>\n",
       "  <tbody>\n",
       "    <tr>\n",
       "      <th>0</th>\n",
       "      <td>Grand Theft Auto V</td>\n",
       "      <td>PS3</td>\n",
       "      <td>2013</td>\n",
       "      <td>Action</td>\n",
       "      <td>7.02</td>\n",
       "      <td>9.09</td>\n",
       "      <td>0.98</td>\n",
       "      <td>3.96</td>\n",
       "      <td>97</td>\n",
       "      <td>8.2</td>\n",
       "      <td>M</td>\n",
       "      <td>with_score</td>\n",
       "      <td>with_score</td>\n",
       "      <td>21.05</td>\n",
       "    </tr>\n",
       "    <tr>\n",
       "      <th>1</th>\n",
       "      <td>Grand Theft Auto V</td>\n",
       "      <td>X360</td>\n",
       "      <td>2013</td>\n",
       "      <td>Action</td>\n",
       "      <td>9.66</td>\n",
       "      <td>5.14</td>\n",
       "      <td>0.06</td>\n",
       "      <td>1.41</td>\n",
       "      <td>97</td>\n",
       "      <td>8.1</td>\n",
       "      <td>M</td>\n",
       "      <td>with_score</td>\n",
       "      <td>with_score</td>\n",
       "      <td>16.27</td>\n",
       "    </tr>\n",
       "    <tr>\n",
       "      <th>2</th>\n",
       "      <td>Call of Duty: Black Ops 3</td>\n",
       "      <td>PS4</td>\n",
       "      <td>2015</td>\n",
       "      <td>Shooter</td>\n",
       "      <td>6.03</td>\n",
       "      <td>5.86</td>\n",
       "      <td>0.36</td>\n",
       "      <td>2.38</td>\n",
       "      <td>0</td>\n",
       "      <td>0.0</td>\n",
       "      <td>NaN</td>\n",
       "      <td>without_score</td>\n",
       "      <td>without_score</td>\n",
       "      <td>14.63</td>\n",
       "    </tr>\n",
       "    <tr>\n",
       "      <th>3</th>\n",
       "      <td>Pokemon X/Pokemon Y</td>\n",
       "      <td>3DS</td>\n",
       "      <td>2013</td>\n",
       "      <td>Role-Playing</td>\n",
       "      <td>5.28</td>\n",
       "      <td>4.19</td>\n",
       "      <td>4.35</td>\n",
       "      <td>0.78</td>\n",
       "      <td>0</td>\n",
       "      <td>0.0</td>\n",
       "      <td>NaN</td>\n",
       "      <td>without_score</td>\n",
       "      <td>without_score</td>\n",
       "      <td>14.60</td>\n",
       "    </tr>\n",
       "    <tr>\n",
       "      <th>4</th>\n",
       "      <td>Grand Theft Auto V</td>\n",
       "      <td>PS4</td>\n",
       "      <td>2014</td>\n",
       "      <td>Action</td>\n",
       "      <td>3.96</td>\n",
       "      <td>6.31</td>\n",
       "      <td>0.38</td>\n",
       "      <td>1.97</td>\n",
       "      <td>97</td>\n",
       "      <td>8.3</td>\n",
       "      <td>M</td>\n",
       "      <td>with_score</td>\n",
       "      <td>with_score</td>\n",
       "      <td>12.62</td>\n",
       "    </tr>\n",
       "  </tbody>\n",
       "</table>\n",
       "</div>"
      ],
      "text/plain": [
       "                        name platform  year_of_release         genre  \\\n",
       "0         Grand Theft Auto V      PS3             2013        Action   \n",
       "1         Grand Theft Auto V     X360             2013        Action   \n",
       "2  Call of Duty: Black Ops 3      PS4             2015       Shooter   \n",
       "3        Pokemon X/Pokemon Y      3DS             2013  Role-Playing   \n",
       "4         Grand Theft Auto V      PS4             2014        Action   \n",
       "\n",
       "   na_sales  eu_sales  jp_sales  other_sales  critic_score  user_score rating  \\\n",
       "0      7.02      9.09      0.98         3.96            97         8.2      M   \n",
       "1      9.66      5.14      0.06         1.41            97         8.1      M   \n",
       "2      6.03      5.86      0.36         2.38             0         0.0    NaN   \n",
       "3      5.28      4.19      4.35         0.78             0         0.0    NaN   \n",
       "4      3.96      6.31      0.38         1.97            97         8.3      M   \n",
       "\n",
       "  user_score_type critic_score_type  total_sales  \n",
       "0      with_score        with_score        21.05  \n",
       "1      with_score        with_score        16.27  \n",
       "2   without_score     without_score        14.63  \n",
       "3   without_score     without_score        14.60  \n",
       "4      with_score        with_score        12.62  "
      ]
     },
     "execution_count": 24,
     "metadata": {},
     "output_type": "execute_result"
    }
   ],
   "source": [
    "act_df = df.query('year_of_release >= 2013').reset_index(drop=True)\n",
    "act_df.head()"
   ]
  },
  {
   "cell_type": "markdown",
   "metadata": {},
   "source": [
    "### Лидирующие платформы\n",
    "\n",
    "Посмотрим на продажи по платформам в актуальном периоде."
   ]
  },
  {
   "cell_type": "code",
   "execution_count": 25,
   "metadata": {
    "scrolled": true
   },
   "outputs": [
    {
     "data": {
      "text/html": [
       "<div>\n",
       "<style scoped>\n",
       "    .dataframe tbody tr th:only-of-type {\n",
       "        vertical-align: middle;\n",
       "    }\n",
       "\n",
       "    .dataframe tbody tr th {\n",
       "        vertical-align: top;\n",
       "    }\n",
       "\n",
       "    .dataframe thead th {\n",
       "        text-align: right;\n",
       "    }\n",
       "</style>\n",
       "<table border=\"1\" class=\"dataframe\">\n",
       "  <thead>\n",
       "    <tr style=\"text-align: right;\">\n",
       "      <th></th>\n",
       "      <th>platform</th>\n",
       "      <th>total_sales</th>\n",
       "    </tr>\n",
       "  </thead>\n",
       "  <tbody>\n",
       "    <tr>\n",
       "      <th>0</th>\n",
       "      <td>PS4</td>\n",
       "      <td>0.801378</td>\n",
       "    </tr>\n",
       "    <tr>\n",
       "      <th>1</th>\n",
       "      <td>X360</td>\n",
       "      <td>0.735484</td>\n",
       "    </tr>\n",
       "    <tr>\n",
       "      <th>2</th>\n",
       "      <td>XOne</td>\n",
       "      <td>0.645020</td>\n",
       "    </tr>\n",
       "    <tr>\n",
       "      <th>3</th>\n",
       "      <td>Wii</td>\n",
       "      <td>0.593913</td>\n",
       "    </tr>\n",
       "    <tr>\n",
       "      <th>4</th>\n",
       "      <td>WiiU</td>\n",
       "      <td>0.562000</td>\n",
       "    </tr>\n",
       "    <tr>\n",
       "      <th>5</th>\n",
       "      <td>PS3</td>\n",
       "      <td>0.525884</td>\n",
       "    </tr>\n",
       "    <tr>\n",
       "      <th>6</th>\n",
       "      <td>3DS</td>\n",
       "      <td>0.472772</td>\n",
       "    </tr>\n",
       "    <tr>\n",
       "      <th>7</th>\n",
       "      <td>PC</td>\n",
       "      <td>0.208624</td>\n",
       "    </tr>\n",
       "    <tr>\n",
       "      <th>8</th>\n",
       "      <td>DS</td>\n",
       "      <td>0.192500</td>\n",
       "    </tr>\n",
       "    <tr>\n",
       "      <th>9</th>\n",
       "      <td>PSV</td>\n",
       "      <td>0.092151</td>\n",
       "    </tr>\n",
       "    <tr>\n",
       "      <th>10</th>\n",
       "      <td>PSP</td>\n",
       "      <td>0.052239</td>\n",
       "    </tr>\n",
       "  </tbody>\n",
       "</table>\n",
       "</div>"
      ],
      "text/plain": [
       "   platform  total_sales\n",
       "0       PS4     0.801378\n",
       "1      X360     0.735484\n",
       "2      XOne     0.645020\n",
       "3       Wii     0.593913\n",
       "4      WiiU     0.562000\n",
       "5       PS3     0.525884\n",
       "6       3DS     0.472772\n",
       "7        PC     0.208624\n",
       "8        DS     0.192500\n",
       "9       PSV     0.092151\n",
       "10      PSP     0.052239"
      ]
     },
     "execution_count": 25,
     "metadata": {},
     "output_type": "execute_result"
    }
   ],
   "source": [
    "act_df.groupby(['platform'])['total_sales'].mean() \\\n",
    "      .sort_values(ascending=False).reset_index()"
   ]
  },
  {
   "cell_type": "markdown",
   "metadata": {},
   "source": [
    "Построим график, отображающий распределение средних продаж по платформам в актуальном периоде."
   ]
  },
  {
   "cell_type": "code",
   "execution_count": 26,
   "metadata": {},
   "outputs": [
    {
     "data": {
      "image/png": "[encoded data removed]",
      "text/plain": [
       "<Figure size 720x576 with 1 Axes>"
      ]
     },
     "metadata": {
      "needs_background": "light"
     },
     "output_type": "display_data"
    }
   ],
   "source": [
    "for platform in act_df['platform'].unique():\n",
    "    act_df.query('platform == @platform') \\\n",
    "          .groupby('year_of_release')['total_sales'].mean() \\\n",
    "          .plot(\n",
    "            style='o-',\n",
    "            grid=True,\n",
    "            figsize=(10,8),\n",
    "            label=platform\n",
    "          )\n",
    " \n",
    "plt.title('Распределение средних продаж по платформам в актуальном периоде')\n",
    "plt.xlabel('Год')\n",
    "plt.ylabel('Количество продаж, млн копий')\n",
    "plt.legend();"
   ]
  },
  {
   "cell_type": "markdown",
   "metadata": {},
   "source": [
    "По продажам в актуальном периоде лидируют следующие платформы: `PS4`, `XOne`, `X360` и `WiiU`. Только `WiiU` в начале периода показывала тенденцию на рост продаж. Однако за весь период все платформы показывают только тенденцию на спад. Потенциально прибыльными платформами могут быть по прежнему `PS4` и `WiiU`, которые находятся на пике в конце рассматриваемого периода, а также `3DS`, которая показывает небольшую тенденцию на рост за последний год и также находится на пике в конце периода."
   ]
  },
  {
   "cell_type": "markdown",
   "metadata": {},
   "source": [
    "### Глобальные продажи игр\n",
    "\n",
    "Построим график «ящик с усами» по глобальным продажам игр в разбивке по платформам."
   ]
  },
  {
   "cell_type": "code",
   "execution_count": 27,
   "metadata": {},
   "outputs": [
    {
     "data": {
      "image/png": "[encoded data removed]",
      "text/plain": [
       "<Figure size 936x216 with 1 Axes>"
      ]
     },
     "metadata": {
      "needs_background": "light"
     },
     "output_type": "display_data"
    }
   ],
   "source": [
    "# Создаем список с названиями платформ из актуального периода\n",
    "act_platforms = [x for x in act_df['platform'].unique()]\n",
    "\n",
    "# Создаем набор данных для построения графиков\n",
    "data = [act_df.query('platform == @x')['total_sales'] for x in act_platforms]\n",
    "\n",
    "fig = plt.figure(figsize =(13, 3))\n",
    "\n",
    "ax = fig.add_axes([0, 0, 1, 1])\n",
    "ax.boxplot(data)\n",
    "\n",
    "# Подписываем значения на оси X\n",
    "ax.set_xticklabels(act_platforms)\n",
    "\n",
    "plt.title('График распределения глобальных продаж игр по платформам')\n",
    "plt.xlabel('Платформа')\n",
    "plt.ylabel('Продажи, млн копий')\n",
    "plt.show();"
   ]
  },
  {
   "cell_type": "markdown",
   "metadata": {},
   "source": [
    "Видим, что платформы `PS3`, `PS4`, `X360` и `3DS` выбиваются по продажам. Их значения продаж доходят до 15-20 млн копий. Мы не можем убрать данные записи из рассмотрения или преобразовать их, поскольку такие значения хоть и выбиваются, но вполне могут оказаться реальными, с учетом всего населения земли.\n",
    "\n",
    "Для того, чтобы сделать более четкие выводы, посмотрим на данный график поближе, ограничив ось Y."
   ]
  },
  {
   "cell_type": "code",
   "execution_count": 28,
   "metadata": {},
   "outputs": [
    {
     "data": {
      "image/png": "[encoded data removed]",
      "text/plain": [
       "<Figure size 936x360 with 1 Axes>"
      ]
     },
     "metadata": {
      "needs_background": "light"
     },
     "output_type": "display_data"
    }
   ],
   "source": [
    "fig = plt.figure(figsize =(13, 5))\n",
    "\n",
    "ax = fig.add_axes([0, 0, 1, 1])\n",
    "ax.boxplot(data)\n",
    "\n",
    "# Подписываем значения на оси X\n",
    "ax.set_xticklabels(act_platforms)\n",
    "\n",
    "# Ограничиваем ось Y значением 1.8 млн копий\n",
    "plt.ylim(0, 1.8)\n",
    "\n",
    "plt.title('График распределения глобальных продаж игр по платформам')\n",
    "plt.xlabel('Платформа')\n",
    "plt.ylabel('Продажи, млн копий')\n",
    "plt.show();"
   ]
  },
  {
   "cell_type": "markdown",
   "metadata": {},
   "source": [
    "Видим, что в среднем продажи в актуальном периоде по всем платформам находятся на уровне около 0.2 млн копий или 200 тысяч копий. При этом верхняя граница 99% всех продаж не превышает 1.8 млн копий. Самое высокое среднее значение продаж у платформы `X360`, а самое низкое у `PSP`."
   ]
  },
  {
   "cell_type": "markdown",
   "metadata": {},
   "source": [
    "### Продажи в зависимости от отзывов\n",
    "\n",
    "Посмотрим как влияют на продажи отзывы пользователей и критиков на одной из самых популярных платформ `PS3`. Для начала посмотрим на количество записей."
   ]
  },
  {
   "cell_type": "code",
   "execution_count": 29,
   "metadata": {},
   "outputs": [
    {
     "data": {
      "text/plain": [
       "345"
      ]
     },
     "execution_count": 29,
     "metadata": {},
     "output_type": "execute_result"
    }
   ],
   "source": [
    "ps3_df = act_df.query('platform == \"PS3\"')\n",
    "ps3_df.shape[0]"
   ]
  },
  {
   "cell_type": "markdown",
   "metadata": {},
   "source": [
    "Имеется 345 записей. Посмотрим на корреляцию между оценкой пользователей и продажами."
   ]
  },
  {
   "cell_type": "code",
   "execution_count": 30,
   "metadata": {},
   "outputs": [
    {
     "data": {
      "text/plain": [
       "0.0023944027357566925"
      ]
     },
     "execution_count": 30,
     "metadata": {},
     "output_type": "execute_result"
    }
   ],
   "source": [
    "# Выберем только записи с имеющейся оценкой от пользователей\n",
    "ps3_with_user_score = ps3_df.query('user_score_type == \"with_score\"')\n",
    "\n",
    "# Посмотрим на значение корреляции\n",
    "ps3_with_user_score['user_score'].corr(ps3_with_user_score['total_sales'])"
   ]
  },
  {
   "cell_type": "code",
   "execution_count": 31,
   "metadata": {},
   "outputs": [
    {
     "data": {
      "image/png": "[encoded data removed]",
      "text/plain": [
       "<Figure size 432x288 with 1 Axes>"
      ]
     },
     "metadata": {
      "needs_background": "light"
     },
     "output_type": "display_data"
    }
   ],
   "source": [
    "ps3_with_user_score.plot.scatter(\n",
    "    x='user_score', \n",
    "    y='total_sales',\n",
    "    title='Зависимость продаж от оценки пользователей',\n",
    "    xlabel='Оценка пользователей',\n",
    "    ylabel='Продажи, млн копий'\n",
    ");"
   ]
  },
  {
   "cell_type": "markdown",
   "metadata": {},
   "source": [
    "Можно смело говорить об отсутствии связи.\n",
    "\n",
    "Посмотрим на корреляцию между оценкой критиков и продажами."
   ]
  },
  {
   "cell_type": "code",
   "execution_count": 32,
   "metadata": {},
   "outputs": [
    {
     "data": {
      "text/plain": [
       "0.3342853393371919"
      ]
     },
     "execution_count": 32,
     "metadata": {},
     "output_type": "execute_result"
    }
   ],
   "source": [
    "# Выберем только записи с имеющейся оценкой от критиков\n",
    "ps3_with_critic_score = ps3_df.query('critic_score_type == \"with_score\"')\n",
    "\n",
    "# Посмотрим на значение корреляции\n",
    "ps3_with_critic_score['critic_score'].corr(ps3_with_critic_score['total_sales'])"
   ]
  },
  {
   "cell_type": "code",
   "execution_count": 33,
   "metadata": {},
   "outputs": [
    {
     "data": {
      "image/png": "[encoded data removed]",
      "text/plain": [
       "<Figure size 432x288 with 1 Axes>"
      ]
     },
     "metadata": {
      "needs_background": "light"
     },
     "output_type": "display_data"
    }
   ],
   "source": [
    "ps3_with_critic_score.plot.scatter(\n",
    "    x='critic_score', \n",
    "    y='total_sales',\n",
    "    title='Зависимость продаж от оценки критиков',\n",
    "    xlabel='Оценка критиков',\n",
    "    ylabel='Продажи, млн копий'\n",
    ");"
   ]
  },
  {
   "cell_type": "markdown",
   "metadata": {},
   "source": [
    "В данном случае наблюдаем небольшую корреляцию в прямом направлении, то есть чем выше оценка от критиков, тем больше продаж. Однако связь не сильная.\n",
    "\n",
    "Посмотрим на продажи в зависимости от типа оценки пользователей и критиков."
   ]
  },
  {
   "cell_type": "code",
   "execution_count": 34,
   "metadata": {},
   "outputs": [
    {
     "data": {
      "text/plain": [
       "user_score_type\n",
       "tbd              0.057826\n",
       "with_score       0.818011\n",
       "without_score    0.205515\n",
       "Name: total_sales, dtype: float64"
      ]
     },
     "execution_count": 34,
     "metadata": {},
     "output_type": "execute_result"
    }
   ],
   "source": [
    "ps3_df.groupby('user_score_type')['total_sales'].mean()"
   ]
  },
  {
   "cell_type": "code",
   "execution_count": 35,
   "metadata": {},
   "outputs": [
    {
     "data": {
      "text/plain": [
       "critic_score_type\n",
       "with_score       0.942727\n",
       "without_score    0.300714\n",
       "Name: total_sales, dtype: float64"
      ]
     },
     "execution_count": 35,
     "metadata": {},
     "output_type": "execute_result"
    }
   ],
   "source": [
    "ps3_df.groupby('critic_score_type')['total_sales'].mean()"
   ]
  },
  {
   "cell_type": "markdown",
   "metadata": {},
   "source": [
    "Видим, что в среднем больше продаж происходит по играм с оценками, чем по играм без оценок.\n",
    "\n",
    "Посмотрим на продажи в зависимости от оценки по всем платформам."
   ]
  },
  {
   "cell_type": "code",
   "execution_count": 68,
   "metadata": {
    "scrolled": true
   },
   "outputs": [
    {
     "data": {
      "image/png": "[encoded data removed]",
      "text/plain": [
       "<Figure size 720x360 with 1 Axes>"
      ]
     },
     "metadata": {
      "needs_background": "light"
     },
     "output_type": "display_data"
    }
   ],
   "source": [
    "fig, ax = plt.subplots(figsize=(10, 5))\n",
    "\n",
    "# Выберем только игры с существующей оценкой от пользователей\n",
    "# Для каждой платформы в аткуальном периоде построим график рассеяния\n",
    "for platform in act_platforms:\n",
    "    data = act_df.query('platform == @platform') \\\n",
    "                 .query('user_score_type == \"with_score\"')\n",
    "    plt.scatter(x=data['user_score'], y=data['total_sales'], alpha=0.4, label=platform)\n",
    "    \n",
    "plt.title('Зависимость продаж от оценки пользователей по всем платформам')\n",
    "plt.xlabel('Оценка пользователей')\n",
    "plt.ylabel('Продажи, млн копий')\n",
    "plt.legend(loc='upper left')\n",
    "plt.show();"
   ]
  },
  {
   "cell_type": "markdown",
   "metadata": {},
   "source": [
    "Наблюдаем отсутствие четкой связи, продажи вырываются вверх не зависимо от оценки пользователей."
   ]
  },
  {
   "cell_type": "code",
   "execution_count": 67,
   "metadata": {
    "scrolled": true
   },
   "outputs": [
    {
     "data": {
      "image/png": "[encoded data removed]",
      "text/plain": [
       "<Figure size 720x360 with 1 Axes>"
      ]
     },
     "metadata": {
      "needs_background": "light"
     },
     "output_type": "display_data"
    }
   ],
   "source": [
    "fig, ax = plt.subplots(figsize=(10, 5))\n",
    "\n",
    "# Выберем только игры с существующей оценкой от критиков\n",
    "# Для каждой платформы в аткуальном периоде построим график рассеяния\n",
    "for platform in act_platforms:\n",
    "    data = act_df.query('platform == @platform') \\\n",
    "                 .query('critic_score_type == \"with_score\"')\n",
    "    plt.scatter(x=data['critic_score'], y=data['total_sales'], alpha=0.4, label=platform)\n",
    "    \n",
    "plt.title('Зависимость продаж от оценки критиков по всем платформам')\n",
    "plt.xlabel('Оценка критиков')\n",
    "plt.ylabel('Продажи, млн копий')\n",
    "plt.legend(loc='upper left')\n",
    "plt.show();"
   ]
  },
  {
   "cell_type": "markdown",
   "metadata": {},
   "source": [
    "Видим, что в действительности, чем выше оценка критиков, тем продажи постепенно начинают расти.\n",
    "\n",
    "Сравним среднюю оценку критиков топовых платформ и их продажи."
   ]
  },
  {
   "cell_type": "code",
   "execution_count": 38,
   "metadata": {},
   "outputs": [
    {
     "data": {
      "text/html": [
       "<div>\n",
       "<style scoped>\n",
       "    .dataframe tbody tr th:only-of-type {\n",
       "        vertical-align: middle;\n",
       "    }\n",
       "\n",
       "    .dataframe tbody tr th {\n",
       "        vertical-align: top;\n",
       "    }\n",
       "\n",
       "    .dataframe thead th {\n",
       "        text-align: right;\n",
       "    }\n",
       "</style>\n",
       "<table border=\"1\" class=\"dataframe\">\n",
       "  <thead>\n",
       "    <tr style=\"text-align: right;\">\n",
       "      <th></th>\n",
       "      <th>platform</th>\n",
       "      <th>total_sales</th>\n",
       "      <th>critic_score</th>\n",
       "    </tr>\n",
       "  </thead>\n",
       "  <tbody>\n",
       "    <tr>\n",
       "      <th>0</th>\n",
       "      <td>PS4</td>\n",
       "      <td>0.80</td>\n",
       "      <td>72.09</td>\n",
       "    </tr>\n",
       "    <tr>\n",
       "      <th>1</th>\n",
       "      <td>X360</td>\n",
       "      <td>0.74</td>\n",
       "      <td>69.23</td>\n",
       "    </tr>\n",
       "    <tr>\n",
       "      <th>2</th>\n",
       "      <td>XOne</td>\n",
       "      <td>0.65</td>\n",
       "      <td>73.33</td>\n",
       "    </tr>\n",
       "    <tr>\n",
       "      <th>3</th>\n",
       "      <td>WiiU</td>\n",
       "      <td>0.56</td>\n",
       "      <td>71.64</td>\n",
       "    </tr>\n",
       "    <tr>\n",
       "      <th>4</th>\n",
       "      <td>PS3</td>\n",
       "      <td>0.53</td>\n",
       "      <td>70.20</td>\n",
       "    </tr>\n",
       "    <tr>\n",
       "      <th>5</th>\n",
       "      <td>3DS</td>\n",
       "      <td>0.47</td>\n",
       "      <td>68.34</td>\n",
       "    </tr>\n",
       "    <tr>\n",
       "      <th>6</th>\n",
       "      <td>PC</td>\n",
       "      <td>0.21</td>\n",
       "      <td>75.55</td>\n",
       "    </tr>\n",
       "    <tr>\n",
       "      <th>7</th>\n",
       "      <td>PSV</td>\n",
       "      <td>0.09</td>\n",
       "      <td>71.64</td>\n",
       "    </tr>\n",
       "    <tr>\n",
       "      <th>8</th>\n",
       "      <td>PSP</td>\n",
       "      <td>0.05</td>\n",
       "      <td>74.00</td>\n",
       "    </tr>\n",
       "  </tbody>\n",
       "</table>\n",
       "</div>"
      ],
      "text/plain": [
       "  platform  total_sales  critic_score\n",
       "0      PS4         0.80         72.09\n",
       "1     X360         0.74         69.23\n",
       "2     XOne         0.65         73.33\n",
       "3     WiiU         0.56         71.64\n",
       "4      PS3         0.53         70.20\n",
       "5      3DS         0.47         68.34\n",
       "6       PC         0.21         75.55\n",
       "7      PSV         0.09         71.64\n",
       "8      PSP         0.05         74.00"
      ]
     },
     "execution_count": 38,
     "metadata": {},
     "output_type": "execute_result"
    }
   ],
   "source": [
    "# Находим средние значения продаж по платформам\n",
    "total_sales_mean = act_df.groupby('platform')['total_sales'].mean() \\\n",
    "                         .round(2).sort_values(ascending=False).reset_index()\n",
    "\n",
    "# Находим среднюю оценку критиков по платформам\n",
    "critic_score_mean = act_df.query('critic_score_type == \"with_score\"') \\\n",
    "                          .groupby('platform')['critic_score'].mean().round(2)\n",
    "\n",
    "# Объединяем данные в одну таблицу\n",
    "total_sales_mean.merge(critic_score_mean, on='platform')"
   ]
  },
  {
   "cell_type": "markdown",
   "metadata": {},
   "source": [
    "Видим, что для первых 6 записей оценка критиков действительно постепенно растёт вместе с продажами. Платформа `PC` к 2016 году перестала существовать, а у платформ `PSP` и `PSV` слишком мало продаж, чтобы делать по ним выводы."
   ]
  },
  {
   "cell_type": "markdown",
   "metadata": {},
   "source": [
    "### Распределение игр по жанрам\n",
    "\n",
    "Посмотрим какие жанры существуют."
   ]
  },
  {
   "cell_type": "code",
   "execution_count": 39,
   "metadata": {
    "scrolled": true
   },
   "outputs": [
    {
     "data": {
      "text/plain": [
       "array(['Action', 'Shooter', 'Role-Playing', 'Misc', 'Sports', 'Fighting',\n",
       "       'Racing', 'Simulation', 'Platform', 'Strategy', 'Adventure',\n",
       "       'Puzzle'], dtype=object)"
      ]
     },
     "execution_count": 39,
     "metadata": {},
     "output_type": "execute_result"
    }
   ],
   "source": [
    "act_df['genre'].unique()"
   ]
  },
  {
   "cell_type": "markdown",
   "metadata": {},
   "source": [
    "В данных имеется 12 типов жанра, неявные дубликаты не присутствуют.\n",
    "\n",
    "Посмотрим на распределение количества игр по жанрам."
   ]
  },
  {
   "cell_type": "code",
   "execution_count": 40,
   "metadata": {},
   "outputs": [
    {
     "data": {
      "image/png": "[encoded data removed]",
      "text/plain": [
       "<Figure size 720x360 with 1 Axes>"
      ]
     },
     "metadata": {
      "needs_background": "light"
     },
     "output_type": "display_data"
    }
   ],
   "source": [
    "(\n",
    "    act_df.groupby('genre')['name'].count().sort_values(ascending=False)\n",
    "          .plot(\n",
    "              kind='bar',\n",
    "              grid=True,\n",
    "              figsize=(10,5),\n",
    "              rot=45,\n",
    "              title='Распределение количества игр в зависимости от жанра',\n",
    "              xlabel='Жанр',\n",
    "              ylabel='Количество игр, шт'\n",
    "          )\n",
    ");"
   ]
  },
  {
   "cell_type": "markdown",
   "metadata": {},
   "source": [
    "Самый популярный жанр по количеству выпущенных игр это _Action_, далее следует _Role-Playing_, а самый непопулярный - _Puzzle_. Самое большое количество созданных игр у жанра _Action_ - около 750 шт., а самое маленькое у _Puzzle_ - менее 50 шт.\n",
    "\n",
    "Посмотрим на уровень продаж в зависимости от жанра."
   ]
  },
  {
   "cell_type": "code",
   "execution_count": 41,
   "metadata": {},
   "outputs": [
    {
     "data": {
      "image/png": "[encoded data removed]",
      "text/plain": [
       "<Figure size 720x360 with 1 Axes>"
      ]
     },
     "metadata": {
      "needs_background": "light"
     },
     "output_type": "display_data"
    }
   ],
   "source": [
    "(\n",
    "    act_df.groupby('genre')['total_sales'].mean().sort_values(ascending=False)\n",
    "          .plot(\n",
    "              kind='bar',\n",
    "              grid=True,\n",
    "              figsize=(10,5),\n",
    "              rot=45,\n",
    "              title='Распределение продаж в зависимости от жанра',\n",
    "              xlabel='Жанр',\n",
    "              ylabel='Продажи, млн копий'\n",
    "          )\n",
    ");"
   ]
  },
  {
   "cell_type": "markdown",
   "metadata": {},
   "source": [
    "В среднем самые большие продажи у жанра _Shooter_, а самые низкие у _Adventure_. На втором месте находится жанр _Sports_, чьи продажи в среднем почти в два раза ниже, чем у топового _Shooter_. Также одни из самых низких продаж у _Puzzle_ и _Strategy_ - менее 200 тысяч копий. У остальных жанров средние продажи держаться в среднем на уровне 400 тысяч копий.\n",
    "\n",
    "_Puzzle_ и _Strategy_ в действительности мало создаются и приносят небольшие продажи. А вот _Shooter_ не смотря на то, что количество созданных игр почти в 4 раза меньше, чем у _Action_, обгоняет всех по продажам - свыше 1.2 млн копий."
   ]
  },
  {
   "cell_type": "markdown",
   "metadata": {},
   "source": [
    "### Промежуточные выводы\n",
    "\n",
    "<u>Периоды:</u>\n",
    "- До 1990 года количество выпущенных игр держалось на одном уровне\n",
    "- С 1990 по 2008 год происходит достаточно резкий рост количества выпускаемых игр, с 2009 года начинается постепенный спад\n",
    "- Самые большие продажи были у `PS2`, а самые маленькие у `PCFX`\n",
    "- Примерно каждые 5 лет исчезают старые платформы и появляются новые \n",
    "- Одна платформа в среднем существует около 10 лет\n",
    "- За актуальный период для прогноза на 2017 год были взяты годы 2013-2016\n",
    "\n",
    "<u>Платформы:</u>\n",
    "- Лидирующие платформы по продажам в актуальном периоде: `PS4`, `XOne`, `X360` и `WiiU`\n",
    "- Потенциально прибыльными платформами могут быть `PS4`, `WiiU` и `3DS`\n",
    "- Платформы `PS3`, `PS4`, `X360` и `3DS` выбиваются по продажам, их значения продаж доходят до 15-20 млн копий\n",
    "- В среднем продажи в актуальном периоде по всем платформам находятся на уровне около 0.2 млн копий или 200 тысяч копий\n",
    "- Самое высокое среднее значение продаж у платформы `X360`, а самое низкое у `PSP`\n",
    "\n",
    "<u>Оценки пользователей и критиков:</u>\n",
    "- Оценки пользователей не влияют на продажи\n",
    "- Чем выше оценка критиков, тем больше продажи, однако данная связь не достаточно сильная\n",
    "- Больше доля продаж у игр, которые оценивали пользователи и критики, нежели у игр без оценок\n",
    "\n",
    "<u>Жанры:</u>\n",
    "- Самый популярный жанр по количеству выпущенных игр это `Action`, а самый непопулярный - `Puzzle`\n",
    "- Самое большое количество созданных игр у жанра `Action` - около 750 шт., а самое маленькое у `Puzzle` - менее 50 шт.\n",
    "- В среднем самые большие продажи у жанра `Shooter`, на втором месте `Sports`, а самые низкие у `Adventure`\n",
    "- Также одни из самых низких продаж у `Puzzle` и `Strategy` "
   ]
  },
  {
   "cell_type": "markdown",
   "metadata": {},
   "source": [
    "## Портрет пользователя каждого региона"
   ]
  },
  {
   "cell_type": "markdown",
   "metadata": {},
   "source": [
    "Создадим сводную таблицу, в которой будет храниться информация о количестве продаж по платформам для каждого региона, а также доля этих продаж."
   ]
  },
  {
   "cell_type": "code",
   "execution_count": 42,
   "metadata": {},
   "outputs": [
    {
     "data": {
      "text/html": [
       "<div>\n",
       "<style scoped>\n",
       "    .dataframe tbody tr th:only-of-type {\n",
       "        vertical-align: middle;\n",
       "    }\n",
       "\n",
       "    .dataframe tbody tr th {\n",
       "        vertical-align: top;\n",
       "    }\n",
       "\n",
       "    .dataframe thead th {\n",
       "        text-align: right;\n",
       "    }\n",
       "</style>\n",
       "<table border=\"1\" class=\"dataframe\">\n",
       "  <thead>\n",
       "    <tr style=\"text-align: right;\">\n",
       "      <th></th>\n",
       "      <th>platform</th>\n",
       "      <th>na_sales</th>\n",
       "      <th>eu_sales</th>\n",
       "      <th>jp_sales</th>\n",
       "      <th>na_prop</th>\n",
       "      <th>eu_prop</th>\n",
       "      <th>jp_prop</th>\n",
       "    </tr>\n",
       "  </thead>\n",
       "  <tbody>\n",
       "    <tr>\n",
       "      <th>0</th>\n",
       "      <td>3DS</td>\n",
       "      <td>38.20</td>\n",
       "      <td>30.96</td>\n",
       "      <td>67.81</td>\n",
       "      <td>0.09</td>\n",
       "      <td>0.08</td>\n",
       "      <td>0.48</td>\n",
       "    </tr>\n",
       "    <tr>\n",
       "      <th>1</th>\n",
       "      <td>DS</td>\n",
       "      <td>0.57</td>\n",
       "      <td>0.85</td>\n",
       "      <td>0.00</td>\n",
       "      <td>0.00</td>\n",
       "      <td>0.00</td>\n",
       "      <td>0.00</td>\n",
       "    </tr>\n",
       "    <tr>\n",
       "      <th>2</th>\n",
       "      <td>PC</td>\n",
       "      <td>11.11</td>\n",
       "      <td>25.36</td>\n",
       "      <td>0.00</td>\n",
       "      <td>0.03</td>\n",
       "      <td>0.06</td>\n",
       "      <td>0.00</td>\n",
       "    </tr>\n",
       "    <tr>\n",
       "      <th>3</th>\n",
       "      <td>PS3</td>\n",
       "      <td>63.50</td>\n",
       "      <td>67.81</td>\n",
       "      <td>23.35</td>\n",
       "      <td>0.15</td>\n",
       "      <td>0.17</td>\n",
       "      <td>0.17</td>\n",
       "    </tr>\n",
       "    <tr>\n",
       "      <th>4</th>\n",
       "      <td>PS4</td>\n",
       "      <td>108.74</td>\n",
       "      <td>141.09</td>\n",
       "      <td>15.96</td>\n",
       "      <td>0.25</td>\n",
       "      <td>0.36</td>\n",
       "      <td>0.11</td>\n",
       "    </tr>\n",
       "    <tr>\n",
       "      <th>5</th>\n",
       "      <td>PSP</td>\n",
       "      <td>0.00</td>\n",
       "      <td>0.17</td>\n",
       "      <td>3.29</td>\n",
       "      <td>0.00</td>\n",
       "      <td>0.00</td>\n",
       "      <td>0.02</td>\n",
       "    </tr>\n",
       "    <tr>\n",
       "      <th>6</th>\n",
       "      <td>PSV</td>\n",
       "      <td>5.04</td>\n",
       "      <td>6.10</td>\n",
       "      <td>18.59</td>\n",
       "      <td>0.01</td>\n",
       "      <td>0.02</td>\n",
       "      <td>0.13</td>\n",
       "    </tr>\n",
       "    <tr>\n",
       "      <th>7</th>\n",
       "      <td>Wii</td>\n",
       "      <td>6.56</td>\n",
       "      <td>5.93</td>\n",
       "      <td>0.05</td>\n",
       "      <td>0.01</td>\n",
       "      <td>0.02</td>\n",
       "      <td>0.00</td>\n",
       "    </tr>\n",
       "    <tr>\n",
       "      <th>8</th>\n",
       "      <td>WiiU</td>\n",
       "      <td>29.21</td>\n",
       "      <td>19.85</td>\n",
       "      <td>10.88</td>\n",
       "      <td>0.07</td>\n",
       "      <td>0.05</td>\n",
       "      <td>0.08</td>\n",
       "    </tr>\n",
       "    <tr>\n",
       "      <th>9</th>\n",
       "      <td>X360</td>\n",
       "      <td>81.66</td>\n",
       "      <td>42.52</td>\n",
       "      <td>0.51</td>\n",
       "      <td>0.19</td>\n",
       "      <td>0.11</td>\n",
       "      <td>0.00</td>\n",
       "    </tr>\n",
       "    <tr>\n",
       "      <th>10</th>\n",
       "      <td>XOne</td>\n",
       "      <td>93.12</td>\n",
       "      <td>51.59</td>\n",
       "      <td>0.34</td>\n",
       "      <td>0.21</td>\n",
       "      <td>0.13</td>\n",
       "      <td>0.00</td>\n",
       "    </tr>\n",
       "  </tbody>\n",
       "</table>\n",
       "</div>"
      ],
      "text/plain": [
       "   platform  na_sales  eu_sales  jp_sales  na_prop  eu_prop  jp_prop\n",
       "0       3DS     38.20     30.96     67.81     0.09     0.08     0.48\n",
       "1        DS      0.57      0.85      0.00     0.00     0.00     0.00\n",
       "2        PC     11.11     25.36      0.00     0.03     0.06     0.00\n",
       "3       PS3     63.50     67.81     23.35     0.15     0.17     0.17\n",
       "4       PS4    108.74    141.09     15.96     0.25     0.36     0.11\n",
       "5       PSP      0.00      0.17      3.29     0.00     0.00     0.02\n",
       "6       PSV      5.04      6.10     18.59     0.01     0.02     0.13\n",
       "7       Wii      6.56      5.93      0.05     0.01     0.02     0.00\n",
       "8      WiiU     29.21     19.85     10.88     0.07     0.05     0.08\n",
       "9      X360     81.66     42.52      0.51     0.19     0.11     0.00\n",
       "10     XOne     93.12     51.59      0.34     0.21     0.13     0.00"
      ]
     },
     "execution_count": 42,
     "metadata": {},
     "output_type": "execute_result"
    }
   ],
   "source": [
    "# Выбираем колонки с продажами в регионах\n",
    "columns = ['na_sales', 'eu_sales', 'jp_sales']\n",
    "\n",
    "# Считаем суммарные продажи для каждой платформы по регионам\n",
    "regions = act_df.groupby('platform')[columns].sum().reset_index()\n",
    "\n",
    "# Для каждого региона считаем доли продаж по платформам\n",
    "for col in columns:\n",
    "    total = sum(act_df[col])\n",
    "    prefix = col.split('_')[0]\n",
    "    regions[prefix+'_prop'] = round(regions[col] / total, 2)\n",
    "\n",
    "# Смотрим результаты\n",
    "regions"
   ]
  },
  {
   "cell_type": "markdown",
   "metadata": {},
   "source": [
    "### Самые популярные платформы по регионам"
   ]
  },
  {
   "cell_type": "code",
   "execution_count": 72,
   "metadata": {},
   "outputs": [
    {
     "data": {
      "text/html": [
       "<div>\n",
       "<style scoped>\n",
       "    .dataframe tbody tr th:only-of-type {\n",
       "        vertical-align: middle;\n",
       "    }\n",
       "\n",
       "    .dataframe tbody tr th {\n",
       "        vertical-align: top;\n",
       "    }\n",
       "\n",
       "    .dataframe thead th {\n",
       "        text-align: right;\n",
       "    }\n",
       "</style>\n",
       "<table border=\"1\" class=\"dataframe\">\n",
       "  <thead>\n",
       "    <tr style=\"text-align: right;\">\n",
       "      <th></th>\n",
       "      <th>platform</th>\n",
       "      <th>na_prop</th>\n",
       "    </tr>\n",
       "  </thead>\n",
       "  <tbody>\n",
       "    <tr>\n",
       "      <th>0</th>\n",
       "      <td>PS4</td>\n",
       "      <td>0.25</td>\n",
       "    </tr>\n",
       "    <tr>\n",
       "      <th>1</th>\n",
       "      <td>XOne</td>\n",
       "      <td>0.21</td>\n",
       "    </tr>\n",
       "    <tr>\n",
       "      <th>2</th>\n",
       "      <td>X360</td>\n",
       "      <td>0.19</td>\n",
       "    </tr>\n",
       "    <tr>\n",
       "      <th>3</th>\n",
       "      <td>PS3</td>\n",
       "      <td>0.15</td>\n",
       "    </tr>\n",
       "    <tr>\n",
       "      <th>4</th>\n",
       "      <td>3DS</td>\n",
       "      <td>0.09</td>\n",
       "    </tr>\n",
       "    <tr>\n",
       "      <th>5</th>\n",
       "      <td>other</td>\n",
       "      <td>0.11</td>\n",
       "    </tr>\n",
       "  </tbody>\n",
       "</table>\n",
       "</div>"
      ],
      "text/plain": [
       "  platform  na_prop\n",
       "0      PS4     0.25\n",
       "1     XOne     0.21\n",
       "2     X360     0.19\n",
       "3      PS3     0.15\n",
       "4      3DS     0.09\n",
       "5    other     0.11"
      ]
     },
     "execution_count": 72,
     "metadata": {},
     "output_type": "execute_result"
    }
   ],
   "source": [
    "# Смотрим отдельно на топ-5 платформ в регионе Северная Америка\n",
    "na_platforms = regions[['platform', 'na_prop']].sort_values(by='na_prop', ascending=False) \\\n",
    "                                               .reset_index(drop=True)[:5]\n",
    "\n",
    "# Добавляем оставшуюся долю других платформ\n",
    "na_platforms.loc[5] = ['other', 1-na_platforms['na_prop'].sum()]\n",
    "\n",
    "na_platforms"
   ]
  },
  {
   "cell_type": "code",
   "execution_count": 80,
   "metadata": {},
   "outputs": [
    {
     "data": {
      "image/png": "[encoded data removed]",
      "text/plain": [
       "<Figure size 432x432 with 1 Axes>"
      ]
     },
     "metadata": {},
     "output_type": "display_data"
    }
   ],
   "source": [
    "na_platforms.plot.pie(\n",
    "    y='na_prop', \n",
    "    figsize=(6, 6),\n",
    "    title='Доли продаж в регионе Северная Америка',\n",
    "    ylabel='Платформа',\n",
    "    labels=na_platforms['platform']\n",
    ");"
   ]
  },
  {
   "cell_type": "markdown",
   "metadata": {},
   "source": [
    "В Северной Америке в топ-5 платформ входят _PS4_, _XOne_, _X360_, _PS3_, _3DS_. Четверть всех продаж приходится на _PS4_, далее _XOne_ и _X360_ продаются примерно в одинаковом количестве. Самую маленькую долю продаж составляет _3DS_ в доле около 9%."
   ]
  },
  {
   "cell_type": "code",
   "execution_count": 83,
   "metadata": {},
   "outputs": [
    {
     "data": {
      "text/html": [
       "<div>\n",
       "<style scoped>\n",
       "    .dataframe tbody tr th:only-of-type {\n",
       "        vertical-align: middle;\n",
       "    }\n",
       "\n",
       "    .dataframe tbody tr th {\n",
       "        vertical-align: top;\n",
       "    }\n",
       "\n",
       "    .dataframe thead th {\n",
       "        text-align: right;\n",
       "    }\n",
       "</style>\n",
       "<table border=\"1\" class=\"dataframe\">\n",
       "  <thead>\n",
       "    <tr style=\"text-align: right;\">\n",
       "      <th></th>\n",
       "      <th>platform</th>\n",
       "      <th>eu_prop</th>\n",
       "    </tr>\n",
       "  </thead>\n",
       "  <tbody>\n",
       "    <tr>\n",
       "      <th>0</th>\n",
       "      <td>PS4</td>\n",
       "      <td>0.36</td>\n",
       "    </tr>\n",
       "    <tr>\n",
       "      <th>1</th>\n",
       "      <td>PS3</td>\n",
       "      <td>0.17</td>\n",
       "    </tr>\n",
       "    <tr>\n",
       "      <th>2</th>\n",
       "      <td>XOne</td>\n",
       "      <td>0.13</td>\n",
       "    </tr>\n",
       "    <tr>\n",
       "      <th>3</th>\n",
       "      <td>X360</td>\n",
       "      <td>0.11</td>\n",
       "    </tr>\n",
       "    <tr>\n",
       "      <th>4</th>\n",
       "      <td>3DS</td>\n",
       "      <td>0.08</td>\n",
       "    </tr>\n",
       "    <tr>\n",
       "      <th>5</th>\n",
       "      <td>other</td>\n",
       "      <td>0.15</td>\n",
       "    </tr>\n",
       "  </tbody>\n",
       "</table>\n",
       "</div>"
      ],
      "text/plain": [
       "  platform  eu_prop\n",
       "0      PS4     0.36\n",
       "1      PS3     0.17\n",
       "2     XOne     0.13\n",
       "3     X360     0.11\n",
       "4      3DS     0.08\n",
       "5    other     0.15"
      ]
     },
     "execution_count": 83,
     "metadata": {},
     "output_type": "execute_result"
    }
   ],
   "source": [
    "# Смотрим отдельно на топ-5 платформ в регионе Европа\n",
    "eu_platforms = regions[['platform', 'eu_prop']].sort_values(by='eu_prop', ascending=False) \\\n",
    "                                               .reset_index(drop=True)[:5]\n",
    "\n",
    "# Добавляем оставшуюся долю других платформ\n",
    "eu_platforms.loc[5] = ['other', 1-eu_platforms['eu_prop'].sum()]\n",
    "\n",
    "eu_platforms"
   ]
  },
  {
   "cell_type": "code",
   "execution_count": 84,
   "metadata": {},
   "outputs": [
    {
     "data": {
      "image/png": "[encoded data removed]",
      "text/plain": [
       "<Figure size 432x432 with 1 Axes>"
      ]
     },
     "metadata": {},
     "output_type": "display_data"
    }
   ],
   "source": [
    "eu_platforms.plot.pie(\n",
    "    y='eu_prop', \n",
    "    figsize=(6, 6),\n",
    "    title='Доли продаж в регионе Европа',\n",
    "    ylabel='Платформа',\n",
    "    labels=na_platforms['platform']\n",
    ");"
   ]
  },
  {
   "cell_type": "markdown",
   "metadata": {},
   "source": [
    "В Европе по прежнему лидируют те же 5 платформ, однако _PS3_ теперь вырывыается вперед перед _XOne_ и _X360_. Продажи _PS4_ занимают уже чуть больше трети всех продаж, а вот _PS3_ продаются в два раза реже. Самую маленькую долю по прежнему занимает _3DS_."
   ]
  },
  {
   "cell_type": "code",
   "execution_count": 85,
   "metadata": {},
   "outputs": [
    {
     "data": {
      "text/html": [
       "<div>\n",
       "<style scoped>\n",
       "    .dataframe tbody tr th:only-of-type {\n",
       "        vertical-align: middle;\n",
       "    }\n",
       "\n",
       "    .dataframe tbody tr th {\n",
       "        vertical-align: top;\n",
       "    }\n",
       "\n",
       "    .dataframe thead th {\n",
       "        text-align: right;\n",
       "    }\n",
       "</style>\n",
       "<table border=\"1\" class=\"dataframe\">\n",
       "  <thead>\n",
       "    <tr style=\"text-align: right;\">\n",
       "      <th></th>\n",
       "      <th>platform</th>\n",
       "      <th>jp_prop</th>\n",
       "    </tr>\n",
       "  </thead>\n",
       "  <tbody>\n",
       "    <tr>\n",
       "      <th>0</th>\n",
       "      <td>3DS</td>\n",
       "      <td>0.48</td>\n",
       "    </tr>\n",
       "    <tr>\n",
       "      <th>1</th>\n",
       "      <td>PS3</td>\n",
       "      <td>0.17</td>\n",
       "    </tr>\n",
       "    <tr>\n",
       "      <th>2</th>\n",
       "      <td>PSV</td>\n",
       "      <td>0.13</td>\n",
       "    </tr>\n",
       "    <tr>\n",
       "      <th>3</th>\n",
       "      <td>PS4</td>\n",
       "      <td>0.11</td>\n",
       "    </tr>\n",
       "    <tr>\n",
       "      <th>4</th>\n",
       "      <td>WiiU</td>\n",
       "      <td>0.08</td>\n",
       "    </tr>\n",
       "    <tr>\n",
       "      <th>5</th>\n",
       "      <td>other</td>\n",
       "      <td>0.03</td>\n",
       "    </tr>\n",
       "  </tbody>\n",
       "</table>\n",
       "</div>"
      ],
      "text/plain": [
       "  platform  jp_prop\n",
       "0      3DS     0.48\n",
       "1      PS3     0.17\n",
       "2      PSV     0.13\n",
       "3      PS4     0.11\n",
       "4     WiiU     0.08\n",
       "5    other     0.03"
      ]
     },
     "execution_count": 85,
     "metadata": {},
     "output_type": "execute_result"
    }
   ],
   "source": [
    "# Смотрим отдельно на топ-5 платформ в регионе Япония\n",
    "jp_platforms = regions[['platform', 'jp_prop']].sort_values(by='jp_prop', ascending=False) \\\n",
    "                                               .reset_index(drop=True)[:5]\n",
    "\n",
    "# Добавляем оставшуюся долю других платформ\n",
    "jp_platforms.loc[5] = ['other', 1-jp_platforms['jp_prop'].sum()]\n",
    "\n",
    "jp_platforms"
   ]
  },
  {
   "cell_type": "code",
   "execution_count": 90,
   "metadata": {},
   "outputs": [
    {
     "data": {
      "image/png": "[encoded data removed]",
      "text/plain": [
       "<Figure size 432x432 with 1 Axes>"
      ]
     },
     "metadata": {},
     "output_type": "display_data"
    }
   ],
   "source": [
    "jp_platforms.plot.pie(\n",
    "    y='jp_prop', \n",
    "    figsize=(6, 6),\n",
    "    title='Доли продаж в регионе Япония',\n",
    "    ylabel='Платформа',\n",
    "    labels=jp_platforms['platform'],\n",
    "    normalize=True\n",
    ");"
   ]
  },
  {
   "cell_type": "markdown",
   "metadata": {},
   "source": [
    "В Японии топ-5 платформ существенно отличается, в него входят _3DS_, _PS3_, _PSV_, _PS4_, _WiiU_. При этом лидирующую позицию занимает отстающий в Америке и Европе _3DS_ с почти половиной доли всех продаж. Доля продаж _PS3_ выше, чем у _PS4_, а самую низкую позицию занимает _WiiU_. "
   ]
  },
  {
   "cell_type": "markdown",
   "metadata": {},
   "source": [
    "**Выводы:**\n",
    "- В Свереной Америке, Европе лидирующая платформа - `PS4`.\n",
    "- В Японии лидирующая платформа - `3DS` - около половины всех продаж. Сильно остает в других странах.\n",
    "- Доля продаж `XOne` и `X360` во всех регионах держится примерно на одном уровне.\n",
    "- Самая высокая доля продаж - около 40% - `PS4` в Северной Америке. В Европе `PS4` занимает около трети всех продаж, а в Японии лишь десятую часть.\n",
    "- Только в Японии продажи `PS3` обгоняют `PS4`, в остальных странах продажи `PS4` превышают `PS3` почти в два раза."
   ]
  },
  {
   "cell_type": "markdown",
   "metadata": {},
   "source": [
    "### Самые популярные жанры"
   ]
  },
  {
   "cell_type": "code",
   "execution_count": 46,
   "metadata": {},
   "outputs": [
    {
     "data": {
      "text/html": [
       "<div>\n",
       "<style scoped>\n",
       "    .dataframe tbody tr th:only-of-type {\n",
       "        vertical-align: middle;\n",
       "    }\n",
       "\n",
       "    .dataframe tbody tr th {\n",
       "        vertical-align: top;\n",
       "    }\n",
       "\n",
       "    .dataframe thead th {\n",
       "        text-align: right;\n",
       "    }\n",
       "</style>\n",
       "<table border=\"1\" class=\"dataframe\">\n",
       "  <thead>\n",
       "    <tr style=\"text-align: right;\">\n",
       "      <th></th>\n",
       "      <th>genre</th>\n",
       "      <th>na_sales</th>\n",
       "      <th>eu_sales</th>\n",
       "      <th>jp_sales</th>\n",
       "      <th>na_prop</th>\n",
       "      <th>eu_prop</th>\n",
       "      <th>jp_prop</th>\n",
       "    </tr>\n",
       "  </thead>\n",
       "  <tbody>\n",
       "    <tr>\n",
       "      <th>0</th>\n",
       "      <td>Action</td>\n",
       "      <td>126.05</td>\n",
       "      <td>118.13</td>\n",
       "      <td>40.49</td>\n",
       "      <td>0.29</td>\n",
       "      <td>0.30</td>\n",
       "      <td>0.29</td>\n",
       "    </tr>\n",
       "    <tr>\n",
       "      <th>1</th>\n",
       "      <td>Adventure</td>\n",
       "      <td>7.14</td>\n",
       "      <td>8.25</td>\n",
       "      <td>5.82</td>\n",
       "      <td>0.02</td>\n",
       "      <td>0.02</td>\n",
       "      <td>0.04</td>\n",
       "    </tr>\n",
       "    <tr>\n",
       "      <th>2</th>\n",
       "      <td>Fighting</td>\n",
       "      <td>15.55</td>\n",
       "      <td>8.55</td>\n",
       "      <td>7.65</td>\n",
       "      <td>0.04</td>\n",
       "      <td>0.02</td>\n",
       "      <td>0.05</td>\n",
       "    </tr>\n",
       "    <tr>\n",
       "      <th>3</th>\n",
       "      <td>Misc</td>\n",
       "      <td>27.49</td>\n",
       "      <td>20.04</td>\n",
       "      <td>9.20</td>\n",
       "      <td>0.06</td>\n",
       "      <td>0.05</td>\n",
       "      <td>0.07</td>\n",
       "    </tr>\n",
       "    <tr>\n",
       "      <th>4</th>\n",
       "      <td>Platform</td>\n",
       "      <td>18.14</td>\n",
       "      <td>15.58</td>\n",
       "      <td>4.79</td>\n",
       "      <td>0.04</td>\n",
       "      <td>0.04</td>\n",
       "      <td>0.03</td>\n",
       "    </tr>\n",
       "    <tr>\n",
       "      <th>5</th>\n",
       "      <td>Puzzle</td>\n",
       "      <td>0.83</td>\n",
       "      <td>1.00</td>\n",
       "      <td>1.18</td>\n",
       "      <td>0.00</td>\n",
       "      <td>0.00</td>\n",
       "      <td>0.01</td>\n",
       "    </tr>\n",
       "    <tr>\n",
       "      <th>6</th>\n",
       "      <td>Racing</td>\n",
       "      <td>12.96</td>\n",
       "      <td>20.19</td>\n",
       "      <td>2.30</td>\n",
       "      <td>0.03</td>\n",
       "      <td>0.05</td>\n",
       "      <td>0.02</td>\n",
       "    </tr>\n",
       "    <tr>\n",
       "      <th>7</th>\n",
       "      <td>Role-Playing</td>\n",
       "      <td>46.40</td>\n",
       "      <td>36.97</td>\n",
       "      <td>51.04</td>\n",
       "      <td>0.11</td>\n",
       "      <td>0.09</td>\n",
       "      <td>0.36</td>\n",
       "    </tr>\n",
       "    <tr>\n",
       "      <th>8</th>\n",
       "      <td>Shooter</td>\n",
       "      <td>109.74</td>\n",
       "      <td>87.86</td>\n",
       "      <td>6.61</td>\n",
       "      <td>0.25</td>\n",
       "      <td>0.22</td>\n",
       "      <td>0.05</td>\n",
       "    </tr>\n",
       "    <tr>\n",
       "      <th>9</th>\n",
       "      <td>Simulation</td>\n",
       "      <td>4.86</td>\n",
       "      <td>10.92</td>\n",
       "      <td>4.52</td>\n",
       "      <td>0.01</td>\n",
       "      <td>0.03</td>\n",
       "      <td>0.03</td>\n",
       "    </tr>\n",
       "    <tr>\n",
       "      <th>10</th>\n",
       "      <td>Sports</td>\n",
       "      <td>65.27</td>\n",
       "      <td>60.52</td>\n",
       "      <td>5.41</td>\n",
       "      <td>0.15</td>\n",
       "      <td>0.15</td>\n",
       "      <td>0.04</td>\n",
       "    </tr>\n",
       "    <tr>\n",
       "      <th>11</th>\n",
       "      <td>Strategy</td>\n",
       "      <td>3.28</td>\n",
       "      <td>4.22</td>\n",
       "      <td>1.77</td>\n",
       "      <td>0.01</td>\n",
       "      <td>0.01</td>\n",
       "      <td>0.01</td>\n",
       "    </tr>\n",
       "  </tbody>\n",
       "</table>\n",
       "</div>"
      ],
      "text/plain": [
       "           genre  na_sales  eu_sales  jp_sales  na_prop  eu_prop  jp_prop\n",
       "0         Action    126.05    118.13     40.49     0.29     0.30     0.29\n",
       "1      Adventure      7.14      8.25      5.82     0.02     0.02     0.04\n",
       "2       Fighting     15.55      8.55      7.65     0.04     0.02     0.05\n",
       "3           Misc     27.49     20.04      9.20     0.06     0.05     0.07\n",
       "4       Platform     18.14     15.58      4.79     0.04     0.04     0.03\n",
       "5         Puzzle      0.83      1.00      1.18     0.00     0.00     0.01\n",
       "6         Racing     12.96     20.19      2.30     0.03     0.05     0.02\n",
       "7   Role-Playing     46.40     36.97     51.04     0.11     0.09     0.36\n",
       "8        Shooter    109.74     87.86      6.61     0.25     0.22     0.05\n",
       "9     Simulation      4.86     10.92      4.52     0.01     0.03     0.03\n",
       "10        Sports     65.27     60.52      5.41     0.15     0.15     0.04\n",
       "11      Strategy      3.28      4.22      1.77     0.01     0.01     0.01"
      ]
     },
     "execution_count": 46,
     "metadata": {},
     "output_type": "execute_result"
    }
   ],
   "source": [
    "# Выбираем колонки с регионами\n",
    "columns = ['na_sales', 'eu_sales', 'jp_sales']\n",
    "\n",
    "# Считаем суммарные продажи по каждому жанру в регионах\n",
    "genres = act_df.groupby('genre')[columns].sum().reset_index()\n",
    "\n",
    "# Для каждого жанра считаем доли продаж по каждой платформе\n",
    "for col in columns:\n",
    "    total = sum(act_df[col])\n",
    "    prefix = col.split('_')[0]\n",
    "    genres[prefix+'_prop'] = round(genres[col] / total, 2)\n",
    "\n",
    "# Смотрим на результат\n",
    "genres"
   ]
  },
  {
   "cell_type": "code",
   "execution_count": 91,
   "metadata": {},
   "outputs": [
    {
     "data": {
      "text/html": [
       "<div>\n",
       "<style scoped>\n",
       "    .dataframe tbody tr th:only-of-type {\n",
       "        vertical-align: middle;\n",
       "    }\n",
       "\n",
       "    .dataframe tbody tr th {\n",
       "        vertical-align: top;\n",
       "    }\n",
       "\n",
       "    .dataframe thead th {\n",
       "        text-align: right;\n",
       "    }\n",
       "</style>\n",
       "<table border=\"1\" class=\"dataframe\">\n",
       "  <thead>\n",
       "    <tr style=\"text-align: right;\">\n",
       "      <th></th>\n",
       "      <th>genre</th>\n",
       "      <th>na_prop</th>\n",
       "    </tr>\n",
       "  </thead>\n",
       "  <tbody>\n",
       "    <tr>\n",
       "      <th>0</th>\n",
       "      <td>Action</td>\n",
       "      <td>0.29</td>\n",
       "    </tr>\n",
       "    <tr>\n",
       "      <th>1</th>\n",
       "      <td>Shooter</td>\n",
       "      <td>0.25</td>\n",
       "    </tr>\n",
       "    <tr>\n",
       "      <th>2</th>\n",
       "      <td>Sports</td>\n",
       "      <td>0.15</td>\n",
       "    </tr>\n",
       "    <tr>\n",
       "      <th>3</th>\n",
       "      <td>Role-Playing</td>\n",
       "      <td>0.11</td>\n",
       "    </tr>\n",
       "    <tr>\n",
       "      <th>4</th>\n",
       "      <td>Misc</td>\n",
       "      <td>0.06</td>\n",
       "    </tr>\n",
       "    <tr>\n",
       "      <th>5</th>\n",
       "      <td>other</td>\n",
       "      <td>0.14</td>\n",
       "    </tr>\n",
       "  </tbody>\n",
       "</table>\n",
       "</div>"
      ],
      "text/plain": [
       "          genre  na_prop\n",
       "0        Action     0.29\n",
       "1       Shooter     0.25\n",
       "2        Sports     0.15\n",
       "3  Role-Playing     0.11\n",
       "4          Misc     0.06\n",
       "5         other     0.14"
      ]
     },
     "execution_count": 91,
     "metadata": {},
     "output_type": "execute_result"
    }
   ],
   "source": [
    "# Смотрим отдельно на топ-5 жанров в регионе Северная Америка\n",
    "na_genres = genres[['genre', 'na_prop']].sort_values(by='na_prop', ascending=False) \\\n",
    "                                        .reset_index(drop=True)[:5]\n",
    "\n",
    "# Добавляем оставшуюся долю других платформ\n",
    "na_genres.loc[5] = ['other', 1-na_genres['na_prop'].sum()]\n",
    "\n",
    "na_genres"
   ]
  },
  {
   "cell_type": "code",
   "execution_count": 93,
   "metadata": {},
   "outputs": [
    {
     "data": {
      "image/png": "[encoded data removed]",
      "text/plain": [
       "<Figure size 432x432 with 1 Axes>"
      ]
     },
     "metadata": {},
     "output_type": "display_data"
    }
   ],
   "source": [
    "na_genres.plot.pie(\n",
    "    y='na_prop', \n",
    "    figsize=(6, 6),\n",
    "    title='Доли продаж в регионе Северная Америка',\n",
    "    ylabel='Жанр',\n",
    "    labels=na_genres['genre'],\n",
    "    normalize=True\n",
    ");"
   ]
  },
  {
   "cell_type": "markdown",
   "metadata": {},
   "source": [
    "В Северной Америке топ-5 жанров по продажам занимают: `Action`, `Shooter`, `Sports`, `Role-Playing` и `Misc`. Лидирует `Action` с долей продаж чуть больше четверти, на втором месте `Shooter` с четвертью продаж. Сильнее всего отстаёт `Misc` с долей в 6%."
   ]
  },
  {
   "cell_type": "code",
   "execution_count": 94,
   "metadata": {},
   "outputs": [
    {
     "data": {
      "text/html": [
       "<div>\n",
       "<style scoped>\n",
       "    .dataframe tbody tr th:only-of-type {\n",
       "        vertical-align: middle;\n",
       "    }\n",
       "\n",
       "    .dataframe tbody tr th {\n",
       "        vertical-align: top;\n",
       "    }\n",
       "\n",
       "    .dataframe thead th {\n",
       "        text-align: right;\n",
       "    }\n",
       "</style>\n",
       "<table border=\"1\" class=\"dataframe\">\n",
       "  <thead>\n",
       "    <tr style=\"text-align: right;\">\n",
       "      <th></th>\n",
       "      <th>genre</th>\n",
       "      <th>eu_prop</th>\n",
       "    </tr>\n",
       "  </thead>\n",
       "  <tbody>\n",
       "    <tr>\n",
       "      <th>0</th>\n",
       "      <td>Action</td>\n",
       "      <td>0.30</td>\n",
       "    </tr>\n",
       "    <tr>\n",
       "      <th>1</th>\n",
       "      <td>Shooter</td>\n",
       "      <td>0.22</td>\n",
       "    </tr>\n",
       "    <tr>\n",
       "      <th>2</th>\n",
       "      <td>Sports</td>\n",
       "      <td>0.15</td>\n",
       "    </tr>\n",
       "    <tr>\n",
       "      <th>3</th>\n",
       "      <td>Role-Playing</td>\n",
       "      <td>0.09</td>\n",
       "    </tr>\n",
       "    <tr>\n",
       "      <th>4</th>\n",
       "      <td>Misc</td>\n",
       "      <td>0.05</td>\n",
       "    </tr>\n",
       "    <tr>\n",
       "      <th>5</th>\n",
       "      <td>other</td>\n",
       "      <td>0.19</td>\n",
       "    </tr>\n",
       "  </tbody>\n",
       "</table>\n",
       "</div>"
      ],
      "text/plain": [
       "          genre  eu_prop\n",
       "0        Action     0.30\n",
       "1       Shooter     0.22\n",
       "2        Sports     0.15\n",
       "3  Role-Playing     0.09\n",
       "4          Misc     0.05\n",
       "5         other     0.19"
      ]
     },
     "execution_count": 94,
     "metadata": {},
     "output_type": "execute_result"
    }
   ],
   "source": [
    "# Смотрим отдельно на топ-5 жанров в регионе Европа\n",
    "eu_genres = genres[['genre', 'eu_prop']].sort_values(by='eu_prop', ascending=False) \\\n",
    "                                        .reset_index(drop=True)[:5]\n",
    "\n",
    "# Добавляем оставшуюся долю других платформ\n",
    "eu_genres.loc[5] = ['other', 1-eu_genres['eu_prop'].sum()]\n",
    "\n",
    "eu_genres"
   ]
  },
  {
   "cell_type": "code",
   "execution_count": 96,
   "metadata": {},
   "outputs": [
    {
     "data": {
      "image/png": "[encoded data removed]",
      "text/plain": [
       "<Figure size 432x432 with 1 Axes>"
      ]
     },
     "metadata": {},
     "output_type": "display_data"
    }
   ],
   "source": [
    "eu_genres.plot.pie(\n",
    "    y='eu_prop', \n",
    "    figsize=(6, 6),\n",
    "    title='Доли продаж в регионе Европа',\n",
    "    ylabel='Жанр',\n",
    "    labels=eu_genres['genre'],\n",
    "    normalize=True\n",
    ");"
   ]
  },
  {
   "cell_type": "markdown",
   "metadata": {},
   "source": [
    "В Европе в топ-5 жанров входят те же, что и в Америке, приблизительно с теми же долями продаж. По прежнему лидирует `Action` - чуть меньше трети всех продаж. Доля жанра `Shooter` слегка ниже, чем в Америке."
   ]
  },
  {
   "cell_type": "code",
   "execution_count": 97,
   "metadata": {},
   "outputs": [
    {
     "data": {
      "text/html": [
       "<div>\n",
       "<style scoped>\n",
       "    .dataframe tbody tr th:only-of-type {\n",
       "        vertical-align: middle;\n",
       "    }\n",
       "\n",
       "    .dataframe tbody tr th {\n",
       "        vertical-align: top;\n",
       "    }\n",
       "\n",
       "    .dataframe thead th {\n",
       "        text-align: right;\n",
       "    }\n",
       "</style>\n",
       "<table border=\"1\" class=\"dataframe\">\n",
       "  <thead>\n",
       "    <tr style=\"text-align: right;\">\n",
       "      <th></th>\n",
       "      <th>genre</th>\n",
       "      <th>jp_prop</th>\n",
       "    </tr>\n",
       "  </thead>\n",
       "  <tbody>\n",
       "    <tr>\n",
       "      <th>0</th>\n",
       "      <td>Role-Playing</td>\n",
       "      <td>0.36</td>\n",
       "    </tr>\n",
       "    <tr>\n",
       "      <th>1</th>\n",
       "      <td>Action</td>\n",
       "      <td>0.29</td>\n",
       "    </tr>\n",
       "    <tr>\n",
       "      <th>2</th>\n",
       "      <td>Misc</td>\n",
       "      <td>0.07</td>\n",
       "    </tr>\n",
       "    <tr>\n",
       "      <th>3</th>\n",
       "      <td>Fighting</td>\n",
       "      <td>0.05</td>\n",
       "    </tr>\n",
       "    <tr>\n",
       "      <th>4</th>\n",
       "      <td>Shooter</td>\n",
       "      <td>0.05</td>\n",
       "    </tr>\n",
       "    <tr>\n",
       "      <th>5</th>\n",
       "      <td>other</td>\n",
       "      <td>0.18</td>\n",
       "    </tr>\n",
       "  </tbody>\n",
       "</table>\n",
       "</div>"
      ],
      "text/plain": [
       "          genre  jp_prop\n",
       "0  Role-Playing     0.36\n",
       "1        Action     0.29\n",
       "2          Misc     0.07\n",
       "3      Fighting     0.05\n",
       "4       Shooter     0.05\n",
       "5         other     0.18"
      ]
     },
     "execution_count": 97,
     "metadata": {},
     "output_type": "execute_result"
    }
   ],
   "source": [
    "# Смотрим отдельно на топ-5 жанров в регионе Япония\n",
    "jp_genres = genres[['genre', 'jp_prop']].sort_values(by='jp_prop', ascending=False) \\\n",
    "                                        .reset_index(drop=True)[:5]\n",
    "\n",
    "# Добавляем оставшуюся долю других платформ\n",
    "jp_genres.loc[5] = ['other', 1-jp_genres['jp_prop'].sum()]\n",
    "\n",
    "jp_genres"
   ]
  },
  {
   "cell_type": "code",
   "execution_count": 98,
   "metadata": {},
   "outputs": [
    {
     "data": {
      "image/png": "[encoded data removed]",
      "text/plain": [
       "<Figure size 432x432 with 1 Axes>"
      ]
     },
     "metadata": {},
     "output_type": "display_data"
    }
   ],
   "source": [
    "jp_genres.plot.pie(\n",
    "    y='jp_prop', \n",
    "    figsize=(6, 6),\n",
    "    title='Доли продаж в регионе Япония',\n",
    "    ylabel='Жанр',\n",
    "    labels=jp_genres['genre'],\n",
    "    normalize=True\n",
    ");"
   ]
  },
  {
   "cell_type": "markdown",
   "metadata": {},
   "source": [
    "В Японии в топ-5 появляется иной жанр - `Fighting`, а на лидирующей позиции находится `Role-Playing` с долей продаж чуть больше трети - 36%, что на 6% выше, чем в других странах. `Action` занимает второе место и чуть меньше трети всех продаж. Доли продаж всех остальных жанров в регионе очень незначительны и составляют менее 7% на каждый."
   ]
  },
  {
   "cell_type": "markdown",
   "metadata": {},
   "source": [
    "**Выводы:**\n",
    "- Во всех странах одну из лидирующих позиций занимает жанр `Action`\n",
    "- В Японии лидирует жанр `Role-Playing`, а в Америке и Европе - `Action`\n",
    "- Во всех странах доля продаж жанра `Action` составляет около трети всех продаж\n",
    "- В Америке и Европе на втором месте находится жанр `Shooter` - около четверти продаж, однако в Японии данный жанр продается в 4 раза реже - около 5% всех продаж"
   ]
  },
  {
   "cell_type": "markdown",
   "metadata": {},
   "source": [
    "### Продажи в зависимости от рейтинга ESRB"
   ]
  },
  {
   "cell_type": "markdown",
   "metadata": {},
   "source": [
    "Создадим сводную таблицу, в которой будет хранится информация о суммарных продажах в зависимости от рейтинга для каждого региона, а также доля этих продаж."
   ]
  },
  {
   "cell_type": "code",
   "execution_count": 102,
   "metadata": {
    "scrolled": true
   },
   "outputs": [
    {
     "data": {
      "text/html": [
       "<div>\n",
       "<style scoped>\n",
       "    .dataframe tbody tr th:only-of-type {\n",
       "        vertical-align: middle;\n",
       "    }\n",
       "\n",
       "    .dataframe tbody tr th {\n",
       "        vertical-align: top;\n",
       "    }\n",
       "\n",
       "    .dataframe thead th {\n",
       "        text-align: right;\n",
       "    }\n",
       "</style>\n",
       "<table border=\"1\" class=\"dataframe\">\n",
       "  <thead>\n",
       "    <tr style=\"text-align: right;\">\n",
       "      <th></th>\n",
       "      <th>na_sales</th>\n",
       "      <th>eu_sales</th>\n",
       "      <th>jp_sales</th>\n",
       "      <th>na_prop</th>\n",
       "      <th>eu_prop</th>\n",
       "      <th>jp_prop</th>\n",
       "    </tr>\n",
       "    <tr>\n",
       "      <th>rating</th>\n",
       "      <th></th>\n",
       "      <th></th>\n",
       "      <th></th>\n",
       "      <th></th>\n",
       "      <th></th>\n",
       "      <th></th>\n",
       "    </tr>\n",
       "  </thead>\n",
       "  <tbody>\n",
       "    <tr>\n",
       "      <th>E</th>\n",
       "      <td>79.05</td>\n",
       "      <td>83.36</td>\n",
       "      <td>15.14</td>\n",
       "      <td>0.18</td>\n",
       "      <td>0.21</td>\n",
       "      <td>0.11</td>\n",
       "    </tr>\n",
       "    <tr>\n",
       "      <th>E10+</th>\n",
       "      <td>54.24</td>\n",
       "      <td>42.69</td>\n",
       "      <td>5.89</td>\n",
       "      <td>0.12</td>\n",
       "      <td>0.11</td>\n",
       "      <td>0.04</td>\n",
       "    </tr>\n",
       "    <tr>\n",
       "      <th>M</th>\n",
       "      <td>165.21</td>\n",
       "      <td>145.32</td>\n",
       "      <td>14.11</td>\n",
       "      <td>0.38</td>\n",
       "      <td>0.37</td>\n",
       "      <td>0.10</td>\n",
       "    </tr>\n",
       "    <tr>\n",
       "      <th>T</th>\n",
       "      <td>49.79</td>\n",
       "      <td>41.95</td>\n",
       "      <td>20.59</td>\n",
       "      <td>0.11</td>\n",
       "      <td>0.11</td>\n",
       "      <td>0.15</td>\n",
       "    </tr>\n",
       "    <tr>\n",
       "      <th>None</th>\n",
       "      <td>89.42</td>\n",
       "      <td>78.91</td>\n",
       "      <td>85.05</td>\n",
       "      <td>0.21</td>\n",
       "      <td>0.20</td>\n",
       "      <td>0.60</td>\n",
       "    </tr>\n",
       "  </tbody>\n",
       "</table>\n",
       "</div>"
      ],
      "text/plain": [
       "        na_sales  eu_sales  jp_sales  na_prop  eu_prop  jp_prop\n",
       "rating                                                         \n",
       "E          79.05     83.36     15.14     0.18     0.21     0.11\n",
       "E10+       54.24     42.69      5.89     0.12     0.11     0.04\n",
       "M         165.21    145.32     14.11     0.38     0.37     0.10\n",
       "T          49.79     41.95     20.59     0.11     0.11     0.15\n",
       "None       89.42     78.91     85.05     0.21     0.20     0.60"
      ]
     },
     "execution_count": 102,
     "metadata": {},
     "output_type": "execute_result"
    }
   ],
   "source": [
    "# Выбираем колонки с регионами\n",
    "columns = ['na_sales', 'eu_sales', 'jp_sales']\n",
    "\n",
    "# Считаем суммарные продажи для каждого рейтинга по регионам\n",
    "rating = act_df.groupby(['rating'])[columns].sum()\n",
    "\n",
    "# Для каждого региона считаем долю продаж по рейтингу\n",
    "for col in columns:\n",
    "    total = sum(act_df[col])\n",
    "    prefix = col.split('_')[0]\n",
    "    rating[prefix+'_prop'] = round(rating[col] / total, 2)\n",
    "    \n",
    "# Обозначаем колонки с долями продаж\n",
    "props = ['na_prop', 'eu_prop', 'jp_prop']\n",
    "   \n",
    "# Отдельно считаем суммарные продажи по играм без выставленного рейтинга\n",
    "rating.loc['None', :] = act_df[act_df['rating'].isna()][columns].sum()\n",
    "\n",
    "# Считаем доли продаж для игр без рейтинга по регионам\n",
    "rating.loc['None', props] = [1-rating[x].sum() for x in props]\n",
    "\n",
    "# Смотрим на результат\n",
    "rating"
   ]
  },
  {
   "cell_type": "code",
   "execution_count": 154,
   "metadata": {},
   "outputs": [
    {
     "name": "stderr",
     "output_type": "stream",
     "text": [
      "No handles with labels found to put in legend.\n",
      "No handles with labels found to put in legend.\n"
     ]
    },
    {
     "data": {
      "image/png": "[encoded data removed]",
      "text/plain": [
       "<Figure size 864x432 with 3 Axes>"
      ]
     },
     "metadata": {},
     "output_type": "display_data"
    }
   ],
   "source": [
    "data = rating[props]\n",
    "\n",
    "fig, axes = plt.subplots(1, len(data.columns), figsize=(12,6))\n",
    "fig.suptitle(\"Доли продаж по типу рейтинга по регионам\", fontsize=15)\n",
    "\n",
    "for i, ax in enumerate(fig.axes):\n",
    "    col = data.iloc[:, i]\n",
    "    ax = fig.axes[i]\n",
    "    pcnt_col = col / col.sum() * 100\n",
    "    \n",
    "    if pcnt_col.name == 'na_prop':\n",
    "        ax.set_title('Северная Америка')\n",
    "    elif pcnt_col.name == 'eu_prop':\n",
    "        ax.set_title('Европа')\n",
    "    elif pcnt_col.name == 'jp_prop':\n",
    "        ax.set_title('Япония')\n",
    "        \n",
    "    ax.pie(pcnt_col.values, labels=pcnt_col.index, startangle=90)\n",
    "    ax.axis(\"equal\")\n",
    "    plt.legend(loc=\"lower right\", title=\"Рейтинг\", fancybox=True,\n",
    "               ncol=1, shadow=True)\n",
    "    \n",
    "plt.subplots_adjust(top=0.8)\n",
    "plt.show()"
   ]
  },
  {
   "cell_type": "markdown",
   "metadata": {},
   "source": [
    "**Выводы:**\n",
    "- у Америки и Европы одинаковые доли продаж по рейтингам\n",
    "- В Америке и Европе самая большая доля продаж у рейтинга `M` - Взрослые и находится на уровне 37% продаж\n",
    "- В Японии большая доля продаж скрывается за играми без выставленного рейтинга (больше половины продаж), из имеющихся лидирует рейтинг `T` - Подросткам - 15% всех продаж\n",
    "- С уверенностью можно сказать, что в Японии рейтинг не влияет на продажи, а в Америке и Европе влияет, лидирует рейтинг `M` - Взрослые"
   ]
  },
  {
   "cell_type": "markdown",
   "metadata": {},
   "source": [
    "### Промежуточные выводы\n",
    "\n",
    "<u>Платформы:</u>\n",
    "- Лидирующие платформы с самыми большими долями продаж - `PS4` (Америка и Европа) и `3DS` (Япония)\n",
    "- Доли продаж `XOne` и `X360` держаться примерно на одном уровне\n",
    "- В Америке и Европе продажи `PS4` превышают продажи `PS3` почти в два раза\n",
    "\n",
    "<u>Жанры:</u>\n",
    "- Лидирующую позицию по продажам занимают жанры `Action` (Америка и Европа) и `Role-Playing` (Япония)\n",
    "- Во всех странах доля продаж жанра `Action` составляет около трети всех продаж\n",
    "- В Америке и Европе на втором месте находится жанр `Shooter` - около четверти продаж\n",
    "\n",
    "<u>Рейтинги:</u>\n",
    "- В Америке и Европе рейтинг влияет на продажи и лидируют продажи игр в рейтинге `M` - Взрослые (около 37% продаж)\n",
    "- В Японии рейтинг не влияет на продажи, но из имеющихся лидирует `T` - Подросткам"
   ]
  },
  {
   "cell_type": "markdown",
   "metadata": {},
   "source": [
    "## Проверка гипотез"
   ]
  },
  {
   "cell_type": "markdown",
   "metadata": {},
   "source": [
    "### Гипотеза 1\n",
    "\n",
    "**Средние пользовательские рейтинги платформ `Xbox One` и `PC` одинаковые.**\n",
    "\n",
    "Сформулируем нулевую и альтернативную гипотезы:\n",
    "\n",
    "**H0** - средний пользовательский рейтинг `XOne` **равен** среднему пользовательскому рейтингу `PC`\n",
    "\n",
    "**H1** - средний пользовательский рейтинг `XOne` **не равен** среднему пользовательскому рейтингу `PC`\n",
    "\n",
    "Будем проводить двувыборочный t-тест для двух независимых выборок."
   ]
  },
  {
   "cell_type": "code",
   "execution_count": 60,
   "metadata": {},
   "outputs": [
    {
     "name": "stdout",
     "output_type": "stream",
     "text": [
      "Размер выборки по Xone: 182\n",
      "Размер выборки по PC: 189\n",
      "\n",
      "Средняя пользовательская оценка платформы XOne: 6.52\n",
      "Средняя пользовательская оценка платформы PC: 6.52\n",
      "\n",
      "p-значение: 1.1403570399989461e-08\n",
      "\n",
      "Отвергаем нулевую гипотезу\n"
     ]
    }
   ],
   "source": [
    "# Выберем только те записи, в которых имеется оценка от пользователей\n",
    "act_with_score_df = act_df.query('user_score_type == \"with_score\"')\n",
    "\n",
    "# Сформируем выборки\n",
    "xone_score = act_with_score_df.query('platform == \"XOne\"')['user_score']\n",
    "pc_score = act_df.query('platform == \"PC\"')['user_score']\n",
    "\n",
    "print(f'Размер выборки по Xone: {xone_score.shape[0]}')\n",
    "print(f'Размер выборки по PC: {pc_score.shape[0]}\\n')\n",
    "\n",
    "print(f'Средняя пользовательская оценка платформы XOne: {round(xone_score.mean(), 2)}')\n",
    "print(f'Средняя пользовательская оценка платформы PC: {round(xone_score.mean(), 2)}\\n')\n",
    "\n",
    "# Выбираем уровень статистической значимости\n",
    "alpha = 0.05\n",
    "\n",
    "results = st.ttest_ind(xone_score, pc_score, alternative='two-sided')\n",
    "\n",
    "print(f'p-значение: {results.pvalue}\\n')\n",
    "\n",
    "if results.pvalue < alpha:\n",
    "    print('Отвергаем нулевую гипотезу')\n",
    "else:\n",
    "    print('Не получилось отвергнуть нулевую гипотезу')"
   ]
  },
  {
   "cell_type": "markdown",
   "metadata": {},
   "source": [
    "**Вывод:** Средние пользовательские рейтинги платформ `XOne` и `PC` **разные**."
   ]
  },
  {
   "cell_type": "markdown",
   "metadata": {},
   "source": [
    "### Гипотеза 2\n",
    "\n",
    "**Средние пользовательские рейтинги жанров `Action` (англ. «действие», экшен-игры) и `Sports` (англ. «спортивные соревнования») разные.**\n",
    "\n",
    "Сформулируем нулевую и альтернативную гипотезы:\n",
    "\n",
    "**H0** - средний пользовательский рейтинг `Action` **равен** среднему пользовательскому рейтингу `Sports`\n",
    "\n",
    "**H1** - средний пользовательский рейтинг `Action` **не равен** среднему пользовательскому рейтингу `Sports`\n",
    "\n",
    "Будем проводить двувыборочный t-тест для двух независимых выборок."
   ]
  },
  {
   "cell_type": "code",
   "execution_count": 64,
   "metadata": {},
   "outputs": [
    {
     "name": "stdout",
     "output_type": "stream",
     "text": [
      "Размер выборки по Action: 389\n",
      "Размер выборки по Sports: 214\n",
      "\n",
      "Средняя пользовательская оценка жанра Action: 6.84\n",
      "Средняя пользовательская оценка жанра Sports: 3.92\n",
      "\n",
      "p-значение: 5.944315797678289e-56\n",
      "\n",
      "Отвергаем нулевую гипотезу\n"
     ]
    }
   ],
   "source": [
    "# Выберем только те записи, в которых имеется оценка от пользователей\n",
    "act_with_score_df = act_df.query('user_score_type == \"with_score\"')\n",
    "\n",
    "# Сформируем выборки\n",
    "action_score = act_with_score_df.query('genre == \"Action\"')['user_score']\n",
    "sports_score = act_df.query('genre == \"Sports\"')['user_score']\n",
    "\n",
    "print(f'Размер выборки по Action: {action_score.shape[0]}')\n",
    "print(f'Размер выборки по Sports: {sports_score.shape[0]}\\n')\n",
    "\n",
    "print(f'Средняя пользовательская оценка жанра Action: {round(action_score.mean(), 2)}')\n",
    "print(f'Средняя пользовательская оценка жанра Sports: {round(sports_score.mean(), 2)}\\n')\n",
    "\n",
    "# Выбираем уровень статистической значимости\n",
    "alpha = 0.05\n",
    "\n",
    "results = st.ttest_ind(action_score, sports_score, alternative='two-sided')\n",
    "\n",
    "print(f'p-значение: {results.pvalue}\\n')\n",
    "\n",
    "if results.pvalue < alpha:\n",
    "    print('Отвергаем нулевую гипотезу')\n",
    "else:\n",
    "    print('Не получилось отвергнуть нулевую гипотезу')"
   ]
  },
  {
   "cell_type": "markdown",
   "metadata": {},
   "source": [
    "**Вывод:** Средние пользовательские рейтинги жанров `Action` и `Sports` действительно **разные**."
   ]
  },
  {
   "cell_type": "markdown",
   "metadata": {},
   "source": [
    "## Итоги"
   ]
  },
  {
   "cell_type": "markdown",
   "metadata": {},
   "source": [
    "**Целью исследования являлось:**\n",
    "\n",
    "Используя исторические данные о продажах игр, оценки пользователей и экспертов, жанры и платформы, выявить определяющие успешность игры закономерности. Выработать принцип работы с данными для построения прогнозов и построить прогноз на 2017 год.\n",
    "\n",
    "**По итогам предварительной обработки данных были следаны следующие наблюдения:**\n",
    "\n",
    "- Имеется около 50% записей с оценкой пользователей, 40% без оценки пользователей и 10% с оценкой _tbd_\n",
    "- Приблизительно у половины игр отсутствует оценка от критиков\n",
    "- Записи с устаревшим рейтингом `K-A` были заменены на современный `E`\n",
    "- Рейтинг имеется у приблизительно 60% игр\n",
    "- Максимальное количество продаж составляет 82.5 млн копий\n",
    "\n",
    "**Результаты исследовательского анализа данных:**\n",
    "\n",
    "- Примерно каждые 5 лет исчезают старые платформы и появляются новые \n",
    "- Одна платформа в среднем существует около 10 лет\n",
    "\n",
    "**Приницп работы с даными:**\n",
    "\n",
    "Для построения прогноза необходимо проанализировать данные за последние 3-5 лет, обращая внимание на последнюю смену платформ. Брать период, который начинается с последней смены платформ, предшествующей анализируемому периоду.\n",
    "\n",
    "> **За актуальный период для построения прогноза на 2017 год были выбраны года 2013-2016. Все дальнейшие результаты исследования опирались на данный актуальный период.**\n",
    "\n",
    "<u>Общие наблюдения:</u>\n",
    "- Потенциально прибыльными платформами могут быть `PS4`, `WiiU` и `3DS`\n",
    "- Самое высокое среднее значение продаж у платформы `X360`, а самое низкое у `PSP`\n",
    "- Оценки пользователей не влияют на продажи\n",
    "- Больше доля продаж у игр, которые оценивали пользователи и критики, нежели у игр без оценок\n",
    "- Чем выше оценка критиков, тем больше продажи, однако данная связь не достаточно сильная\n",
    "- Самый популярный жанр по количеству выпущенных игр это `Action`, а самый непопулярный - `Puzzle`\n",
    "\n",
    "<u>В Северной Америке и Европе по продажам:</u>\n",
    "- Лидирующая платформа - `PS4`, на втором месте `XOne` и `X360`\n",
    "- Лидирующий жанр - `Action`, на втором месте `Shooter`\n",
    "- Лидирующий рейтинг - `M` - Взрослые\n",
    "- Потенциально прибыльными могут быть также `PS3` и `3DS`\n",
    "- Самый не популярный жанр - `Puzzle`\n",
    "- Самые низкие продажи также у `Strategy` и `Adventure`\n",
    "\n",
    "**Прогноз для Северной Америки и Европы:**\n",
    "\n",
    "> В 2017 году стоит уделить внимание играм в жанре `Action & Shooter` в рейтинге `M` - Взрослые на платформе `PS4`. Дополнительно можно обратить внимание на оценки критиков, но не стоит полностью на них опираться.\n",
    "\n",
    "<u>В Японии по продажам:</u>\n",
    "- Лидирующая платформа - `3DS` (около половины всех продаж), на втором месте `PS3`\n",
    "- Лидирующий жанр - `Role-Playing`, на втором месте `Action`\n",
    "- Рейтинг игр не влияет на продажи, из имеющихся лидирует `T` - Подросткам\n",
    "- Продажи `PS3` опережают продажи `PS4` на 5%\n",
    "- Потенциально прибыльная платформа `3DS`\n",
    "- В отличие от Америки и Европы в топ-5 жанров входит `Fighting`\n",
    "\n",
    "**Прогноз для Японии:**\n",
    "\n",
    "> В 2017 году стоит уделить внимание играм в жанре `Role-Playing & Action` в любом рейтинге на платформе `3DS`. Дополнительно можно обратить внимание на оценки критиков, но не стоит полностью на них опираться.\n",
    "\n",
    "<u>Дополнительные наблюдения:</u>\n",
    "- Средние пользовательские рейтинги платформ `XOne` и `PC` разные\n",
    "- Средние пользовательские рейтинги жанров `Action` и `Sports` разные"
   ]
  },
  {
   "cell_type": "code",
   "execution_count": null,
   "metadata": {},
   "outputs": [],
   "source": []
  }
 ],
 "metadata": {
  "ExecuteTimeLog": [
   {
    "duration": 397,
    "start_time": "2024-11-27T18:47:07.591Z"
   },
   {
    "duration": 3,
    "start_time": "2024-11-27T18:47:17.916Z"
   },
   {
    "duration": 225,
    "start_time": "2024-11-27T18:48:10.378Z"
   },
   {
    "duration": 17,
    "start_time": "2024-11-27T18:51:22.153Z"
   },
   {
    "duration": 5,
    "start_time": "2024-11-27T19:03:23.619Z"
   },
   {
    "duration": 64,
    "start_time": "2024-11-27T19:05:25.583Z"
   },
   {
    "duration": 3,
    "start_time": "2024-11-27T19:05:28.939Z"
   },
   {
    "duration": 3,
    "start_time": "2024-11-27T19:05:49.031Z"
   },
   {
    "duration": 6,
    "start_time": "2024-11-27T19:08:24.636Z"
   },
   {
    "duration": 5,
    "start_time": "2024-11-27T19:08:29.604Z"
   },
   {
    "duration": 10,
    "start_time": "2024-11-27T19:15:15.276Z"
   },
   {
    "duration": 4,
    "start_time": "2024-11-27T19:15:29.691Z"
   },
   {
    "duration": 546,
    "start_time": "2024-11-27T19:16:36.579Z"
   },
   {
    "duration": 112,
    "start_time": "2024-11-27T19:16:49.469Z"
   },
   {
    "duration": 24,
    "start_time": "2024-11-27T19:19:46.992Z"
   },
   {
    "duration": 24,
    "start_time": "2024-11-27T19:30:22.280Z"
   },
   {
    "duration": 15,
    "start_time": "2024-11-27T19:30:34.882Z"
   },
   {
    "duration": 119,
    "start_time": "2024-11-27T19:30:41.735Z"
   },
   {
    "duration": 9,
    "start_time": "2024-11-27T19:30:50.898Z"
   },
   {
    "duration": 15,
    "start_time": "2024-11-27T19:32:23.430Z"
   },
   {
    "duration": 15,
    "start_time": "2024-11-27T19:32:42.572Z"
   },
   {
    "duration": 11,
    "start_time": "2024-11-27T19:32:48.625Z"
   },
   {
    "duration": 28,
    "start_time": "2024-11-27T19:37:22.112Z"
   },
   {
    "duration": 44,
    "start_time": "2024-11-27T19:41:12.338Z"
   },
   {
    "duration": 12,
    "start_time": "2024-11-27T19:41:21.647Z"
   },
   {
    "duration": 12,
    "start_time": "2024-11-27T19:41:34.344Z"
   },
   {
    "duration": 8,
    "start_time": "2024-11-27T19:41:37.844Z"
   },
   {
    "duration": 16,
    "start_time": "2024-11-27T19:42:02.134Z"
   },
   {
    "duration": 5,
    "start_time": "2024-11-27T19:43:33.483Z"
   },
   {
    "duration": 8,
    "start_time": "2024-11-27T19:43:43.981Z"
   },
   {
    "duration": 11,
    "start_time": "2024-11-27T19:44:26.523Z"
   },
   {
    "duration": 11,
    "start_time": "2024-11-27T19:44:30.416Z"
   },
   {
    "duration": 216,
    "start_time": "2024-11-27T19:44:38.630Z"
   },
   {
    "duration": 228,
    "start_time": "2024-11-27T19:45:05.786Z"
   },
   {
    "duration": 223,
    "start_time": "2024-11-27T19:45:15.433Z"
   },
   {
    "duration": 9,
    "start_time": "2024-11-27T19:46:43.022Z"
   },
   {
    "duration": 4,
    "start_time": "2024-11-27T19:57:49.667Z"
   },
   {
    "duration": 240,
    "start_time": "2024-11-27T19:58:28.852Z"
   },
   {
    "duration": 19,
    "start_time": "2024-11-27T19:58:36.096Z"
   },
   {
    "duration": 19,
    "start_time": "2024-11-27T19:58:53.281Z"
   },
   {
    "duration": 24,
    "start_time": "2024-11-27T19:58:57.936Z"
   },
   {
    "duration": 29,
    "start_time": "2024-11-27T19:59:18.818Z"
   },
   {
    "duration": 23,
    "start_time": "2024-11-27T19:59:30.398Z"
   },
   {
    "duration": 3,
    "start_time": "2024-11-27T20:00:06.246Z"
   },
   {
    "duration": 17,
    "start_time": "2024-11-27T20:00:11.571Z"
   },
   {
    "duration": 3,
    "start_time": "2024-11-27T20:00:16.029Z"
   },
   {
    "duration": 29,
    "start_time": "2024-11-27T20:00:18.422Z"
   },
   {
    "duration": 6,
    "start_time": "2024-11-27T20:00:40.898Z"
   },
   {
    "duration": 8,
    "start_time": "2024-11-27T20:00:45.046Z"
   },
   {
    "duration": 8,
    "start_time": "2024-11-27T20:00:48.287Z"
   },
   {
    "duration": 12,
    "start_time": "2024-11-27T20:01:08.221Z"
   },
   {
    "duration": 5,
    "start_time": "2024-11-27T20:01:12.059Z"
   },
   {
    "duration": 3,
    "start_time": "2024-11-27T20:01:20.189Z"
   },
   {
    "duration": 9,
    "start_time": "2024-11-27T20:01:32.947Z"
   },
   {
    "duration": 3,
    "start_time": "2024-11-27T20:01:40.423Z"
   },
   {
    "duration": 3,
    "start_time": "2024-11-27T20:02:03.513Z"
   },
   {
    "duration": 217,
    "start_time": "2024-11-27T20:02:05.737Z"
   },
   {
    "duration": 3,
    "start_time": "2024-11-27T20:02:11.597Z"
   },
   {
    "duration": 21,
    "start_time": "2024-11-27T20:02:13.361Z"
   },
   {
    "duration": 33,
    "start_time": "2024-11-27T20:02:30.931Z"
   },
   {
    "duration": 38,
    "start_time": "2024-11-27T20:02:38.573Z"
   },
   {
    "duration": 23,
    "start_time": "2024-11-27T20:02:52.090Z"
   },
   {
    "duration": 16,
    "start_time": "2024-11-27T20:02:56.933Z"
   },
   {
    "duration": 31,
    "start_time": "2024-11-27T20:06:15.748Z"
   },
   {
    "duration": 7,
    "start_time": "2024-11-27T20:06:53.749Z"
   },
   {
    "duration": 5,
    "start_time": "2024-11-27T20:07:28.175Z"
   },
   {
    "duration": 12,
    "start_time": "2024-11-27T20:08:01.163Z"
   },
   {
    "duration": 3,
    "start_time": "2024-11-27T20:08:10.469Z"
   },
   {
    "duration": 74,
    "start_time": "2024-11-27T20:08:10.474Z"
   },
   {
    "duration": 15,
    "start_time": "2024-11-27T20:08:10.549Z"
   },
   {
    "duration": 22,
    "start_time": "2024-11-27T20:08:10.566Z"
   },
   {
    "duration": 18,
    "start_time": "2024-11-27T20:08:10.590Z"
   },
   {
    "duration": 5,
    "start_time": "2024-11-27T20:08:10.609Z"
   },
   {
    "duration": 44,
    "start_time": "2024-11-27T20:08:10.615Z"
   },
   {
    "duration": 8,
    "start_time": "2024-11-27T20:08:12.909Z"
   },
   {
    "duration": 3,
    "start_time": "2024-11-27T20:08:40.193Z"
   },
   {
    "duration": 72,
    "start_time": "2024-11-27T20:08:40.198Z"
   },
   {
    "duration": 16,
    "start_time": "2024-11-27T20:08:40.273Z"
   },
   {
    "duration": 10,
    "start_time": "2024-11-27T20:08:40.291Z"
   },
   {
    "duration": 17,
    "start_time": "2024-11-27T20:08:40.304Z"
   },
   {
    "duration": 29,
    "start_time": "2024-11-27T20:08:40.323Z"
   },
   {
    "duration": 25,
    "start_time": "2024-11-27T20:08:40.354Z"
   },
   {
    "duration": 8,
    "start_time": "2024-11-27T20:08:42.787Z"
   },
   {
    "duration": 29,
    "start_time": "2024-11-27T20:09:20.394Z"
   },
   {
    "duration": 8,
    "start_time": "2024-11-27T20:09:23.621Z"
   },
   {
    "duration": 21,
    "start_time": "2024-11-27T20:09:28.254Z"
   },
   {
    "duration": 15,
    "start_time": "2024-11-27T20:11:39.913Z"
   },
   {
    "duration": 69,
    "start_time": "2024-11-28T07:12:07.183Z"
   },
   {
    "duration": 389,
    "start_time": "2024-11-28T07:12:12.269Z"
   },
   {
    "duration": 206,
    "start_time": "2024-11-28T07:12:12.660Z"
   },
   {
    "duration": 20,
    "start_time": "2024-11-28T07:12:12.867Z"
   },
   {
    "duration": 7,
    "start_time": "2024-11-28T07:12:12.888Z"
   },
   {
    "duration": 149,
    "start_time": "2024-11-28T07:12:12.897Z"
   },
   {
    "duration": 4,
    "start_time": "2024-11-28T07:12:13.048Z"
   },
   {
    "duration": 29,
    "start_time": "2024-11-28T07:12:13.053Z"
   },
   {
    "duration": 7,
    "start_time": "2024-11-28T07:12:13.083Z"
   },
   {
    "duration": 5,
    "start_time": "2024-11-28T07:13:14.183Z"
   },
   {
    "duration": 4,
    "start_time": "2024-11-28T07:13:26.899Z"
   },
   {
    "duration": 42,
    "start_time": "2024-11-28T07:20:30.495Z"
   },
   {
    "duration": 24,
    "start_time": "2024-11-28T07:20:43.782Z"
   },
   {
    "duration": 3,
    "start_time": "2024-11-28T07:21:00.844Z"
   },
   {
    "duration": 131,
    "start_time": "2024-11-28T07:21:00.854Z"
   },
   {
    "duration": 17,
    "start_time": "2024-11-28T07:21:00.987Z"
   },
   {
    "duration": 30,
    "start_time": "2024-11-28T07:21:01.005Z"
   },
   {
    "duration": 24,
    "start_time": "2024-11-28T07:21:01.038Z"
   },
   {
    "duration": 47,
    "start_time": "2024-11-28T07:21:01.064Z"
   },
   {
    "duration": 4,
    "start_time": "2024-11-28T07:21:01.112Z"
   },
   {
    "duration": 54,
    "start_time": "2024-11-28T07:21:01.118Z"
   },
   {
    "duration": 7,
    "start_time": "2024-11-28T07:21:01.174Z"
   },
   {
    "duration": 48,
    "start_time": "2024-11-28T07:21:01.183Z"
   },
   {
    "duration": 15,
    "start_time": "2024-11-28T07:21:50.007Z"
   },
   {
    "duration": 11,
    "start_time": "2024-11-28T07:23:18.522Z"
   },
   {
    "duration": 4,
    "start_time": "2024-11-28T07:26:06.027Z"
   },
   {
    "duration": 135,
    "start_time": "2024-11-28T07:26:06.033Z"
   },
   {
    "duration": 16,
    "start_time": "2024-11-28T07:26:06.170Z"
   },
   {
    "duration": 11,
    "start_time": "2024-11-28T07:26:06.188Z"
   },
   {
    "duration": 94,
    "start_time": "2024-11-28T07:26:06.202Z"
   },
   {
    "duration": 59,
    "start_time": "2024-11-28T07:26:06.297Z"
   },
   {
    "duration": 11,
    "start_time": "2024-11-28T07:26:06.358Z"
   },
   {
    "duration": 31,
    "start_time": "2024-11-28T07:26:06.371Z"
   },
   {
    "duration": 34,
    "start_time": "2024-11-28T07:26:06.403Z"
   },
   {
    "duration": 63,
    "start_time": "2024-11-28T07:26:06.439Z"
   },
   {
    "duration": 50,
    "start_time": "2024-11-28T07:26:06.503Z"
   },
   {
    "duration": 31,
    "start_time": "2024-11-28T07:26:06.555Z"
   },
   {
    "duration": 7,
    "start_time": "2024-11-28T07:30:13.610Z"
   },
   {
    "duration": 27,
    "start_time": "2024-11-28T07:35:02.661Z"
   },
   {
    "duration": 26,
    "start_time": "2024-11-28T07:37:02.127Z"
   },
   {
    "duration": 15,
    "start_time": "2024-11-28T07:37:19.117Z"
   },
   {
    "duration": 8,
    "start_time": "2024-11-28T07:44:10.492Z"
   },
   {
    "duration": 18,
    "start_time": "2024-11-28T07:55:40.026Z"
   },
   {
    "duration": 13,
    "start_time": "2024-11-28T07:57:28.021Z"
   },
   {
    "duration": 18,
    "start_time": "2024-11-28T08:02:10.032Z"
   },
   {
    "duration": 17,
    "start_time": "2024-11-28T08:09:48.008Z"
   },
   {
    "duration": 6,
    "start_time": "2024-11-28T08:12:55.859Z"
   },
   {
    "duration": 4,
    "start_time": "2024-11-28T08:18:17.263Z"
   },
   {
    "duration": 15,
    "start_time": "2024-11-28T08:21:23.692Z"
   },
   {
    "duration": 18,
    "start_time": "2024-11-28T08:24:10.842Z"
   },
   {
    "duration": 11,
    "start_time": "2024-11-28T08:24:50.373Z"
   },
   {
    "duration": 47,
    "start_time": "2024-11-28T14:00:01.030Z"
   },
   {
    "duration": 396,
    "start_time": "2024-11-28T14:00:04.990Z"
   },
   {
    "duration": 195,
    "start_time": "2024-11-28T14:00:05.389Z"
   },
   {
    "duration": 12,
    "start_time": "2024-11-28T14:00:05.585Z"
   },
   {
    "duration": 35,
    "start_time": "2024-11-28T14:00:05.598Z"
   },
   {
    "duration": 73,
    "start_time": "2024-11-28T14:00:05.635Z"
   },
   {
    "duration": 115,
    "start_time": "2024-11-28T14:00:05.710Z"
   },
   {
    "duration": 103,
    "start_time": "2024-11-28T14:00:05.827Z"
   },
   {
    "duration": 62,
    "start_time": "2024-11-28T14:00:05.932Z"
   },
   {
    "duration": 45,
    "start_time": "2024-11-28T14:00:05.996Z"
   },
   {
    "duration": 88,
    "start_time": "2024-11-28T14:00:06.043Z"
   },
   {
    "duration": 30,
    "start_time": "2024-11-28T14:00:06.132Z"
   },
   {
    "duration": 61,
    "start_time": "2024-11-28T14:00:06.163Z"
   },
   {
    "duration": 25,
    "start_time": "2024-11-28T14:00:06.226Z"
   },
   {
    "duration": 46,
    "start_time": "2024-11-28T14:00:06.252Z"
   },
   {
    "duration": 27,
    "start_time": "2024-11-28T14:00:06.301Z"
   },
   {
    "duration": 29,
    "start_time": "2024-11-28T14:00:06.330Z"
   },
   {
    "duration": 53,
    "start_time": "2024-11-28T14:00:06.360Z"
   },
   {
    "duration": 25,
    "start_time": "2024-11-28T14:00:06.415Z"
   },
   {
    "duration": 25,
    "start_time": "2024-11-28T14:00:06.441Z"
   },
   {
    "duration": 6,
    "start_time": "2024-11-28T14:00:15.841Z"
   },
   {
    "duration": 5,
    "start_time": "2024-11-28T14:00:40.833Z"
   },
   {
    "duration": 9,
    "start_time": "2024-11-28T14:01:09.820Z"
   },
   {
    "duration": 590,
    "start_time": "2024-11-28T14:02:06.858Z"
   },
   {
    "duration": 114,
    "start_time": "2024-11-28T14:02:15.695Z"
   },
   {
    "duration": 116,
    "start_time": "2024-11-28T14:02:42.310Z"
   },
   {
    "duration": 119,
    "start_time": "2024-11-28T14:03:10.158Z"
   },
   {
    "duration": 156,
    "start_time": "2024-11-28T14:03:13.030Z"
   },
   {
    "duration": 122,
    "start_time": "2024-11-28T14:03:57.279Z"
   },
   {
    "duration": 130,
    "start_time": "2024-11-28T14:04:03.968Z"
   },
   {
    "duration": 159,
    "start_time": "2024-11-28T14:05:07.697Z"
   },
   {
    "duration": 167,
    "start_time": "2024-11-28T14:05:27.597Z"
   },
   {
    "duration": 156,
    "start_time": "2024-11-28T14:05:32.613Z"
   },
   {
    "duration": 12,
    "start_time": "2024-11-28T14:14:31.922Z"
   },
   {
    "duration": 4,
    "start_time": "2024-11-28T14:15:18.167Z"
   },
   {
    "duration": 10,
    "start_time": "2024-11-28T14:15:24.767Z"
   },
   {
    "duration": 11,
    "start_time": "2024-11-28T14:15:34.190Z"
   },
   {
    "duration": 17,
    "start_time": "2024-11-28T14:15:47.307Z"
   },
   {
    "duration": 11,
    "start_time": "2024-11-28T14:15:54.701Z"
   },
   {
    "duration": 16,
    "start_time": "2024-11-28T14:16:13.178Z"
   },
   {
    "duration": 11,
    "start_time": "2024-11-28T14:20:18.434Z"
   },
   {
    "duration": 713,
    "start_time": "2024-11-28T14:21:21.898Z"
   },
   {
    "duration": 6,
    "start_time": "2024-11-28T14:21:42.612Z"
   },
   {
    "duration": 4,
    "start_time": "2024-11-28T14:22:15.116Z"
   },
   {
    "duration": 17,
    "start_time": "2024-11-28T14:24:01.882Z"
   },
   {
    "duration": 12,
    "start_time": "2024-11-28T14:25:46.366Z"
   },
   {
    "duration": 6,
    "start_time": "2024-11-28T14:28:03.833Z"
   },
   {
    "duration": 12,
    "start_time": "2024-11-28T14:28:06.619Z"
   },
   {
    "duration": 6,
    "start_time": "2024-11-28T14:28:13.025Z"
   },
   {
    "duration": 13,
    "start_time": "2024-11-28T14:28:15.698Z"
   },
   {
    "duration": 12,
    "start_time": "2024-11-28T14:28:21.912Z"
   },
   {
    "duration": 100,
    "start_time": "2024-11-28T14:28:38.939Z"
   },
   {
    "duration": 115,
    "start_time": "2024-11-28T14:29:15.978Z"
   },
   {
    "duration": 117,
    "start_time": "2024-11-28T14:29:34.033Z"
   },
   {
    "duration": 182,
    "start_time": "2024-11-28T14:36:08.504Z"
   },
   {
    "duration": 210,
    "start_time": "2024-11-28T14:36:30.993Z"
   },
   {
    "duration": 287,
    "start_time": "2024-11-28T14:36:36.230Z"
   },
   {
    "duration": 230,
    "start_time": "2024-11-28T14:36:46.608Z"
   },
   {
    "duration": 232,
    "start_time": "2024-11-28T14:40:10.415Z"
   },
   {
    "duration": 251,
    "start_time": "2024-11-28T14:40:20.987Z"
   },
   {
    "duration": 87,
    "start_time": "2024-11-28T14:41:06.388Z"
   },
   {
    "duration": 306,
    "start_time": "2024-11-28T14:41:11.181Z"
   },
   {
    "duration": 345,
    "start_time": "2024-11-28T14:41:14.863Z"
   },
   {
    "duration": 338,
    "start_time": "2024-11-28T14:41:24.002Z"
   },
   {
    "duration": 389,
    "start_time": "2024-11-28T14:41:34.281Z"
   },
   {
    "duration": 251,
    "start_time": "2024-11-28T14:41:55.780Z"
   },
   {
    "duration": 3,
    "start_time": "2024-11-28T14:43:38.816Z"
   },
   {
    "duration": 1076,
    "start_time": "2024-11-28T14:46:27.499Z"
   },
   {
    "duration": 183,
    "start_time": "2024-11-28T14:47:46.456Z"
   },
   {
    "duration": 216,
    "start_time": "2024-11-28T14:47:57.865Z"
   },
   {
    "duration": 221,
    "start_time": "2024-11-28T14:48:58.305Z"
   },
   {
    "duration": 216,
    "start_time": "2024-11-28T14:49:12.234Z"
   },
   {
    "duration": 239,
    "start_time": "2024-11-28T14:49:22.004Z"
   },
   {
    "duration": 290,
    "start_time": "2024-11-28T14:49:31.944Z"
   },
   {
    "duration": 302,
    "start_time": "2024-11-28T14:49:37.023Z"
   },
   {
    "duration": 299,
    "start_time": "2024-11-28T14:49:44.602Z"
   },
   {
    "duration": 297,
    "start_time": "2024-11-28T14:50:14.511Z"
   },
   {
    "duration": 305,
    "start_time": "2024-11-28T14:50:31.334Z"
   },
   {
    "duration": 363,
    "start_time": "2024-11-28T14:50:46.474Z"
   },
   {
    "duration": 306,
    "start_time": "2024-11-28T14:51:42.757Z"
   },
   {
    "duration": 3,
    "start_time": "2024-11-28T15:03:24.519Z"
   },
   {
    "duration": 73,
    "start_time": "2024-11-28T15:03:24.524Z"
   },
   {
    "duration": 13,
    "start_time": "2024-11-28T15:03:24.598Z"
   },
   {
    "duration": 6,
    "start_time": "2024-11-28T15:03:24.612Z"
   },
   {
    "duration": 18,
    "start_time": "2024-11-28T15:03:24.621Z"
   },
   {
    "duration": 20,
    "start_time": "2024-11-28T15:03:24.641Z"
   },
   {
    "duration": 15,
    "start_time": "2024-11-28T15:03:24.663Z"
   },
   {
    "duration": 34,
    "start_time": "2024-11-28T15:03:24.680Z"
   },
   {
    "duration": 7,
    "start_time": "2024-11-28T15:03:24.716Z"
   },
   {
    "duration": 21,
    "start_time": "2024-11-28T15:03:24.724Z"
   },
   {
    "duration": 8,
    "start_time": "2024-11-28T15:03:24.746Z"
   },
   {
    "duration": 20,
    "start_time": "2024-11-28T15:03:24.756Z"
   },
   {
    "duration": 37,
    "start_time": "2024-11-28T15:03:24.778Z"
   },
   {
    "duration": 24,
    "start_time": "2024-11-28T15:03:24.817Z"
   },
   {
    "duration": 13,
    "start_time": "2024-11-28T15:03:24.842Z"
   },
   {
    "duration": 15,
    "start_time": "2024-11-28T15:03:24.856Z"
   },
   {
    "duration": 17,
    "start_time": "2024-11-28T15:03:24.873Z"
   },
   {
    "duration": 10,
    "start_time": "2024-11-28T15:03:24.892Z"
   },
   {
    "duration": 156,
    "start_time": "2024-11-28T15:03:24.903Z"
   },
   {
    "duration": 11,
    "start_time": "2024-11-28T15:03:25.060Z"
   },
   {
    "duration": 75,
    "start_time": "2024-11-28T15:03:25.072Z"
   },
   {
    "duration": 360,
    "start_time": "2024-11-28T15:03:25.149Z"
   },
   {
    "duration": 315,
    "start_time": "2024-11-28T15:03:50.965Z"
   },
   {
    "duration": 329,
    "start_time": "2024-11-28T15:05:50.524Z"
   },
   {
    "duration": 16,
    "start_time": "2024-11-28T15:18:31.787Z"
   },
   {
    "duration": 15,
    "start_time": "2024-11-28T15:18:50.308Z"
   },
   {
    "duration": 137,
    "start_time": "2024-11-28T15:21:45.105Z"
   },
   {
    "duration": 342,
    "start_time": "2024-11-28T15:22:36.947Z"
   },
   {
    "duration": 356,
    "start_time": "2024-11-28T15:22:50.130Z"
   },
   {
    "duration": 362,
    "start_time": "2024-11-28T15:22:55.211Z"
   },
   {
    "duration": 324,
    "start_time": "2024-11-28T15:23:52.531Z"
   },
   {
    "duration": 392,
    "start_time": "2024-11-28T15:24:05.052Z"
   },
   {
    "duration": 349,
    "start_time": "2024-11-28T15:24:39.295Z"
   },
   {
    "duration": 344,
    "start_time": "2024-11-28T15:25:04.263Z"
   },
   {
    "duration": 329,
    "start_time": "2024-11-28T15:25:16.556Z"
   },
   {
    "duration": 353,
    "start_time": "2024-11-28T15:25:33.057Z"
   },
   {
    "duration": 341,
    "start_time": "2024-11-28T15:26:13.041Z"
   },
   {
    "duration": 329,
    "start_time": "2024-11-28T15:28:07.010Z"
   },
   {
    "duration": 314,
    "start_time": "2024-11-28T15:29:42.471Z"
   },
   {
    "duration": 310,
    "start_time": "2024-11-28T15:30:16.938Z"
   },
   {
    "duration": 337,
    "start_time": "2024-11-28T15:30:36.436Z"
   },
   {
    "duration": 322,
    "start_time": "2024-11-28T15:31:08.158Z"
   },
   {
    "duration": 6,
    "start_time": "2024-11-28T15:34:29.397Z"
   },
   {
    "duration": 7,
    "start_time": "2024-11-28T15:35:00.120Z"
   },
   {
    "duration": 7,
    "start_time": "2024-11-28T15:35:14.423Z"
   },
   {
    "duration": 8,
    "start_time": "2024-11-28T15:35:33.674Z"
   },
   {
    "duration": 8,
    "start_time": "2024-11-28T15:35:42.914Z"
   },
   {
    "duration": 13,
    "start_time": "2024-11-28T15:35:56.544Z"
   },
   {
    "duration": 13,
    "start_time": "2024-11-28T15:36:09.343Z"
   },
   {
    "duration": 15,
    "start_time": "2024-11-28T15:37:22.343Z"
   },
   {
    "duration": 9,
    "start_time": "2024-11-28T15:37:32.210Z"
   },
   {
    "duration": 8,
    "start_time": "2024-11-28T15:37:55.971Z"
   },
   {
    "duration": 184,
    "start_time": "2024-11-28T15:47:52.039Z"
   },
   {
    "duration": 6,
    "start_time": "2024-11-28T15:48:34.991Z"
   },
   {
    "duration": 4,
    "start_time": "2024-11-28T15:48:44.110Z"
   },
   {
    "duration": 7,
    "start_time": "2024-11-28T15:48:55.409Z"
   },
   {
    "duration": 13,
    "start_time": "2024-11-28T15:49:43.225Z"
   },
   {
    "duration": 90,
    "start_time": "2024-11-28T15:50:02.631Z"
   },
   {
    "duration": 107,
    "start_time": "2024-11-28T15:51:05.544Z"
   },
   {
    "duration": 50,
    "start_time": "2024-11-28T19:49:03.102Z"
   },
   {
    "duration": 833,
    "start_time": "2024-11-28T19:49:06.968Z"
   },
   {
    "duration": 233,
    "start_time": "2024-11-28T19:49:07.804Z"
   },
   {
    "duration": 15,
    "start_time": "2024-11-28T19:49:08.038Z"
   },
   {
    "duration": 9,
    "start_time": "2024-11-28T19:49:08.055Z"
   },
   {
    "duration": 25,
    "start_time": "2024-11-28T19:49:08.066Z"
   },
   {
    "duration": 17,
    "start_time": "2024-11-28T19:49:08.093Z"
   },
   {
    "duration": 3,
    "start_time": "2024-11-28T19:49:08.112Z"
   },
   {
    "duration": 51,
    "start_time": "2024-11-28T19:49:08.117Z"
   },
   {
    "duration": 6,
    "start_time": "2024-11-28T19:49:08.170Z"
   },
   {
    "duration": 14,
    "start_time": "2024-11-28T19:49:08.178Z"
   },
   {
    "duration": 9,
    "start_time": "2024-11-28T19:49:08.194Z"
   },
   {
    "duration": 55,
    "start_time": "2024-11-28T19:49:08.204Z"
   },
   {
    "duration": 16,
    "start_time": "2024-11-28T19:49:08.260Z"
   },
   {
    "duration": 53,
    "start_time": "2024-11-28T19:49:08.279Z"
   },
   {
    "duration": 8,
    "start_time": "2024-11-28T19:49:08.334Z"
   },
   {
    "duration": 23,
    "start_time": "2024-11-28T19:49:08.344Z"
   },
   {
    "duration": 17,
    "start_time": "2024-11-28T19:49:08.368Z"
   },
   {
    "duration": 19,
    "start_time": "2024-11-28T19:49:08.387Z"
   },
   {
    "duration": 214,
    "start_time": "2024-11-28T19:49:08.408Z"
   },
   {
    "duration": 13,
    "start_time": "2024-11-28T19:49:08.624Z"
   },
   {
    "duration": 15,
    "start_time": "2024-11-28T19:49:08.638Z"
   },
   {
    "duration": 410,
    "start_time": "2024-11-28T19:49:08.655Z"
   },
   {
    "duration": 19,
    "start_time": "2024-11-28T19:49:09.066Z"
   },
   {
    "duration": 10,
    "start_time": "2024-11-28T19:49:09.087Z"
   },
   {
    "duration": 396,
    "start_time": "2024-11-28T19:49:09.099Z"
   },
   {
    "duration": 55,
    "start_time": "2024-11-28T19:49:09.497Z"
   },
   {
    "duration": 96,
    "start_time": "2024-11-28T19:50:27.197Z"
   },
   {
    "duration": 10,
    "start_time": "2024-11-28T19:50:34.923Z"
   },
   {
    "duration": 161,
    "start_time": "2024-11-28T19:50:38.530Z"
   },
   {
    "duration": 119,
    "start_time": "2024-11-28T19:54:15.146Z"
   },
   {
    "duration": 132,
    "start_time": "2024-11-28T19:57:35.708Z"
   },
   {
    "duration": 17,
    "start_time": "2024-11-28T19:57:42.660Z"
   },
   {
    "duration": 16,
    "start_time": "2024-11-28T19:57:47.331Z"
   },
   {
    "duration": 128,
    "start_time": "2024-11-28T19:57:57.632Z"
   },
   {
    "duration": 131,
    "start_time": "2024-11-28T20:01:05.328Z"
   },
   {
    "duration": 17,
    "start_time": "2024-11-28T20:01:33.429Z"
   },
   {
    "duration": 138,
    "start_time": "2024-11-28T20:01:49.168Z"
   },
   {
    "duration": 255,
    "start_time": "2024-11-28T20:02:44.066Z"
   },
   {
    "duration": 313,
    "start_time": "2024-11-28T20:02:52.046Z"
   },
   {
    "duration": 9,
    "start_time": "2024-11-28T20:04:41.343Z"
   },
   {
    "duration": 227,
    "start_time": "2024-11-28T20:06:48.281Z"
   },
   {
    "duration": 243,
    "start_time": "2024-11-28T20:06:55.009Z"
   },
   {
    "duration": 219,
    "start_time": "2024-11-28T20:06:59.617Z"
   },
   {
    "duration": 245,
    "start_time": "2024-11-28T20:07:04.242Z"
   },
   {
    "duration": 266,
    "start_time": "2024-11-28T20:07:39.776Z"
   },
   {
    "duration": 332,
    "start_time": "2024-11-28T20:07:56.209Z"
   },
   {
    "duration": 286,
    "start_time": "2024-11-28T20:08:16.693Z"
   },
   {
    "duration": 252,
    "start_time": "2024-11-28T20:09:18.167Z"
   },
   {
    "duration": 243,
    "start_time": "2024-11-28T20:09:22.426Z"
   },
   {
    "duration": 309,
    "start_time": "2024-11-28T20:09:34.855Z"
   },
   {
    "duration": 331,
    "start_time": "2024-11-28T20:10:14.851Z"
   },
   {
    "duration": 272,
    "start_time": "2024-11-28T20:10:37.968Z"
   },
   {
    "duration": 269,
    "start_time": "2024-11-28T20:12:48.854Z"
   },
   {
    "duration": 262,
    "start_time": "2024-11-28T20:12:54.072Z"
   },
   {
    "duration": 270,
    "start_time": "2024-11-28T20:13:37.006Z"
   },
   {
    "duration": 255,
    "start_time": "2024-11-28T20:15:24.138Z"
   },
   {
    "duration": 15,
    "start_time": "2024-11-28T20:16:37.112Z"
   },
   {
    "duration": 257,
    "start_time": "2024-11-28T20:16:56.933Z"
   },
   {
    "duration": 92,
    "start_time": "2024-11-28T20:17:19.041Z"
   },
   {
    "duration": 108,
    "start_time": "2024-11-28T20:17:51.754Z"
   },
   {
    "duration": 91,
    "start_time": "2024-11-28T20:17:57.126Z"
   },
   {
    "duration": 236,
    "start_time": "2024-11-28T20:20:29.922Z"
   },
   {
    "duration": 276,
    "start_time": "2024-11-28T20:20:36.677Z"
   },
   {
    "duration": 225,
    "start_time": "2024-11-28T20:20:46.328Z"
   },
   {
    "duration": 311,
    "start_time": "2024-11-28T20:21:27.550Z"
   },
   {
    "duration": 255,
    "start_time": "2024-11-28T20:24:55.934Z"
   },
   {
    "duration": 344,
    "start_time": "2024-11-28T20:25:05.344Z"
   },
   {
    "duration": 244,
    "start_time": "2024-11-28T20:25:10.987Z"
   },
   {
    "duration": 225,
    "start_time": "2024-11-28T20:29:10.588Z"
   },
   {
    "duration": 221,
    "start_time": "2024-11-28T20:30:19.544Z"
   },
   {
    "duration": 322,
    "start_time": "2024-11-28T20:30:22.744Z"
   },
   {
    "duration": 244,
    "start_time": "2024-11-28T20:31:38.687Z"
   },
   {
    "duration": 256,
    "start_time": "2024-11-28T20:31:44.819Z"
   },
   {
    "duration": 7,
    "start_time": "2024-11-28T20:35:41.669Z"
   },
   {
    "duration": 6,
    "start_time": "2024-11-28T20:35:54.830Z"
   },
   {
    "duration": 6,
    "start_time": "2024-11-28T20:35:59.907Z"
   },
   {
    "duration": 6,
    "start_time": "2024-11-28T20:36:10.893Z"
   },
   {
    "duration": 7,
    "start_time": "2024-11-28T20:36:14.178Z"
   },
   {
    "duration": 15,
    "start_time": "2024-11-28T20:37:03.836Z"
   },
   {
    "duration": 9,
    "start_time": "2024-11-28T20:40:46.725Z"
   },
   {
    "duration": 6,
    "start_time": "2024-11-28T20:41:01.286Z"
   },
   {
    "duration": 7,
    "start_time": "2024-11-28T20:41:41.436Z"
   },
   {
    "duration": 7,
    "start_time": "2024-11-28T20:42:25.252Z"
   },
   {
    "duration": 9,
    "start_time": "2024-11-28T20:44:02.557Z"
   },
   {
    "duration": 125,
    "start_time": "2024-11-28T20:46:42.444Z"
   },
   {
    "duration": 114,
    "start_time": "2024-11-28T20:47:58.174Z"
   },
   {
    "duration": 817,
    "start_time": "2024-11-28T20:48:38.424Z"
   },
   {
    "duration": 4,
    "start_time": "2024-11-28T20:48:47.108Z"
   },
   {
    "duration": 9,
    "start_time": "2024-11-28T20:48:53.942Z"
   },
   {
    "duration": 6,
    "start_time": "2024-11-28T20:48:59.407Z"
   },
   {
    "duration": 6,
    "start_time": "2024-11-28T20:49:23.998Z"
   },
   {
    "duration": 914,
    "start_time": "2024-11-28T20:49:45.975Z"
   },
   {
    "duration": 7,
    "start_time": "2024-11-28T20:49:54.163Z"
   },
   {
    "duration": 91,
    "start_time": "2024-11-28T20:50:00.857Z"
   },
   {
    "duration": 117,
    "start_time": "2024-11-28T20:56:42.975Z"
   },
   {
    "duration": 118,
    "start_time": "2024-11-28T20:56:56.833Z"
   },
   {
    "duration": 192,
    "start_time": "2024-11-28T20:57:50.685Z"
   },
   {
    "duration": 132,
    "start_time": "2024-11-28T20:59:05.960Z"
   },
   {
    "duration": 128,
    "start_time": "2024-11-28T20:59:36.778Z"
   },
   {
    "duration": 51,
    "start_time": "2024-11-29T09:09:08.547Z"
   },
   {
    "duration": 859,
    "start_time": "2024-11-29T09:09:12.707Z"
   },
   {
    "duration": 231,
    "start_time": "2024-11-29T09:09:13.568Z"
   },
   {
    "duration": 16,
    "start_time": "2024-11-29T09:09:13.800Z"
   },
   {
    "duration": 7,
    "start_time": "2024-11-29T09:09:13.818Z"
   },
   {
    "duration": 25,
    "start_time": "2024-11-29T09:09:13.827Z"
   },
   {
    "duration": 20,
    "start_time": "2024-11-29T09:09:13.854Z"
   },
   {
    "duration": 7,
    "start_time": "2024-11-29T09:09:13.876Z"
   },
   {
    "duration": 48,
    "start_time": "2024-11-29T09:09:13.884Z"
   },
   {
    "duration": 23,
    "start_time": "2024-11-29T09:09:13.935Z"
   },
   {
    "duration": 26,
    "start_time": "2024-11-29T09:09:13.960Z"
   },
   {
    "duration": 11,
    "start_time": "2024-11-29T09:09:13.987Z"
   },
   {
    "duration": 28,
    "start_time": "2024-11-29T09:09:13.999Z"
   },
   {
    "duration": 34,
    "start_time": "2024-11-29T09:09:14.028Z"
   },
   {
    "duration": 24,
    "start_time": "2024-11-29T09:09:14.065Z"
   },
   {
    "duration": 25,
    "start_time": "2024-11-29T09:09:14.090Z"
   },
   {
    "duration": 30,
    "start_time": "2024-11-29T09:09:14.117Z"
   },
   {
    "duration": 18,
    "start_time": "2024-11-29T09:09:14.149Z"
   },
   {
    "duration": 10,
    "start_time": "2024-11-29T09:09:14.169Z"
   },
   {
    "duration": 224,
    "start_time": "2024-11-29T09:09:14.181Z"
   },
   {
    "duration": 13,
    "start_time": "2024-11-29T09:09:14.406Z"
   },
   {
    "duration": 5,
    "start_time": "2024-11-29T09:09:14.420Z"
   },
   {
    "duration": 430,
    "start_time": "2024-11-29T09:09:14.427Z"
   },
   {
    "duration": 19,
    "start_time": "2024-11-29T09:09:14.859Z"
   },
   {
    "duration": 10,
    "start_time": "2024-11-29T09:09:14.881Z"
   },
   {
    "duration": 413,
    "start_time": "2024-11-29T09:09:14.893Z"
   },
   {
    "duration": 333,
    "start_time": "2024-11-29T09:09:15.308Z"
   },
   {
    "duration": 293,
    "start_time": "2024-11-29T09:09:15.643Z"
   },
   {
    "duration": 14,
    "start_time": "2024-11-29T09:09:15.939Z"
   },
   {
    "duration": 9,
    "start_time": "2024-11-29T09:09:15.954Z"
   },
   {
    "duration": 173,
    "start_time": "2024-11-29T09:09:15.964Z"
   },
   {
    "duration": 7,
    "start_time": "2024-11-29T09:09:16.138Z"
   },
   {
    "duration": 183,
    "start_time": "2024-11-29T09:09:16.152Z"
   },
   {
    "duration": 6,
    "start_time": "2024-11-29T09:09:16.337Z"
   },
   {
    "duration": 7,
    "start_time": "2024-11-29T09:09:31.395Z"
   },
   {
    "duration": 7,
    "start_time": "2024-11-29T09:09:35.793Z"
   },
   {
    "duration": 7,
    "start_time": "2024-11-29T09:10:12.052Z"
   },
   {
    "duration": 8,
    "start_time": "2024-11-29T09:14:22.149Z"
   },
   {
    "duration": 10,
    "start_time": "2024-11-29T09:14:47.651Z"
   },
   {
    "duration": 67,
    "start_time": "2024-11-29T09:16:09.927Z"
   },
   {
    "duration": 15,
    "start_time": "2024-11-29T09:16:13.670Z"
   },
   {
    "duration": 21,
    "start_time": "2024-11-29T09:16:59.699Z"
   },
   {
    "duration": 18,
    "start_time": "2024-11-29T09:17:04.224Z"
   },
   {
    "duration": 20,
    "start_time": "2024-11-29T09:17:25.014Z"
   },
   {
    "duration": 19,
    "start_time": "2024-11-29T09:17:32.243Z"
   },
   {
    "duration": 26,
    "start_time": "2024-11-29T09:18:05.680Z"
   },
   {
    "duration": 24,
    "start_time": "2024-11-29T09:18:21.557Z"
   },
   {
    "duration": 26,
    "start_time": "2024-11-29T09:18:26.663Z"
   },
   {
    "duration": 25,
    "start_time": "2024-11-29T09:18:52.683Z"
   },
   {
    "duration": 27,
    "start_time": "2024-11-29T09:20:01.997Z"
   },
   {
    "duration": 26,
    "start_time": "2024-11-29T09:20:12.123Z"
   },
   {
    "duration": 27,
    "start_time": "2024-11-29T09:20:43.578Z"
   },
   {
    "duration": 27,
    "start_time": "2024-11-29T09:21:23.178Z"
   },
   {
    "duration": 51,
    "start_time": "2024-11-29T09:21:51.952Z"
   },
   {
    "duration": 27,
    "start_time": "2024-11-29T09:22:02.598Z"
   },
   {
    "duration": 25,
    "start_time": "2024-11-29T09:22:22.848Z"
   },
   {
    "duration": 24,
    "start_time": "2024-11-29T09:22:29.395Z"
   },
   {
    "duration": 164,
    "start_time": "2024-11-29T09:23:12.272Z"
   },
   {
    "duration": 154,
    "start_time": "2024-11-29T09:23:35.988Z"
   },
   {
    "duration": 259,
    "start_time": "2024-11-29T09:23:44.467Z"
   },
   {
    "duration": 168,
    "start_time": "2024-11-29T09:23:54.903Z"
   },
   {
    "duration": 172,
    "start_time": "2024-11-29T09:25:04.353Z"
   },
   {
    "duration": 12,
    "start_time": "2024-11-29T09:28:20.086Z"
   },
   {
    "duration": 11,
    "start_time": "2024-11-29T09:28:24.864Z"
   },
   {
    "duration": 246,
    "start_time": "2024-11-29T09:28:40.348Z"
   },
   {
    "duration": 70,
    "start_time": "2024-11-29T09:29:12.020Z"
   },
   {
    "duration": 67,
    "start_time": "2024-11-29T09:29:57.289Z"
   },
   {
    "duration": 13,
    "start_time": "2024-11-29T09:30:10.617Z"
   },
   {
    "duration": 66,
    "start_time": "2024-11-29T09:30:40.851Z"
   },
   {
    "duration": 72,
    "start_time": "2024-11-29T09:31:00.234Z"
   },
   {
    "duration": 153,
    "start_time": "2024-11-29T09:31:37.451Z"
   },
   {
    "duration": 65,
    "start_time": "2024-11-29T09:32:13.561Z"
   },
   {
    "duration": 69,
    "start_time": "2024-11-29T09:33:02.596Z"
   },
   {
    "duration": 69,
    "start_time": "2024-11-29T09:33:04.744Z"
   },
   {
    "duration": 12,
    "start_time": "2024-11-29T09:33:32.825Z"
   },
   {
    "duration": 139,
    "start_time": "2024-11-29T09:33:56.885Z"
   },
   {
    "duration": 235,
    "start_time": "2024-11-29T09:34:22.670Z"
   },
   {
    "duration": 262,
    "start_time": "2024-11-29T09:34:38.012Z"
   },
   {
    "duration": 135,
    "start_time": "2024-11-29T09:35:39.326Z"
   },
   {
    "duration": 333,
    "start_time": "2024-11-29T09:35:47.863Z"
   },
   {
    "duration": 217,
    "start_time": "2024-11-29T09:36:31.723Z"
   },
   {
    "duration": 275,
    "start_time": "2024-11-29T09:36:37.054Z"
   },
   {
    "duration": 279,
    "start_time": "2024-11-29T09:36:53.350Z"
   },
   {
    "duration": 268,
    "start_time": "2024-11-29T09:38:15.478Z"
   },
   {
    "duration": 290,
    "start_time": "2024-11-29T09:39:28.282Z"
   },
   {
    "duration": 294,
    "start_time": "2024-11-29T09:39:48.946Z"
   },
   {
    "duration": 322,
    "start_time": "2024-11-29T09:40:25.457Z"
   },
   {
    "duration": 134,
    "start_time": "2024-11-29T09:40:36.102Z"
   },
   {
    "duration": 422,
    "start_time": "2024-11-29T09:40:43.364Z"
   },
   {
    "duration": 459,
    "start_time": "2024-11-29T09:42:00.477Z"
   },
   {
    "duration": 591,
    "start_time": "2024-11-29T09:42:06.943Z"
   },
   {
    "duration": 464,
    "start_time": "2024-11-29T09:42:15.812Z"
   },
   {
    "duration": 455,
    "start_time": "2024-11-29T09:42:38.360Z"
   },
   {
    "duration": 469,
    "start_time": "2024-11-29T09:42:51.211Z"
   },
   {
    "duration": 465,
    "start_time": "2024-11-29T09:42:56.438Z"
   },
   {
    "duration": 465,
    "start_time": "2024-11-29T09:43:01.342Z"
   },
   {
    "duration": 49,
    "start_time": "2024-11-29T09:47:56.379Z"
   },
   {
    "duration": 17,
    "start_time": "2024-11-29T09:48:03.466Z"
   },
   {
    "duration": 14,
    "start_time": "2024-11-29T09:48:27.922Z"
   },
   {
    "duration": 19,
    "start_time": "2024-11-29T09:49:04.156Z"
   },
   {
    "duration": 13,
    "start_time": "2024-11-29T09:49:17.396Z"
   },
   {
    "duration": 13,
    "start_time": "2024-11-29T09:49:52.178Z"
   },
   {
    "duration": 15,
    "start_time": "2024-11-29T09:50:00.108Z"
   },
   {
    "duration": 11,
    "start_time": "2024-11-29T09:51:19.867Z"
   },
   {
    "duration": 8,
    "start_time": "2024-11-29T09:51:28.592Z"
   },
   {
    "duration": 11,
    "start_time": "2024-11-29T09:51:49.232Z"
   },
   {
    "duration": 16,
    "start_time": "2024-11-29T09:53:19.844Z"
   },
   {
    "duration": 13,
    "start_time": "2024-11-29T09:53:29.433Z"
   },
   {
    "duration": 17,
    "start_time": "2024-11-29T09:53:51.843Z"
   },
   {
    "duration": 27,
    "start_time": "2024-11-29T09:54:05.821Z"
   },
   {
    "duration": 19,
    "start_time": "2024-11-29T09:54:17.206Z"
   },
   {
    "duration": 16,
    "start_time": "2024-11-29T10:03:36.357Z"
   },
   {
    "duration": 5,
    "start_time": "2024-11-29T10:04:11.559Z"
   },
   {
    "duration": 4,
    "start_time": "2024-11-29T10:04:31.353Z"
   },
   {
    "duration": 5,
    "start_time": "2024-11-29T10:04:34.900Z"
   },
   {
    "duration": 15,
    "start_time": "2024-11-29T10:06:31.212Z"
   },
   {
    "duration": 176,
    "start_time": "2024-11-29T10:07:05.176Z"
   },
   {
    "duration": 170,
    "start_time": "2024-11-29T10:07:15.368Z"
   },
   {
    "duration": 228,
    "start_time": "2024-11-29T10:07:23.858Z"
   },
   {
    "duration": 8,
    "start_time": "2024-11-29T10:09:49.941Z"
   },
   {
    "duration": 6,
    "start_time": "2024-11-29T10:10:08.664Z"
   },
   {
    "duration": 167,
    "start_time": "2024-11-29T10:10:29.606Z"
   },
   {
    "duration": 201,
    "start_time": "2024-11-29T10:11:34.053Z"
   },
   {
    "duration": 307,
    "start_time": "2024-11-29T10:11:45.703Z"
   },
   {
    "duration": 196,
    "start_time": "2024-11-29T10:15:42.715Z"
   },
   {
    "duration": 200,
    "start_time": "2024-11-29T10:15:54.854Z"
   },
   {
    "duration": 186,
    "start_time": "2024-11-29T10:16:29.228Z"
   },
   {
    "duration": 196,
    "start_time": "2024-11-29T10:16:39.414Z"
   },
   {
    "duration": 7,
    "start_time": "2024-11-29T10:42:59.017Z"
   },
   {
    "duration": 10,
    "start_time": "2024-11-29T10:43:09.624Z"
   },
   {
    "duration": 11,
    "start_time": "2024-11-29T10:43:17.061Z"
   },
   {
    "duration": 24,
    "start_time": "2024-11-29T10:44:42.970Z"
   },
   {
    "duration": 16,
    "start_time": "2024-11-29T10:44:56.586Z"
   },
   {
    "duration": 12,
    "start_time": "2024-11-29T10:46:22.045Z"
   },
   {
    "duration": 17,
    "start_time": "2024-11-29T10:46:33.770Z"
   },
   {
    "duration": 17,
    "start_time": "2024-11-29T10:46:54.891Z"
   },
   {
    "duration": 32,
    "start_time": "2024-11-29T10:51:43.370Z"
   },
   {
    "duration": 11,
    "start_time": "2024-11-29T10:53:15.191Z"
   },
   {
    "duration": 10,
    "start_time": "2024-11-29T10:53:24.608Z"
   },
   {
    "duration": 10,
    "start_time": "2024-11-29T10:53:30.692Z"
   },
   {
    "duration": 9,
    "start_time": "2024-11-29T10:53:35.910Z"
   },
   {
    "duration": 10,
    "start_time": "2024-11-29T10:53:38.679Z"
   },
   {
    "duration": 10,
    "start_time": "2024-11-29T10:59:02.037Z"
   },
   {
    "duration": 9,
    "start_time": "2024-11-29T11:02:16.350Z"
   },
   {
    "duration": 10,
    "start_time": "2024-11-29T11:07:35.452Z"
   },
   {
    "duration": 25,
    "start_time": "2024-11-29T11:10:02.033Z"
   },
   {
    "duration": 22,
    "start_time": "2024-11-29T11:10:32.976Z"
   },
   {
    "duration": 9,
    "start_time": "2024-11-29T11:10:37.697Z"
   },
   {
    "duration": 19,
    "start_time": "2024-11-29T11:11:49.216Z"
   },
   {
    "duration": 10,
    "start_time": "2024-11-29T11:11:54.653Z"
   },
   {
    "duration": 24,
    "start_time": "2024-11-29T11:12:17.046Z"
   },
   {
    "duration": 24,
    "start_time": "2024-11-29T11:12:40.657Z"
   },
   {
    "duration": 10,
    "start_time": "2024-11-29T11:12:44.083Z"
   },
   {
    "duration": 9,
    "start_time": "2024-11-29T11:12:54.742Z"
   },
   {
    "duration": 32,
    "start_time": "2024-11-29T12:57:49.861Z"
   },
   {
    "duration": 35,
    "start_time": "2024-11-29T13:01:03.909Z"
   },
   {
    "duration": 10,
    "start_time": "2024-11-29T13:01:56.333Z"
   },
   {
    "duration": 25,
    "start_time": "2024-11-29T13:05:53.655Z"
   },
   {
    "duration": 13,
    "start_time": "2024-11-29T13:08:19.388Z"
   },
   {
    "duration": 26,
    "start_time": "2024-11-29T13:23:42.110Z"
   },
   {
    "duration": 27,
    "start_time": "2024-11-29T13:23:48.266Z"
   },
   {
    "duration": 26,
    "start_time": "2024-11-29T13:23:53.429Z"
   },
   {
    "duration": 5,
    "start_time": "2024-11-29T13:24:13.717Z"
   },
   {
    "duration": 5,
    "start_time": "2024-11-29T13:24:21.523Z"
   },
   {
    "duration": 5,
    "start_time": "2024-11-29T13:24:29.909Z"
   },
   {
    "duration": 4,
    "start_time": "2024-11-29T13:24:40.533Z"
   },
   {
    "duration": 15,
    "start_time": "2024-11-29T13:26:49.630Z"
   },
   {
    "duration": 11,
    "start_time": "2024-11-29T13:27:18.725Z"
   },
   {
    "duration": 7,
    "start_time": "2024-11-29T13:27:33.822Z"
   },
   {
    "duration": 25,
    "start_time": "2024-11-29T13:27:45.393Z"
   },
   {
    "duration": 5,
    "start_time": "2024-11-29T13:28:14.549Z"
   },
   {
    "duration": 13,
    "start_time": "2024-11-29T13:29:21.031Z"
   },
   {
    "duration": 18,
    "start_time": "2024-11-29T13:29:33.877Z"
   },
   {
    "duration": 14,
    "start_time": "2024-11-29T13:31:45.819Z"
   },
   {
    "duration": 18,
    "start_time": "2024-11-29T13:31:56.887Z"
   },
   {
    "duration": 15,
    "start_time": "2024-11-29T13:33:31.378Z"
   },
   {
    "duration": 11,
    "start_time": "2024-11-29T13:33:56.601Z"
   },
   {
    "duration": 28,
    "start_time": "2024-11-29T13:34:05.861Z"
   },
   {
    "duration": 8,
    "start_time": "2024-11-29T13:34:29.693Z"
   },
   {
    "duration": 11,
    "start_time": "2024-11-29T13:34:39.941Z"
   },
   {
    "duration": 21,
    "start_time": "2024-11-29T13:35:32.512Z"
   },
   {
    "duration": 24,
    "start_time": "2024-11-29T13:36:31.202Z"
   },
   {
    "duration": 12,
    "start_time": "2024-11-29T13:36:47.988Z"
   },
   {
    "duration": 12,
    "start_time": "2024-11-29T13:37:00.750Z"
   },
   {
    "duration": 19,
    "start_time": "2024-11-29T13:37:11.743Z"
   },
   {
    "duration": 867,
    "start_time": "2024-11-29T13:37:24.792Z"
   },
   {
    "duration": 11,
    "start_time": "2024-11-29T13:37:33.719Z"
   },
   {
    "duration": 13,
    "start_time": "2024-11-29T13:38:08.099Z"
   },
   {
    "duration": 13,
    "start_time": "2024-11-29T13:38:20.030Z"
   },
   {
    "duration": 14,
    "start_time": "2024-11-29T13:40:22.439Z"
   },
   {
    "duration": 14,
    "start_time": "2024-11-29T13:41:45.380Z"
   },
   {
    "duration": 11,
    "start_time": "2024-11-29T13:42:18.389Z"
   },
   {
    "duration": 9,
    "start_time": "2024-11-29T13:47:44.368Z"
   },
   {
    "duration": 10,
    "start_time": "2024-11-29T13:49:46.475Z"
   },
   {
    "duration": 13,
    "start_time": "2024-11-29T13:50:18.604Z"
   },
   {
    "duration": 15,
    "start_time": "2024-11-29T13:50:33.494Z"
   },
   {
    "duration": 57,
    "start_time": "2024-11-29T13:52:30.648Z"
   },
   {
    "duration": 9,
    "start_time": "2024-11-29T13:52:53.461Z"
   },
   {
    "duration": 62,
    "start_time": "2024-11-29T13:53:06.480Z"
   },
   {
    "duration": 6,
    "start_time": "2024-11-29T13:53:53.864Z"
   },
   {
    "duration": 15,
    "start_time": "2024-11-29T13:54:05.932Z"
   },
   {
    "duration": 23,
    "start_time": "2024-11-29T13:54:23.909Z"
   },
   {
    "duration": 14,
    "start_time": "2024-11-29T13:54:29.522Z"
   },
   {
    "duration": 16,
    "start_time": "2024-11-29T13:54:37.149Z"
   },
   {
    "duration": 14,
    "start_time": "2024-11-29T13:54:39.464Z"
   },
   {
    "duration": 14,
    "start_time": "2024-11-29T13:54:44.095Z"
   },
   {
    "duration": 18,
    "start_time": "2024-11-29T13:56:27.965Z"
   },
   {
    "duration": 18,
    "start_time": "2024-11-29T13:56:34.660Z"
   },
   {
    "duration": 19,
    "start_time": "2024-11-29T13:58:37.537Z"
   },
   {
    "duration": 22,
    "start_time": "2024-11-29T13:58:58.642Z"
   },
   {
    "duration": 21,
    "start_time": "2024-11-29T13:59:24.214Z"
   },
   {
    "duration": 23,
    "start_time": "2024-11-29T14:01:11.153Z"
   },
   {
    "duration": 20,
    "start_time": "2024-11-29T14:02:24.830Z"
   },
   {
    "duration": 23,
    "start_time": "2024-11-29T14:02:37.380Z"
   },
   {
    "duration": 23,
    "start_time": "2024-11-29T14:03:07.202Z"
   },
   {
    "duration": 24,
    "start_time": "2024-11-29T14:03:44.486Z"
   },
   {
    "duration": 23,
    "start_time": "2024-11-29T14:04:06.594Z"
   },
   {
    "duration": 22,
    "start_time": "2024-11-29T14:06:51.576Z"
   },
   {
    "duration": 7,
    "start_time": "2024-11-29T14:07:24.504Z"
   },
   {
    "duration": 7,
    "start_time": "2024-11-29T14:07:28.658Z"
   },
   {
    "duration": 23,
    "start_time": "2024-11-29T14:07:41.935Z"
   },
   {
    "duration": 8,
    "start_time": "2024-11-29T14:32:24.476Z"
   },
   {
    "duration": 10,
    "start_time": "2024-11-29T14:32:27.459Z"
   },
   {
    "duration": 4,
    "start_time": "2024-11-29T14:32:30.870Z"
   },
   {
    "duration": 56,
    "start_time": "2024-11-29T18:48:04.016Z"
   },
   {
    "duration": 894,
    "start_time": "2024-11-29T18:48:09.353Z"
   },
   {
    "duration": 258,
    "start_time": "2024-11-29T18:48:10.249Z"
   },
   {
    "duration": 17,
    "start_time": "2024-11-29T18:48:10.508Z"
   },
   {
    "duration": 9,
    "start_time": "2024-11-29T18:48:10.527Z"
   },
   {
    "duration": 31,
    "start_time": "2024-11-29T18:48:10.538Z"
   },
   {
    "duration": 37,
    "start_time": "2024-11-29T18:48:10.571Z"
   },
   {
    "duration": 4,
    "start_time": "2024-11-29T18:48:10.610Z"
   },
   {
    "duration": 35,
    "start_time": "2024-11-29T18:48:10.621Z"
   },
   {
    "duration": 7,
    "start_time": "2024-11-29T18:48:10.657Z"
   },
   {
    "duration": 45,
    "start_time": "2024-11-29T18:48:10.667Z"
   },
   {
    "duration": 10,
    "start_time": "2024-11-29T18:48:10.714Z"
   },
   {
    "duration": 26,
    "start_time": "2024-11-29T18:48:10.726Z"
   },
   {
    "duration": 55,
    "start_time": "2024-11-29T18:48:10.754Z"
   },
   {
    "duration": 9,
    "start_time": "2024-11-29T18:48:10.811Z"
   },
   {
    "duration": 10,
    "start_time": "2024-11-29T18:48:10.822Z"
   },
   {
    "duration": 38,
    "start_time": "2024-11-29T18:48:10.835Z"
   },
   {
    "duration": 47,
    "start_time": "2024-11-29T18:48:10.875Z"
   },
   {
    "duration": 11,
    "start_time": "2024-11-29T18:48:10.924Z"
   },
   {
    "duration": 220,
    "start_time": "2024-11-29T18:48:10.937Z"
   },
   {
    "duration": 13,
    "start_time": "2024-11-29T18:48:11.159Z"
   },
   {
    "duration": 13,
    "start_time": "2024-11-29T18:48:11.173Z"
   },
   {
    "duration": 441,
    "start_time": "2024-11-29T18:48:11.197Z"
   },
   {
    "duration": 20,
    "start_time": "2024-11-29T18:48:11.640Z"
   },
   {
    "duration": 11,
    "start_time": "2024-11-29T18:48:11.664Z"
   },
   {
    "duration": 420,
    "start_time": "2024-11-29T18:48:11.678Z"
   },
   {
    "duration": 357,
    "start_time": "2024-11-29T18:48:12.101Z"
   },
   {
    "duration": 293,
    "start_time": "2024-11-29T18:48:12.459Z"
   },
   {
    "duration": 6,
    "start_time": "2024-11-29T18:48:12.756Z"
   },
   {
    "duration": 12,
    "start_time": "2024-11-29T18:48:12.764Z"
   },
   {
    "duration": 167,
    "start_time": "2024-11-29T18:48:12.778Z"
   },
   {
    "duration": 8,
    "start_time": "2024-11-29T18:48:12.946Z"
   },
   {
    "duration": 156,
    "start_time": "2024-11-29T18:48:12.955Z"
   },
   {
    "duration": 6,
    "start_time": "2024-11-29T18:48:13.112Z"
   },
   {
    "duration": 6,
    "start_time": "2024-11-29T18:48:13.120Z"
   },
   {
    "duration": 463,
    "start_time": "2024-11-29T18:48:13.128Z"
   },
   {
    "duration": 442,
    "start_time": "2024-11-29T18:48:13.597Z"
   },
   {
    "duration": 20,
    "start_time": "2024-11-29T18:48:14.041Z"
   },
   {
    "duration": 5,
    "start_time": "2024-11-29T18:48:14.063Z"
   },
   {
    "duration": 282,
    "start_time": "2024-11-29T18:48:14.069Z"
   },
   {
    "duration": 236,
    "start_time": "2024-11-29T18:48:14.352Z"
   },
   {
    "duration": 25,
    "start_time": "2024-11-29T18:48:14.597Z"
   },
   {
    "duration": 14,
    "start_time": "2024-11-29T18:48:14.623Z"
   },
   {
    "duration": 19,
    "start_time": "2024-11-29T18:48:14.639Z"
   },
   {
    "duration": 38,
    "start_time": "2024-11-29T18:48:14.660Z"
   },
   {
    "duration": 47,
    "start_time": "2024-11-29T18:48:14.700Z"
   },
   {
    "duration": 15,
    "start_time": "2024-11-29T18:48:14.749Z"
   },
   {
    "duration": 14,
    "start_time": "2024-11-29T18:48:14.765Z"
   },
   {
    "duration": 39,
    "start_time": "2024-11-29T18:48:14.781Z"
   },
   {
    "duration": 72,
    "start_time": "2024-11-29T18:48:14.822Z"
   },
   {
    "duration": 14,
    "start_time": "2024-11-29T18:48:14.896Z"
   },
   {
    "duration": 13,
    "start_time": "2024-11-29T18:49:39.491Z"
   },
   {
    "duration": 517,
    "start_time": "2024-11-29T18:53:07.919Z"
   },
   {
    "duration": 15,
    "start_time": "2024-11-29T18:54:32.969Z"
   },
   {
    "duration": 16,
    "start_time": "2024-11-29T18:56:54.073Z"
   },
   {
    "duration": 15,
    "start_time": "2024-11-29T18:58:30.016Z"
   },
   {
    "duration": 14,
    "start_time": "2024-11-29T18:58:34.198Z"
   },
   {
    "duration": 15,
    "start_time": "2024-11-29T19:06:28.528Z"
   },
   {
    "duration": 15,
    "start_time": "2024-11-29T19:07:03.384Z"
   },
   {
    "duration": 13,
    "start_time": "2024-11-29T19:07:11.328Z"
   },
   {
    "duration": 14,
    "start_time": "2024-11-29T19:07:17.100Z"
   },
   {
    "duration": 14,
    "start_time": "2024-11-29T19:07:21.944Z"
   },
   {
    "duration": 14,
    "start_time": "2024-11-29T19:07:25.066Z"
   },
   {
    "duration": 13,
    "start_time": "2024-11-29T19:07:59.038Z"
   },
   {
    "duration": 408,
    "start_time": "2024-11-29T20:34:46.941Z"
   },
   {
    "duration": 67,
    "start_time": "2024-11-29T20:36:03.639Z"
   },
   {
    "duration": 435,
    "start_time": "2024-11-29T20:36:09.190Z"
   },
   {
    "duration": 433,
    "start_time": "2024-11-29T20:36:15.437Z"
   },
   {
    "duration": 15,
    "start_time": "2024-11-29T20:59:53.824Z"
   },
   {
    "duration": 163,
    "start_time": "2024-11-29T21:00:12.301Z"
   },
   {
    "duration": 16,
    "start_time": "2024-11-29T21:01:33.417Z"
   },
   {
    "duration": 15,
    "start_time": "2024-11-29T21:02:13.366Z"
   },
   {
    "duration": 172,
    "start_time": "2024-11-29T21:02:16.917Z"
   },
   {
    "duration": 176,
    "start_time": "2024-11-29T21:03:54.821Z"
   },
   {
    "duration": 178,
    "start_time": "2024-11-29T21:04:12.793Z"
   },
   {
    "duration": 285,
    "start_time": "2024-11-29T21:05:08.090Z"
   },
   {
    "duration": 177,
    "start_time": "2024-11-29T21:05:27.244Z"
   },
   {
    "duration": 196,
    "start_time": "2024-11-29T21:05:35.583Z"
   },
   {
    "duration": 191,
    "start_time": "2024-11-29T21:06:18.749Z"
   },
   {
    "duration": 195,
    "start_time": "2024-11-29T21:06:36.688Z"
   },
   {
    "duration": 13,
    "start_time": "2024-11-29T21:07:41.420Z"
   },
   {
    "duration": 197,
    "start_time": "2024-11-29T21:08:08.156Z"
   },
   {
    "duration": 13,
    "start_time": "2024-11-29T21:08:22.218Z"
   },
   {
    "duration": 196,
    "start_time": "2024-11-29T21:08:24.710Z"
   },
   {
    "duration": 14,
    "start_time": "2024-11-29T21:09:29.107Z"
   },
   {
    "duration": 204,
    "start_time": "2024-11-29T21:09:55.477Z"
   },
   {
    "duration": 12,
    "start_time": "2024-11-29T21:10:03.993Z"
   },
   {
    "duration": 210,
    "start_time": "2024-11-29T21:10:07.168Z"
   },
   {
    "duration": 188,
    "start_time": "2024-11-29T21:10:46.966Z"
   },
   {
    "duration": 197,
    "start_time": "2024-11-29T21:11:09.737Z"
   },
   {
    "duration": 15,
    "start_time": "2024-11-29T21:12:39.384Z"
   },
   {
    "duration": 308,
    "start_time": "2024-11-29T21:13:36.384Z"
   },
   {
    "duration": 199,
    "start_time": "2024-11-29T21:13:42.262Z"
   },
   {
    "duration": 14,
    "start_time": "2024-11-29T21:14:49.537Z"
   },
   {
    "duration": 207,
    "start_time": "2024-11-29T21:15:14.993Z"
   },
   {
    "duration": 194,
    "start_time": "2024-11-29T21:15:38.047Z"
   },
   {
    "duration": 13,
    "start_time": "2024-11-29T21:16:16.730Z"
   },
   {
    "duration": 205,
    "start_time": "2024-11-29T21:16:47.723Z"
   },
   {
    "duration": 175,
    "start_time": "2024-11-29T21:18:40.511Z"
   },
   {
    "duration": 825,
    "start_time": "2024-11-29T21:20:21.694Z"
   },
   {
    "duration": 9,
    "start_time": "2024-11-29T21:20:43.341Z"
   },
   {
    "duration": 26,
    "start_time": "2024-11-29T21:20:49.030Z"
   },
   {
    "duration": 429,
    "start_time": "2024-11-29T21:20:53.083Z"
   },
   {
    "duration": 550,
    "start_time": "2024-11-29T21:20:59.106Z"
   },
   {
    "duration": 475,
    "start_time": "2024-11-29T21:21:07.475Z"
   },
   {
    "duration": 469,
    "start_time": "2024-11-29T21:21:14.046Z"
   },
   {
    "duration": 453,
    "start_time": "2024-11-29T21:21:21.049Z"
   },
   {
    "duration": 462,
    "start_time": "2024-11-29T21:21:59.522Z"
   },
   {
    "duration": 565,
    "start_time": "2024-11-29T21:22:29.520Z"
   },
   {
    "duration": 520,
    "start_time": "2024-11-29T21:22:41.756Z"
   },
   {
    "duration": 525,
    "start_time": "2024-11-29T21:22:50.695Z"
   },
   {
    "duration": 501,
    "start_time": "2024-11-29T21:23:02.184Z"
   },
   {
    "duration": 560,
    "start_time": "2024-11-29T21:23:44.225Z"
   },
   {
    "duration": 425,
    "start_time": "2024-11-29T21:24:37.935Z"
   },
   {
    "duration": 557,
    "start_time": "2024-11-29T21:24:51.193Z"
   },
   {
    "duration": 122,
    "start_time": "2024-11-29T21:26:24.854Z"
   },
   {
    "duration": 78,
    "start_time": "2024-11-29T21:26:45.167Z"
   },
   {
    "duration": 99,
    "start_time": "2024-11-29T21:26:56.254Z"
   },
   {
    "duration": 458,
    "start_time": "2024-11-29T21:27:14.863Z"
   },
   {
    "duration": 451,
    "start_time": "2024-11-29T21:27:28.623Z"
   },
   {
    "duration": 446,
    "start_time": "2024-11-29T21:27:39.261Z"
   },
   {
    "duration": 562,
    "start_time": "2024-11-29T21:28:04.324Z"
   },
   {
    "duration": 486,
    "start_time": "2024-11-29T21:28:18.795Z"
   },
   {
    "duration": 240,
    "start_time": "2024-11-29T21:30:20.894Z"
   },
   {
    "duration": 216,
    "start_time": "2024-11-29T21:30:44.774Z"
   },
   {
    "duration": 1195,
    "start_time": "2024-11-29T21:30:54.410Z"
   },
   {
    "duration": 309,
    "start_time": "2024-11-29T21:31:03.698Z"
   },
   {
    "duration": 245,
    "start_time": "2024-11-29T21:31:40.818Z"
   },
   {
    "duration": 346,
    "start_time": "2024-11-29T21:31:51.113Z"
   },
   {
    "duration": 302,
    "start_time": "2024-11-29T21:31:56.301Z"
   },
   {
    "duration": 306,
    "start_time": "2024-11-29T21:33:30.675Z"
   },
   {
    "duration": 300,
    "start_time": "2024-11-29T21:33:43.270Z"
   },
   {
    "duration": 366,
    "start_time": "2024-11-29T21:33:58.284Z"
   },
   {
    "duration": 401,
    "start_time": "2024-11-29T21:34:06.810Z"
   },
   {
    "duration": 305,
    "start_time": "2024-11-29T21:34:13.519Z"
   },
   {
    "duration": 308,
    "start_time": "2024-11-29T21:34:51.909Z"
   },
   {
    "duration": 338,
    "start_time": "2024-11-29T21:35:14.594Z"
   },
   {
    "duration": 272,
    "start_time": "2024-11-29T21:35:22.969Z"
   },
   {
    "duration": 274,
    "start_time": "2024-11-29T21:35:40.164Z"
   },
   {
    "duration": 361,
    "start_time": "2024-11-29T21:35:49.678Z"
   },
   {
    "duration": 304,
    "start_time": "2024-11-29T21:35:56.520Z"
   },
   {
    "duration": 272,
    "start_time": "2024-11-29T21:36:29.764Z"
   },
   {
    "duration": 278,
    "start_time": "2024-11-29T21:37:55.396Z"
   },
   {
    "duration": 290,
    "start_time": "2024-11-29T21:38:07.184Z"
   },
   {
    "duration": 282,
    "start_time": "2024-11-29T21:38:15.066Z"
   },
   {
    "duration": 377,
    "start_time": "2024-11-29T21:38:29.004Z"
   },
   {
    "duration": 267,
    "start_time": "2024-11-29T21:38:34.632Z"
   },
   {
    "duration": 270,
    "start_time": "2024-11-29T21:39:16.363Z"
   },
   {
    "duration": 267,
    "start_time": "2024-11-29T21:40:39.967Z"
   },
   {
    "duration": 266,
    "start_time": "2024-11-29T21:40:57.922Z"
   },
   {
    "duration": 283,
    "start_time": "2024-11-29T21:41:05.310Z"
   },
   {
    "duration": 365,
    "start_time": "2024-11-29T21:41:34.377Z"
   },
   {
    "duration": 281,
    "start_time": "2024-11-29T21:41:42.464Z"
   },
   {
    "duration": 282,
    "start_time": "2024-11-29T21:41:47.654Z"
   }
  ],
  "kernelspec": {
   "display_name": "Python 3 (ipykernel)",
   "language": "python",
   "name": "python3"
  },
  "language_info": {
   "codemirror_mode": {
    "name": "ipython",
    "version": 3
   },
   "file_extension": ".py",
   "mimetype": "text/x-python",
   "name": "python",
   "nbconvert_exporter": "python",
   "pygments_lexer": "ipython3",
   "version": "3.12.4"
  },
  "toc": {
   "base_numbering": 1,
   "nav_menu": {},
   "number_sections": true,
   "sideBar": true,
   "skip_h1_title": true,
   "title_cell": "Table of Contents",
   "title_sidebar": "Contents",
   "toc_cell": false,
   "toc_position": {},
   "toc_section_display": true,
   "toc_window_display": false
  }
 },
 "nbformat": 4,
 "nbformat_minor": 4
}
