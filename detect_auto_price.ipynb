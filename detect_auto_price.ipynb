{
 "cells": [
  {
   "cell_type": "markdown",
   "id": "621e6ec6-6396-4013-a4b1-01b080312b5b",
   "metadata": {},
   "source": [
    "<h1 style=\"text-align: center;\">Определение стоимостей автомобилей</h1>\n",
    "\n",
    "Сервис по продаже автомобилей с пробегом «Не бит, не крашен» разрабатывает приложение, чтобы привлечь новых клиентов. В нём можно будет узнать рыночную стоимость своего автомобиля. \n",
    "\n",
    "Необходимо построить модель, которая умеет определять стоимость авто. Имеются данные о технических характеристиках, комплектации и ценах других автомобилей.\n",
    "\n",
    "Критерии, которые важны заказчику:\n",
    "- качество предсказания;\n",
    "- время обучения модели;\n",
    "- время предсказания модели."
   ]
  },
  {
   "cell_type": "markdown",
   "id": "447273be-df19-4d48-8f40-91978848a23c",
   "metadata": {},
   "source": [
    "# Описание данных\n",
    "Датасет: `/datasets/autos.csv`\n",
    "\n",
    "Признак          | Описание                                        | Ед. измерения\n",
    "-----------------|-------------------------------------------------|---------------\n",
    "DateCrawled      | дата скачивания анкеты из базы                  |\n",
    "VehicleType      | тип автомобильного кузова                       |\n",
    "RegistrationYear | год регистрации автомобиля                      |\n",
    "Gearbox          | тип коробки передач                             |\n",
    "Power            | мощность                                        | л.с.\n",
    "Model            | модель автомобиля                               |           \n",
    "Kilometer        | пробег                                          | км\n",
    "RegistrationMonth| месяц регистрации автомобиля                    |\n",
    "FuelType         | тип топлива                                     |\n",
    "Brand            | марка автомобиля                                |\n",
    "Repaired         | была машина в ремонте или нет                   |\n",
    "DateCreated      | дата создания анкеты                            |\n",
    "NumberOfPictures | количество фотографий автомобиля                |\n",
    "PostalCode       | почтовый индекс владельца анкеты (пользователя) |\n",
    "LastSeen         | дата последней активности пользователя          |\n",
    "**Price**        | цена                                            | евро"
   ]
  },
  {
   "cell_type": "markdown",
   "id": "90816b87-0ca7-4ff5-b68b-c2f1e45078cb",
   "metadata": {},
   "source": [
    "# Импорт необходимых библиотек"
   ]
  },
  {
   "cell_type": "code",
   "execution_count": 1,
   "id": "3a8fb671-0dee-42e5-9de3-51a341f1abf7",
   "metadata": {},
   "outputs": [
    {
     "name": "stdout",
     "output_type": "stream",
     "text": [
      "Note: you may need to restart the kernel to use updated packages.\n"
     ]
    }
   ],
   "source": [
    "pip install -q --upgrade scikit-learn"
   ]
  },
  {
   "cell_type": "code",
   "execution_count": 2,
   "id": "3ea2863d-4c17-4740-b8ea-cc979f360882",
   "metadata": {},
   "outputs": [
    {
     "name": "stdout",
     "output_type": "stream",
     "text": [
      "Note: you may need to restart the kernel to use updated packages.\n"
     ]
    }
   ],
   "source": [
    "pip install -q phik"
   ]
  },
  {
   "cell_type": "code",
   "execution_count": 3,
   "id": "6532e235-a660-4899-91bc-b6007b42e19b",
   "metadata": {},
   "outputs": [
    {
     "name": "stdout",
     "output_type": "stream",
     "text": [
      "Note: you may need to restart the kernel to use updated packages.\n"
     ]
    }
   ],
   "source": [
    "pip install -q shap"
   ]
  },
  {
   "cell_type": "code",
   "execution_count": 4,
   "id": "60eaf672-0e32-477f-b361-debeac955a33",
   "metadata": {},
   "outputs": [
    {
     "name": "stdout",
     "output_type": "stream",
     "text": [
      "Note: you may need to restart the kernel to use updated packages.\n"
     ]
    }
   ],
   "source": [
    "pip install -q lightgbm"
   ]
  },
  {
   "cell_type": "code",
   "execution_count": 5,
   "id": "91a64519-db54-44bd-aced-2d39232465fe",
   "metadata": {},
   "outputs": [],
   "source": [
    "import pandas as pd\n",
    "import matplotlib.pyplot as plt\n",
    "import seaborn as sns\n",
    "import numpy as np\n",
    "import phik\n",
    "import shap\n",
    "from sklearn import tree\n",
    "\n",
    "from sklearn.model_selection import train_test_split\n",
    "from sklearn.preprocessing import (\n",
    "    OneHotEncoder, \n",
    "    StandardScaler, \n",
    "    OrdinalEncoder, \n",
    "    MinMaxScaler, \n",
    "    LabelEncoder\n",
    ")\n",
    "from sklearn.linear_model import LinearRegression\n",
    "from sklearn.metrics import r2_score, mean_squared_error, root_mean_squared_error\n",
    "from sklearn.metrics import mean_absolute_error\n",
    "from sklearn.linear_model import LogisticRegression\n",
    "from sklearn.metrics import confusion_matrix, accuracy_score\n",
    "from sklearn.metrics import recall_score, precision_score\n",
    "\n",
    "from sklearn.pipeline import Pipeline\n",
    "from sklearn.compose import ColumnTransformer\n",
    "from sklearn.impute import SimpleImputer\n",
    "\n",
    "from sklearn.metrics import roc_auc_score, f1_score, make_scorer\n",
    "from sklearn.model_selection import GridSearchCV, RandomizedSearchCV\n",
    "\n",
    "# импортируем модель\n",
    "from sklearn.linear_model import LinearRegression, Lasso\n",
    "from sklearn.svm import SVR\n",
    "\n",
    "from sklearn.inspection import permutation_importance\n",
    "\n",
    "from lightgbm import LGBMRegressor"
   ]
  },
  {
   "cell_type": "markdown",
   "id": "36494b3a",
   "metadata": {},
   "source": [
    "## Константы"
   ]
  },
  {
   "cell_type": "code",
   "execution_count": 6,
   "id": "39e22b05",
   "metadata": {},
   "outputs": [],
   "source": [
    "# задаём размер тестовой выборки и random_state\n",
    "RANDOM_STATE = 42\n",
    "\n",
    "# train - 80%\n",
    "# valid - 10%\n",
    "# test - 10%\n",
    "TEST_SIZE = 0.20"
   ]
  },
  {
   "cell_type": "markdown",
   "id": "48a102b2-a8df-4529-8e58-2b41cc312f10",
   "metadata": {},
   "source": [
    "# Загрузка данных"
   ]
  },
  {
   "cell_type": "code",
   "execution_count": 7,
   "id": "79ae3935-8604-4abf-9565-5e605c44b8a1",
   "metadata": {},
   "outputs": [],
   "source": [
    "try:\n",
    "\n",
    "    df = pd.read_csv('./datasets/autos.csv')\n",
    "\n",
    "except:\n",
    "    df = pd.read_csv('/datasets/autos.csv')"
   ]
  },
  {
   "cell_type": "code",
   "execution_count": 8,
   "id": "2d9564ac-728d-4f28-9a6b-b32b00c8bc62",
   "metadata": {},
   "outputs": [
    {
     "data": {
      "text/html": [
       "<div>\n",
       "<style scoped>\n",
       "    .dataframe tbody tr th:only-of-type {\n",
       "        vertical-align: middle;\n",
       "    }\n",
       "\n",
       "    .dataframe tbody tr th {\n",
       "        vertical-align: top;\n",
       "    }\n",
       "\n",
       "    .dataframe thead th {\n",
       "        text-align: right;\n",
       "    }\n",
       "</style>\n",
       "<table border=\"1\" class=\"dataframe\">\n",
       "  <thead>\n",
       "    <tr style=\"text-align: right;\">\n",
       "      <th></th>\n",
       "      <th>DateCrawled</th>\n",
       "      <th>Price</th>\n",
       "      <th>VehicleType</th>\n",
       "      <th>RegistrationYear</th>\n",
       "      <th>Gearbox</th>\n",
       "      <th>Power</th>\n",
       "      <th>Model</th>\n",
       "      <th>Kilometer</th>\n",
       "      <th>RegistrationMonth</th>\n",
       "      <th>FuelType</th>\n",
       "      <th>Brand</th>\n",
       "      <th>Repaired</th>\n",
       "      <th>DateCreated</th>\n",
       "      <th>NumberOfPictures</th>\n",
       "      <th>PostalCode</th>\n",
       "      <th>LastSeen</th>\n",
       "    </tr>\n",
       "  </thead>\n",
       "  <tbody>\n",
       "    <tr>\n",
       "      <th>0</th>\n",
       "      <td>2016-03-24 11:52:17</td>\n",
       "      <td>480</td>\n",
       "      <td>NaN</td>\n",
       "      <td>1993</td>\n",
       "      <td>manual</td>\n",
       "      <td>0</td>\n",
       "      <td>golf</td>\n",
       "      <td>150000</td>\n",
       "      <td>0</td>\n",
       "      <td>petrol</td>\n",
       "      <td>volkswagen</td>\n",
       "      <td>NaN</td>\n",
       "      <td>2016-03-24 00:00:00</td>\n",
       "      <td>0</td>\n",
       "      <td>70435</td>\n",
       "      <td>2016-04-07 03:16:57</td>\n",
       "    </tr>\n",
       "    <tr>\n",
       "      <th>1</th>\n",
       "      <td>2016-03-24 10:58:45</td>\n",
       "      <td>18300</td>\n",
       "      <td>coupe</td>\n",
       "      <td>2011</td>\n",
       "      <td>manual</td>\n",
       "      <td>190</td>\n",
       "      <td>NaN</td>\n",
       "      <td>125000</td>\n",
       "      <td>5</td>\n",
       "      <td>gasoline</td>\n",
       "      <td>audi</td>\n",
       "      <td>yes</td>\n",
       "      <td>2016-03-24 00:00:00</td>\n",
       "      <td>0</td>\n",
       "      <td>66954</td>\n",
       "      <td>2016-04-07 01:46:50</td>\n",
       "    </tr>\n",
       "    <tr>\n",
       "      <th>2</th>\n",
       "      <td>2016-03-14 12:52:21</td>\n",
       "      <td>9800</td>\n",
       "      <td>suv</td>\n",
       "      <td>2004</td>\n",
       "      <td>auto</td>\n",
       "      <td>163</td>\n",
       "      <td>grand</td>\n",
       "      <td>125000</td>\n",
       "      <td>8</td>\n",
       "      <td>gasoline</td>\n",
       "      <td>jeep</td>\n",
       "      <td>NaN</td>\n",
       "      <td>2016-03-14 00:00:00</td>\n",
       "      <td>0</td>\n",
       "      <td>90480</td>\n",
       "      <td>2016-04-05 12:47:46</td>\n",
       "    </tr>\n",
       "    <tr>\n",
       "      <th>3</th>\n",
       "      <td>2016-03-17 16:54:04</td>\n",
       "      <td>1500</td>\n",
       "      <td>small</td>\n",
       "      <td>2001</td>\n",
       "      <td>manual</td>\n",
       "      <td>75</td>\n",
       "      <td>golf</td>\n",
       "      <td>150000</td>\n",
       "      <td>6</td>\n",
       "      <td>petrol</td>\n",
       "      <td>volkswagen</td>\n",
       "      <td>no</td>\n",
       "      <td>2016-03-17 00:00:00</td>\n",
       "      <td>0</td>\n",
       "      <td>91074</td>\n",
       "      <td>2016-03-17 17:40:17</td>\n",
       "    </tr>\n",
       "    <tr>\n",
       "      <th>4</th>\n",
       "      <td>2016-03-31 17:25:20</td>\n",
       "      <td>3600</td>\n",
       "      <td>small</td>\n",
       "      <td>2008</td>\n",
       "      <td>manual</td>\n",
       "      <td>69</td>\n",
       "      <td>fabia</td>\n",
       "      <td>90000</td>\n",
       "      <td>7</td>\n",
       "      <td>gasoline</td>\n",
       "      <td>skoda</td>\n",
       "      <td>no</td>\n",
       "      <td>2016-03-31 00:00:00</td>\n",
       "      <td>0</td>\n",
       "      <td>60437</td>\n",
       "      <td>2016-04-06 10:17:21</td>\n",
       "    </tr>\n",
       "  </tbody>\n",
       "</table>\n",
       "</div>"
      ],
      "text/plain": [
       "           DateCrawled  Price VehicleType  RegistrationYear Gearbox  Power  \\\n",
       "0  2016-03-24 11:52:17    480         NaN              1993  manual      0   \n",
       "1  2016-03-24 10:58:45  18300       coupe              2011  manual    190   \n",
       "2  2016-03-14 12:52:21   9800         suv              2004    auto    163   \n",
       "3  2016-03-17 16:54:04   1500       small              2001  manual     75   \n",
       "4  2016-03-31 17:25:20   3600       small              2008  manual     69   \n",
       "\n",
       "   Model  Kilometer  RegistrationMonth  FuelType       Brand Repaired  \\\n",
       "0   golf     150000                  0    petrol  volkswagen      NaN   \n",
       "1    NaN     125000                  5  gasoline        audi      yes   \n",
       "2  grand     125000                  8  gasoline        jeep      NaN   \n",
       "3   golf     150000                  6    petrol  volkswagen       no   \n",
       "4  fabia      90000                  7  gasoline       skoda       no   \n",
       "\n",
       "           DateCreated  NumberOfPictures  PostalCode             LastSeen  \n",
       "0  2016-03-24 00:00:00                 0       70435  2016-04-07 03:16:57  \n",
       "1  2016-03-24 00:00:00                 0       66954  2016-04-07 01:46:50  \n",
       "2  2016-03-14 00:00:00                 0       90480  2016-04-05 12:47:46  \n",
       "3  2016-03-17 00:00:00                 0       91074  2016-03-17 17:40:17  \n",
       "4  2016-03-31 00:00:00                 0       60437  2016-04-06 10:17:21  "
      ]
     },
     "execution_count": 8,
     "metadata": {},
     "output_type": "execute_result"
    }
   ],
   "source": [
    "df.head()"
   ]
  },
  {
   "cell_type": "markdown",
   "id": "dd3b5edc-78fa-49f6-8e42-107cd95853fd",
   "metadata": {},
   "source": [
    "Данные успешно загружены. Переименуем столбцы, приведём их названия к snake_case."
   ]
  },
  {
   "cell_type": "code",
   "execution_count": 9,
   "id": "aba5c12f-4eeb-4c6b-925d-7643b28161b4",
   "metadata": {},
   "outputs": [
    {
     "data": {
      "text/html": [
       "<div>\n",
       "<style scoped>\n",
       "    .dataframe tbody tr th:only-of-type {\n",
       "        vertical-align: middle;\n",
       "    }\n",
       "\n",
       "    .dataframe tbody tr th {\n",
       "        vertical-align: top;\n",
       "    }\n",
       "\n",
       "    .dataframe thead th {\n",
       "        text-align: right;\n",
       "    }\n",
       "</style>\n",
       "<table border=\"1\" class=\"dataframe\">\n",
       "  <thead>\n",
       "    <tr style=\"text-align: right;\">\n",
       "      <th></th>\n",
       "      <th>date_crawled</th>\n",
       "      <th>price</th>\n",
       "      <th>vehicle_type</th>\n",
       "      <th>registration_year</th>\n",
       "      <th>gearbox</th>\n",
       "      <th>power</th>\n",
       "      <th>model</th>\n",
       "      <th>kilometer</th>\n",
       "      <th>registration_month</th>\n",
       "      <th>fuel_type</th>\n",
       "      <th>brand</th>\n",
       "      <th>repaired</th>\n",
       "      <th>date_created</th>\n",
       "      <th>number_of_pictures</th>\n",
       "      <th>postal_code</th>\n",
       "      <th>last_seen</th>\n",
       "    </tr>\n",
       "  </thead>\n",
       "  <tbody>\n",
       "    <tr>\n",
       "      <th>0</th>\n",
       "      <td>2016-03-24 11:52:17</td>\n",
       "      <td>480</td>\n",
       "      <td>NaN</td>\n",
       "      <td>1993</td>\n",
       "      <td>manual</td>\n",
       "      <td>0</td>\n",
       "      <td>golf</td>\n",
       "      <td>150000</td>\n",
       "      <td>0</td>\n",
       "      <td>petrol</td>\n",
       "      <td>volkswagen</td>\n",
       "      <td>NaN</td>\n",
       "      <td>2016-03-24 00:00:00</td>\n",
       "      <td>0</td>\n",
       "      <td>70435</td>\n",
       "      <td>2016-04-07 03:16:57</td>\n",
       "    </tr>\n",
       "    <tr>\n",
       "      <th>1</th>\n",
       "      <td>2016-03-24 10:58:45</td>\n",
       "      <td>18300</td>\n",
       "      <td>coupe</td>\n",
       "      <td>2011</td>\n",
       "      <td>manual</td>\n",
       "      <td>190</td>\n",
       "      <td>NaN</td>\n",
       "      <td>125000</td>\n",
       "      <td>5</td>\n",
       "      <td>gasoline</td>\n",
       "      <td>audi</td>\n",
       "      <td>yes</td>\n",
       "      <td>2016-03-24 00:00:00</td>\n",
       "      <td>0</td>\n",
       "      <td>66954</td>\n",
       "      <td>2016-04-07 01:46:50</td>\n",
       "    </tr>\n",
       "    <tr>\n",
       "      <th>2</th>\n",
       "      <td>2016-03-14 12:52:21</td>\n",
       "      <td>9800</td>\n",
       "      <td>suv</td>\n",
       "      <td>2004</td>\n",
       "      <td>auto</td>\n",
       "      <td>163</td>\n",
       "      <td>grand</td>\n",
       "      <td>125000</td>\n",
       "      <td>8</td>\n",
       "      <td>gasoline</td>\n",
       "      <td>jeep</td>\n",
       "      <td>NaN</td>\n",
       "      <td>2016-03-14 00:00:00</td>\n",
       "      <td>0</td>\n",
       "      <td>90480</td>\n",
       "      <td>2016-04-05 12:47:46</td>\n",
       "    </tr>\n",
       "    <tr>\n",
       "      <th>3</th>\n",
       "      <td>2016-03-17 16:54:04</td>\n",
       "      <td>1500</td>\n",
       "      <td>small</td>\n",
       "      <td>2001</td>\n",
       "      <td>manual</td>\n",
       "      <td>75</td>\n",
       "      <td>golf</td>\n",
       "      <td>150000</td>\n",
       "      <td>6</td>\n",
       "      <td>petrol</td>\n",
       "      <td>volkswagen</td>\n",
       "      <td>no</td>\n",
       "      <td>2016-03-17 00:00:00</td>\n",
       "      <td>0</td>\n",
       "      <td>91074</td>\n",
       "      <td>2016-03-17 17:40:17</td>\n",
       "    </tr>\n",
       "    <tr>\n",
       "      <th>4</th>\n",
       "      <td>2016-03-31 17:25:20</td>\n",
       "      <td>3600</td>\n",
       "      <td>small</td>\n",
       "      <td>2008</td>\n",
       "      <td>manual</td>\n",
       "      <td>69</td>\n",
       "      <td>fabia</td>\n",
       "      <td>90000</td>\n",
       "      <td>7</td>\n",
       "      <td>gasoline</td>\n",
       "      <td>skoda</td>\n",
       "      <td>no</td>\n",
       "      <td>2016-03-31 00:00:00</td>\n",
       "      <td>0</td>\n",
       "      <td>60437</td>\n",
       "      <td>2016-04-06 10:17:21</td>\n",
       "    </tr>\n",
       "  </tbody>\n",
       "</table>\n",
       "</div>"
      ],
      "text/plain": [
       "          date_crawled  price vehicle_type  registration_year gearbox  power  \\\n",
       "0  2016-03-24 11:52:17    480          NaN               1993  manual      0   \n",
       "1  2016-03-24 10:58:45  18300        coupe               2011  manual    190   \n",
       "2  2016-03-14 12:52:21   9800          suv               2004    auto    163   \n",
       "3  2016-03-17 16:54:04   1500        small               2001  manual     75   \n",
       "4  2016-03-31 17:25:20   3600        small               2008  manual     69   \n",
       "\n",
       "   model  kilometer  registration_month fuel_type       brand repaired  \\\n",
       "0   golf     150000                   0    petrol  volkswagen      NaN   \n",
       "1    NaN     125000                   5  gasoline        audi      yes   \n",
       "2  grand     125000                   8  gasoline        jeep      NaN   \n",
       "3   golf     150000                   6    petrol  volkswagen       no   \n",
       "4  fabia      90000                   7  gasoline       skoda       no   \n",
       "\n",
       "          date_created  number_of_pictures  postal_code            last_seen  \n",
       "0  2016-03-24 00:00:00                   0        70435  2016-04-07 03:16:57  \n",
       "1  2016-03-24 00:00:00                   0        66954  2016-04-07 01:46:50  \n",
       "2  2016-03-14 00:00:00                   0        90480  2016-04-05 12:47:46  \n",
       "3  2016-03-17 00:00:00                   0        91074  2016-03-17 17:40:17  \n",
       "4  2016-03-31 00:00:00                   0        60437  2016-04-06 10:17:21  "
      ]
     },
     "execution_count": 9,
     "metadata": {},
     "output_type": "execute_result"
    }
   ],
   "source": [
    "df.columns = (df.columns\n",
    "                .str.replace('(?<=[a-z])(?=[A-Z])', '_', regex=True)\n",
    "                .str.lower()\n",
    "             )\n",
    "df.head()"
   ]
  },
  {
   "cell_type": "markdown",
   "id": "f363afd6-6dc4-4e2d-8f70-adba483cce33",
   "metadata": {},
   "source": [
    "Столбцы успешно переименованы."
   ]
  },
  {
   "cell_type": "markdown",
   "id": "9f1afdec-6935-4465-9bdf-1b0ce297f325",
   "metadata": {},
   "source": [
    "# Предобработка данных"
   ]
  },
  {
   "cell_type": "code",
   "execution_count": 10,
   "id": "22ddbc53-0faa-438d-b77a-8ab4c59fdbed",
   "metadata": {},
   "outputs": [
    {
     "name": "stdout",
     "output_type": "stream",
     "text": [
      "<class 'pandas.core.frame.DataFrame'>\n",
      "RangeIndex: 354369 entries, 0 to 354368\n",
      "Data columns (total 16 columns):\n",
      " #   Column              Non-Null Count   Dtype \n",
      "---  ------              --------------   ----- \n",
      " 0   date_crawled        354369 non-null  object\n",
      " 1   price               354369 non-null  int64 \n",
      " 2   vehicle_type        316879 non-null  object\n",
      " 3   registration_year   354369 non-null  int64 \n",
      " 4   gearbox             334536 non-null  object\n",
      " 5   power               354369 non-null  int64 \n",
      " 6   model               334664 non-null  object\n",
      " 7   kilometer           354369 non-null  int64 \n",
      " 8   registration_month  354369 non-null  int64 \n",
      " 9   fuel_type           321474 non-null  object\n",
      " 10  brand               354369 non-null  object\n",
      " 11  repaired            283215 non-null  object\n",
      " 12  date_created        354369 non-null  object\n",
      " 13  number_of_pictures  354369 non-null  int64 \n",
      " 14  postal_code         354369 non-null  int64 \n",
      " 15  last_seen           354369 non-null  object\n",
      "dtypes: int64(7), object(9)\n",
      "memory usage: 43.3+ MB\n"
     ]
    }
   ],
   "source": [
    "df.info()"
   ]
  },
  {
   "cell_type": "markdown",
   "id": "876120dc-6baa-499c-8120-e72889fbfbf7",
   "metadata": {},
   "source": [
    "Преобразуем столбцы с типом int64 в int"
   ]
  },
  {
   "cell_type": "code",
   "execution_count": 11,
   "id": "2753d4a1-50d3-4cdc-99b3-df78a8883599",
   "metadata": {},
   "outputs": [],
   "source": [
    "int_columns = ['price', 'registration_year', 'power', 'kilometer', 'registration_month', 'number_of_pictures', 'postal_code']\n",
    "\n",
    "for col in int_columns:\n",
    "    df[col] = df[col].astype('int32')"
   ]
  },
  {
   "cell_type": "markdown",
   "id": "54ee0d20-8c3f-44ec-ad34-a6388debc7ba",
   "metadata": {},
   "source": [
    "Преобразуем столбцы с датами в соответствующий тип datetime."
   ]
  },
  {
   "cell_type": "code",
   "execution_count": 12,
   "id": "8e29ca36-ae3d-48ee-9ee4-9814d64ead9d",
   "metadata": {},
   "outputs": [],
   "source": [
    "datetime_columns = ['date_crawled', 'date_created', 'last_seen']\n",
    "\n",
    "for col in datetime_columns:\n",
    "    df[col] = pd.to_datetime(df[col])"
   ]
  },
  {
   "cell_type": "code",
   "execution_count": 13,
   "id": "e0d10606-7b62-4a41-a8c0-7ba20efcadd0",
   "metadata": {},
   "outputs": [
    {
     "name": "stdout",
     "output_type": "stream",
     "text": [
      "<class 'pandas.core.frame.DataFrame'>\n",
      "RangeIndex: 354369 entries, 0 to 354368\n",
      "Data columns (total 16 columns):\n",
      " #   Column              Non-Null Count   Dtype         \n",
      "---  ------              --------------   -----         \n",
      " 0   date_crawled        354369 non-null  datetime64[ns]\n",
      " 1   price               354369 non-null  int32         \n",
      " 2   vehicle_type        316879 non-null  object        \n",
      " 3   registration_year   354369 non-null  int32         \n",
      " 4   gearbox             334536 non-null  object        \n",
      " 5   power               354369 non-null  int32         \n",
      " 6   model               334664 non-null  object        \n",
      " 7   kilometer           354369 non-null  int32         \n",
      " 8   registration_month  354369 non-null  int32         \n",
      " 9   fuel_type           321474 non-null  object        \n",
      " 10  brand               354369 non-null  object        \n",
      " 11  repaired            283215 non-null  object        \n",
      " 12  date_created        354369 non-null  datetime64[ns]\n",
      " 13  number_of_pictures  354369 non-null  int32         \n",
      " 14  postal_code         354369 non-null  int32         \n",
      " 15  last_seen           354369 non-null  datetime64[ns]\n",
      "dtypes: datetime64[ns](3), int32(7), object(6)\n",
      "memory usage: 33.8+ MB\n"
     ]
    }
   ],
   "source": [
    "df.info()"
   ]
  },
  {
   "cell_type": "markdown",
   "id": "74ba32f8-5068-4caa-ba59-e8a3924d7cae",
   "metadata": {},
   "source": [
    "Все типы данных успешно приведены к порядок."
   ]
  },
  {
   "cell_type": "markdown",
   "id": "93d490c1-d0dd-4e1a-8d98-f5057cb3f2f1",
   "metadata": {},
   "source": [
    "Наблюдаем пропуски в столбцах: vehicle_type, gearbox, model, fuel_type, repaired. Все столбцы с пропусками категориальные. Посмотрим сколько пропусков в каждом столбце."
   ]
  },
  {
   "cell_type": "code",
   "execution_count": 19,
   "id": "53897f42-4b32-4669-bcd5-ed725893afa6",
   "metadata": {},
   "outputs": [
    {
     "name": "stdout",
     "output_type": "stream",
     "text": [
      "Column: vehicle_type   NaN count: 37490   NaN prop: 0.11\n",
      "Column: gearbox   NaN count: 19833   NaN prop: 0.06\n",
      "Column: model   NaN count: 19705   NaN prop: 0.06\n",
      "Column: fuel_type   NaN count: 32895   NaN prop: 0.09\n",
      "Column: repaired   NaN count: 71154   NaN prop: 0.2\n"
     ]
    }
   ],
   "source": [
    "for col in ['vehicle_type', 'gearbox', 'model', 'fuel_type', 'repaired']:\n",
    "    nan_count = df[col].isna().sum()\n",
    "    print(f'Column: {col}   NaN count: {nan_count}   NaN prop: {round(nan_count/df.shape[0], 2)}')"
   ]
  },
  {
   "cell_type": "markdown",
   "id": "a96e02e6-649f-4751-8e9b-34712de41b2c",
   "metadata": {},
   "source": [
    "Попуски составляют от 6 до 20% объема всех данных. Больше всего пропусков в столбце repaired. Так как признак model один из самых важных, пропуски по данному признаку удалим из рассмотрения."
   ]
  },
  {
   "cell_type": "code",
   "execution_count": 20,
   "id": "a039221c-5cb1-4615-84ef-5e2f38d44121",
   "metadata": {},
   "outputs": [
    {
     "name": "stdout",
     "output_type": "stream",
     "text": [
      "<class 'pandas.core.frame.DataFrame'>\n",
      "Int64Index: 334664 entries, 0 to 354368\n",
      "Data columns (total 16 columns):\n",
      " #   Column              Non-Null Count   Dtype         \n",
      "---  ------              --------------   -----         \n",
      " 0   date_crawled        334664 non-null  datetime64[ns]\n",
      " 1   price               334664 non-null  int32         \n",
      " 2   vehicle_type        304002 non-null  object        \n",
      " 3   registration_year   334664 non-null  int32         \n",
      " 4   gearbox             318962 non-null  object        \n",
      " 5   power               334664 non-null  int32         \n",
      " 6   model               334664 non-null  object        \n",
      " 7   kilometer           334664 non-null  int32         \n",
      " 8   registration_month  334664 non-null  int32         \n",
      " 9   fuel_type           308932 non-null  object        \n",
      " 10  brand               334664 non-null  object        \n",
      " 11  repaired            272564 non-null  object        \n",
      " 12  date_created        334664 non-null  datetime64[ns]\n",
      " 13  number_of_pictures  334664 non-null  int32         \n",
      " 14  postal_code         334664 non-null  int32         \n",
      " 15  last_seen           334664 non-null  datetime64[ns]\n",
      "dtypes: datetime64[ns](3), int32(7), object(6)\n",
      "memory usage: 34.5+ MB\n"
     ]
    }
   ],
   "source": [
    "df = df.dropna(subset=['model'])\n",
    "df.info()"
   ]
  },
  {
   "cell_type": "markdown",
   "id": "df5212aa-5c36-4dab-9a6e-cb136aa788f9",
   "metadata": {},
   "source": [
    "Пропуски по признаку model устранены. Для толбцов vehicle_type, gearbox, fuel_type пропуски составляют менее 10%, заполним их модой (самым популярным значением) в будущем в пайплайне.\n",
    "\n",
    "Пропуски в столбце repaired оставим без изменений, поскольку их достаточно много. Возможно отсутствие информации о том, была ли машина в ремонте, влияет на стоимость.\n",
    "\n",
    "Признаки registration_month и postal_code неинформативные, уберём их из рассмотрения."
   ]
  },
  {
   "cell_type": "code",
   "execution_count": 21,
   "id": "167ba882-988f-4e54-a385-82203ffd9410",
   "metadata": {},
   "outputs": [],
   "source": [
    "df = df.drop(columns=['registration_month', 'postal_code'])"
   ]
  },
  {
   "cell_type": "markdown",
   "id": "32d6b1b3-4478-496a-af1a-7fe9253cfee6",
   "metadata": {},
   "source": [
    "Поищем дубликаты в данных."
   ]
  },
  {
   "cell_type": "code",
   "execution_count": 22,
   "id": "9e805345-e749-4279-9aeb-373fb98a9179",
   "metadata": {},
   "outputs": [
    {
     "data": {
      "text/plain": [
       "5"
      ]
     },
     "execution_count": 22,
     "metadata": {},
     "output_type": "execute_result"
    }
   ],
   "source": [
    "df.duplicated().sum()"
   ]
  },
  {
   "cell_type": "markdown",
   "id": "4cda31f5-3427-4e96-b636-5abe40610235",
   "metadata": {},
   "source": [
    "В данных обнаружены явные дубликаты, уберём их из рассмотрения."
   ]
  },
  {
   "cell_type": "code",
   "execution_count": 23,
   "id": "f49d1078-8fcc-474f-acaf-814803c3dce1",
   "metadata": {},
   "outputs": [],
   "source": [
    "df = df.drop_duplicates()"
   ]
  },
  {
   "cell_type": "code",
   "execution_count": 24,
   "id": "8dabcf8b-83d2-4932-ac38-2f7af729c43c",
   "metadata": {},
   "outputs": [
    {
     "name": "stdout",
     "output_type": "stream",
     "text": [
      "Column: vehicle_type Unique: [nan 'suv' 'small' 'sedan' 'convertible' 'bus' 'wagon' 'coupe' 'other']\n",
      "Column: gearbox Unique: ['manual' 'auto' nan]\n",
      "Column: model Unique: ['golf' 'grand' 'fabia' '3er' '2_reihe' 'other' 'c_max' '3_reihe' 'passat'\n",
      " 'navara' 'ka' 'polo' 'twingo' 'a_klasse' 'scirocco' '5er' 'meriva'\n",
      " 'arosa' 'c4' 'civic' 'transporter' 'punto' 'e_klasse' 'clio' 'kadett'\n",
      " 'kangoo' 'corsa' 'one' 'fortwo' '1er' 'b_klasse' 'signum' 'astra' 'a8'\n",
      " 'jetta' 'fiesta' 'c_klasse' 'micra' 'vito' 'sprinter' '156' 'escort'\n",
      " 'forester' 'xc_reihe' 'scenic' 'a4' 'a1' 'insignia' 'combo' 'focus' 'tt'\n",
      " 'a6' 'jazz' 'omega' 'slk' '7er' '80' '147' '100' 'z_reihe' 'sportage'\n",
      " 'sorento' 'v40' 'ibiza' 'mustang' 'eos' 'touran' 'getz' 'a3' 'almera'\n",
      " 'megane' 'lupo' 'r19' 'zafira' 'caddy' 'mondeo' 'cordoba' 'colt'\n",
      " 'impreza' 'vectra' 'berlingo' 'tiguan' 'i_reihe' 'espace' 'sharan'\n",
      " '6_reihe' 'panda' 'up' 'seicento' 'ceed' '5_reihe' 'yeti' 'octavia' 'mii'\n",
      " 'rx_reihe' '6er' 'modus' 'fox' 'matiz' 'beetle' 'c1' 'rio' 'touareg'\n",
      " 'logan' 'spider' 'cuore' 's_max' 'a2' 'galaxy' 'c3' 'viano' 's_klasse'\n",
      " '1_reihe' 'avensis' 'roomster' 'sl' 'kaefer' 'santa' 'cooper' 'leon'\n",
      " '4_reihe' 'a5' '500' 'laguna' 'ptcruiser' 'clk' 'primera' 'x_reihe'\n",
      " 'exeo' '159' 'transit' 'juke' 'qashqai' 'carisma' 'accord' 'corolla'\n",
      " 'lanos' 'phaeton' 'verso' 'swift' 'rav' 'picanto' 'boxster' 'kalos'\n",
      " 'superb' 'stilo' 'alhambra' 'mx_reihe' 'roadster' 'ypsilon' 'cayenne'\n",
      " 'galant' 'justy' '90' 'sirion' 'crossfire' 'agila' 'duster' 'cr_reihe'\n",
      " 'v50' 'c_reihe' 'v_klasse' 'm_klasse' 'yaris' 'c5' 'aygo' 'cc' 'carnival'\n",
      " 'fusion' '911' 'bora' 'forfour' 'm_reihe' 'cl' 'tigra' '300c' 'spark'\n",
      " 'v70' 'kuga' 'x_type' 'ducato' 's_type' 'x_trail' 'toledo' 'altea'\n",
      " 'voyager' 'calibra' 'bravo' 'antara' 'tucson' 'citigo' 'jimny' 'wrangler'\n",
      " 'lybra' 'q7' 'lancer' 'captiva' 'c2' 'discovery' 'freelander' 'sandero'\n",
      " 'note' '900' 'cherokee' 'clubman' 'samara' 'defender' '601' 'cx_reihe'\n",
      " 'legacy' 'pajero' 'auris' 'niva' 's60' 'nubira' 'vivaro' 'g_klasse'\n",
      " 'lodgy' '850' 'range_rover' 'q3' 'serie_2' 'glk' 'charade' 'croma'\n",
      " 'outlander' 'doblo' 'musa' 'move' '9000' 'v60' '145' 'aveo' '200' 'b_max'\n",
      " 'range_rover_sport' 'terios' 'rangerover' 'q5' 'range_rover_evoque'\n",
      " 'materia' 'delta' 'gl' 'kalina' 'amarok' 'elefantino' 'i3' 'kappa'\n",
      " 'serie_3' 'serie_1']\n",
      "Column: fuel_type Unique: ['petrol' 'gasoline' nan 'lpg' 'other' 'hybrid' 'cng' 'electric']\n",
      "Column: brand Unique: ['volkswagen' 'jeep' 'skoda' 'bmw' 'peugeot' 'ford' 'mazda' 'nissan'\n",
      " 'renault' 'mercedes_benz' 'opel' 'seat' 'citroen' 'honda' 'fiat' 'mini'\n",
      " 'smart' 'hyundai' 'audi' 'alfa_romeo' 'subaru' 'volvo' 'mitsubishi' 'kia'\n",
      " 'suzuki' 'lancia' 'toyota' 'chevrolet' 'dacia' 'daihatsu' 'chrysler'\n",
      " 'jaguar' 'daewoo' 'porsche' 'rover' 'saab' 'land_rover' 'trabant' 'lada']\n",
      "Column: repaired Unique: [nan 'no' 'yes']\n"
     ]
    }
   ],
   "source": [
    "cat_cols = ['vehicle_type', 'gearbox', 'model', 'fuel_type', 'brand', 'repaired']\n",
    "\n",
    "for col in cat_cols:\n",
    "    print(f'Column: {col} Unique: {df[col].unique()}')"
   ]
  },
  {
   "cell_type": "markdown",
   "id": "93b3021c-9386-426e-a6e3-ed45f543e780",
   "metadata": {},
   "source": [
    "Проверим наличие дубликатов в списке моделей."
   ]
  },
  {
   "cell_type": "code",
   "execution_count": 25,
   "id": "f1ea0763-c4c4-4a5a-a6bf-e7799c510edd",
   "metadata": {
    "scrolled": true
   },
   "outputs": [
    {
     "data": {
      "text/plain": [
       "{'100': 1,\n",
       " '145': 1,\n",
       " '147': 1,\n",
       " '156': 1,\n",
       " '159': 1,\n",
       " '1_reihe': 1,\n",
       " '1er': 1,\n",
       " '200': 1,\n",
       " '2_reihe': 1,\n",
       " '300c': 1,\n",
       " '3_reihe': 1,\n",
       " '3er': 1,\n",
       " '4_reihe': 1,\n",
       " '500': 1,\n",
       " '5_reihe': 1,\n",
       " '5er': 1,\n",
       " '601': 1,\n",
       " '6_reihe': 1,\n",
       " '6er': 1,\n",
       " '7er': 1,\n",
       " '80': 1,\n",
       " '850': 1,\n",
       " '90': 1,\n",
       " '900': 1,\n",
       " '9000': 1,\n",
       " '911': 1,\n",
       " 'a1': 1,\n",
       " 'a2': 1,\n",
       " 'a3': 1,\n",
       " 'a4': 1,\n",
       " 'a5': 1,\n",
       " 'a6': 1,\n",
       " 'a8': 1,\n",
       " 'a_klasse': 1,\n",
       " 'accord': 1,\n",
       " 'agila': 1,\n",
       " 'alhambra': 1,\n",
       " 'almera': 1,\n",
       " 'altea': 1,\n",
       " 'amarok': 1,\n",
       " 'antara': 1,\n",
       " 'arosa': 1,\n",
       " 'astra': 1,\n",
       " 'auris': 1,\n",
       " 'avensis': 1,\n",
       " 'aveo': 1,\n",
       " 'aygo': 1,\n",
       " 'b_klasse': 1,\n",
       " 'b_max': 1,\n",
       " 'beetle': 1,\n",
       " 'berlingo': 1,\n",
       " 'bora': 1,\n",
       " 'boxster': 1,\n",
       " 'bravo': 1,\n",
       " 'c1': 1,\n",
       " 'c2': 1,\n",
       " 'c3': 1,\n",
       " 'c4': 1,\n",
       " 'c5': 1,\n",
       " 'c_klasse': 1,\n",
       " 'c_max': 1,\n",
       " 'c_reihe': 1,\n",
       " 'caddy': 1,\n",
       " 'calibra': 1,\n",
       " 'captiva': 1,\n",
       " 'carisma': 1,\n",
       " 'carnival': 1,\n",
       " 'cayenne': 1,\n",
       " 'cc': 1,\n",
       " 'ceed': 1,\n",
       " 'charade': 1,\n",
       " 'cherokee': 1,\n",
       " 'citigo': 1,\n",
       " 'civic': 1,\n",
       " 'cl': 1,\n",
       " 'clio': 1,\n",
       " 'clk': 1,\n",
       " 'clubman': 1,\n",
       " 'colt': 1,\n",
       " 'combo': 1,\n",
       " 'cooper': 1,\n",
       " 'cordoba': 1,\n",
       " 'corolla': 1,\n",
       " 'corsa': 1,\n",
       " 'cr_reihe': 1,\n",
       " 'croma': 1,\n",
       " 'crossfire': 1,\n",
       " 'cuore': 1,\n",
       " 'cx_reihe': 1,\n",
       " 'defender': 1,\n",
       " 'delta': 1,\n",
       " 'discovery': 1,\n",
       " 'doblo': 1,\n",
       " 'ducato': 1,\n",
       " 'duster': 1,\n",
       " 'e_klasse': 1,\n",
       " 'elefantino': 1,\n",
       " 'eos': 1,\n",
       " 'escort': 1,\n",
       " 'espace': 1,\n",
       " 'exeo': 1,\n",
       " 'fabia': 1,\n",
       " 'fiesta': 1,\n",
       " 'focus': 1,\n",
       " 'forester': 1,\n",
       " 'forfour': 1,\n",
       " 'fortwo': 1,\n",
       " 'fox': 1,\n",
       " 'freelander': 1,\n",
       " 'fusion': 1,\n",
       " 'g_klasse': 1,\n",
       " 'galant': 1,\n",
       " 'galaxy': 1,\n",
       " 'getz': 1,\n",
       " 'gl': 1,\n",
       " 'glk': 1,\n",
       " 'golf': 1,\n",
       " 'grand': 1,\n",
       " 'i3': 1,\n",
       " 'i_reihe': 1,\n",
       " 'ibiza': 1,\n",
       " 'impreza': 1,\n",
       " 'insignia': 1,\n",
       " 'jazz': 1,\n",
       " 'jetta': 1,\n",
       " 'jimny': 1,\n",
       " 'juke': 1,\n",
       " 'justy': 1,\n",
       " 'ka': 1,\n",
       " 'kadett': 1,\n",
       " 'kaefer': 1,\n",
       " 'kalina': 1,\n",
       " 'kalos': 1,\n",
       " 'kangoo': 1,\n",
       " 'kappa': 1,\n",
       " 'kuga': 1,\n",
       " 'laguna': 1,\n",
       " 'lancer': 1,\n",
       " 'lanos': 1,\n",
       " 'legacy': 1,\n",
       " 'leon': 1,\n",
       " 'lodgy': 1,\n",
       " 'logan': 1,\n",
       " 'lupo': 1,\n",
       " 'lybra': 1,\n",
       " 'm_klasse': 1,\n",
       " 'm_reihe': 1,\n",
       " 'materia': 1,\n",
       " 'matiz': 1,\n",
       " 'megane': 1,\n",
       " 'meriva': 1,\n",
       " 'micra': 1,\n",
       " 'mii': 1,\n",
       " 'modus': 1,\n",
       " 'mondeo': 1,\n",
       " 'move': 1,\n",
       " 'musa': 1,\n",
       " 'mustang': 1,\n",
       " 'mx_reihe': 1,\n",
       " 'navara': 1,\n",
       " 'niva': 1,\n",
       " 'note': 1,\n",
       " 'nubira': 1,\n",
       " 'octavia': 1,\n",
       " 'omega': 1,\n",
       " 'one': 1,\n",
       " 'other': 1,\n",
       " 'outlander': 1,\n",
       " 'pajero': 1,\n",
       " 'panda': 1,\n",
       " 'passat': 1,\n",
       " 'phaeton': 1,\n",
       " 'picanto': 1,\n",
       " 'polo': 1,\n",
       " 'primera': 1,\n",
       " 'ptcruiser': 1,\n",
       " 'punto': 1,\n",
       " 'q3': 1,\n",
       " 'q5': 1,\n",
       " 'q7': 1,\n",
       " 'qashqai': 1,\n",
       " 'r19': 1,\n",
       " 'range_rover': 1,\n",
       " 'range_rover_evoque': 1,\n",
       " 'range_rover_sport': 1,\n",
       " 'rangerover': 1,\n",
       " 'rav': 1,\n",
       " 'rio': 1,\n",
       " 'roadster': 1,\n",
       " 'roomster': 1,\n",
       " 'rx_reihe': 1,\n",
       " 's60': 1,\n",
       " 's_klasse': 1,\n",
       " 's_max': 1,\n",
       " 's_type': 1,\n",
       " 'samara': 1,\n",
       " 'sandero': 1,\n",
       " 'santa': 1,\n",
       " 'scenic': 1,\n",
       " 'scirocco': 1,\n",
       " 'seicento': 1,\n",
       " 'serie_1': 1,\n",
       " 'serie_2': 1,\n",
       " 'serie_3': 1,\n",
       " 'sharan': 1,\n",
       " 'signum': 1,\n",
       " 'sirion': 1,\n",
       " 'sl': 1,\n",
       " 'slk': 1,\n",
       " 'sorento': 1,\n",
       " 'spark': 1,\n",
       " 'spider': 1,\n",
       " 'sportage': 1,\n",
       " 'sprinter': 1,\n",
       " 'stilo': 1,\n",
       " 'superb': 1,\n",
       " 'swift': 1,\n",
       " 'terios': 1,\n",
       " 'tigra': 1,\n",
       " 'tiguan': 1,\n",
       " 'toledo': 1,\n",
       " 'touareg': 1,\n",
       " 'touran': 1,\n",
       " 'transit': 1,\n",
       " 'transporter': 1,\n",
       " 'tt': 1,\n",
       " 'tucson': 1,\n",
       " 'twingo': 1,\n",
       " 'up': 1,\n",
       " 'v40': 1,\n",
       " 'v50': 1,\n",
       " 'v60': 1,\n",
       " 'v70': 1,\n",
       " 'v_klasse': 1,\n",
       " 'vectra': 1,\n",
       " 'verso': 1,\n",
       " 'viano': 1,\n",
       " 'vito': 1,\n",
       " 'vivaro': 1,\n",
       " 'voyager': 1,\n",
       " 'wrangler': 1,\n",
       " 'x_reihe': 1,\n",
       " 'x_trail': 1,\n",
       " 'x_type': 1,\n",
       " 'xc_reihe': 1,\n",
       " 'yaris': 1,\n",
       " 'yeti': 1,\n",
       " 'ypsilon': 1,\n",
       " 'z_reihe': 1,\n",
       " 'zafira': 1}"
      ]
     },
     "execution_count": 25,
     "metadata": {},
     "output_type": "execute_result"
    }
   ],
   "source": [
    "uniq, counts = np.unique(df['model'].unique(), return_counts=True)\n",
    "dict(zip(uniq, counts))"
   ]
  },
  {
   "cell_type": "markdown",
   "id": "89db75f3-c7a8-45f7-b054-dd690d328fc0",
   "metadata": {},
   "source": [
    "Наблюдаем один неявный дубликат: 'petrol' и 'gasoline' - это название одного и того же типа топлива в разных странах. Исправим данную ситуацию и снова приверим наличие явных дубликатов.\n",
    "\n",
    "Для всех численных признаков посмотрим наличие выбросов."
   ]
  },
  {
   "cell_type": "code",
   "execution_count": 26,
   "id": "594f0fb4",
   "metadata": {},
   "outputs": [
    {
     "data": {
      "text/plain": [
       "array(['petrol', nan, 'lpg', 'other', 'hybrid', 'cng', 'electric'],\n",
       "      dtype=object)"
      ]
     },
     "execution_count": 26,
     "metadata": {},
     "output_type": "execute_result"
    }
   ],
   "source": [
    "df['fuel_type'] = df['fuel_type'].replace('gasoline', 'petrol')\n",
    "df['fuel_type'].unique()"
   ]
  },
  {
   "cell_type": "code",
   "execution_count": 27,
   "id": "d40077b9",
   "metadata": {},
   "outputs": [
    {
     "data": {
      "text/plain": [
       "0"
      ]
     },
     "execution_count": 27,
     "metadata": {},
     "output_type": "execute_result"
    }
   ],
   "source": [
    "df.duplicated().sum()"
   ]
  },
  {
   "cell_type": "code",
   "execution_count": 28,
   "id": "5afd680b-ef15-4649-852e-1fd380fdb53f",
   "metadata": {},
   "outputs": [],
   "source": [
    "def print_boxplot(df, column, title, x):\n",
    "    '''\n",
    "        Функция строит ящих с усами для отдельного столбца таблицы.\n",
    "    '''\n",
    "    fig = plt.figure(figsize=(7,2))\n",
    "    plt.boxplot(df[column], vert=False)\n",
    "    plt.title(title)\n",
    "    plt.xlabel(x)\n",
    "    plt.yticks([])\n",
    "    plt.show();"
   ]
  },
  {
   "cell_type": "code",
   "execution_count": 29,
   "id": "223f0b28-a2b2-4a62-a3c4-a15ebc4a1113",
   "metadata": {},
   "outputs": [
    {
     "data": {
      "text/plain": [
       "['price', 'registration_year', 'power', 'kilometer', 'number_of_pictures']"
      ]
     },
     "execution_count": 29,
     "metadata": {},
     "output_type": "execute_result"
    }
   ],
   "source": [
    "num_cols = df.select_dtypes(include='number').columns.tolist()\n",
    "num_cols"
   ]
  },
  {
   "cell_type": "code",
   "execution_count": 30,
   "id": "197a1581-6262-4895-9e91-43ad1b8e6948",
   "metadata": {},
   "outputs": [
    {
     "data": {
      "image/png": "[encoded data removed]",
      "text/plain": [
       "<Figure size 504x144 with 1 Axes>"
      ]
     },
     "metadata": {},
     "output_type": "display_data"
    }
   ],
   "source": [
    "print_boxplot(df, 'price', 'Стоимость автомобиля', 'Евро')"
   ]
  },
  {
   "cell_type": "markdown",
   "id": "2c2894ac-0859-463c-a324-1b952e5dcc02",
   "metadata": {},
   "source": [
    "Видим, что стоимость автомобиля колеблется от 0 до 20к евро. Среднее равняется приблизительно 2500 евро. Значения выше 13к евро считаются выбросами, ознако не смотря на свою редкость, удалять их из рассмотрения не будем."
   ]
  },
  {
   "cell_type": "code",
   "execution_count": 31,
   "id": "dacb6ce2-3022-48c5-a427-9950bb72c211",
   "metadata": {},
   "outputs": [
    {
     "data": {
      "text/plain": [
       "count    334659.000000\n",
       "mean       2003.923997\n",
       "std          69.377734\n",
       "min        1000.000000\n",
       "25%        1999.000000\n",
       "50%        2003.000000\n",
       "75%        2008.000000\n",
       "max        9999.000000\n",
       "Name: registration_year, dtype: float64"
      ]
     },
     "execution_count": 31,
     "metadata": {},
     "output_type": "execute_result"
    }
   ],
   "source": [
    "df['registration_year'].describe()"
   ]
  },
  {
   "cell_type": "markdown",
   "id": "e76d7b44",
   "metadata": {},
   "source": [
    "Посмотрим на даты создания анкет."
   ]
  },
  {
   "cell_type": "code",
   "execution_count": 32,
   "id": "ac6e44fa",
   "metadata": {},
   "outputs": [
    {
     "data": {
      "text/plain": [
       "61207    2014-03-10\n",
       "4001     2015-03-20\n",
       "342275   2015-06-18\n",
       "86601    2015-08-07\n",
       "175103   2015-08-10\n",
       "            ...    \n",
       "216128   2016-04-07\n",
       "285200   2016-04-07\n",
       "292174   2016-04-07\n",
       "206571   2016-04-07\n",
       "124250   2016-04-07\n",
       "Name: date_created, Length: 334659, dtype: datetime64[ns]"
      ]
     },
     "execution_count": 32,
     "metadata": {},
     "output_type": "execute_result"
    }
   ],
   "source": [
    "df['date_created'].sort_values()"
   ]
  },
  {
   "cell_type": "markdown",
   "id": "05a648d7-1434-4bbf-ace0-1add29c8e911",
   "metadata": {},
   "source": [
    "Самая поздняя дата скачивания датируется 2016 годом, что означает, что более поздний год регистрации авто будем считать ошибкой.\n",
    "\n",
    "По описанию признака registration_year видим, что его значения колеблются от 1000 до 9999. Однако благодаря интернету можно выяснить, что год изобретения автомобиля - 1886. Значит значения в данном признаке могут находится только в диапазоне от 1886 до 2016. Посмотрим сколько в данных записей вне указанного диапазона."
   ]
  },
  {
   "cell_type": "code",
   "execution_count": 33,
   "id": "189afcf1-a27d-4457-b6bb-b656e6e6e550",
   "metadata": {},
   "outputs": [
    {
     "data": {
      "text/plain": [
       "12516"
      ]
     },
     "execution_count": 33,
     "metadata": {},
     "output_type": "execute_result"
    }
   ],
   "source": [
    "df[(df['registration_year'] < 1886) | (df['registration_year'] > 2016)].shape[0]"
   ]
  },
  {
   "cell_type": "code",
   "execution_count": 34,
   "id": "bf9c509f",
   "metadata": {},
   "outputs": [
    {
     "data": {
      "text/plain": [
       "0.03739926313052988"
      ]
     },
     "execution_count": 34,
     "metadata": {},
     "output_type": "execute_result"
    }
   ],
   "source": [
    "df[(df['registration_year'] < 1886) | (df['registration_year'] > 2016)].shape[0] / df.shape[0]"
   ]
  },
  {
   "cell_type": "markdown",
   "id": "1c64eaba-ff6a-4b5d-931e-0513fbda269e",
   "metadata": {},
   "source": [
    "Всего около 3% записей с нелогично указанным годом. Удалим их из рассмотрения и передадим информацию разработчикам о том, что данное поле иногда заполняется неверно. Тем не менее самостоятельно выяснить причину появления нелогичных данных мы не можем."
   ]
  },
  {
   "cell_type": "code",
   "execution_count": 35,
   "id": "6590103d-dd6f-48ab-a827-9862d44394dd",
   "metadata": {},
   "outputs": [],
   "source": [
    "df = df[(df['registration_year'] >= 1886) & (df['registration_year'] <= 2016)]"
   ]
  },
  {
   "cell_type": "code",
   "execution_count": 36,
   "id": "057e5bfd-f548-4975-ab64-5efec999dd4c",
   "metadata": {},
   "outputs": [
    {
     "data": {
      "image/png": "[encoded data removed]",
      "text/plain": [
       "<Figure size 504x144 with 1 Axes>"
      ]
     },
     "metadata": {},
     "output_type": "display_data"
    }
   ],
   "source": [
    "print_boxplot(df, 'registration_year', 'Год регистрации автомобиля', 'Год')"
   ]
  },
  {
   "cell_type": "markdown",
   "id": "4f7d01f0-6d41-4ec0-aff6-ddd4f458f614",
   "metadata": {},
   "source": [
    "После исключения аномалий наблюдаем, что год регистрации принимает значения от 1910 до 2016. Среднее значение около 2003 года. Значения меньше 1985 года более редкие, однако имеют право на существование."
   ]
  },
  {
   "cell_type": "code",
   "execution_count": 37,
   "id": "801953bb-97ed-4853-9832-4b09cf4492d0",
   "metadata": {},
   "outputs": [
    {
     "data": {
      "image/png": "[encoded data removed]",
      "text/plain": [
       "<Figure size 504x144 with 1 Axes>"
      ]
     },
     "metadata": {},
     "output_type": "display_data"
    }
   ],
   "source": [
    "print_boxplot(df, 'power', 'Мощность автомобиля', 'Мощность, л.с.')"
   ]
  },
  {
   "cell_type": "markdown",
   "id": "dd964198-1104-4a5c-9516-245ba9ee765f",
   "metadata": {},
   "source": [
    "Самый мощный двигатель внутреннего сгорания (ДВС) в мире выдаёт 122 320 лошадиных сил. Среди автомобилей с высокой мощностью можно выделить, например:\n",
    "- Koenigsegg Gemera — 2300 л. с.\n",
    "- Lotus Evija — 1972 л. с.\n",
    "- Pininfarina Battista — 1900 л. с.\n",
    "- Hennessey Venom F5 — 1817 л. с.\n",
    "\n",
    "Также по данным сайта quto.ru, средняя мощность автомобиля в 2022 году составляла 212 л.с. Посмотрим сколько в данных записей с мощностью выше 300 л.с."
   ]
  },
  {
   "cell_type": "code",
   "execution_count": 38,
   "id": "dd352c3e-e218-476e-9a33-700d06dfe69a",
   "metadata": {},
   "outputs": [
    {
     "data": {
      "text/plain": [
       "3063"
      ]
     },
     "execution_count": 38,
     "metadata": {},
     "output_type": "execute_result"
    }
   ],
   "source": [
    "df[df['power'] > 300].shape[0]"
   ]
  },
  {
   "cell_type": "markdown",
   "id": "3bceb245-b5f6-47a9-9ee1-cfc3a769b090",
   "metadata": {},
   "source": [
    "Вероятнее всего причина таких больших значений в данном столбце - лишние нули в записи. Однако точная причина нам неизвестна. Передадим информацию разработчикам. 3000 записей составляют менее 1% объема данных, поэтому просто уберём их из рассмотрения."
   ]
  },
  {
   "cell_type": "code",
   "execution_count": 39,
   "id": "62ae8962-f95f-4e51-b660-71aeff43a85e",
   "metadata": {},
   "outputs": [],
   "source": [
    "df = df[df['power'] <= 300]"
   ]
  },
  {
   "cell_type": "code",
   "execution_count": 40,
   "id": "a6e44d0c-f123-48e4-8dc4-285cb56fa8cf",
   "metadata": {},
   "outputs": [
    {
     "data": {
      "image/png": "[encoded data removed]",
      "text/plain": [
       "<Figure size 504x144 with 1 Axes>"
      ]
     },
     "metadata": {},
     "output_type": "display_data"
    }
   ],
   "source": [
    "print_boxplot(df, 'power', 'Мощность автомобиля', 'Мощность, л.с.')"
   ]
  },
  {
   "cell_type": "markdown",
   "id": "7434e2ca-13df-4d10-a100-150f29e888c6",
   "metadata": {},
   "source": [
    "После преобразования наблюдаем, что значения колеблются от 0 до 250 л.с., среднее около 100 л.с., значения выше 250 л.с. считаются выбросами, однако могут быть реальными."
   ]
  },
  {
   "cell_type": "code",
   "execution_count": 41,
   "id": "0378f932-94a9-4941-af00-4828d2ddc403",
   "metadata": {},
   "outputs": [
    {
     "data": {
      "image/png": "[encoded data removed]",
      "text/plain": [
       "<Figure size 504x144 with 1 Axes>"
      ]
     },
     "metadata": {},
     "output_type": "display_data"
    }
   ],
   "source": [
    "print_boxplot(df, 'kilometer', 'Пробег автомобиля', 'Пробег, км')"
   ]
  },
  {
   "cell_type": "markdown",
   "id": "fc8d87ba-34bf-40f6-8846-536676137e08",
   "metadata": {},
   "source": [
    "Наблюдаем выбросы - значения ниже 90к км. Посмотрим сколько таких записей."
   ]
  },
  {
   "cell_type": "code",
   "execution_count": 42,
   "id": "5f30d5d5-1a26-4e51-8d99-c7237d5c562e",
   "metadata": {},
   "outputs": [
    {
     "data": {
      "text/plain": [
       "47809"
      ]
     },
     "execution_count": 42,
     "metadata": {},
     "output_type": "execute_result"
    }
   ],
   "source": [
    "df[df['kilometer'] < 90000].shape[0]"
   ]
  },
  {
   "cell_type": "markdown",
   "id": "c01f6667-e986-4212-8a51-ba3ba286da6e",
   "metadata": {},
   "source": [
    "Подобных значений достаточно много, очевидно, что автомобили с низким пробегом просто напросто новые. Ничего делать с данными выбросами не будем."
   ]
  },
  {
   "cell_type": "code",
   "execution_count": 43,
   "id": "e8d8da34-4c76-4d71-b10c-25fd28ade984",
   "metadata": {},
   "outputs": [
    {
     "data": {
      "text/plain": [
       "count    319080.0\n",
       "mean          0.0\n",
       "std           0.0\n",
       "min           0.0\n",
       "25%           0.0\n",
       "50%           0.0\n",
       "75%           0.0\n",
       "max           0.0\n",
       "Name: number_of_pictures, dtype: float64"
      ]
     },
     "execution_count": 43,
     "metadata": {},
     "output_type": "execute_result"
    }
   ],
   "source": [
    "df['number_of_pictures'].describe()"
   ]
  },
  {
   "cell_type": "markdown",
   "id": "4028a2e7-fa5c-4168-8644-0469fdb328f6",
   "metadata": {},
   "source": [
    "В столбце number_of_pictures наблюдаем одни нули - то есть полное отсутствие информации. Передадим информацию разработчикам и уберём признак из рассмотрения как неинформативный."
   ]
  },
  {
   "cell_type": "code",
   "execution_count": 44,
   "id": "ab325c0c-f725-4d16-9617-c576baaa8ac7",
   "metadata": {},
   "outputs": [],
   "source": [
    "df = df.drop(columns='number_of_pictures')"
   ]
  },
  {
   "cell_type": "code",
   "execution_count": 45,
   "id": "8d61b11b-833f-4802-988f-146d4b0fd462",
   "metadata": {},
   "outputs": [
    {
     "name": "stdout",
     "output_type": "stream",
     "text": [
      "<class 'pandas.core.frame.DataFrame'>\n",
      "Int64Index: 319080 entries, 0 to 354368\n",
      "Data columns (total 13 columns):\n",
      " #   Column             Non-Null Count   Dtype         \n",
      "---  ------             --------------   -----         \n",
      " 0   date_crawled       319080 non-null  datetime64[ns]\n",
      " 1   price              319080 non-null  int32         \n",
      " 2   vehicle_type       301006 non-null  object        \n",
      " 3   registration_year  319080 non-null  int32         \n",
      " 4   gearbox            304892 non-null  object        \n",
      " 5   power              319080 non-null  int32         \n",
      " 6   model              319080 non-null  object        \n",
      " 7   kilometer          319080 non-null  int32         \n",
      " 8   fuel_type          298043 non-null  object        \n",
      " 9   brand              319080 non-null  object        \n",
      " 10  repaired           262801 non-null  object        \n",
      " 11  date_created       319080 non-null  datetime64[ns]\n",
      " 12  last_seen          319080 non-null  datetime64[ns]\n",
      "dtypes: datetime64[ns](3), int32(4), object(6)\n",
      "memory usage: 29.2+ MB\n"
     ]
    }
   ],
   "source": [
    "df.info()"
   ]
  },
  {
   "cell_type": "markdown",
   "id": "8a9044c3-ba45-4bf4-b394-4b0527cb3ebf",
   "metadata": {},
   "source": [
    "## Промежуточные выводы\n",
    "\n",
    "- Удалены из рассмотрения следующие неинформативные признаки: registration_month, postal_code, number_of_pictures\n",
    "- Удалены 5 явных дубликатов\n",
    "- Неявных дубликатов не обнаружено\n",
    "- Удалены записи с пропусками в признаке model\n",
    "- Замечены пропуски в столбцах vehicle_type, gearbox, fuel_type и repaired\n",
    "- Имеются записи с аномальными значениями года регистрации авто\n",
    "- Удалены 96 записей с годом не входящим в диапазон от 1886 до 2025\n",
    "- Имеются записи с аномальными значениями мощности автомобиля\n",
    "- Удалены 3140 записей с мощностью более 300 л.с."
   ]
  },
  {
   "cell_type": "markdown",
   "id": "b6a2ef0f-ff5d-4973-bee5-9edbe5012d0f",
   "metadata": {},
   "source": [
    "# Создание новых признаков"
   ]
  },
  {
   "cell_type": "markdown",
   "id": "218d5386-fd9c-430a-a762-337f8f446dfa",
   "metadata": {},
   "source": [
    "Проанализируем даты скачивания, создания анкеты и последней активности пользователя."
   ]
  },
  {
   "cell_type": "code",
   "execution_count": 46,
   "id": "e28cfea9-ec46-4510-be18-8b99d94e3972",
   "metadata": {},
   "outputs": [
    {
     "data": {
      "text/plain": [
       "329497   2016-03-05 14:06:22\n",
       "220583   2016-03-05 14:06:23\n",
       "324763   2016-03-05 14:06:24\n",
       "176823   2016-03-05 14:06:24\n",
       "220604   2016-03-05 14:06:25\n",
       "                 ...        \n",
       "204218   2016-04-07 14:36:53\n",
       "53739    2016-04-07 14:36:54\n",
       "301030   2016-04-07 14:36:55\n",
       "339649   2016-04-07 14:36:56\n",
       "90713    2016-04-07 14:36:58\n",
       "Name: date_crawled, Length: 319080, dtype: datetime64[ns]"
      ]
     },
     "execution_count": 46,
     "metadata": {},
     "output_type": "execute_result"
    }
   ],
   "source": [
    "df['date_crawled'].sort_values()"
   ]
  },
  {
   "cell_type": "markdown",
   "id": "1b052d13-e32d-449b-9f19-71192cba2d37",
   "metadata": {},
   "source": [
    "Анкеты скачивались два раза, в даты 5 марта и 7 апреля 2016 года."
   ]
  },
  {
   "cell_type": "code",
   "execution_count": 47,
   "id": "9ec486ff-71e2-41a9-9039-0c0bc76cf2c2",
   "metadata": {},
   "outputs": [
    {
     "data": {
      "text/plain": [
       "61207    2014-03-10\n",
       "4001     2015-03-20\n",
       "342275   2015-06-18\n",
       "86601    2015-08-07\n",
       "175103   2015-08-10\n",
       "            ...    \n",
       "151050   2016-04-07\n",
       "112857   2016-04-07\n",
       "313630   2016-04-07\n",
       "76295    2016-04-07\n",
       "25931    2016-04-07\n",
       "Name: date_created, Length: 319080, dtype: datetime64[ns]"
      ]
     },
     "execution_count": 47,
     "metadata": {},
     "output_type": "execute_result"
    }
   ],
   "source": [
    "df['date_created'].sort_values()"
   ]
  },
  {
   "cell_type": "markdown",
   "id": "c2957e79-3fb1-4d12-94ee-56e1a6f66076",
   "metadata": {},
   "source": [
    "Анкеты были созданы в период с 2014-03-10 по 2016-04-07."
   ]
  },
  {
   "cell_type": "code",
   "execution_count": 48,
   "id": "51a34929-e4e9-4123-b55a-f81c5c7f101c",
   "metadata": {},
   "outputs": [
    {
     "data": {
      "text/plain": [
       "296785   2016-03-05 14:15:08\n",
       "262341   2016-03-05 14:15:16\n",
       "130462   2016-03-05 14:15:39\n",
       "285695   2016-03-05 14:18:30\n",
       "169065   2016-03-05 14:25:59\n",
       "                 ...        \n",
       "290312   2016-04-07 14:58:50\n",
       "219959   2016-04-07 14:58:50\n",
       "68870    2016-04-07 14:58:50\n",
       "235901   2016-04-07 14:58:50\n",
       "327303   2016-04-07 14:58:51\n",
       "Name: last_seen, Length: 319080, dtype: datetime64[ns]"
      ]
     },
     "execution_count": 48,
     "metadata": {},
     "output_type": "execute_result"
    }
   ],
   "source": [
    "df['last_seen'].sort_values()"
   ]
  },
  {
   "cell_type": "markdown",
   "id": "946c3d0a-de98-4023-8dde-a3714e93fc4e",
   "metadata": {},
   "source": [
    "Последняя активность пользователей была зафиксирована в период с 5 марта по 7 апреля 2016 года."
   ]
  },
  {
   "cell_type": "markdown",
   "id": "c48cf12b-f8d7-48a4-9b67-3cf0b0e3b349",
   "metadata": {},
   "source": [
    "Из даты скачивания анкеты из базы и даты создания анкеты **создадим новые признаки**:\n",
    "- год создания анкеты - created_year\n",
    "- часов с момента создания до скачивания - existence_hours\n",
    "\n",
    "Из даты оследней активности пользователя создадим новый признак:\n",
    "- часов с момента создания анкеты до последней активности - active_hours"
   ]
  },
  {
   "cell_type": "code",
   "execution_count": 49,
   "id": "178c5a90-956b-4bf5-938a-56db268e7882",
   "metadata": {},
   "outputs": [],
   "source": [
    "df['created_year'] = df['date_created'].apply(lambda x: x.year)"
   ]
  },
  {
   "cell_type": "code",
   "execution_count": 50,
   "id": "0b9108bf-af2f-43af-8c67-38382e284a51",
   "metadata": {},
   "outputs": [],
   "source": [
    "def existence(row):\n",
    "    crawled = row['date_crawled']\n",
    "    created = row['date_created']\n",
    "    return round((crawled - created).total_seconds() / 3600)\n",
    "\n",
    "df['existence_hours'] = df.apply(existence, axis=1)"
   ]
  },
  {
   "cell_type": "code",
   "execution_count": 51,
   "id": "d8148add-73a2-4d8f-9044-d73a8fed6e6b",
   "metadata": {},
   "outputs": [
    {
     "data": {
      "text/plain": [
       "count    319080.000000\n",
       "mean         17.983242\n",
       "std          52.851594\n",
       "min           0.000000\n",
       "25%          13.000000\n",
       "50%          17.000000\n",
       "75%          21.000000\n",
       "max       17700.000000\n",
       "Name: existence_hours, dtype: float64"
      ]
     },
     "execution_count": 51,
     "metadata": {},
     "output_type": "execute_result"
    }
   ],
   "source": [
    "df['existence_hours'].describe()"
   ]
  },
  {
   "cell_type": "markdown",
   "id": "886bcb5b-9c89-4a79-97f1-d08dd2a56968",
   "metadata": {},
   "source": [
    "До момента скачивания анкеты просуществовали от 0 часов до 737 дней. В среднем время существования составило 18 часов."
   ]
  },
  {
   "cell_type": "code",
   "execution_count": 52,
   "id": "f02a9c8b-00f7-42d2-8750-523a93fea671",
   "metadata": {},
   "outputs": [],
   "source": [
    "def active_time(row):\n",
    "    created = row['date_created']\n",
    "    last_seen = row['last_seen']\n",
    "    return round((last_seen - created).total_seconds() / 3600)\n",
    "\n",
    "df['active_hours'] = df.apply(active_time, axis=1)"
   ]
  },
  {
   "cell_type": "code",
   "execution_count": 53,
   "id": "d4c85edf-aa5e-45b4-a313-e999cb440dcf",
   "metadata": {},
   "outputs": [
    {
     "data": {
      "text/plain": [
       "count    319080.000000\n",
       "mean        222.296220\n",
       "std         207.459618\n",
       "min           1.000000\n",
       "25%          61.000000\n",
       "50%         156.000000\n",
       "75%         336.000000\n",
       "max       18221.000000\n",
       "Name: active_hours, dtype: float64"
      ]
     },
     "execution_count": 53,
     "metadata": {},
     "output_type": "execute_result"
    }
   ],
   "source": [
    "df['active_hours'].describe()"
   ]
  },
  {
   "cell_type": "markdown",
   "id": "121892a3-fd02-4fd8-bad9-9574a1e063a8",
   "metadata": {},
   "source": [
    "С момента создания анкеты до последней активности прошло от 0 до 759 дней. В среднем 221 час или 9 дней."
   ]
  },
  {
   "cell_type": "markdown",
   "id": "85a59d34",
   "metadata": {},
   "source": [
    "## Корреляционный анализ"
   ]
  },
  {
   "cell_type": "code",
   "execution_count": 54,
   "id": "d41dc48f",
   "metadata": {},
   "outputs": [
    {
     "data": {
      "image/png": "[encoded data removed]",
      "text/plain": [
       "<Figure size 432x288 with 2 Axes>"
      ]
     },
     "metadata": {},
     "output_type": "display_data"
    }
   ],
   "source": [
    "#исключим столбцы с датами из рассмотрения\n",
    "df_corr = df[['price', 'vehicle_type', 'registration_year', 'gearbox',\n",
    "       'power', 'model', 'kilometer', 'fuel_type', 'brand', 'repaired',\n",
    "       'created_year', 'existence_hours', 'active_hours']]\n",
    "\n",
    "num_columns = df_corr.select_dtypes(include='number').columns.tolist()\n",
    "phik_corr = df_corr.phik_matrix(interval_cols=num_columns)\n",
    "sns.heatmap(phik_corr,\n",
    "            xticklabels=phik_corr.columns.values,\n",
    "            yticklabels=phik_corr.columns.values,\n",
    "            cmap='coolwarm',\n",
    "            annot_kws={\"fontsize\":8},\n",
    "            fmt=\".1f\",\n",
    "            annot=True);"
   ]
  },
  {
   "cell_type": "markdown",
   "id": "46f1c83b",
   "metadata": {},
   "source": [
    "Целевой признак price сильнее всего коррелирует с годом регистрации, моделью и мощностью двигателя. \n",
    "\n",
    "Также отметим довольно сильную корреляцию между моделью и типом кузова, что вполне логично.\n",
    "\n",
    "Среди других признаков замечаем мультиколлинеарность - бренд напрямую зависит от модели. Удалим признак бренд из рассмотрения. Также заметим что часы активности напрямую коррелируют с временем существования анкеты, а также годом создания анкеты. Также удалим некоторые из данных признаков из рассмотрения."
   ]
  },
  {
   "cell_type": "code",
   "execution_count": 55,
   "id": "1f35dd48",
   "metadata": {},
   "outputs": [],
   "source": [
    "df = df.drop(columns=['brand', 'created_year', 'existence_hours'])"
   ]
  },
  {
   "cell_type": "markdown",
   "id": "964e158b-5612-4565-932b-c5216d56b8e4",
   "metadata": {},
   "source": [
    "# Подготовка выборок для обучения моделей"
   ]
  },
  {
   "cell_type": "markdown",
   "id": "c18680f3-7ebc-4216-8d09-ed6e7ceb8b58",
   "metadata": {},
   "source": [
    "Разделим данные на тренировочную и тестовую выборки."
   ]
  },
  {
   "cell_type": "code",
   "execution_count": 62,
   "id": "363ab4b1-f712-45df-88e2-d64b6f5103e1",
   "metadata": {},
   "outputs": [],
   "source": [
    "X = df.drop(columns=['price', 'date_crawled', 'date_created', 'last_seen'])\n",
    "y = df['price']\n",
    "\n",
    "X_train, X_valid_test, y_train, y_valid_test = train_test_split(\n",
    "    X, y,\n",
    "    test_size = TEST_SIZE, \n",
    "    random_state = RANDOM_STATE\n",
    ")\n",
    "\n",
    "# валидационно-тестовую выборку поделим пополам на валидационную и тестовую\n",
    "X_valid, X_test, y_valid, y_test = train_test_split(\n",
    "    X_valid_test, y_valid_test,\n",
    "    test_size = 0.5, \n",
    "    random_state = RANDOM_STATE\n",
    ")"
   ]
  },
  {
   "cell_type": "markdown",
   "id": "5d4078c7-a4fb-41f0-937e-ffba20244f6b",
   "metadata": {},
   "source": [
    "Сначала обозначим, какие признаки требуют кодирования, а какие масштабирования. Также обратим внимание, что пропуски в разных столбцах будем заполнять по-разному.\n",
    "\n",
    "Для признаков vehicle_type, gearbox, fuel_type заполним пропуски модой (самым часто встрачаемым значением). Для признака repaired заполним пропуск значением 'unknown', то есть неизвестно. Тем же значением будем заполнять пропуски по признакам model и brand, если они появятся в будущем на новых данных. Так как данные признаки одни из самых важных, мы не можем заполнять пропуски модой.\n",
    "\n",
    "Также отметим, что в данных отсутствуют порядковые признаки."
   ]
  },
  {
   "cell_type": "code",
   "execution_count": 63,
   "id": "f2f2a912-6316-4111-8ae5-b2b3cdf6f2e1",
   "metadata": {},
   "outputs": [],
   "source": [
    "ohe_columns_mode = [\n",
    "    'vehicle_type',\n",
    "    'gearbox',\n",
    "    'fuel_type'\n",
    "]\n",
    "\n",
    "ohe_columns_value = ['repaired', 'model']\n",
    "\n",
    "num_columns = X.select_dtypes(include='number').columns.tolist()"
   ]
  },
  {
   "cell_type": "markdown",
   "id": "0a51e4aa-4f6f-46a4-8944-5ff3f99106a8",
   "metadata": {},
   "source": [
    "Добавляем OHE-кодирование в пайплайны. "
   ]
  },
  {
   "cell_type": "code",
   "execution_count": 64,
   "id": "07e6b5f5-4aad-4ff2-8354-c78d1bf69d10",
   "metadata": {},
   "outputs": [],
   "source": [
    "# SimpleImputer + OHE\n",
    "# Added in version 1.2: sparse was renamed to sparse_output.\n",
    "ohe_pipe_mode = Pipeline(\n",
    "    [\n",
    "        (\n",
    "            'simpleImputer_ohe', \n",
    "            SimpleImputer(missing_values=np.nan, strategy='most_frequent')\n",
    "        ),\n",
    "        (\n",
    "            'ohe', \n",
    "            OneHotEncoder(drop='first', handle_unknown='ignore', sparse_output=False)\n",
    "        )\n",
    "    ]\n",
    ")\n",
    "\n",
    "ohe_pipe_value = Pipeline(\n",
    "    [\n",
    "        (\n",
    "            'simpleImputer_ohe', \n",
    "            SimpleImputer(missing_values=np.nan, strategy='constant', fill_value='unknown')\n",
    "        ),\n",
    "        (\n",
    "            'ohe', \n",
    "            OneHotEncoder(drop='first', handle_unknown='ignore', sparse_output=False)\n",
    "        )\n",
    "    ]\n",
    ")"
   ]
  },
  {
   "cell_type": "markdown",
   "id": "435ff9ef-6557-49ae-9e0a-672d83ba1cca",
   "metadata": {},
   "source": [
    "Объединяем шаги подготовки. Объединим кодирование и масштабирование в один пайплайн с подготовкой данных."
   ]
  },
  {
   "cell_type": "code",
   "execution_count": 65,
   "id": "fa1d7eb8-c959-45ca-8005-88684f04d0c4",
   "metadata": {},
   "outputs": [],
   "source": [
    "data_preprocessor = ColumnTransformer(\n",
    "    [\n",
    "        ('ohe_mode', ohe_pipe_mode, ohe_columns_mode),\n",
    "        ('ohe_value', ohe_pipe_value, ohe_columns_value),\n",
    "        ('num', StandardScaler(), num_columns)\n",
    "    ],\n",
    "    remainder='passthrough'\n",
    ")"
   ]
  },
  {
   "cell_type": "code",
   "execution_count": 66,
   "id": "72676004-8074-450c-8676-fa600d97aa91",
   "metadata": {},
   "outputs": [],
   "source": [
    "X_train = pd.DataFrame(\n",
    "    data_preprocessor.fit_transform(X_train),\n",
    "    columns=data_preprocessor.get_feature_names_out()\n",
    ")\n",
    "\n",
    "X_valid = pd.DataFrame(\n",
    "    data_preprocessor.transform(X_valid),\n",
    "    columns=data_preprocessor.get_feature_names_out()\n",
    ")\n",
    "\n",
    "X_test = pd.DataFrame(\n",
    "    data_preprocessor.transform(X_test),\n",
    "    columns=data_preprocessor.get_feature_names_out()    \n",
    ") "
   ]
  },
  {
   "cell_type": "markdown",
   "id": "be88cb15-6b28-472e-802f-e17cd72b0529",
   "metadata": {},
   "source": [
    "Данные подготовлены, приступим к обучению моделей."
   ]
  },
  {
   "cell_type": "markdown",
   "id": "9ebead94-a227-4e8b-8658-0b9d03a8a384",
   "metadata": {},
   "source": [
    "# Обучение моделей"
   ]
  },
  {
   "cell_type": "markdown",
   "id": "6a322dc0-ba87-4023-9518-8cbf79f62a76",
   "metadata": {},
   "source": [
    "## LinearRegression"
   ]
  },
  {
   "cell_type": "markdown",
   "id": "bc23958f-9bd5-47ff-aa71-269687914eec",
   "metadata": {},
   "source": [
    "Для оценки качества моделей будем применять метрику **RMSE**. Успехом будет считаться RMSE < 2500."
   ]
  },
  {
   "cell_type": "code",
   "execution_count": 67,
   "id": "6ae78392-6e42-4036-a73f-0bf40d7ff27e",
   "metadata": {},
   "outputs": [],
   "source": [
    "model1 = LinearRegression(n_jobs=-1)"
   ]
  },
  {
   "cell_type": "code",
   "execution_count": 68,
   "id": "6125781f-3f4a-4f26-b4e7-bc1cdf5aefc2",
   "metadata": {},
   "outputs": [
    {
     "name": "stdout",
     "output_type": "stream",
     "text": [
      "CPU times: user 11.6 s, sys: 2.83 s, total: 14.4 s\n",
      "Wall time: 14.4 s\n"
     ]
    },
    {
     "data": {
      "text/html": [
       "<style>#sk-container-id-1 {\n",
       "  /* Definition of color scheme common for light and dark mode */\n",
       "  --sklearn-color-text: #000;\n",
       "  --sklearn-color-text-muted: #666;\n",
       "  --sklearn-color-line: gray;\n",
       "  /* Definition of color scheme for unfitted estimators */\n",
       "  --sklearn-color-unfitted-level-0: #fff5e6;\n",
       "  --sklearn-color-unfitted-level-1: #f6e4d2;\n",
       "  --sklearn-color-unfitted-level-2: #ffe0b3;\n",
       "  --sklearn-color-unfitted-level-3: chocolate;\n",
       "  /* Definition of color scheme for fitted estimators */\n",
       "  --sklearn-color-fitted-level-0: #f0f8ff;\n",
       "  --sklearn-color-fitted-level-1: #d4ebff;\n",
       "  --sklearn-color-fitted-level-2: #b3dbfd;\n",
       "  --sklearn-color-fitted-level-3: cornflowerblue;\n",
       "\n",
       "  /* Specific color for light theme */\n",
       "  --sklearn-color-text-on-default-background: var(--sg-text-color, var(--theme-code-foreground, var(--jp-content-font-color1, black)));\n",
       "  --sklearn-color-background: var(--sg-background-color, var(--theme-background, var(--jp-layout-color0, white)));\n",
       "  --sklearn-color-border-box: var(--sg-text-color, var(--theme-code-foreground, var(--jp-content-font-color1, black)));\n",
       "  --sklearn-color-icon: #696969;\n",
       "\n",
       "  @media (prefers-color-scheme: dark) {\n",
       "    /* Redefinition of color scheme for dark theme */\n",
       "    --sklearn-color-text-on-default-background: var(--sg-text-color, var(--theme-code-foreground, var(--jp-content-font-color1, white)));\n",
       "    --sklearn-color-background: var(--sg-background-color, var(--theme-background, var(--jp-layout-color0, #111)));\n",
       "    --sklearn-color-border-box: var(--sg-text-color, var(--theme-code-foreground, var(--jp-content-font-color1, white)));\n",
       "    --sklearn-color-icon: #878787;\n",
       "  }\n",
       "}\n",
       "\n",
       "#sk-container-id-1 {\n",
       "  color: var(--sklearn-color-text);\n",
       "}\n",
       "\n",
       "#sk-container-id-1 pre {\n",
       "  padding: 0;\n",
       "}\n",
       "\n",
       "#sk-container-id-1 input.sk-hidden--visually {\n",
       "  border: 0;\n",
       "  clip: rect(1px 1px 1px 1px);\n",
       "  clip: rect(1px, 1px, 1px, 1px);\n",
       "  height: 1px;\n",
       "  margin: -1px;\n",
       "  overflow: hidden;\n",
       "  padding: 0;\n",
       "  position: absolute;\n",
       "  width: 1px;\n",
       "}\n",
       "\n",
       "#sk-container-id-1 div.sk-dashed-wrapped {\n",
       "  border: 1px dashed var(--sklearn-color-line);\n",
       "  margin: 0 0.4em 0.5em 0.4em;\n",
       "  box-sizing: border-box;\n",
       "  padding-bottom: 0.4em;\n",
       "  background-color: var(--sklearn-color-background);\n",
       "}\n",
       "\n",
       "#sk-container-id-1 div.sk-container {\n",
       "  /* jupyter's `normalize.less` sets `[hidden] { display: none; }`\n",
       "     but bootstrap.min.css set `[hidden] { display: none !important; }`\n",
       "     so we also need the `!important` here to be able to override the\n",
       "     default hidden behavior on the sphinx rendered scikit-learn.org.\n",
       "     See: https://github.com/scikit-learn/scikit-learn/issues/21755 */\n",
       "  display: inline-block !important;\n",
       "  position: relative;\n",
       "}\n",
       "\n",
       "#sk-container-id-1 div.sk-text-repr-fallback {\n",
       "  display: none;\n",
       "}\n",
       "\n",
       "div.sk-parallel-item,\n",
       "div.sk-serial,\n",
       "div.sk-item {\n",
       "  /* draw centered vertical line to link estimators */\n",
       "  background-image: linear-gradient(var(--sklearn-color-text-on-default-background), var(--sklearn-color-text-on-default-background));\n",
       "  background-size: 2px 100%;\n",
       "  background-repeat: no-repeat;\n",
       "  background-position: center center;\n",
       "}\n",
       "\n",
       "/* Parallel-specific style estimator block */\n",
       "\n",
       "#sk-container-id-1 div.sk-parallel-item::after {\n",
       "  content: \"\";\n",
       "  width: 100%;\n",
       "  border-bottom: 2px solid var(--sklearn-color-text-on-default-background);\n",
       "  flex-grow: 1;\n",
       "}\n",
       "\n",
       "#sk-container-id-1 div.sk-parallel {\n",
       "  display: flex;\n",
       "  align-items: stretch;\n",
       "  justify-content: center;\n",
       "  background-color: var(--sklearn-color-background);\n",
       "  position: relative;\n",
       "}\n",
       "\n",
       "#sk-container-id-1 div.sk-parallel-item {\n",
       "  display: flex;\n",
       "  flex-direction: column;\n",
       "}\n",
       "\n",
       "#sk-container-id-1 div.sk-parallel-item:first-child::after {\n",
       "  align-self: flex-end;\n",
       "  width: 50%;\n",
       "}\n",
       "\n",
       "#sk-container-id-1 div.sk-parallel-item:last-child::after {\n",
       "  align-self: flex-start;\n",
       "  width: 50%;\n",
       "}\n",
       "\n",
       "#sk-container-id-1 div.sk-parallel-item:only-child::after {\n",
       "  width: 0;\n",
       "}\n",
       "\n",
       "/* Serial-specific style estimator block */\n",
       "\n",
       "#sk-container-id-1 div.sk-serial {\n",
       "  display: flex;\n",
       "  flex-direction: column;\n",
       "  align-items: center;\n",
       "  background-color: var(--sklearn-color-background);\n",
       "  padding-right: 1em;\n",
       "  padding-left: 1em;\n",
       "}\n",
       "\n",
       "\n",
       "/* Toggleable style: style used for estimator/Pipeline/ColumnTransformer box that is\n",
       "clickable and can be expanded/collapsed.\n",
       "- Pipeline and ColumnTransformer use this feature and define the default style\n",
       "- Estimators will overwrite some part of the style using the `sk-estimator` class\n",
       "*/\n",
       "\n",
       "/* Pipeline and ColumnTransformer style (default) */\n",
       "\n",
       "#sk-container-id-1 div.sk-toggleable {\n",
       "  /* Default theme specific background. It is overwritten whether we have a\n",
       "  specific estimator or a Pipeline/ColumnTransformer */\n",
       "  background-color: var(--sklearn-color-background);\n",
       "}\n",
       "\n",
       "/* Toggleable label */\n",
       "#sk-container-id-1 label.sk-toggleable__label {\n",
       "  cursor: pointer;\n",
       "  display: flex;\n",
       "  width: 100%;\n",
       "  margin-bottom: 0;\n",
       "  padding: 0.5em;\n",
       "  box-sizing: border-box;\n",
       "  text-align: center;\n",
       "  align-items: start;\n",
       "  justify-content: space-between;\n",
       "  gap: 0.5em;\n",
       "}\n",
       "\n",
       "#sk-container-id-1 label.sk-toggleable__label .caption {\n",
       "  font-size: 0.6rem;\n",
       "  font-weight: lighter;\n",
       "  color: var(--sklearn-color-text-muted);\n",
       "}\n",
       "\n",
       "#sk-container-id-1 label.sk-toggleable__label-arrow:before {\n",
       "  /* Arrow on the left of the label */\n",
       "  content: \"▸\";\n",
       "  float: left;\n",
       "  margin-right: 0.25em;\n",
       "  color: var(--sklearn-color-icon);\n",
       "}\n",
       "\n",
       "#sk-container-id-1 label.sk-toggleable__label-arrow:hover:before {\n",
       "  color: var(--sklearn-color-text);\n",
       "}\n",
       "\n",
       "/* Toggleable content - dropdown */\n",
       "\n",
       "#sk-container-id-1 div.sk-toggleable__content {\n",
       "  max-height: 0;\n",
       "  max-width: 0;\n",
       "  overflow: hidden;\n",
       "  text-align: left;\n",
       "  /* unfitted */\n",
       "  background-color: var(--sklearn-color-unfitted-level-0);\n",
       "}\n",
       "\n",
       "#sk-container-id-1 div.sk-toggleable__content.fitted {\n",
       "  /* fitted */\n",
       "  background-color: var(--sklearn-color-fitted-level-0);\n",
       "}\n",
       "\n",
       "#sk-container-id-1 div.sk-toggleable__content pre {\n",
       "  margin: 0.2em;\n",
       "  border-radius: 0.25em;\n",
       "  color: var(--sklearn-color-text);\n",
       "  /* unfitted */\n",
       "  background-color: var(--sklearn-color-unfitted-level-0);\n",
       "}\n",
       "\n",
       "#sk-container-id-1 div.sk-toggleable__content.fitted pre {\n",
       "  /* unfitted */\n",
       "  background-color: var(--sklearn-color-fitted-level-0);\n",
       "}\n",
       "\n",
       "#sk-container-id-1 input.sk-toggleable__control:checked~div.sk-toggleable__content {\n",
       "  /* Expand drop-down */\n",
       "  max-height: 200px;\n",
       "  max-width: 100%;\n",
       "  overflow: auto;\n",
       "}\n",
       "\n",
       "#sk-container-id-1 input.sk-toggleable__control:checked~label.sk-toggleable__label-arrow:before {\n",
       "  content: \"▾\";\n",
       "}\n",
       "\n",
       "/* Pipeline/ColumnTransformer-specific style */\n",
       "\n",
       "#sk-container-id-1 div.sk-label input.sk-toggleable__control:checked~label.sk-toggleable__label {\n",
       "  color: var(--sklearn-color-text);\n",
       "  background-color: var(--sklearn-color-unfitted-level-2);\n",
       "}\n",
       "\n",
       "#sk-container-id-1 div.sk-label.fitted input.sk-toggleable__control:checked~label.sk-toggleable__label {\n",
       "  background-color: var(--sklearn-color-fitted-level-2);\n",
       "}\n",
       "\n",
       "/* Estimator-specific style */\n",
       "\n",
       "/* Colorize estimator box */\n",
       "#sk-container-id-1 div.sk-estimator input.sk-toggleable__control:checked~label.sk-toggleable__label {\n",
       "  /* unfitted */\n",
       "  background-color: var(--sklearn-color-unfitted-level-2);\n",
       "}\n",
       "\n",
       "#sk-container-id-1 div.sk-estimator.fitted input.sk-toggleable__control:checked~label.sk-toggleable__label {\n",
       "  /* fitted */\n",
       "  background-color: var(--sklearn-color-fitted-level-2);\n",
       "}\n",
       "\n",
       "#sk-container-id-1 div.sk-label label.sk-toggleable__label,\n",
       "#sk-container-id-1 div.sk-label label {\n",
       "  /* The background is the default theme color */\n",
       "  color: var(--sklearn-color-text-on-default-background);\n",
       "}\n",
       "\n",
       "/* On hover, darken the color of the background */\n",
       "#sk-container-id-1 div.sk-label:hover label.sk-toggleable__label {\n",
       "  color: var(--sklearn-color-text);\n",
       "  background-color: var(--sklearn-color-unfitted-level-2);\n",
       "}\n",
       "\n",
       "/* Label box, darken color on hover, fitted */\n",
       "#sk-container-id-1 div.sk-label.fitted:hover label.sk-toggleable__label.fitted {\n",
       "  color: var(--sklearn-color-text);\n",
       "  background-color: var(--sklearn-color-fitted-level-2);\n",
       "}\n",
       "\n",
       "/* Estimator label */\n",
       "\n",
       "#sk-container-id-1 div.sk-label label {\n",
       "  font-family: monospace;\n",
       "  font-weight: bold;\n",
       "  display: inline-block;\n",
       "  line-height: 1.2em;\n",
       "}\n",
       "\n",
       "#sk-container-id-1 div.sk-label-container {\n",
       "  text-align: center;\n",
       "}\n",
       "\n",
       "/* Estimator-specific */\n",
       "#sk-container-id-1 div.sk-estimator {\n",
       "  font-family: monospace;\n",
       "  border: 1px dotted var(--sklearn-color-border-box);\n",
       "  border-radius: 0.25em;\n",
       "  box-sizing: border-box;\n",
       "  margin-bottom: 0.5em;\n",
       "  /* unfitted */\n",
       "  background-color: var(--sklearn-color-unfitted-level-0);\n",
       "}\n",
       "\n",
       "#sk-container-id-1 div.sk-estimator.fitted {\n",
       "  /* fitted */\n",
       "  background-color: var(--sklearn-color-fitted-level-0);\n",
       "}\n",
       "\n",
       "/* on hover */\n",
       "#sk-container-id-1 div.sk-estimator:hover {\n",
       "  /* unfitted */\n",
       "  background-color: var(--sklearn-color-unfitted-level-2);\n",
       "}\n",
       "\n",
       "#sk-container-id-1 div.sk-estimator.fitted:hover {\n",
       "  /* fitted */\n",
       "  background-color: var(--sklearn-color-fitted-level-2);\n",
       "}\n",
       "\n",
       "/* Specification for estimator info (e.g. \"i\" and \"?\") */\n",
       "\n",
       "/* Common style for \"i\" and \"?\" */\n",
       "\n",
       ".sk-estimator-doc-link,\n",
       "a:link.sk-estimator-doc-link,\n",
       "a:visited.sk-estimator-doc-link {\n",
       "  float: right;\n",
       "  font-size: smaller;\n",
       "  line-height: 1em;\n",
       "  font-family: monospace;\n",
       "  background-color: var(--sklearn-color-background);\n",
       "  border-radius: 1em;\n",
       "  height: 1em;\n",
       "  width: 1em;\n",
       "  text-decoration: none !important;\n",
       "  margin-left: 0.5em;\n",
       "  text-align: center;\n",
       "  /* unfitted */\n",
       "  border: var(--sklearn-color-unfitted-level-1) 1pt solid;\n",
       "  color: var(--sklearn-color-unfitted-level-1);\n",
       "}\n",
       "\n",
       ".sk-estimator-doc-link.fitted,\n",
       "a:link.sk-estimator-doc-link.fitted,\n",
       "a:visited.sk-estimator-doc-link.fitted {\n",
       "  /* fitted */\n",
       "  border: var(--sklearn-color-fitted-level-1) 1pt solid;\n",
       "  color: var(--sklearn-color-fitted-level-1);\n",
       "}\n",
       "\n",
       "/* On hover */\n",
       "div.sk-estimator:hover .sk-estimator-doc-link:hover,\n",
       ".sk-estimator-doc-link:hover,\n",
       "div.sk-label-container:hover .sk-estimator-doc-link:hover,\n",
       ".sk-estimator-doc-link:hover {\n",
       "  /* unfitted */\n",
       "  background-color: var(--sklearn-color-unfitted-level-3);\n",
       "  color: var(--sklearn-color-background);\n",
       "  text-decoration: none;\n",
       "}\n",
       "\n",
       "div.sk-estimator.fitted:hover .sk-estimator-doc-link.fitted:hover,\n",
       ".sk-estimator-doc-link.fitted:hover,\n",
       "div.sk-label-container:hover .sk-estimator-doc-link.fitted:hover,\n",
       ".sk-estimator-doc-link.fitted:hover {\n",
       "  /* fitted */\n",
       "  background-color: var(--sklearn-color-fitted-level-3);\n",
       "  color: var(--sklearn-color-background);\n",
       "  text-decoration: none;\n",
       "}\n",
       "\n",
       "/* Span, style for the box shown on hovering the info icon */\n",
       ".sk-estimator-doc-link span {\n",
       "  display: none;\n",
       "  z-index: 9999;\n",
       "  position: relative;\n",
       "  font-weight: normal;\n",
       "  right: .2ex;\n",
       "  padding: .5ex;\n",
       "  margin: .5ex;\n",
       "  width: min-content;\n",
       "  min-width: 20ex;\n",
       "  max-width: 50ex;\n",
       "  color: var(--sklearn-color-text);\n",
       "  box-shadow: 2pt 2pt 4pt #999;\n",
       "  /* unfitted */\n",
       "  background: var(--sklearn-color-unfitted-level-0);\n",
       "  border: .5pt solid var(--sklearn-color-unfitted-level-3);\n",
       "}\n",
       "\n",
       ".sk-estimator-doc-link.fitted span {\n",
       "  /* fitted */\n",
       "  background: var(--sklearn-color-fitted-level-0);\n",
       "  border: var(--sklearn-color-fitted-level-3);\n",
       "}\n",
       "\n",
       ".sk-estimator-doc-link:hover span {\n",
       "  display: block;\n",
       "}\n",
       "\n",
       "/* \"?\"-specific style due to the `<a>` HTML tag */\n",
       "\n",
       "#sk-container-id-1 a.estimator_doc_link {\n",
       "  float: right;\n",
       "  font-size: 1rem;\n",
       "  line-height: 1em;\n",
       "  font-family: monospace;\n",
       "  background-color: var(--sklearn-color-background);\n",
       "  border-radius: 1rem;\n",
       "  height: 1rem;\n",
       "  width: 1rem;\n",
       "  text-decoration: none;\n",
       "  /* unfitted */\n",
       "  color: var(--sklearn-color-unfitted-level-1);\n",
       "  border: var(--sklearn-color-unfitted-level-1) 1pt solid;\n",
       "}\n",
       "\n",
       "#sk-container-id-1 a.estimator_doc_link.fitted {\n",
       "  /* fitted */\n",
       "  border: var(--sklearn-color-fitted-level-1) 1pt solid;\n",
       "  color: var(--sklearn-color-fitted-level-1);\n",
       "}\n",
       "\n",
       "/* On hover */\n",
       "#sk-container-id-1 a.estimator_doc_link:hover {\n",
       "  /* unfitted */\n",
       "  background-color: var(--sklearn-color-unfitted-level-3);\n",
       "  color: var(--sklearn-color-background);\n",
       "  text-decoration: none;\n",
       "}\n",
       "\n",
       "#sk-container-id-1 a.estimator_doc_link.fitted:hover {\n",
       "  /* fitted */\n",
       "  background-color: var(--sklearn-color-fitted-level-3);\n",
       "}\n",
       "</style><div id=\"sk-container-id-1\" class=\"sk-top-container\"><div class=\"sk-text-repr-fallback\"><pre>LinearRegression(n_jobs=-1)</pre><b>In a Jupyter environment, please rerun this cell to show the HTML representation or trust the notebook. <br />On GitHub, the HTML representation is unable to render, please try loading this page with nbviewer.org.</b></div><div class=\"sk-container\" hidden><div class=\"sk-item\"><div class=\"sk-estimator fitted sk-toggleable\"><input class=\"sk-toggleable__control sk-hidden--visually\" id=\"sk-estimator-id-1\" type=\"checkbox\" checked><label for=\"sk-estimator-id-1\" class=\"sk-toggleable__label fitted sk-toggleable__label-arrow\"><div><div>LinearRegression</div></div><div><a class=\"sk-estimator-doc-link fitted\" rel=\"noreferrer\" target=\"_blank\" href=\"https://scikit-learn.org/1.6/modules/generated/sklearn.linear_model.LinearRegression.html\">?<span>Documentation for LinearRegression</span></a><span class=\"sk-estimator-doc-link fitted\">i<span>Fitted</span></span></div></label><div class=\"sk-toggleable__content fitted\"><pre>LinearRegression(n_jobs=-1)</pre></div> </div></div></div></div>"
      ],
      "text/plain": [
       "LinearRegression(n_jobs=-1)"
      ]
     },
     "execution_count": 68,
     "metadata": {},
     "output_type": "execute_result"
    }
   ],
   "source": [
    "%%time\n",
    "# обучаем модель на тренировочной выборке\n",
    "model1.fit(X_train, y_train)"
   ]
  },
  {
   "cell_type": "code",
   "execution_count": 69,
   "id": "c034d5eb-e741-4b27-a47b-571025918cd7",
   "metadata": {},
   "outputs": [
    {
     "name": "stdout",
     "output_type": "stream",
     "text": [
      "CPU times: user 39 ms, sys: 55.9 ms, total: 94.8 ms\n",
      "Wall time: 96.1 ms\n"
     ]
    }
   ],
   "source": [
    "%%time\n",
    "# выводим предсказанные значения валидационной выборки\n",
    "y_pred = model1.predict(X_valid)"
   ]
  },
  {
   "cell_type": "code",
   "execution_count": 70,
   "id": "cc80b180-953a-4f8e-b27e-61e93834a592",
   "metadata": {},
   "outputs": [
    {
     "name": "stdout",
     "output_type": "stream",
     "text": [
      "Model 1: RMSE на валидационной выборке: 2777\n"
     ]
    }
   ],
   "source": [
    "score = root_mean_squared_error(y_valid, y_pred)\n",
    "print(f'Model 1: RMSE на валидационной выборке: {round(score)}')"
   ]
  },
  {
   "cell_type": "markdown",
   "id": "8b1a406d-3524-4113-bf8c-771b3e4b2ff4",
   "metadata": {},
   "source": [
    "Для первой пробной подели получили значение RMSE = 2777, которое выходит за рамки критерия успеха. Попробуем изменить параметры."
   ]
  },
  {
   "cell_type": "markdown",
   "id": "f785baac-2081-4c66-aa2d-4da3232c6a62",
   "metadata": {},
   "source": [
    "## LGBMRegressor"
   ]
  },
  {
   "cell_type": "markdown",
   "id": "28f8cebb-8cbc-4658-908e-cd9541320c5e",
   "metadata": {},
   "source": [
    "Попробуем другие модели, на этот раз используем градиентный бустинг."
   ]
  },
  {
   "cell_type": "code",
   "execution_count": 71,
   "id": "fb819228-944e-42d4-903c-556aa15c34c0",
   "metadata": {},
   "outputs": [],
   "source": [
    "model2 = LGBMRegressor(\n",
    "    n_estimators=100,\n",
    "    max_depth=-1\n",
    ")"
   ]
  },
  {
   "cell_type": "code",
   "execution_count": 72,
   "id": "b8dc1e64-4a60-4177-8901-a61e3c3981f4",
   "metadata": {},
   "outputs": [
    {
     "name": "stdout",
     "output_type": "stream",
     "text": [
      "CPU times: user 6.97 s, sys: 183 ms, total: 7.15 s\n",
      "Wall time: 7.09 s\n"
     ]
    },
    {
     "data": {
      "text/html": [
       "<style>#sk-container-id-2 {\n",
       "  /* Definition of color scheme common for light and dark mode */\n",
       "  --sklearn-color-text: #000;\n",
       "  --sklearn-color-text-muted: #666;\n",
       "  --sklearn-color-line: gray;\n",
       "  /* Definition of color scheme for unfitted estimators */\n",
       "  --sklearn-color-unfitted-level-0: #fff5e6;\n",
       "  --sklearn-color-unfitted-level-1: #f6e4d2;\n",
       "  --sklearn-color-unfitted-level-2: #ffe0b3;\n",
       "  --sklearn-color-unfitted-level-3: chocolate;\n",
       "  /* Definition of color scheme for fitted estimators */\n",
       "  --sklearn-color-fitted-level-0: #f0f8ff;\n",
       "  --sklearn-color-fitted-level-1: #d4ebff;\n",
       "  --sklearn-color-fitted-level-2: #b3dbfd;\n",
       "  --sklearn-color-fitted-level-3: cornflowerblue;\n",
       "\n",
       "  /* Specific color for light theme */\n",
       "  --sklearn-color-text-on-default-background: var(--sg-text-color, var(--theme-code-foreground, var(--jp-content-font-color1, black)));\n",
       "  --sklearn-color-background: var(--sg-background-color, var(--theme-background, var(--jp-layout-color0, white)));\n",
       "  --sklearn-color-border-box: var(--sg-text-color, var(--theme-code-foreground, var(--jp-content-font-color1, black)));\n",
       "  --sklearn-color-icon: #696969;\n",
       "\n",
       "  @media (prefers-color-scheme: dark) {\n",
       "    /* Redefinition of color scheme for dark theme */\n",
       "    --sklearn-color-text-on-default-background: var(--sg-text-color, var(--theme-code-foreground, var(--jp-content-font-color1, white)));\n",
       "    --sklearn-color-background: var(--sg-background-color, var(--theme-background, var(--jp-layout-color0, #111)));\n",
       "    --sklearn-color-border-box: var(--sg-text-color, var(--theme-code-foreground, var(--jp-content-font-color1, white)));\n",
       "    --sklearn-color-icon: #878787;\n",
       "  }\n",
       "}\n",
       "\n",
       "#sk-container-id-2 {\n",
       "  color: var(--sklearn-color-text);\n",
       "}\n",
       "\n",
       "#sk-container-id-2 pre {\n",
       "  padding: 0;\n",
       "}\n",
       "\n",
       "#sk-container-id-2 input.sk-hidden--visually {\n",
       "  border: 0;\n",
       "  clip: rect(1px 1px 1px 1px);\n",
       "  clip: rect(1px, 1px, 1px, 1px);\n",
       "  height: 1px;\n",
       "  margin: -1px;\n",
       "  overflow: hidden;\n",
       "  padding: 0;\n",
       "  position: absolute;\n",
       "  width: 1px;\n",
       "}\n",
       "\n",
       "#sk-container-id-2 div.sk-dashed-wrapped {\n",
       "  border: 1px dashed var(--sklearn-color-line);\n",
       "  margin: 0 0.4em 0.5em 0.4em;\n",
       "  box-sizing: border-box;\n",
       "  padding-bottom: 0.4em;\n",
       "  background-color: var(--sklearn-color-background);\n",
       "}\n",
       "\n",
       "#sk-container-id-2 div.sk-container {\n",
       "  /* jupyter's `normalize.less` sets `[hidden] { display: none; }`\n",
       "     but bootstrap.min.css set `[hidden] { display: none !important; }`\n",
       "     so we also need the `!important` here to be able to override the\n",
       "     default hidden behavior on the sphinx rendered scikit-learn.org.\n",
       "     See: https://github.com/scikit-learn/scikit-learn/issues/21755 */\n",
       "  display: inline-block !important;\n",
       "  position: relative;\n",
       "}\n",
       "\n",
       "#sk-container-id-2 div.sk-text-repr-fallback {\n",
       "  display: none;\n",
       "}\n",
       "\n",
       "div.sk-parallel-item,\n",
       "div.sk-serial,\n",
       "div.sk-item {\n",
       "  /* draw centered vertical line to link estimators */\n",
       "  background-image: linear-gradient(var(--sklearn-color-text-on-default-background), var(--sklearn-color-text-on-default-background));\n",
       "  background-size: 2px 100%;\n",
       "  background-repeat: no-repeat;\n",
       "  background-position: center center;\n",
       "}\n",
       "\n",
       "/* Parallel-specific style estimator block */\n",
       "\n",
       "#sk-container-id-2 div.sk-parallel-item::after {\n",
       "  content: \"\";\n",
       "  width: 100%;\n",
       "  border-bottom: 2px solid var(--sklearn-color-text-on-default-background);\n",
       "  flex-grow: 1;\n",
       "}\n",
       "\n",
       "#sk-container-id-2 div.sk-parallel {\n",
       "  display: flex;\n",
       "  align-items: stretch;\n",
       "  justify-content: center;\n",
       "  background-color: var(--sklearn-color-background);\n",
       "  position: relative;\n",
       "}\n",
       "\n",
       "#sk-container-id-2 div.sk-parallel-item {\n",
       "  display: flex;\n",
       "  flex-direction: column;\n",
       "}\n",
       "\n",
       "#sk-container-id-2 div.sk-parallel-item:first-child::after {\n",
       "  align-self: flex-end;\n",
       "  width: 50%;\n",
       "}\n",
       "\n",
       "#sk-container-id-2 div.sk-parallel-item:last-child::after {\n",
       "  align-self: flex-start;\n",
       "  width: 50%;\n",
       "}\n",
       "\n",
       "#sk-container-id-2 div.sk-parallel-item:only-child::after {\n",
       "  width: 0;\n",
       "}\n",
       "\n",
       "/* Serial-specific style estimator block */\n",
       "\n",
       "#sk-container-id-2 div.sk-serial {\n",
       "  display: flex;\n",
       "  flex-direction: column;\n",
       "  align-items: center;\n",
       "  background-color: var(--sklearn-color-background);\n",
       "  padding-right: 1em;\n",
       "  padding-left: 1em;\n",
       "}\n",
       "\n",
       "\n",
       "/* Toggleable style: style used for estimator/Pipeline/ColumnTransformer box that is\n",
       "clickable and can be expanded/collapsed.\n",
       "- Pipeline and ColumnTransformer use this feature and define the default style\n",
       "- Estimators will overwrite some part of the style using the `sk-estimator` class\n",
       "*/\n",
       "\n",
       "/* Pipeline and ColumnTransformer style (default) */\n",
       "\n",
       "#sk-container-id-2 div.sk-toggleable {\n",
       "  /* Default theme specific background. It is overwritten whether we have a\n",
       "  specific estimator or a Pipeline/ColumnTransformer */\n",
       "  background-color: var(--sklearn-color-background);\n",
       "}\n",
       "\n",
       "/* Toggleable label */\n",
       "#sk-container-id-2 label.sk-toggleable__label {\n",
       "  cursor: pointer;\n",
       "  display: flex;\n",
       "  width: 100%;\n",
       "  margin-bottom: 0;\n",
       "  padding: 0.5em;\n",
       "  box-sizing: border-box;\n",
       "  text-align: center;\n",
       "  align-items: start;\n",
       "  justify-content: space-between;\n",
       "  gap: 0.5em;\n",
       "}\n",
       "\n",
       "#sk-container-id-2 label.sk-toggleable__label .caption {\n",
       "  font-size: 0.6rem;\n",
       "  font-weight: lighter;\n",
       "  color: var(--sklearn-color-text-muted);\n",
       "}\n",
       "\n",
       "#sk-container-id-2 label.sk-toggleable__label-arrow:before {\n",
       "  /* Arrow on the left of the label */\n",
       "  content: \"▸\";\n",
       "  float: left;\n",
       "  margin-right: 0.25em;\n",
       "  color: var(--sklearn-color-icon);\n",
       "}\n",
       "\n",
       "#sk-container-id-2 label.sk-toggleable__label-arrow:hover:before {\n",
       "  color: var(--sklearn-color-text);\n",
       "}\n",
       "\n",
       "/* Toggleable content - dropdown */\n",
       "\n",
       "#sk-container-id-2 div.sk-toggleable__content {\n",
       "  max-height: 0;\n",
       "  max-width: 0;\n",
       "  overflow: hidden;\n",
       "  text-align: left;\n",
       "  /* unfitted */\n",
       "  background-color: var(--sklearn-color-unfitted-level-0);\n",
       "}\n",
       "\n",
       "#sk-container-id-2 div.sk-toggleable__content.fitted {\n",
       "  /* fitted */\n",
       "  background-color: var(--sklearn-color-fitted-level-0);\n",
       "}\n",
       "\n",
       "#sk-container-id-2 div.sk-toggleable__content pre {\n",
       "  margin: 0.2em;\n",
       "  border-radius: 0.25em;\n",
       "  color: var(--sklearn-color-text);\n",
       "  /* unfitted */\n",
       "  background-color: var(--sklearn-color-unfitted-level-0);\n",
       "}\n",
       "\n",
       "#sk-container-id-2 div.sk-toggleable__content.fitted pre {\n",
       "  /* unfitted */\n",
       "  background-color: var(--sklearn-color-fitted-level-0);\n",
       "}\n",
       "\n",
       "#sk-container-id-2 input.sk-toggleable__control:checked~div.sk-toggleable__content {\n",
       "  /* Expand drop-down */\n",
       "  max-height: 200px;\n",
       "  max-width: 100%;\n",
       "  overflow: auto;\n",
       "}\n",
       "\n",
       "#sk-container-id-2 input.sk-toggleable__control:checked~label.sk-toggleable__label-arrow:before {\n",
       "  content: \"▾\";\n",
       "}\n",
       "\n",
       "/* Pipeline/ColumnTransformer-specific style */\n",
       "\n",
       "#sk-container-id-2 div.sk-label input.sk-toggleable__control:checked~label.sk-toggleable__label {\n",
       "  color: var(--sklearn-color-text);\n",
       "  background-color: var(--sklearn-color-unfitted-level-2);\n",
       "}\n",
       "\n",
       "#sk-container-id-2 div.sk-label.fitted input.sk-toggleable__control:checked~label.sk-toggleable__label {\n",
       "  background-color: var(--sklearn-color-fitted-level-2);\n",
       "}\n",
       "\n",
       "/* Estimator-specific style */\n",
       "\n",
       "/* Colorize estimator box */\n",
       "#sk-container-id-2 div.sk-estimator input.sk-toggleable__control:checked~label.sk-toggleable__label {\n",
       "  /* unfitted */\n",
       "  background-color: var(--sklearn-color-unfitted-level-2);\n",
       "}\n",
       "\n",
       "#sk-container-id-2 div.sk-estimator.fitted input.sk-toggleable__control:checked~label.sk-toggleable__label {\n",
       "  /* fitted */\n",
       "  background-color: var(--sklearn-color-fitted-level-2);\n",
       "}\n",
       "\n",
       "#sk-container-id-2 div.sk-label label.sk-toggleable__label,\n",
       "#sk-container-id-2 div.sk-label label {\n",
       "  /* The background is the default theme color */\n",
       "  color: var(--sklearn-color-text-on-default-background);\n",
       "}\n",
       "\n",
       "/* On hover, darken the color of the background */\n",
       "#sk-container-id-2 div.sk-label:hover label.sk-toggleable__label {\n",
       "  color: var(--sklearn-color-text);\n",
       "  background-color: var(--sklearn-color-unfitted-level-2);\n",
       "}\n",
       "\n",
       "/* Label box, darken color on hover, fitted */\n",
       "#sk-container-id-2 div.sk-label.fitted:hover label.sk-toggleable__label.fitted {\n",
       "  color: var(--sklearn-color-text);\n",
       "  background-color: var(--sklearn-color-fitted-level-2);\n",
       "}\n",
       "\n",
       "/* Estimator label */\n",
       "\n",
       "#sk-container-id-2 div.sk-label label {\n",
       "  font-family: monospace;\n",
       "  font-weight: bold;\n",
       "  display: inline-block;\n",
       "  line-height: 1.2em;\n",
       "}\n",
       "\n",
       "#sk-container-id-2 div.sk-label-container {\n",
       "  text-align: center;\n",
       "}\n",
       "\n",
       "/* Estimator-specific */\n",
       "#sk-container-id-2 div.sk-estimator {\n",
       "  font-family: monospace;\n",
       "  border: 1px dotted var(--sklearn-color-border-box);\n",
       "  border-radius: 0.25em;\n",
       "  box-sizing: border-box;\n",
       "  margin-bottom: 0.5em;\n",
       "  /* unfitted */\n",
       "  background-color: var(--sklearn-color-unfitted-level-0);\n",
       "}\n",
       "\n",
       "#sk-container-id-2 div.sk-estimator.fitted {\n",
       "  /* fitted */\n",
       "  background-color: var(--sklearn-color-fitted-level-0);\n",
       "}\n",
       "\n",
       "/* on hover */\n",
       "#sk-container-id-2 div.sk-estimator:hover {\n",
       "  /* unfitted */\n",
       "  background-color: var(--sklearn-color-unfitted-level-2);\n",
       "}\n",
       "\n",
       "#sk-container-id-2 div.sk-estimator.fitted:hover {\n",
       "  /* fitted */\n",
       "  background-color: var(--sklearn-color-fitted-level-2);\n",
       "}\n",
       "\n",
       "/* Specification for estimator info (e.g. \"i\" and \"?\") */\n",
       "\n",
       "/* Common style for \"i\" and \"?\" */\n",
       "\n",
       ".sk-estimator-doc-link,\n",
       "a:link.sk-estimator-doc-link,\n",
       "a:visited.sk-estimator-doc-link {\n",
       "  float: right;\n",
       "  font-size: smaller;\n",
       "  line-height: 1em;\n",
       "  font-family: monospace;\n",
       "  background-color: var(--sklearn-color-background);\n",
       "  border-radius: 1em;\n",
       "  height: 1em;\n",
       "  width: 1em;\n",
       "  text-decoration: none !important;\n",
       "  margin-left: 0.5em;\n",
       "  text-align: center;\n",
       "  /* unfitted */\n",
       "  border: var(--sklearn-color-unfitted-level-1) 1pt solid;\n",
       "  color: var(--sklearn-color-unfitted-level-1);\n",
       "}\n",
       "\n",
       ".sk-estimator-doc-link.fitted,\n",
       "a:link.sk-estimator-doc-link.fitted,\n",
       "a:visited.sk-estimator-doc-link.fitted {\n",
       "  /* fitted */\n",
       "  border: var(--sklearn-color-fitted-level-1) 1pt solid;\n",
       "  color: var(--sklearn-color-fitted-level-1);\n",
       "}\n",
       "\n",
       "/* On hover */\n",
       "div.sk-estimator:hover .sk-estimator-doc-link:hover,\n",
       ".sk-estimator-doc-link:hover,\n",
       "div.sk-label-container:hover .sk-estimator-doc-link:hover,\n",
       ".sk-estimator-doc-link:hover {\n",
       "  /* unfitted */\n",
       "  background-color: var(--sklearn-color-unfitted-level-3);\n",
       "  color: var(--sklearn-color-background);\n",
       "  text-decoration: none;\n",
       "}\n",
       "\n",
       "div.sk-estimator.fitted:hover .sk-estimator-doc-link.fitted:hover,\n",
       ".sk-estimator-doc-link.fitted:hover,\n",
       "div.sk-label-container:hover .sk-estimator-doc-link.fitted:hover,\n",
       ".sk-estimator-doc-link.fitted:hover {\n",
       "  /* fitted */\n",
       "  background-color: var(--sklearn-color-fitted-level-3);\n",
       "  color: var(--sklearn-color-background);\n",
       "  text-decoration: none;\n",
       "}\n",
       "\n",
       "/* Span, style for the box shown on hovering the info icon */\n",
       ".sk-estimator-doc-link span {\n",
       "  display: none;\n",
       "  z-index: 9999;\n",
       "  position: relative;\n",
       "  font-weight: normal;\n",
       "  right: .2ex;\n",
       "  padding: .5ex;\n",
       "  margin: .5ex;\n",
       "  width: min-content;\n",
       "  min-width: 20ex;\n",
       "  max-width: 50ex;\n",
       "  color: var(--sklearn-color-text);\n",
       "  box-shadow: 2pt 2pt 4pt #999;\n",
       "  /* unfitted */\n",
       "  background: var(--sklearn-color-unfitted-level-0);\n",
       "  border: .5pt solid var(--sklearn-color-unfitted-level-3);\n",
       "}\n",
       "\n",
       ".sk-estimator-doc-link.fitted span {\n",
       "  /* fitted */\n",
       "  background: var(--sklearn-color-fitted-level-0);\n",
       "  border: var(--sklearn-color-fitted-level-3);\n",
       "}\n",
       "\n",
       ".sk-estimator-doc-link:hover span {\n",
       "  display: block;\n",
       "}\n",
       "\n",
       "/* \"?\"-specific style due to the `<a>` HTML tag */\n",
       "\n",
       "#sk-container-id-2 a.estimator_doc_link {\n",
       "  float: right;\n",
       "  font-size: 1rem;\n",
       "  line-height: 1em;\n",
       "  font-family: monospace;\n",
       "  background-color: var(--sklearn-color-background);\n",
       "  border-radius: 1rem;\n",
       "  height: 1rem;\n",
       "  width: 1rem;\n",
       "  text-decoration: none;\n",
       "  /* unfitted */\n",
       "  color: var(--sklearn-color-unfitted-level-1);\n",
       "  border: var(--sklearn-color-unfitted-level-1) 1pt solid;\n",
       "}\n",
       "\n",
       "#sk-container-id-2 a.estimator_doc_link.fitted {\n",
       "  /* fitted */\n",
       "  border: var(--sklearn-color-fitted-level-1) 1pt solid;\n",
       "  color: var(--sklearn-color-fitted-level-1);\n",
       "}\n",
       "\n",
       "/* On hover */\n",
       "#sk-container-id-2 a.estimator_doc_link:hover {\n",
       "  /* unfitted */\n",
       "  background-color: var(--sklearn-color-unfitted-level-3);\n",
       "  color: var(--sklearn-color-background);\n",
       "  text-decoration: none;\n",
       "}\n",
       "\n",
       "#sk-container-id-2 a.estimator_doc_link.fitted:hover {\n",
       "  /* fitted */\n",
       "  background-color: var(--sklearn-color-fitted-level-3);\n",
       "}\n",
       "</style><div id=\"sk-container-id-2\" class=\"sk-top-container\"><div class=\"sk-text-repr-fallback\"><pre>LGBMRegressor()</pre><b>In a Jupyter environment, please rerun this cell to show the HTML representation or trust the notebook. <br />On GitHub, the HTML representation is unable to render, please try loading this page with nbviewer.org.</b></div><div class=\"sk-container\" hidden><div class=\"sk-item\"><div class=\"sk-estimator fitted sk-toggleable\"><input class=\"sk-toggleable__control sk-hidden--visually\" id=\"sk-estimator-id-2\" type=\"checkbox\" checked><label for=\"sk-estimator-id-2\" class=\"sk-toggleable__label fitted sk-toggleable__label-arrow\"><div><div>LGBMRegressor</div></div><div><span class=\"sk-estimator-doc-link fitted\">i<span>Fitted</span></span></div></label><div class=\"sk-toggleable__content fitted\"><pre>LGBMRegressor()</pre></div> </div></div></div></div>"
      ],
      "text/plain": [
       "LGBMRegressor()"
      ]
     },
     "execution_count": 72,
     "metadata": {},
     "output_type": "execute_result"
    }
   ],
   "source": [
    "%%time\n",
    "model2.fit(X_train, y_train)"
   ]
  },
  {
   "cell_type": "code",
   "execution_count": 73,
   "id": "0d11cc97-4846-4cc7-a6d8-6b984eaf7638",
   "metadata": {},
   "outputs": [
    {
     "name": "stdout",
     "output_type": "stream",
     "text": [
      "Model 3: RMSE на валидационной выборке: 1796\n",
      "CPU times: user 390 ms, sys: 16.7 ms, total: 407 ms\n",
      "Wall time: 403 ms\n"
     ]
    }
   ],
   "source": [
    "%%time\n",
    "# выводим предсказанные значения тестовой выборки\n",
    "y_pred = model2.predict(X_valid)\n",
    "\n",
    "score = root_mean_squared_error(y_valid, y_pred)\n",
    "print(f'Model 3: RMSE на валидационной выборке: {round(score)}')"
   ]
  },
  {
   "cell_type": "markdown",
   "id": "0fb14a43-24a4-431e-a12a-dac7f3a6a192",
   "metadata": {},
   "source": [
    "Градиентный бустинг отлично справился с задачей. Попробуем изменить параметры - увеличим количество используемых деревьев, установим глубину дерева."
   ]
  },
  {
   "cell_type": "code",
   "execution_count": 74,
   "id": "0c49cc04-5626-48fe-80b0-e1343a488b29",
   "metadata": {},
   "outputs": [],
   "source": [
    "model3 = LGBMRegressor(\n",
    "    n_estimators=500,\n",
    "    max_depth=10\n",
    ")"
   ]
  },
  {
   "cell_type": "code",
   "execution_count": 75,
   "id": "a31fc8c2-f6c1-44f6-9695-d40f1b54d537",
   "metadata": {},
   "outputs": [
    {
     "name": "stdout",
     "output_type": "stream",
     "text": [
      "CPU times: user 20.9 s, sys: 200 ms, total: 21.1 s\n",
      "Wall time: 21.1 s\n"
     ]
    },
    {
     "data": {
      "text/html": [
       "<style>#sk-container-id-3 {\n",
       "  /* Definition of color scheme common for light and dark mode */\n",
       "  --sklearn-color-text: #000;\n",
       "  --sklearn-color-text-muted: #666;\n",
       "  --sklearn-color-line: gray;\n",
       "  /* Definition of color scheme for unfitted estimators */\n",
       "  --sklearn-color-unfitted-level-0: #fff5e6;\n",
       "  --sklearn-color-unfitted-level-1: #f6e4d2;\n",
       "  --sklearn-color-unfitted-level-2: #ffe0b3;\n",
       "  --sklearn-color-unfitted-level-3: chocolate;\n",
       "  /* Definition of color scheme for fitted estimators */\n",
       "  --sklearn-color-fitted-level-0: #f0f8ff;\n",
       "  --sklearn-color-fitted-level-1: #d4ebff;\n",
       "  --sklearn-color-fitted-level-2: #b3dbfd;\n",
       "  --sklearn-color-fitted-level-3: cornflowerblue;\n",
       "\n",
       "  /* Specific color for light theme */\n",
       "  --sklearn-color-text-on-default-background: var(--sg-text-color, var(--theme-code-foreground, var(--jp-content-font-color1, black)));\n",
       "  --sklearn-color-background: var(--sg-background-color, var(--theme-background, var(--jp-layout-color0, white)));\n",
       "  --sklearn-color-border-box: var(--sg-text-color, var(--theme-code-foreground, var(--jp-content-font-color1, black)));\n",
       "  --sklearn-color-icon: #696969;\n",
       "\n",
       "  @media (prefers-color-scheme: dark) {\n",
       "    /* Redefinition of color scheme for dark theme */\n",
       "    --sklearn-color-text-on-default-background: var(--sg-text-color, var(--theme-code-foreground, var(--jp-content-font-color1, white)));\n",
       "    --sklearn-color-background: var(--sg-background-color, var(--theme-background, var(--jp-layout-color0, #111)));\n",
       "    --sklearn-color-border-box: var(--sg-text-color, var(--theme-code-foreground, var(--jp-content-font-color1, white)));\n",
       "    --sklearn-color-icon: #878787;\n",
       "  }\n",
       "}\n",
       "\n",
       "#sk-container-id-3 {\n",
       "  color: var(--sklearn-color-text);\n",
       "}\n",
       "\n",
       "#sk-container-id-3 pre {\n",
       "  padding: 0;\n",
       "}\n",
       "\n",
       "#sk-container-id-3 input.sk-hidden--visually {\n",
       "  border: 0;\n",
       "  clip: rect(1px 1px 1px 1px);\n",
       "  clip: rect(1px, 1px, 1px, 1px);\n",
       "  height: 1px;\n",
       "  margin: -1px;\n",
       "  overflow: hidden;\n",
       "  padding: 0;\n",
       "  position: absolute;\n",
       "  width: 1px;\n",
       "}\n",
       "\n",
       "#sk-container-id-3 div.sk-dashed-wrapped {\n",
       "  border: 1px dashed var(--sklearn-color-line);\n",
       "  margin: 0 0.4em 0.5em 0.4em;\n",
       "  box-sizing: border-box;\n",
       "  padding-bottom: 0.4em;\n",
       "  background-color: var(--sklearn-color-background);\n",
       "}\n",
       "\n",
       "#sk-container-id-3 div.sk-container {\n",
       "  /* jupyter's `normalize.less` sets `[hidden] { display: none; }`\n",
       "     but bootstrap.min.css set `[hidden] { display: none !important; }`\n",
       "     so we also need the `!important` here to be able to override the\n",
       "     default hidden behavior on the sphinx rendered scikit-learn.org.\n",
       "     See: https://github.com/scikit-learn/scikit-learn/issues/21755 */\n",
       "  display: inline-block !important;\n",
       "  position: relative;\n",
       "}\n",
       "\n",
       "#sk-container-id-3 div.sk-text-repr-fallback {\n",
       "  display: none;\n",
       "}\n",
       "\n",
       "div.sk-parallel-item,\n",
       "div.sk-serial,\n",
       "div.sk-item {\n",
       "  /* draw centered vertical line to link estimators */\n",
       "  background-image: linear-gradient(var(--sklearn-color-text-on-default-background), var(--sklearn-color-text-on-default-background));\n",
       "  background-size: 2px 100%;\n",
       "  background-repeat: no-repeat;\n",
       "  background-position: center center;\n",
       "}\n",
       "\n",
       "/* Parallel-specific style estimator block */\n",
       "\n",
       "#sk-container-id-3 div.sk-parallel-item::after {\n",
       "  content: \"\";\n",
       "  width: 100%;\n",
       "  border-bottom: 2px solid var(--sklearn-color-text-on-default-background);\n",
       "  flex-grow: 1;\n",
       "}\n",
       "\n",
       "#sk-container-id-3 div.sk-parallel {\n",
       "  display: flex;\n",
       "  align-items: stretch;\n",
       "  justify-content: center;\n",
       "  background-color: var(--sklearn-color-background);\n",
       "  position: relative;\n",
       "}\n",
       "\n",
       "#sk-container-id-3 div.sk-parallel-item {\n",
       "  display: flex;\n",
       "  flex-direction: column;\n",
       "}\n",
       "\n",
       "#sk-container-id-3 div.sk-parallel-item:first-child::after {\n",
       "  align-self: flex-end;\n",
       "  width: 50%;\n",
       "}\n",
       "\n",
       "#sk-container-id-3 div.sk-parallel-item:last-child::after {\n",
       "  align-self: flex-start;\n",
       "  width: 50%;\n",
       "}\n",
       "\n",
       "#sk-container-id-3 div.sk-parallel-item:only-child::after {\n",
       "  width: 0;\n",
       "}\n",
       "\n",
       "/* Serial-specific style estimator block */\n",
       "\n",
       "#sk-container-id-3 div.sk-serial {\n",
       "  display: flex;\n",
       "  flex-direction: column;\n",
       "  align-items: center;\n",
       "  background-color: var(--sklearn-color-background);\n",
       "  padding-right: 1em;\n",
       "  padding-left: 1em;\n",
       "}\n",
       "\n",
       "\n",
       "/* Toggleable style: style used for estimator/Pipeline/ColumnTransformer box that is\n",
       "clickable and can be expanded/collapsed.\n",
       "- Pipeline and ColumnTransformer use this feature and define the default style\n",
       "- Estimators will overwrite some part of the style using the `sk-estimator` class\n",
       "*/\n",
       "\n",
       "/* Pipeline and ColumnTransformer style (default) */\n",
       "\n",
       "#sk-container-id-3 div.sk-toggleable {\n",
       "  /* Default theme specific background. It is overwritten whether we have a\n",
       "  specific estimator or a Pipeline/ColumnTransformer */\n",
       "  background-color: var(--sklearn-color-background);\n",
       "}\n",
       "\n",
       "/* Toggleable label */\n",
       "#sk-container-id-3 label.sk-toggleable__label {\n",
       "  cursor: pointer;\n",
       "  display: flex;\n",
       "  width: 100%;\n",
       "  margin-bottom: 0;\n",
       "  padding: 0.5em;\n",
       "  box-sizing: border-box;\n",
       "  text-align: center;\n",
       "  align-items: start;\n",
       "  justify-content: space-between;\n",
       "  gap: 0.5em;\n",
       "}\n",
       "\n",
       "#sk-container-id-3 label.sk-toggleable__label .caption {\n",
       "  font-size: 0.6rem;\n",
       "  font-weight: lighter;\n",
       "  color: var(--sklearn-color-text-muted);\n",
       "}\n",
       "\n",
       "#sk-container-id-3 label.sk-toggleable__label-arrow:before {\n",
       "  /* Arrow on the left of the label */\n",
       "  content: \"▸\";\n",
       "  float: left;\n",
       "  margin-right: 0.25em;\n",
       "  color: var(--sklearn-color-icon);\n",
       "}\n",
       "\n",
       "#sk-container-id-3 label.sk-toggleable__label-arrow:hover:before {\n",
       "  color: var(--sklearn-color-text);\n",
       "}\n",
       "\n",
       "/* Toggleable content - dropdown */\n",
       "\n",
       "#sk-container-id-3 div.sk-toggleable__content {\n",
       "  max-height: 0;\n",
       "  max-width: 0;\n",
       "  overflow: hidden;\n",
       "  text-align: left;\n",
       "  /* unfitted */\n",
       "  background-color: var(--sklearn-color-unfitted-level-0);\n",
       "}\n",
       "\n",
       "#sk-container-id-3 div.sk-toggleable__content.fitted {\n",
       "  /* fitted */\n",
       "  background-color: var(--sklearn-color-fitted-level-0);\n",
       "}\n",
       "\n",
       "#sk-container-id-3 div.sk-toggleable__content pre {\n",
       "  margin: 0.2em;\n",
       "  border-radius: 0.25em;\n",
       "  color: var(--sklearn-color-text);\n",
       "  /* unfitted */\n",
       "  background-color: var(--sklearn-color-unfitted-level-0);\n",
       "}\n",
       "\n",
       "#sk-container-id-3 div.sk-toggleable__content.fitted pre {\n",
       "  /* unfitted */\n",
       "  background-color: var(--sklearn-color-fitted-level-0);\n",
       "}\n",
       "\n",
       "#sk-container-id-3 input.sk-toggleable__control:checked~div.sk-toggleable__content {\n",
       "  /* Expand drop-down */\n",
       "  max-height: 200px;\n",
       "  max-width: 100%;\n",
       "  overflow: auto;\n",
       "}\n",
       "\n",
       "#sk-container-id-3 input.sk-toggleable__control:checked~label.sk-toggleable__label-arrow:before {\n",
       "  content: \"▾\";\n",
       "}\n",
       "\n",
       "/* Pipeline/ColumnTransformer-specific style */\n",
       "\n",
       "#sk-container-id-3 div.sk-label input.sk-toggleable__control:checked~label.sk-toggleable__label {\n",
       "  color: var(--sklearn-color-text);\n",
       "  background-color: var(--sklearn-color-unfitted-level-2);\n",
       "}\n",
       "\n",
       "#sk-container-id-3 div.sk-label.fitted input.sk-toggleable__control:checked~label.sk-toggleable__label {\n",
       "  background-color: var(--sklearn-color-fitted-level-2);\n",
       "}\n",
       "\n",
       "/* Estimator-specific style */\n",
       "\n",
       "/* Colorize estimator box */\n",
       "#sk-container-id-3 div.sk-estimator input.sk-toggleable__control:checked~label.sk-toggleable__label {\n",
       "  /* unfitted */\n",
       "  background-color: var(--sklearn-color-unfitted-level-2);\n",
       "}\n",
       "\n",
       "#sk-container-id-3 div.sk-estimator.fitted input.sk-toggleable__control:checked~label.sk-toggleable__label {\n",
       "  /* fitted */\n",
       "  background-color: var(--sklearn-color-fitted-level-2);\n",
       "}\n",
       "\n",
       "#sk-container-id-3 div.sk-label label.sk-toggleable__label,\n",
       "#sk-container-id-3 div.sk-label label {\n",
       "  /* The background is the default theme color */\n",
       "  color: var(--sklearn-color-text-on-default-background);\n",
       "}\n",
       "\n",
       "/* On hover, darken the color of the background */\n",
       "#sk-container-id-3 div.sk-label:hover label.sk-toggleable__label {\n",
       "  color: var(--sklearn-color-text);\n",
       "  background-color: var(--sklearn-color-unfitted-level-2);\n",
       "}\n",
       "\n",
       "/* Label box, darken color on hover, fitted */\n",
       "#sk-container-id-3 div.sk-label.fitted:hover label.sk-toggleable__label.fitted {\n",
       "  color: var(--sklearn-color-text);\n",
       "  background-color: var(--sklearn-color-fitted-level-2);\n",
       "}\n",
       "\n",
       "/* Estimator label */\n",
       "\n",
       "#sk-container-id-3 div.sk-label label {\n",
       "  font-family: monospace;\n",
       "  font-weight: bold;\n",
       "  display: inline-block;\n",
       "  line-height: 1.2em;\n",
       "}\n",
       "\n",
       "#sk-container-id-3 div.sk-label-container {\n",
       "  text-align: center;\n",
       "}\n",
       "\n",
       "/* Estimator-specific */\n",
       "#sk-container-id-3 div.sk-estimator {\n",
       "  font-family: monospace;\n",
       "  border: 1px dotted var(--sklearn-color-border-box);\n",
       "  border-radius: 0.25em;\n",
       "  box-sizing: border-box;\n",
       "  margin-bottom: 0.5em;\n",
       "  /* unfitted */\n",
       "  background-color: var(--sklearn-color-unfitted-level-0);\n",
       "}\n",
       "\n",
       "#sk-container-id-3 div.sk-estimator.fitted {\n",
       "  /* fitted */\n",
       "  background-color: var(--sklearn-color-fitted-level-0);\n",
       "}\n",
       "\n",
       "/* on hover */\n",
       "#sk-container-id-3 div.sk-estimator:hover {\n",
       "  /* unfitted */\n",
       "  background-color: var(--sklearn-color-unfitted-level-2);\n",
       "}\n",
       "\n",
       "#sk-container-id-3 div.sk-estimator.fitted:hover {\n",
       "  /* fitted */\n",
       "  background-color: var(--sklearn-color-fitted-level-2);\n",
       "}\n",
       "\n",
       "/* Specification for estimator info (e.g. \"i\" and \"?\") */\n",
       "\n",
       "/* Common style for \"i\" and \"?\" */\n",
       "\n",
       ".sk-estimator-doc-link,\n",
       "a:link.sk-estimator-doc-link,\n",
       "a:visited.sk-estimator-doc-link {\n",
       "  float: right;\n",
       "  font-size: smaller;\n",
       "  line-height: 1em;\n",
       "  font-family: monospace;\n",
       "  background-color: var(--sklearn-color-background);\n",
       "  border-radius: 1em;\n",
       "  height: 1em;\n",
       "  width: 1em;\n",
       "  text-decoration: none !important;\n",
       "  margin-left: 0.5em;\n",
       "  text-align: center;\n",
       "  /* unfitted */\n",
       "  border: var(--sklearn-color-unfitted-level-1) 1pt solid;\n",
       "  color: var(--sklearn-color-unfitted-level-1);\n",
       "}\n",
       "\n",
       ".sk-estimator-doc-link.fitted,\n",
       "a:link.sk-estimator-doc-link.fitted,\n",
       "a:visited.sk-estimator-doc-link.fitted {\n",
       "  /* fitted */\n",
       "  border: var(--sklearn-color-fitted-level-1) 1pt solid;\n",
       "  color: var(--sklearn-color-fitted-level-1);\n",
       "}\n",
       "\n",
       "/* On hover */\n",
       "div.sk-estimator:hover .sk-estimator-doc-link:hover,\n",
       ".sk-estimator-doc-link:hover,\n",
       "div.sk-label-container:hover .sk-estimator-doc-link:hover,\n",
       ".sk-estimator-doc-link:hover {\n",
       "  /* unfitted */\n",
       "  background-color: var(--sklearn-color-unfitted-level-3);\n",
       "  color: var(--sklearn-color-background);\n",
       "  text-decoration: none;\n",
       "}\n",
       "\n",
       "div.sk-estimator.fitted:hover .sk-estimator-doc-link.fitted:hover,\n",
       ".sk-estimator-doc-link.fitted:hover,\n",
       "div.sk-label-container:hover .sk-estimator-doc-link.fitted:hover,\n",
       ".sk-estimator-doc-link.fitted:hover {\n",
       "  /* fitted */\n",
       "  background-color: var(--sklearn-color-fitted-level-3);\n",
       "  color: var(--sklearn-color-background);\n",
       "  text-decoration: none;\n",
       "}\n",
       "\n",
       "/* Span, style for the box shown on hovering the info icon */\n",
       ".sk-estimator-doc-link span {\n",
       "  display: none;\n",
       "  z-index: 9999;\n",
       "  position: relative;\n",
       "  font-weight: normal;\n",
       "  right: .2ex;\n",
       "  padding: .5ex;\n",
       "  margin: .5ex;\n",
       "  width: min-content;\n",
       "  min-width: 20ex;\n",
       "  max-width: 50ex;\n",
       "  color: var(--sklearn-color-text);\n",
       "  box-shadow: 2pt 2pt 4pt #999;\n",
       "  /* unfitted */\n",
       "  background: var(--sklearn-color-unfitted-level-0);\n",
       "  border: .5pt solid var(--sklearn-color-unfitted-level-3);\n",
       "}\n",
       "\n",
       ".sk-estimator-doc-link.fitted span {\n",
       "  /* fitted */\n",
       "  background: var(--sklearn-color-fitted-level-0);\n",
       "  border: var(--sklearn-color-fitted-level-3);\n",
       "}\n",
       "\n",
       ".sk-estimator-doc-link:hover span {\n",
       "  display: block;\n",
       "}\n",
       "\n",
       "/* \"?\"-specific style due to the `<a>` HTML tag */\n",
       "\n",
       "#sk-container-id-3 a.estimator_doc_link {\n",
       "  float: right;\n",
       "  font-size: 1rem;\n",
       "  line-height: 1em;\n",
       "  font-family: monospace;\n",
       "  background-color: var(--sklearn-color-background);\n",
       "  border-radius: 1rem;\n",
       "  height: 1rem;\n",
       "  width: 1rem;\n",
       "  text-decoration: none;\n",
       "  /* unfitted */\n",
       "  color: var(--sklearn-color-unfitted-level-1);\n",
       "  border: var(--sklearn-color-unfitted-level-1) 1pt solid;\n",
       "}\n",
       "\n",
       "#sk-container-id-3 a.estimator_doc_link.fitted {\n",
       "  /* fitted */\n",
       "  border: var(--sklearn-color-fitted-level-1) 1pt solid;\n",
       "  color: var(--sklearn-color-fitted-level-1);\n",
       "}\n",
       "\n",
       "/* On hover */\n",
       "#sk-container-id-3 a.estimator_doc_link:hover {\n",
       "  /* unfitted */\n",
       "  background-color: var(--sklearn-color-unfitted-level-3);\n",
       "  color: var(--sklearn-color-background);\n",
       "  text-decoration: none;\n",
       "}\n",
       "\n",
       "#sk-container-id-3 a.estimator_doc_link.fitted:hover {\n",
       "  /* fitted */\n",
       "  background-color: var(--sklearn-color-fitted-level-3);\n",
       "}\n",
       "</style><div id=\"sk-container-id-3\" class=\"sk-top-container\"><div class=\"sk-text-repr-fallback\"><pre>LGBMRegressor(max_depth=10, n_estimators=500)</pre><b>In a Jupyter environment, please rerun this cell to show the HTML representation or trust the notebook. <br />On GitHub, the HTML representation is unable to render, please try loading this page with nbviewer.org.</b></div><div class=\"sk-container\" hidden><div class=\"sk-item\"><div class=\"sk-estimator fitted sk-toggleable\"><input class=\"sk-toggleable__control sk-hidden--visually\" id=\"sk-estimator-id-3\" type=\"checkbox\" checked><label for=\"sk-estimator-id-3\" class=\"sk-toggleable__label fitted sk-toggleable__label-arrow\"><div><div>LGBMRegressor</div></div><div><span class=\"sk-estimator-doc-link fitted\">i<span>Fitted</span></span></div></label><div class=\"sk-toggleable__content fitted\"><pre>LGBMRegressor(max_depth=10, n_estimators=500)</pre></div> </div></div></div></div>"
      ],
      "text/plain": [
       "LGBMRegressor(max_depth=10, n_estimators=500)"
      ]
     },
     "execution_count": 75,
     "metadata": {},
     "output_type": "execute_result"
    }
   ],
   "source": [
    "%%time\n",
    "model3.fit(X_train, y_train)"
   ]
  },
  {
   "cell_type": "code",
   "execution_count": 76,
   "id": "300f1612-a58f-47c6-b31e-21fac5644979",
   "metadata": {},
   "outputs": [
    {
     "name": "stdout",
     "output_type": "stream",
     "text": [
      "Model 4: RMSE на валидационной выборке: 1690\n",
      "CPU times: user 1.16 s, sys: 17.3 ms, total: 1.18 s\n",
      "Wall time: 1.2 s\n"
     ]
    }
   ],
   "source": [
    "%%time\n",
    "# выводим предсказанные значения тестовой выборки\n",
    "y_pred = model3.predict(X_valid)\n",
    "\n",
    "score = root_mean_squared_error(y_valid, y_pred)\n",
    "print(f'Model 4: RMSE на валидационной выборке: {round(score)}')"
   ]
  },
  {
   "cell_type": "markdown",
   "id": "2e4af216-fde2-4f24-b509-920cb1f24fd7",
   "metadata": {},
   "source": [
    "Выполим сравнение всех 3 моделей.\n",
    "\n",
    "Параметр               | Model 1 | Model 2   | Model 3  \n",
    "-----------------------|---------|-----------|----------\n",
    "Тип модели             | LinReg  | LightGBM  | LightGBM \n",
    "Wall time обучения     | 14.2 s  | 15.6 s    | 19.4 s   \n",
    "Wall time предсказания | 10.5 ms | 514 ms    | 1.19 s   \n",
    "**RMSE на валидационной выборке** | 2777 | 1796 | 1690     \n",
    "\n",
    "Обучается быстрее всего модель 1, предсказывает быстрее всего модель 1, лучший результат метрики - модель 3. Модель Линейной Регрессии заметно проигрывает LightGBM по качеству. \n",
    "\n",
    "У модели LightGBM при увеличении количества деревьев время обучения и предсказания возрастает.\n",
    "\n",
    "Лучшая модель - model3, посмотрим на метрику на тестовой выборке."
   ]
  },
  {
   "cell_type": "code",
   "execution_count": 77,
   "id": "90398b4e",
   "metadata": {},
   "outputs": [
    {
     "name": "stdout",
     "output_type": "stream",
     "text": [
      "Model 4: RMSE на тестовой выборке: 1620\n",
      "CPU times: user 1.21 s, sys: 11.2 ms, total: 1.22 s\n",
      "Wall time: 1.29 s\n"
     ]
    }
   ],
   "source": [
    "%%time\n",
    "# выводим предсказанные значения тестовой выборки\n",
    "y_pred = model3.predict(X_test)\n",
    "\n",
    "score = root_mean_squared_error(y_test, y_pred)\n",
    "print(f'Model 4: RMSE на тестовой выборке: {round(score)}')"
   ]
  },
  {
   "cell_type": "markdown",
   "id": "d3eec661",
   "metadata": {},
   "source": [
    "Метрика на тестовой выборке стала даже ещё лучше, чем на валидационной."
   ]
  },
  {
   "cell_type": "markdown",
   "id": "5a744035-66d2-4b7a-98c3-b56525f4f932",
   "metadata": {},
   "source": [
    "# Итоговый вывод\n",
    "\n",
    "Учитывая критерии заказчика логичным решением будет модель 3, которая сочитает в себе не высокое время обучения и предсказания при достаточно высоком уровне качества. В дальнейшем возможно обсуждение корректировки параметров модели для увеличения качества, при условии, что время работы модели будет увеличиваться.\n",
    "\n",
    "Заказчику предлагается модель LightGBM со стандартными параметрами. Ошибка предсказания около ±1600 евро.\n",
    "\n",
    "Разработчикам стоит обратить внимание на явные дубликаты строк, пропуски в поле model, аномальные значения в полях registration_year и power."
   ]
  },
  {
   "cell_type": "code",
   "execution_count": null,
   "id": "59c0e1d9-2b86-4187-a2d8-857b3ad8c2be",
   "metadata": {},
   "outputs": [],
   "source": []
  },
  {
   "cell_type": "code",
   "execution_count": null,
   "id": "a849947d-db1b-49b5-b79b-aab8797f2dd7",
   "metadata": {},
   "outputs": [],
   "source": []
  }
 ],
 "metadata": {
  "ExecuteTimeLog": [
   {
    "duration": 45,
    "start_time": "2025-03-22T09:48:42.221Z"
   },
   {
    "duration": 3433,
    "start_time": "2025-03-22T09:49:14.562Z"
   },
   {
    "duration": 1223,
    "start_time": "2025-03-22T09:49:19.457Z"
   },
   {
    "duration": 60,
    "start_time": "2025-03-22T09:51:00.601Z"
   },
   {
    "duration": 6652,
    "start_time": "2025-03-22T09:51:25.142Z"
   },
   {
    "duration": 3423,
    "start_time": "2025-03-22T09:51:31.796Z"
   },
   {
    "duration": 4327,
    "start_time": "2025-03-22T09:51:35.221Z"
   },
   {
    "duration": 2580,
    "start_time": "2025-03-22T09:51:39.549Z"
   },
   {
    "duration": 571,
    "start_time": "2025-03-22T09:51:42.132Z"
   },
   {
    "duration": 756,
    "start_time": "2025-03-22T09:51:42.705Z"
   },
   {
    "duration": 15,
    "start_time": "2025-03-22T09:51:43.462Z"
   },
   {
    "duration": 12,
    "start_time": "2025-03-22T09:51:43.479Z"
   },
   {
    "duration": 117,
    "start_time": "2025-03-22T09:51:43.492Z"
   },
   {
    "duration": 15,
    "start_time": "2025-03-22T09:51:43.611Z"
   },
   {
    "duration": 254,
    "start_time": "2025-03-22T09:51:43.628Z"
   },
   {
    "duration": 80,
    "start_time": "2025-03-22T09:51:43.884Z"
   },
   {
    "duration": 2583,
    "start_time": "2025-03-22T09:51:43.965Z"
   },
   {
    "duration": 2,
    "start_time": "2025-03-22T09:51:46.552Z"
   },
   {
    "duration": 12,
    "start_time": "2025-03-22T09:51:46.556Z"
   },
   {
    "duration": 1268,
    "start_time": "2025-03-22T09:52:09.996Z"
   },
   {
    "duration": 1451,
    "start_time": "2025-03-22T09:52:37.737Z"
   },
   {
    "duration": 3604,
    "start_time": "2025-03-22T10:04:09.285Z"
   },
   {
    "duration": 2603,
    "start_time": "2025-03-22T10:04:12.891Z"
   },
   {
    "duration": 2635,
    "start_time": "2025-03-22T10:04:15.496Z"
   },
   {
    "duration": 2976,
    "start_time": "2025-03-22T10:04:18.134Z"
   },
   {
    "duration": 6,
    "start_time": "2025-03-22T10:04:21.114Z"
   },
   {
    "duration": 769,
    "start_time": "2025-03-22T10:04:21.121Z"
   },
   {
    "duration": 15,
    "start_time": "2025-03-22T10:04:21.891Z"
   },
   {
    "duration": 17,
    "start_time": "2025-03-22T10:04:21.908Z"
   },
   {
    "duration": 125,
    "start_time": "2025-03-22T10:04:21.927Z"
   },
   {
    "duration": 31,
    "start_time": "2025-03-22T10:04:22.056Z"
   },
   {
    "duration": 212,
    "start_time": "2025-03-22T10:04:22.089Z"
   },
   {
    "duration": 82,
    "start_time": "2025-03-22T10:04:22.303Z"
   },
   {
    "duration": 2677,
    "start_time": "2025-03-22T10:04:22.387Z"
   },
   {
    "duration": 3,
    "start_time": "2025-03-22T10:04:25.067Z"
   },
   {
    "duration": 22,
    "start_time": "2025-03-22T10:04:25.071Z"
   },
   {
    "duration": 1150,
    "start_time": "2025-03-22T10:04:25.094Z"
   },
   {
    "duration": 1568,
    "start_time": "2025-03-22T10:04:26.246Z"
   },
   {
    "duration": 64,
    "start_time": "2025-03-22T10:04:27.815Z"
   },
   {
    "duration": 58,
    "start_time": "2025-03-22T10:04:27.880Z"
   },
   {
    "duration": 0,
    "start_time": "2025-03-22T10:04:27.940Z"
   },
   {
    "duration": 0,
    "start_time": "2025-03-22T10:04:27.941Z"
   },
   {
    "duration": 0,
    "start_time": "2025-03-22T10:04:27.942Z"
   },
   {
    "duration": 0,
    "start_time": "2025-03-22T10:04:27.956Z"
   },
   {
    "duration": 0,
    "start_time": "2025-03-22T10:04:27.957Z"
   },
   {
    "duration": 0,
    "start_time": "2025-03-22T10:04:27.958Z"
   },
   {
    "duration": 120,
    "start_time": "2025-03-22T10:05:19.761Z"
   },
   {
    "duration": 30,
    "start_time": "2025-03-22T10:05:26.198Z"
   },
   {
    "duration": 190,
    "start_time": "2025-03-22T10:05:29.284Z"
   },
   {
    "duration": 199,
    "start_time": "2025-03-22T10:05:31.727Z"
   },
   {
    "duration": 115,
    "start_time": "2025-03-22T10:05:32.620Z"
   },
   {
    "duration": 37,
    "start_time": "2025-03-22T10:05:36.512Z"
   },
   {
    "duration": 30,
    "start_time": "2025-03-22T10:05:56.219Z"
   },
   {
    "duration": 179,
    "start_time": "2025-03-22T10:06:02.166Z"
   },
   {
    "duration": 7,
    "start_time": "2025-03-22T10:07:19.231Z"
   },
   {
    "duration": 4,
    "start_time": "2025-03-22T10:13:56.614Z"
   },
   {
    "duration": 11,
    "start_time": "2025-03-22T10:14:11.293Z"
   },
   {
    "duration": 9,
    "start_time": "2025-03-22T10:14:15.276Z"
   },
   {
    "duration": 29,
    "start_time": "2025-03-22T10:14:20.804Z"
   },
   {
    "duration": 7,
    "start_time": "2025-03-22T10:15:42.891Z"
   },
   {
    "duration": 4,
    "start_time": "2025-03-22T10:16:15.814Z"
   },
   {
    "duration": 7,
    "start_time": "2025-03-22T10:16:45.171Z"
   },
   {
    "duration": 22,
    "start_time": "2025-03-22T10:17:14.104Z"
   },
   {
    "duration": 9,
    "start_time": "2025-03-22T10:18:53.206Z"
   },
   {
    "duration": 3170,
    "start_time": "2025-03-22T10:18:59.389Z"
   },
   {
    "duration": 2685,
    "start_time": "2025-03-22T10:19:02.561Z"
   },
   {
    "duration": 2793,
    "start_time": "2025-03-22T10:19:05.248Z"
   },
   {
    "duration": 2662,
    "start_time": "2025-03-22T10:19:08.043Z"
   },
   {
    "duration": 10,
    "start_time": "2025-03-22T10:19:10.708Z"
   },
   {
    "duration": 722,
    "start_time": "2025-03-22T10:19:10.719Z"
   },
   {
    "duration": 16,
    "start_time": "2025-03-22T10:19:11.443Z"
   },
   {
    "duration": 72,
    "start_time": "2025-03-22T10:19:11.461Z"
   },
   {
    "duration": 107,
    "start_time": "2025-03-22T10:19:11.534Z"
   },
   {
    "duration": 31,
    "start_time": "2025-03-22T10:19:11.643Z"
   },
   {
    "duration": 192,
    "start_time": "2025-03-22T10:19:11.675Z"
   },
   {
    "duration": 76,
    "start_time": "2025-03-22T10:19:11.868Z"
   },
   {
    "duration": 2642,
    "start_time": "2025-03-22T10:19:11.945Z"
   },
   {
    "duration": 3,
    "start_time": "2025-03-22T10:19:14.591Z"
   },
   {
    "duration": 10,
    "start_time": "2025-03-22T10:19:14.595Z"
   },
   {
    "duration": 1240,
    "start_time": "2025-03-22T10:19:14.606Z"
   },
   {
    "duration": 1428,
    "start_time": "2025-03-22T10:19:15.847Z"
   },
   {
    "duration": 51,
    "start_time": "2025-03-22T10:19:17.277Z"
   },
   {
    "duration": 132,
    "start_time": "2025-03-22T10:19:17.329Z"
   },
   {
    "duration": 17,
    "start_time": "2025-03-22T10:19:17.462Z"
   },
   {
    "duration": 232,
    "start_time": "2025-03-22T10:19:17.481Z"
   },
   {
    "duration": 199,
    "start_time": "2025-03-22T10:19:17.715Z"
   },
   {
    "duration": 99,
    "start_time": "2025-03-22T10:19:17.916Z"
   },
   {
    "duration": 28,
    "start_time": "2025-03-22T10:19:18.016Z"
   },
   {
    "duration": 29,
    "start_time": "2025-03-22T10:19:18.056Z"
   },
   {
    "duration": 217,
    "start_time": "2025-03-22T10:19:18.086Z"
   },
   {
    "duration": 3,
    "start_time": "2025-03-22T10:19:18.305Z"
   },
   {
    "duration": 99,
    "start_time": "2025-03-22T10:19:18.310Z"
   },
   {
    "duration": 141,
    "start_time": "2025-03-22T10:19:18.410Z"
   },
   {
    "duration": 14,
    "start_time": "2025-03-22T10:19:18.553Z"
   },
   {
    "duration": 26,
    "start_time": "2025-03-22T10:19:18.569Z"
   },
   {
    "duration": 7,
    "start_time": "2025-03-22T10:19:18.596Z"
   },
   {
    "duration": 10,
    "start_time": "2025-03-22T10:19:18.604Z"
   },
   {
    "duration": 41,
    "start_time": "2025-03-22T10:19:18.615Z"
   },
   {
    "duration": 115,
    "start_time": "2025-03-22T10:19:18.657Z"
   },
   {
    "duration": 127,
    "start_time": "2025-03-22T10:19:43.150Z"
   },
   {
    "duration": 6,
    "start_time": "2025-03-22T10:19:48.499Z"
   },
   {
    "duration": 22,
    "start_time": "2025-03-22T10:20:02.986Z"
   },
   {
    "duration": 113,
    "start_time": "2025-03-22T10:20:04.065Z"
   },
   {
    "duration": 148,
    "start_time": "2025-03-22T10:20:09.922Z"
   },
   {
    "duration": 11,
    "start_time": "2025-03-22T10:22:49.396Z"
   },
   {
    "duration": 11,
    "start_time": "2025-03-22T10:22:55.307Z"
   },
   {
    "duration": 3297,
    "start_time": "2025-03-22T10:26:27.250Z"
   },
   {
    "duration": 2636,
    "start_time": "2025-03-22T10:26:30.550Z"
   },
   {
    "duration": 2725,
    "start_time": "2025-03-22T10:26:33.188Z"
   },
   {
    "duration": 2744,
    "start_time": "2025-03-22T10:26:35.916Z"
   },
   {
    "duration": 6,
    "start_time": "2025-03-22T10:26:38.662Z"
   },
   {
    "duration": 736,
    "start_time": "2025-03-22T10:26:38.669Z"
   },
   {
    "duration": 13,
    "start_time": "2025-03-22T10:26:39.406Z"
   },
   {
    "duration": 24,
    "start_time": "2025-03-22T10:26:39.420Z"
   },
   {
    "duration": 114,
    "start_time": "2025-03-22T10:26:39.445Z"
   },
   {
    "duration": 25,
    "start_time": "2025-03-22T10:26:39.561Z"
   },
   {
    "duration": 213,
    "start_time": "2025-03-22T10:26:39.588Z"
   },
   {
    "duration": 82,
    "start_time": "2025-03-22T10:26:39.803Z"
   },
   {
    "duration": 2682,
    "start_time": "2025-03-22T10:26:39.886Z"
   },
   {
    "duration": 4,
    "start_time": "2025-03-22T10:26:42.570Z"
   },
   {
    "duration": 5,
    "start_time": "2025-03-22T10:26:42.576Z"
   },
   {
    "duration": 1158,
    "start_time": "2025-03-22T10:26:42.583Z"
   },
   {
    "duration": 1486,
    "start_time": "2025-03-22T10:26:43.743Z"
   },
   {
    "duration": 64,
    "start_time": "2025-03-22T10:26:45.230Z"
   },
   {
    "duration": 129,
    "start_time": "2025-03-22T10:26:45.296Z"
   },
   {
    "duration": 19,
    "start_time": "2025-03-22T10:26:45.427Z"
   },
   {
    "duration": 212,
    "start_time": "2025-03-22T10:26:45.456Z"
   },
   {
    "duration": 203,
    "start_time": "2025-03-22T10:26:45.669Z"
   },
   {
    "duration": 103,
    "start_time": "2025-03-22T10:26:45.873Z"
   },
   {
    "duration": 24,
    "start_time": "2025-03-22T10:26:45.978Z"
   },
   {
    "duration": 26,
    "start_time": "2025-03-22T10:26:46.003Z"
   },
   {
    "duration": 195,
    "start_time": "2025-03-22T10:26:46.030Z"
   },
   {
    "duration": 3,
    "start_time": "2025-03-22T10:26:46.226Z"
   },
   {
    "duration": 78,
    "start_time": "2025-03-22T10:26:46.232Z"
   },
   {
    "duration": 352,
    "start_time": "2025-03-22T10:26:46.312Z"
   },
   {
    "duration": 15,
    "start_time": "2025-03-22T10:26:46.665Z"
   },
   {
    "duration": 31,
    "start_time": "2025-03-22T10:26:46.681Z"
   },
   {
    "duration": 10,
    "start_time": "2025-03-22T10:26:46.714Z"
   },
   {
    "duration": 36,
    "start_time": "2025-03-22T10:26:46.726Z"
   },
   {
    "duration": 22,
    "start_time": "2025-03-22T10:26:46.764Z"
   },
   {
    "duration": 120,
    "start_time": "2025-03-22T10:26:46.788Z"
   },
   {
    "duration": 130,
    "start_time": "2025-03-22T10:26:46.909Z"
   },
   {
    "duration": 14,
    "start_time": "2025-03-22T10:26:47.040Z"
   },
   {
    "duration": 22,
    "start_time": "2025-03-22T10:26:47.055Z"
   },
   {
    "duration": 124,
    "start_time": "2025-03-22T10:26:47.079Z"
   },
   {
    "duration": 141,
    "start_time": "2025-03-22T10:26:47.205Z"
   },
   {
    "duration": 15,
    "start_time": "2025-03-22T10:26:47.348Z"
   },
   {
    "duration": 9,
    "start_time": "2025-03-22T10:26:47.365Z"
   },
   {
    "duration": 17,
    "start_time": "2025-03-22T10:26:47.376Z"
   },
   {
    "duration": 83,
    "start_time": "2025-03-22T10:26:47.394Z"
   },
   {
    "duration": 45,
    "start_time": "2025-03-22T10:26:47.479Z"
   },
   {
    "duration": 73,
    "start_time": "2025-03-22T10:26:47.526Z"
   },
   {
    "duration": 45,
    "start_time": "2025-03-22T10:26:47.600Z"
   },
   {
    "duration": 1099,
    "start_time": "2025-03-22T10:26:47.646Z"
   },
   {
    "duration": 8100,
    "start_time": "2025-03-22T10:26:48.746Z"
   },
   {
    "duration": 19,
    "start_time": "2025-03-22T10:26:56.848Z"
   },
   {
    "duration": 7733,
    "start_time": "2025-03-22T10:26:56.868Z"
   },
   {
    "duration": 16,
    "start_time": "2025-03-22T10:27:04.602Z"
   },
   {
    "duration": 71511,
    "start_time": "2025-03-22T10:27:04.619Z"
   },
   {
    "duration": 5,
    "start_time": "2025-03-22T10:28:24.670Z"
   },
   {
    "duration": 6854,
    "start_time": "2025-03-22T10:30:00.302Z"
   },
   {
    "duration": 4,
    "start_time": "2025-03-22T10:33:51.778Z"
   },
   {
    "duration": 13,
    "start_time": "2025-03-22T10:35:57.322Z"
   },
   {
    "duration": 14,
    "start_time": "2025-03-22T10:36:06.944Z"
   },
   {
    "duration": 3926,
    "start_time": "2025-03-22T10:36:24.899Z"
   },
   {
    "duration": 3447,
    "start_time": "2025-03-22T10:44:10.700Z"
   },
   {
    "duration": 2758,
    "start_time": "2025-03-22T10:44:19.936Z"
   },
   {
    "duration": 4550,
    "start_time": "2025-03-22T10:44:24.434Z"
   },
   {
    "duration": 26,
    "start_time": "2025-03-22T10:46:58.274Z"
   },
   {
    "duration": 5,
    "start_time": "2025-03-22T10:47:08.199Z"
   },
   {
    "duration": 17,
    "start_time": "2025-03-22T10:47:22.743Z"
   },
   {
    "duration": 18,
    "start_time": "2025-03-22T10:47:29.886Z"
   },
   {
    "duration": 3211,
    "start_time": "2025-03-22T10:49:13.032Z"
   },
   {
    "duration": 2657,
    "start_time": "2025-03-22T10:49:16.245Z"
   },
   {
    "duration": 2679,
    "start_time": "2025-03-22T10:49:18.904Z"
   },
   {
    "duration": 2758,
    "start_time": "2025-03-22T10:49:21.586Z"
   },
   {
    "duration": 1633,
    "start_time": "2025-03-22T10:49:24.346Z"
   },
   {
    "duration": 771,
    "start_time": "2025-03-22T10:49:25.981Z"
   },
   {
    "duration": 14,
    "start_time": "2025-03-22T10:49:26.755Z"
   },
   {
    "duration": 11,
    "start_time": "2025-03-22T10:49:26.770Z"
   },
   {
    "duration": 119,
    "start_time": "2025-03-22T10:49:26.782Z"
   },
   {
    "duration": 15,
    "start_time": "2025-03-22T10:49:26.904Z"
   },
   {
    "duration": 278,
    "start_time": "2025-03-22T10:49:26.920Z"
   },
   {
    "duration": 81,
    "start_time": "2025-03-22T10:49:27.200Z"
   },
   {
    "duration": 2624,
    "start_time": "2025-03-22T10:49:27.282Z"
   },
   {
    "duration": 5,
    "start_time": "2025-03-22T10:49:29.908Z"
   },
   {
    "duration": 4,
    "start_time": "2025-03-22T10:49:29.915Z"
   },
   {
    "duration": 1196,
    "start_time": "2025-03-22T10:49:29.920Z"
   },
   {
    "duration": 1388,
    "start_time": "2025-03-22T10:49:31.118Z"
   },
   {
    "duration": 61,
    "start_time": "2025-03-22T10:49:32.507Z"
   },
   {
    "duration": 130,
    "start_time": "2025-03-22T10:49:32.569Z"
   },
   {
    "duration": 26,
    "start_time": "2025-03-22T10:49:32.701Z"
   },
   {
    "duration": 204,
    "start_time": "2025-03-22T10:49:32.729Z"
   },
   {
    "duration": 222,
    "start_time": "2025-03-22T10:49:32.934Z"
   },
   {
    "duration": 108,
    "start_time": "2025-03-22T10:49:33.157Z"
   },
   {
    "duration": 28,
    "start_time": "2025-03-22T10:49:33.266Z"
   },
   {
    "duration": 32,
    "start_time": "2025-03-22T10:49:33.295Z"
   },
   {
    "duration": 200,
    "start_time": "2025-03-22T10:49:33.328Z"
   },
   {
    "duration": 4,
    "start_time": "2025-03-22T10:49:33.529Z"
   },
   {
    "duration": 76,
    "start_time": "2025-03-22T10:49:33.536Z"
   },
   {
    "duration": 179,
    "start_time": "2025-03-22T10:49:33.614Z"
   },
   {
    "duration": 16,
    "start_time": "2025-03-22T10:49:33.794Z"
   },
   {
    "duration": 28,
    "start_time": "2025-03-22T10:49:33.811Z"
   },
   {
    "duration": 21,
    "start_time": "2025-03-22T10:49:33.840Z"
   },
   {
    "duration": 61,
    "start_time": "2025-03-22T10:49:33.863Z"
   },
   {
    "duration": 22,
    "start_time": "2025-03-22T10:49:33.925Z"
   },
   {
    "duration": 130,
    "start_time": "2025-03-22T10:49:33.949Z"
   },
   {
    "duration": 212,
    "start_time": "2025-03-22T10:49:34.081Z"
   },
   {
    "duration": 5,
    "start_time": "2025-03-22T10:49:34.295Z"
   },
   {
    "duration": 22,
    "start_time": "2025-03-22T10:49:34.302Z"
   },
   {
    "duration": 131,
    "start_time": "2025-03-22T10:49:34.326Z"
   },
   {
    "duration": 156,
    "start_time": "2025-03-22T10:49:34.459Z"
   },
   {
    "duration": 12,
    "start_time": "2025-03-22T10:49:34.617Z"
   },
   {
    "duration": 26,
    "start_time": "2025-03-22T10:49:34.630Z"
   },
   {
    "duration": 20,
    "start_time": "2025-03-22T10:49:34.657Z"
   },
   {
    "duration": 83,
    "start_time": "2025-03-22T10:49:34.678Z"
   },
   {
    "duration": 46,
    "start_time": "2025-03-22T10:49:34.762Z"
   },
   {
    "duration": 27,
    "start_time": "2025-03-22T10:49:34.810Z"
   },
   {
    "duration": 62,
    "start_time": "2025-03-22T10:49:34.838Z"
   },
   {
    "duration": 1089,
    "start_time": "2025-03-22T10:49:34.902Z"
   },
   {
    "duration": 7838,
    "start_time": "2025-03-22T10:49:35.992Z"
   },
   {
    "duration": 25,
    "start_time": "2025-03-22T10:49:43.831Z"
   },
   {
    "duration": 7597,
    "start_time": "2025-03-22T10:49:43.858Z"
   },
   {
    "duration": 15,
    "start_time": "2025-03-22T10:49:51.457Z"
   },
   {
    "duration": 6978,
    "start_time": "2025-03-22T10:49:51.474Z"
   },
   {
    "duration": 18,
    "start_time": "2025-03-22T10:49:58.456Z"
   },
   {
    "duration": 2638,
    "start_time": "2025-03-22T10:49:58.475Z"
   },
   {
    "duration": 3732,
    "start_time": "2025-03-22T10:50:01.116Z"
   },
   {
    "duration": 14,
    "start_time": "2025-03-22T10:50:10.836Z"
   },
   {
    "duration": 27,
    "start_time": "2025-03-22T10:50:16.604Z"
   },
   {
    "duration": 1022,
    "start_time": "2025-03-22T10:50:17.580Z"
   },
   {
    "duration": 4,
    "start_time": "2025-03-22T10:52:18.249Z"
   },
   {
    "duration": 156,
    "start_time": "2025-03-22T10:52:51.042Z"
   },
   {
    "duration": 3,
    "start_time": "2025-03-22T10:58:49.705Z"
   },
   {
    "duration": 3,
    "start_time": "2025-03-22T11:07:08.533Z"
   },
   {
    "duration": 4,
    "start_time": "2025-03-22T11:07:38.608Z"
   },
   {
    "duration": 3,
    "start_time": "2025-03-22T11:07:45.041Z"
   },
   {
    "duration": 4,
    "start_time": "2025-03-22T11:07:52.614Z"
   },
   {
    "duration": 4,
    "start_time": "2025-03-22T11:07:58.246Z"
   },
   {
    "duration": 3,
    "start_time": "2025-03-22T11:08:00.065Z"
   },
   {
    "duration": 2,
    "start_time": "2025-03-22T11:08:14.377Z"
   },
   {
    "duration": 3,
    "start_time": "2025-03-22T11:08:51.480Z"
   },
   {
    "duration": 68,
    "start_time": "2025-03-22T11:12:13.608Z"
   },
   {
    "duration": 147,
    "start_time": "2025-03-22T11:12:57.257Z"
   },
   {
    "duration": 3208,
    "start_time": "2025-03-22T11:13:32.588Z"
   },
   {
    "duration": 2719,
    "start_time": "2025-03-22T11:13:35.798Z"
   },
   {
    "duration": 2672,
    "start_time": "2025-03-22T11:13:38.519Z"
   },
   {
    "duration": 2578,
    "start_time": "2025-03-22T11:13:41.193Z"
   },
   {
    "duration": 5,
    "start_time": "2025-03-22T11:13:43.775Z"
   },
   {
    "duration": 14,
    "start_time": "2025-03-22T11:13:43.782Z"
   },
   {
    "duration": 764,
    "start_time": "2025-03-22T11:13:43.798Z"
   },
   {
    "duration": 12,
    "start_time": "2025-03-22T11:13:44.564Z"
   },
   {
    "duration": 27,
    "start_time": "2025-03-22T11:13:44.578Z"
   },
   {
    "duration": 110,
    "start_time": "2025-03-22T11:13:44.607Z"
   },
   {
    "duration": 24,
    "start_time": "2025-03-22T11:13:44.719Z"
   },
   {
    "duration": 202,
    "start_time": "2025-03-22T11:13:44.745Z"
   },
   {
    "duration": 77,
    "start_time": "2025-03-22T11:13:44.948Z"
   },
   {
    "duration": 2688,
    "start_time": "2025-03-22T11:13:45.027Z"
   },
   {
    "duration": 3,
    "start_time": "2025-03-22T11:13:47.717Z"
   },
   {
    "duration": 33,
    "start_time": "2025-03-22T11:13:47.721Z"
   },
   {
    "duration": 1108,
    "start_time": "2025-03-22T11:13:47.756Z"
   },
   {
    "duration": 1447,
    "start_time": "2025-03-22T11:13:48.865Z"
   },
   {
    "duration": 64,
    "start_time": "2025-03-22T11:13:50.314Z"
   },
   {
    "duration": 128,
    "start_time": "2025-03-22T11:13:50.380Z"
   },
   {
    "duration": 26,
    "start_time": "2025-03-22T11:13:50.509Z"
   },
   {
    "duration": 213,
    "start_time": "2025-03-22T11:13:50.537Z"
   },
   {
    "duration": 211,
    "start_time": "2025-03-22T11:13:50.752Z"
   },
   {
    "duration": 105,
    "start_time": "2025-03-22T11:13:50.965Z"
   },
   {
    "duration": 50,
    "start_time": "2025-03-22T11:13:51.071Z"
   },
   {
    "duration": 31,
    "start_time": "2025-03-22T11:13:51.122Z"
   },
   {
    "duration": 265,
    "start_time": "2025-03-22T11:13:51.154Z"
   },
   {
    "duration": 3,
    "start_time": "2025-03-22T11:13:51.420Z"
   },
   {
    "duration": 8,
    "start_time": "2025-03-22T11:13:51.424Z"
   },
   {
    "duration": 141,
    "start_time": "2025-03-22T11:13:51.433Z"
   },
   {
    "duration": 14,
    "start_time": "2025-03-22T11:13:51.576Z"
   },
   {
    "duration": 27,
    "start_time": "2025-03-22T11:13:51.591Z"
   },
   {
    "duration": 8,
    "start_time": "2025-03-22T11:13:51.620Z"
   },
   {
    "duration": 29,
    "start_time": "2025-03-22T11:13:51.629Z"
   },
   {
    "duration": 107,
    "start_time": "2025-03-22T11:13:51.659Z"
   },
   {
    "duration": 116,
    "start_time": "2025-03-22T11:13:51.767Z"
   },
   {
    "duration": 130,
    "start_time": "2025-03-22T11:13:51.884Z"
   },
   {
    "duration": 5,
    "start_time": "2025-03-22T11:13:52.016Z"
   },
   {
    "duration": 66,
    "start_time": "2025-03-22T11:13:52.022Z"
   },
   {
    "duration": 115,
    "start_time": "2025-03-22T11:13:52.089Z"
   },
   {
    "duration": 152,
    "start_time": "2025-03-22T11:13:52.209Z"
   },
   {
    "duration": 9,
    "start_time": "2025-03-22T11:13:52.363Z"
   },
   {
    "duration": 10,
    "start_time": "2025-03-22T11:13:52.374Z"
   },
   {
    "duration": 31,
    "start_time": "2025-03-22T11:13:52.385Z"
   },
   {
    "duration": 73,
    "start_time": "2025-03-22T11:13:52.418Z"
   },
   {
    "duration": 64,
    "start_time": "2025-03-22T11:13:52.492Z"
   },
   {
    "duration": 25,
    "start_time": "2025-03-22T11:13:52.558Z"
   },
   {
    "duration": 153,
    "start_time": "2025-03-22T11:13:52.584Z"
   },
   {
    "duration": 1191,
    "start_time": "2025-03-22T11:13:52.738Z"
   },
   {
    "duration": 7614,
    "start_time": "2025-03-22T11:13:53.931Z"
   },
   {
    "duration": 22,
    "start_time": "2025-03-22T11:14:01.546Z"
   },
   {
    "duration": 7904,
    "start_time": "2025-03-22T11:14:01.569Z"
   },
   {
    "duration": 16,
    "start_time": "2025-03-22T11:14:09.474Z"
   },
   {
    "duration": 6538,
    "start_time": "2025-03-22T11:14:09.491Z"
   },
   {
    "duration": 26,
    "start_time": "2025-03-22T11:14:16.030Z"
   },
   {
    "duration": 2627,
    "start_time": "2025-03-22T11:14:16.057Z"
   },
   {
    "duration": 3722,
    "start_time": "2025-03-22T11:14:18.686Z"
   },
   {
    "duration": 3,
    "start_time": "2025-03-22T11:14:22.410Z"
   },
   {
    "duration": 29,
    "start_time": "2025-03-22T11:14:22.415Z"
   },
   {
    "duration": 1065,
    "start_time": "2025-03-22T11:14:22.446Z"
   },
   {
    "duration": 171,
    "start_time": "2025-03-22T11:14:23.512Z"
   },
   {
    "duration": 87,
    "start_time": "2025-03-22T11:14:23.684Z"
   },
   {
    "duration": 8,
    "start_time": "2025-03-22T11:14:23.772Z"
   },
   {
    "duration": 10,
    "start_time": "2025-03-22T11:14:23.781Z"
   },
   {
    "duration": 3,
    "start_time": "2025-03-22T11:14:23.792Z"
   },
   {
    "duration": 1305,
    "start_time": "2025-03-22T11:14:23.797Z"
   },
   {
    "duration": 0,
    "start_time": "2025-03-22T11:14:25.103Z"
   },
   {
    "duration": 0,
    "start_time": "2025-03-22T11:14:25.105Z"
   },
   {
    "duration": 0,
    "start_time": "2025-03-22T11:14:25.106Z"
   },
   {
    "duration": 0,
    "start_time": "2025-03-22T11:14:25.107Z"
   },
   {
    "duration": 10,
    "start_time": "2025-03-22T11:18:38.449Z"
   },
   {
    "duration": 8,
    "start_time": "2025-03-22T11:18:46.285Z"
   },
   {
    "duration": 10,
    "start_time": "2025-03-22T11:18:55.924Z"
   },
   {
    "duration": 8,
    "start_time": "2025-03-22T11:19:01.593Z"
   },
   {
    "duration": 9,
    "start_time": "2025-03-22T11:19:16.264Z"
   },
   {
    "duration": 10,
    "start_time": "2025-03-22T11:19:25.441Z"
   },
   {
    "duration": 1304,
    "start_time": "2025-03-22T11:19:57.333Z"
   },
   {
    "duration": 1364,
    "start_time": "2025-03-22T11:20:21.208Z"
   },
   {
    "duration": 1403,
    "start_time": "2025-03-22T11:20:30.626Z"
   },
   {
    "duration": 6,
    "start_time": "2025-03-22T11:20:55.380Z"
   },
   {
    "duration": 3,
    "start_time": "2025-03-22T11:20:57.817Z"
   },
   {
    "duration": 3,
    "start_time": "2025-03-22T11:21:01.295Z"
   },
   {
    "duration": 1765,
    "start_time": "2025-03-22T11:21:05.849Z"
   },
   {
    "duration": 72,
    "start_time": "2025-03-22T11:23:02.588Z"
   },
   {
    "duration": 2,
    "start_time": "2025-03-22T11:25:17.646Z"
   },
   {
    "duration": 15286,
    "start_time": "2025-03-22T11:25:18.477Z"
   },
   {
    "duration": 91,
    "start_time": "2025-03-22T11:25:38.234Z"
   },
   {
    "duration": 24,
    "start_time": "2025-03-22T11:26:40.129Z"
   },
   {
    "duration": 64,
    "start_time": "2025-03-22T11:28:40.261Z"
   },
   {
    "duration": 1368,
    "start_time": "2025-03-22T11:43:55.934Z"
   },
   {
    "duration": 59,
    "start_time": "2025-03-22T11:44:08.996Z"
   },
   {
    "duration": 6,
    "start_time": "2025-03-22T11:44:24.274Z"
   },
   {
    "duration": 3,
    "start_time": "2025-03-22T11:44:26.489Z"
   },
   {
    "duration": 3,
    "start_time": "2025-03-22T11:44:28.606Z"
   },
   {
    "duration": 12,
    "start_time": "2025-03-22T11:44:31.760Z"
   },
   {
    "duration": 1683,
    "start_time": "2025-03-22T11:45:16.459Z"
   },
   {
    "duration": 1280,
    "start_time": "2025-03-22T11:59:56.450Z"
   },
   {
    "duration": 59,
    "start_time": "2025-03-22T12:00:03.103Z"
   },
   {
    "duration": 1744,
    "start_time": "2025-03-22T12:00:08.213Z"
   },
   {
    "duration": 2,
    "start_time": "2025-03-22T12:00:19.612Z"
   },
   {
    "duration": 14829,
    "start_time": "2025-03-22T12:00:21.427Z"
   },
   {
    "duration": 16,
    "start_time": "2025-03-22T12:01:07.415Z"
   },
   {
    "duration": 4,
    "start_time": "2025-03-22T12:03:40.245Z"
   },
   {
    "duration": 3,
    "start_time": "2025-03-22T12:08:18.777Z"
   },
   {
    "duration": 14249,
    "start_time": "2025-03-22T12:08:19.616Z"
   },
   {
    "duration": 4,
    "start_time": "2025-03-22T12:24:18.622Z"
   },
   {
    "duration": 2,
    "start_time": "2025-03-22T12:28:02.160Z"
   },
   {
    "duration": 15708,
    "start_time": "2025-03-22T12:28:06.449Z"
   },
   {
    "duration": 402,
    "start_time": "2025-03-22T12:28:43.665Z"
   },
   {
    "duration": 518,
    "start_time": "2025-03-22T12:29:10.546Z"
   },
   {
    "duration": 2,
    "start_time": "2025-03-22T12:29:27.250Z"
   },
   {
    "duration": 2,
    "start_time": "2025-03-22T12:32:43.663Z"
   },
   {
    "duration": 19444,
    "start_time": "2025-03-22T12:32:51.116Z"
   },
   {
    "duration": 1196,
    "start_time": "2025-03-22T12:33:15.471Z"
   },
   {
    "duration": 1193,
    "start_time": "2025-03-22T12:39:33.463Z"
   },
   {
    "duration": 3112,
    "start_time": "2025-03-22T12:40:38.072Z"
   },
   {
    "duration": 2738,
    "start_time": "2025-03-22T12:40:41.186Z"
   },
   {
    "duration": 2574,
    "start_time": "2025-03-22T12:40:43.925Z"
   },
   {
    "duration": 2709,
    "start_time": "2025-03-22T12:40:46.501Z"
   },
   {
    "duration": 1566,
    "start_time": "2025-03-22T12:40:49.213Z"
   },
   {
    "duration": 3,
    "start_time": "2025-03-22T12:40:50.781Z"
   },
   {
    "duration": 815,
    "start_time": "2025-03-22T12:40:50.786Z"
   },
   {
    "duration": 16,
    "start_time": "2025-03-22T12:40:51.603Z"
   },
   {
    "duration": 33,
    "start_time": "2025-03-22T12:40:51.621Z"
   },
   {
    "duration": 115,
    "start_time": "2025-03-22T12:40:51.655Z"
   },
   {
    "duration": 17,
    "start_time": "2025-03-22T12:40:51.772Z"
   },
   {
    "duration": 294,
    "start_time": "2025-03-22T12:40:51.791Z"
   },
   {
    "duration": 86,
    "start_time": "2025-03-22T12:40:52.087Z"
   },
   {
    "duration": 2711,
    "start_time": "2025-03-22T12:40:52.178Z"
   },
   {
    "duration": 5,
    "start_time": "2025-03-22T12:40:54.891Z"
   },
   {
    "duration": 10,
    "start_time": "2025-03-22T12:40:54.897Z"
   },
   {
    "duration": 1100,
    "start_time": "2025-03-22T12:40:54.908Z"
   },
   {
    "duration": 1421,
    "start_time": "2025-03-22T12:40:56.010Z"
   },
   {
    "duration": 71,
    "start_time": "2025-03-22T12:40:57.433Z"
   },
   {
    "duration": 133,
    "start_time": "2025-03-22T12:40:57.506Z"
   },
   {
    "duration": 30,
    "start_time": "2025-03-22T12:40:57.641Z"
   },
   {
    "duration": 199,
    "start_time": "2025-03-22T12:40:57.672Z"
   },
   {
    "duration": 199,
    "start_time": "2025-03-22T12:40:57.872Z"
   },
   {
    "duration": 102,
    "start_time": "2025-03-22T12:40:58.072Z"
   },
   {
    "duration": 25,
    "start_time": "2025-03-22T12:40:58.176Z"
   },
   {
    "duration": 55,
    "start_time": "2025-03-22T12:40:58.202Z"
   },
   {
    "duration": 180,
    "start_time": "2025-03-22T12:40:58.259Z"
   },
   {
    "duration": 3,
    "start_time": "2025-03-22T12:40:58.441Z"
   },
   {
    "duration": 10,
    "start_time": "2025-03-22T12:40:58.446Z"
   },
   {
    "duration": 133,
    "start_time": "2025-03-22T12:40:58.458Z"
   },
   {
    "duration": 14,
    "start_time": "2025-03-22T12:40:58.592Z"
   },
   {
    "duration": 26,
    "start_time": "2025-03-22T12:40:58.607Z"
   },
   {
    "duration": 25,
    "start_time": "2025-03-22T12:40:58.635Z"
   },
   {
    "duration": 8,
    "start_time": "2025-03-22T12:40:58.662Z"
   },
   {
    "duration": 22,
    "start_time": "2025-03-22T12:40:58.672Z"
   },
   {
    "duration": 135,
    "start_time": "2025-03-22T12:40:58.696Z"
   },
   {
    "duration": 216,
    "start_time": "2025-03-22T12:40:58.833Z"
   },
   {
    "duration": 5,
    "start_time": "2025-03-22T12:40:59.055Z"
   },
   {
    "duration": 73,
    "start_time": "2025-03-22T12:40:59.062Z"
   },
   {
    "duration": 100,
    "start_time": "2025-03-22T12:40:59.137Z"
   },
   {
    "duration": 139,
    "start_time": "2025-03-22T12:40:59.241Z"
   },
   {
    "duration": 10,
    "start_time": "2025-03-22T12:40:59.381Z"
   },
   {
    "duration": 16,
    "start_time": "2025-03-22T12:40:59.393Z"
   },
   {
    "duration": 19,
    "start_time": "2025-03-22T12:40:59.410Z"
   },
   {
    "duration": 77,
    "start_time": "2025-03-22T12:40:59.431Z"
   },
   {
    "duration": 49,
    "start_time": "2025-03-22T12:40:59.509Z"
   },
   {
    "duration": 24,
    "start_time": "2025-03-22T12:40:59.559Z"
   },
   {
    "duration": 105,
    "start_time": "2025-03-22T12:40:59.585Z"
   },
   {
    "duration": 1052,
    "start_time": "2025-03-22T12:40:59.691Z"
   },
   {
    "duration": 8264,
    "start_time": "2025-03-22T12:41:00.745Z"
   },
   {
    "duration": 15,
    "start_time": "2025-03-22T12:41:09.010Z"
   },
   {
    "duration": 7553,
    "start_time": "2025-03-22T12:41:09.026Z"
   },
   {
    "duration": 17,
    "start_time": "2025-03-22T12:41:16.580Z"
   },
   {
    "duration": 7104,
    "start_time": "2025-03-22T12:41:16.599Z"
   },
   {
    "duration": 17,
    "start_time": "2025-03-22T12:41:23.704Z"
   },
   {
    "duration": 2662,
    "start_time": "2025-03-22T12:41:23.722Z"
   },
   {
    "duration": 3564,
    "start_time": "2025-03-22T12:41:26.386Z"
   },
   {
    "duration": 13,
    "start_time": "2025-03-22T12:41:29.952Z"
   },
   {
    "duration": 27,
    "start_time": "2025-03-22T12:41:29.966Z"
   },
   {
    "duration": 1109,
    "start_time": "2025-03-22T12:41:29.994Z"
   },
   {
    "duration": 155,
    "start_time": "2025-03-22T12:41:31.104Z"
   },
   {
    "duration": 68,
    "start_time": "2025-03-22T12:41:31.261Z"
   },
   {
    "duration": 68,
    "start_time": "2025-03-22T12:41:31.330Z"
   },
   {
    "duration": 11,
    "start_time": "2025-03-22T12:41:31.400Z"
   },
   {
    "duration": 8,
    "start_time": "2025-03-22T12:41:31.413Z"
   },
   {
    "duration": 1742,
    "start_time": "2025-03-22T12:41:31.422Z"
   },
   {
    "duration": 3,
    "start_time": "2025-03-22T12:41:33.165Z"
   },
   {
    "duration": 14488,
    "start_time": "2025-03-22T12:41:33.169Z"
   },
   {
    "duration": 101,
    "start_time": "2025-03-22T12:41:47.659Z"
   },
   {
    "duration": 5,
    "start_time": "2025-03-22T12:41:47.761Z"
   },
   {
    "duration": 10,
    "start_time": "2025-03-22T12:41:47.857Z"
   },
   {
    "duration": 7188,
    "start_time": "2025-03-22T12:41:47.869Z"
   },
   {
    "duration": 405,
    "start_time": "2025-03-22T12:41:55.059Z"
   },
   {
    "duration": 3,
    "start_time": "2025-03-22T12:41:55.555Z"
   },
   {
    "duration": 21102,
    "start_time": "2025-03-22T12:41:55.559Z"
   },
   {
    "duration": 1203,
    "start_time": "2025-03-22T12:42:16.663Z"
   },
   {
    "duration": 1290,
    "start_time": "2025-03-22T12:42:17.868Z"
   }
  ],
  "kernelspec": {
   "display_name": "Python 3 (ipykernel)",
   "language": "python",
   "name": "python3"
  },
  "language_info": {
   "codemirror_mode": {
    "name": "ipython",
    "version": 3
   },
   "file_extension": ".py",
   "mimetype": "text/x-python",
   "name": "python",
   "nbconvert_exporter": "python",
   "pygments_lexer": "ipython3",
   "version": "3.12.4"
  },
  "toc": {
   "base_numbering": 1,
   "nav_menu": {},
   "number_sections": true,
   "sideBar": true,
   "skip_h1_title": true,
   "title_cell": "Table of Contents",
   "title_sidebar": "Contents",
   "toc_cell": false,
   "toc_position": {},
   "toc_section_display": true,
   "toc_window_display": false
  }
 },
 "nbformat": 4,
 "nbformat_minor": 5
}
